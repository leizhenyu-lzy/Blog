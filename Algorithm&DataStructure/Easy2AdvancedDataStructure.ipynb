{
 "cells": [
  {
   "cell_type": "markdown",
   "metadata": {},
   "source": [
    "![](Pics/e2a001.jpg)\n",
    "\n",
    "# Easy to Advanced Data Structure\n",
    "\n",
    "[WilliamFiset - YouTube Channel](https://www.youtube.com/@WilliamFiset-videos)\n",
    "\n",
    "[WilliamFiset - Github](https://github.com/williamfiset/Algorithms)\n",
    "\n",
    "[Easy to Advanced Data Structure - YouTube](https://www.youtube.com/watch?v=Qmt0QwzEmh0&list=PLDV1Zeh2NRsB6SWUrDFW2RmDotAfPbeHu)\n"
   ]
  },
  {
   "cell_type": "markdown",
   "metadata": {},
   "source": [
    "# 01 - Introduction\n",
    "\n",
    "A **data structure** is a way of **organizing data** so that it can be used(queried, updated) efficiently\n",
    "\n",
    "essential ingredients in creating powerful algorithms\n"
   ]
  },
  {
   "cell_type": "markdown",
   "metadata": {},
   "source": [
    "# 02 - Abstract Data Types (ADT 抽象数据类型)\n",
    "\n",
    "an abstraction of a data structure which provides only the interface\n",
    "\n",
    "define how a data structure should behave and what method it should have\n",
    "\n",
    "no detail about how to implement and program\n",
    "\n",
    "eg:\n",
    "1. ADT - List\n",
    "   1. Dynamic Array\n",
    "   2. Linked List\n",
    "2. ADT - Queue\n",
    "   1. Linked List based Queue\n",
    "   2. Array based Queue\n",
    "   3. Stack based Queue\n",
    "3. ADT - Map\n",
    "   1. Tree Map\n",
    "   2. Hash Map/Table"
   ]
  },
  {
   "cell_type": "markdown",
   "metadata": {},
   "source": [
    "# 03 - Computational Complexity Analysis - Big-O\n",
    "\n",
    "[Time complexity - Wikipedia](https://en.wikipedia.org/wiki/Time_complexity)\n",
    "\n",
    "**Time** & **Space**\n",
    "\n",
    "Big-O\n",
    "1. Upper Bound\n",
    "2. Worst Case\n",
    "3. quantify(量化) performance as the input size becomes arbitrarily large\n",
    "\n",
    "<img src=Pics/complexity001.png width=58.65%><img src=Pics/complexity002.png width=40%>\n",
    "\n",
    "|Name                |Notation      |\n",
    "|--------------------|--------------|\n",
    "|Constant Time       |$O(1)$        |\n",
    "|Logarithmic Time    |$O(log(n))$   |\n",
    "|Linear Time         |$O(n)$        |\n",
    "|Linearithmic Time   |$O(n·log(n))$ |\n",
    "|Quadric Time        |$O(n^2)$      |\n",
    "|Cubic Time          |$O(n^3)$      |\n",
    "|Exponential Time    |$O(b^n) (b>1)$|\n",
    "|Factorial Time      |$O(n!)$       |\n",
    "\n",
    "ignore constants\n",
    "\n",
    "focus on dominant variables"
   ]
  },
  {
   "cell_type": "markdown",
   "metadata": {},
   "source": [
    "# 04 - Static & Dynamic Arrays\n",
    "\n",
    "|           |Static Array   |Dynamic Array  |\n",
    "|-----------|---------------|---------------|\n",
    "|Access     |$O(1)$         |$O(1)$         |\n",
    "|Search     |$O(n)$         |$O(n)$         |\n",
    "|Insertion  |N/A            |$O(n)$         |\n",
    "|Appending  |N/A            |$O(1)$         |\n",
    "|Deletion   |N/A            |$O(n)$         |\n",
    "\n",
    "\n",
    "static array - fixed length - indexable `[0, n)`\n",
    "\n",
    "zero-based - first element is in position 0\n",
    "\n",
    "dynamic array - grow & shrink in size (`.add()`, `.remove()`)\n"
   ]
  },
  {
   "cell_type": "markdown",
   "metadata": {},
   "source": [
    "# 05 - Dynamic Array Source Code\n",
    "\n",
    "```cpp\n",
    "\n",
    "\n",
    "```\n",
    "\n"
   ]
  },
  {
   "cell_type": "code",
   "execution_count": null,
   "metadata": {
    "vscode": {
     "languageId": "plaintext"
    }
   },
   "outputs": [],
   "source": []
  },
  {
   "cell_type": "code",
   "execution_count": null,
   "metadata": {
    "vscode": {
     "languageId": "plaintext"
    }
   },
   "outputs": [],
   "source": []
  },
  {
   "cell_type": "code",
   "execution_count": null,
   "metadata": {
    "vscode": {
     "languageId": "plaintext"
    }
   },
   "outputs": [],
   "source": []
  },
  {
   "cell_type": "code",
   "execution_count": null,
   "metadata": {
    "vscode": {
     "languageId": "plaintext"
    }
   },
   "outputs": [],
   "source": []
  },
  {
   "cell_type": "code",
   "execution_count": null,
   "metadata": {
    "vscode": {
     "languageId": "plaintext"
    }
   },
   "outputs": [],
   "source": []
  },
  {
   "cell_type": "code",
   "execution_count": null,
   "metadata": {
    "vscode": {
     "languageId": "plaintext"
    }
   },
   "outputs": [],
   "source": []
  }
 ],
 "metadata": {
  "language_info": {
   "name": "python"
  }
 },
 "nbformat": 4,
 "nbformat_minor": 2
}
