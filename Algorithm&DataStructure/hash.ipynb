{
 "cells": [
  {
   "cell_type": "markdown",
   "metadata": {},
   "source": [
    "# 哈希"
   ]
  },
  {
   "cell_type": "markdown",
   "metadata": {},
   "source": [
    "**dict** & **set** 依赖 **hash function**，达到 O(1) lookup time\n",
    "\n",
    "为类 实现 `__hash__()`、`__eq__()`\n",
    "\n",
    "注意事项\n",
    "1. 保证 `__hash__()` 魔术方法的结果 不变 (对于自定义类，即使会改变，Python解释器不会报错)，数据初始化了就应该 immutable，如果要改应该生成一个新对象\n",
    "2. dict、list、set 都是 mutable 因此 unhashable(不能调用 `__hash__()`)\n",
    "3. str、byte、frozenset、tuple(元素也必须 immutable) 都是 immutable 因此 hashable(可以调用 `__hash__()`)\n",
    "4. dict 的 key 必须 hashable， value 不需要\n",
    "5. `__hash__()` 只会 在对象被插入 dict、set 时调用一次\n",
    "\n",
    "类的可变性并不直接阻止你为类实现 `__hash__()` 方法，意味着即使一个类是 mutable，你也可以定义一个``__hash__()` 方法来使其实例 hashable\n",
    "\n",
    "然而，如果类的实例在作为 字典键 或 集合元素 时被修改，它可能会导致数据结构的内部状态出现问题，丢失数据 或 无法找到键\n",
    "\n",
    "通过重写 `__setattr__()` 方法，保证 immutable\n",
    "\n",
    "或者使用 [attrs库](https://github.com/python-attrs/attrs) / [immutables库](https://github.com/MagicStack/immutables)\n",
    "\n",
    "\n"
   ]
  },
  {
   "cell_type": "markdown",
   "metadata": {},
   "source": [
    "**规则**\n",
    "1. if a==b, then hash(a)==hash(b)\n",
    "2. if hash(a)==hash(b), then a might == b (可能 哈希冲突)\n",
    "3. if hash(a)!=hash(b), then a!=b (规则1 的逆否命题)\n"
   ]
  },
  {
   "cell_type": "markdown",
   "metadata": {},
   "source": [
    "Python3 所有类 都继承 Object类\n",
    "\n",
    "Object类有 `__hash__()` & `__eq__()` 方法\n",
    "\n",
    "一旦`__eq__()`被重写，Python需要确保`__hash__()`也被适当地定义以保持哈希表的一致性\n",
    "\n",
    "重写`__eq__()`而不重写`__hash__()`时，Python会将你的类的`__hash__()`方法设置为**None**，意味着你的类的实例将不再是可哈希的，防止违反上述的哈希一致性原则\n",
    "\n",
    "如果你的类的实例需要用作哈希表的键（例如字典的键或集合的元素），你需要**同时重写**`__eq__()`和`__hash__()`方法\n",
    "\n"
   ]
  },
  {
   "cell_type": "markdown",
   "metadata": {},
   "source": [
    "哈希 != 加密\n",
    "\n",
    "哈希不可逆，加密可逆"
   ]
  },
  {
   "cell_type": "markdown",
   "metadata": {},
   "source": [
    "![](Pics/algo001.png)\n",
    "\n",
    "安全的哈希算法\n",
    "1. 碰撞概率低\n",
    "2. 不能通过哈希值反推数据\n",
    "\n",
    "常用 哈希算法\n",
    "1. MD4\n",
    "2. MD5       - 128 bits\n",
    "3. SHA-1     - 160 bits\n",
    "4. SHA-256   - 256 bits\n",
    "5. SHA-512   - 512 bits"
   ]
  },
  {
   "cell_type": "markdown",
   "metadata": {},
   "source": [
    "## 哈希表\n",
    "\n",
    "哈希冲突时，用链表往后链接\n",
    "\n",
    "![](Pics/algo002.png)\n",
    "\n",
    "哈希表数组太小将会降级为纤细搜索(链表便利)"
   ]
  },
  {
   "cell_type": "markdown",
   "metadata": {},
   "source": [
    "## Python 中的哈希 "
   ]
  },
  {
   "cell_type": "code",
   "execution_count": 12,
   "metadata": {},
   "outputs": [
    {
     "name": "stdout",
     "output_type": "stream",
     "text": [
      "8560444216108399403\n",
      "8560444216108399403\n",
      "8560444216108399403\n",
      "8560444216108399403\n"
     ]
    }
   ],
   "source": [
    "a = \"abcd\"\n",
    "print(hash(a))\n",
    "print(hash(\"abcd\"))\n",
    "print(str.__hash__(a))\n",
    "print(str.__hash__(\"abcd\"))\n"
   ]
  },
  {
   "cell_type": "code",
   "execution_count": 13,
   "metadata": {},
   "outputs": [],
   "source": [
    "# print(hash([1,2,3]))\n",
    "# TypeError: unhashable type: 'list'\n"
   ]
  },
  {
   "cell_type": "code",
   "execution_count": 14,
   "metadata": {},
   "outputs": [
    {
     "name": "stdout",
     "output_type": "stream",
     "text": [
      "True\n",
      "False\n",
      "False\n",
      "-8895997092314717297\n",
      "-8895997092314717297\n",
      "Data for Alice\n"
     ]
    }
   ],
   "source": [
    "from typing import Any\n",
    "\n",
    "\n",
    "class Person:\n",
    "    def __init__(self, name, age):\n",
    "        # 无法绕过 __setattr__ 的 raise\n",
    "        # self.name = name\n",
    "        # self.age = age\n",
    "        # 可以绕过 __setattr__ 的 raise\n",
    "        object.__setattr__(self, 'name', name)\n",
    "        object.__setattr__(self, 'age', age)\n",
    "\n",
    "    def __hash__(self):  # 保证 hashable，在 dict 中会使用\n",
    "        hash_num = hash((self.name, self.age))\n",
    "        print(hash_num)\n",
    "        return hash_num\n",
    "\n",
    "    def __eq__(self, other):\n",
    "        if isinstance(other, Person):  # 先判断是否为相同数据类型\n",
    "            return self.name == other.name and self.age == other.age\n",
    "        return False\n",
    "\n",
    "    def __setattr__(self, name: str, value: Any) -> None:\n",
    "        raise TypeError(\"Class - <\"+ self.__class__.__name__ + \"> is immutable\")\n",
    "\n",
    "alice1 = Person(\"Alice\", 30)\n",
    "bob = Person(\"Bob\", 30)\n",
    "alice2 = Person(\"Alice\", 30)\n",
    "\n",
    "print(alice1 == alice2)  # True 调用 __eq__()魔术方法\n",
    "print(alice1 is alice2)  # False is查看内存地址，不同实例，地址不同\n",
    "print(alice1 == bob)     # False\n",
    "\n",
    "\n",
    "person_dict = {}\n",
    "person_dict[alice1] = \"Data for Alice\"\n",
    "\n",
    "print(person_dict[alice2])\n",
    "\n",
    "# alice1.age = 32  # TypeError: Class - <Person> is immutable\n"
   ]
  },
  {
   "cell_type": "code",
   "execution_count": null,
   "metadata": {},
   "outputs": [],
   "source": [
    "\n"
   ]
  }
 ],
 "metadata": {
  "kernelspec": {
   "display_name": "Python 3",
   "language": "python",
   "name": "python3"
  },
  "language_info": {
   "codemirror_mode": {
    "name": "ipython",
    "version": 3
   },
   "file_extension": ".py",
   "mimetype": "text/x-python",
   "name": "python",
   "nbconvert_exporter": "python",
   "pygments_lexer": "ipython3",
   "version": "3.10.12"
  }
 },
 "nbformat": 4,
 "nbformat_minor": 2
}
