{
 "cells": [
  {
   "cell_type": "markdown",
   "metadata": {},
   "source": [
    "# 算法 & 数据结构 - 王树森\n",
    "\n",
    "[YouTube 王树森](https://www.youtube.com/@ShusenWang)\n",
    "\n",
    "[BiliBili 王树森](https://www.bilibili.com/video/BV1aR4y127bE/)\n",
    "\n",
    "[Github 课件](https://github.com/wangshusen/AdvancedAlgorithms/)\n"
   ]
  },
  {
   "cell_type": "markdown",
   "metadata": {},
   "source": [
    "## 01 - 数组、向量、链表\n",
    "\n",
    "![](Pics/wss002.png)\n",
    "\n",
    "![](Pics/wss003.png)\n",
    "\n",
    "\n",
    "\n",
    "数组 Array\n",
    "1. The **size is fixed** - New elements cannot be appended\n",
    "2. Random access using **a[i]** has **O(1)** time complexity\n",
    "3. Removing an element in the middle has **O(n)** time complexity - Require moving the remaining items leftward\n",
    "\n",
    "向量 Vector (STL)\n",
    "1. Dynamic Size\n",
    "2. Contiguous Memory\n",
    "3. push_back() 末尾加入, pop_back() 末尾弹出\n",
    "4. erase(position) 删除中间元素 **O(n)** time complexity\n",
    "5. size != capacity (size 是实际大小，capacity 是预估容量)\n",
    "6. 达到容量后重新复制\n",
    "7. 支持随机访问\n",
    "\n",
    "链表 List(STL) 双向链表 double linked list\n",
    "![](Pics/wss001.png)\n",
    "1. 两个指针 - previous & next\n",
    "2. Dynamic Size\n",
    "3. Not-Contiguous Memory，不能随机访问，只能顺序访问\n",
    "4. 使用 iterator 遍历\n",
    "5. push_back()、push_front()、pop_back()、pop_front()\n",
    "6. 适用于频繁的 插入&删除\n",
    "\n",
    "\n",
    "\n",
    "P.S. 链表插入的 常数时间复杂度 O(1) 假设你已经有了要插入位置的迭代器。如果你需要寻找插入点，例如从列表的起始位置开始遍历到某个特定位置，这个查找过程的时间复杂度是线性的 O(n)"
   ]
  },
  {
   "cell_type": "markdown",
   "metadata": {},
   "source": [
    "## 02 - Binary Search\n",
    "\n",
    "![](Pics/wss004.png)\n",
    "\n",
    "时间复杂度 $O(log(n))$\n",
    "\n",
    "Support search & insertion?\n",
    "\n",
    "\n",
    "|           |Search     |Insertion  |\n",
    "|---        |----       |---        |\n",
    "|Vector     |O(log(n))  |O(n)       |\n",
    "|List       |O(n)       |O(1)       |\n",
    "|Skip List  |O(log(n))  |O(log(n))  |\n",
    "\n"
   ]
  },
  {
   "cell_type": "markdown",
   "metadata": {},
   "source": [
    "## 03 - Skip List 跳跃链表\n",
    "\n",
    "Search & Insertion - $O(log(n))$\n",
    "\n",
    "![](Pics/wss005.png)\n",
    "\n",
    "*Sentinel 哨兵*\n",
    "\n",
    "**Build**\n",
    "\n",
    "通过添加一或多个索引层来扩展普通链表，允许快速跨越底层中的多个节点\n",
    "\n",
    "理想的情况下，顶层的节点数量大约是底层的一半，每上升一层，节点数量都会减半，直到顶层，跳跃链表的总层数大约是 \n",
    "log(n) 是链表中的元素数量\n",
    "\n",
    "最底层完全链接\n",
    "\n",
    "\n",
    "**Search**\n",
    "\n",
    "从 Sentinel 出发\n",
    "\n",
    "执行查找操作时，**从最高层开始**，寻找最接近但不大于目标值的节点\n",
    "\n",
    "在每层中\n",
    "1. 如果下一个节点的值大于目标值，则向下移动到下一层继续查找\n",
    "2. 如果小于或等于目标值，向右移动\n",
    "\n",
    "\n",
    "**Insertion**\n",
    "\n",
    "插入操作首先需要执行查找操作以确定插入位置，这部分的时间复杂度是 $O(log(n))$\n",
    "\n",
    "插入节点后，需要决定新节点是否提升到上层，通常是通过随机过程决定的(抛硬币)\n",
    "\n",
    "操作主要涉及修改几个指针，因此它们的总开销相对较小，并且与层数 $log(n)$ 相关\n",
    "\n",
    "![](Pics/wss006.png)"
   ]
  },
  {
   "cell_type": "markdown",
   "metadata": {},
   "source": [
    "## 04 - Vector and Matrix Basics\n",
    "\n",
    "矩阵 加法、乘法 时间复杂度\n",
    "\n",
    "![](Pics/wss007.png)\n",
    "\n",
    "Vector Addition - $O(n)$\n"
   ]
  },
  {
   "cell_type": "code",
   "execution_count": null,
   "metadata": {},
   "outputs": [],
   "source": []
  },
  {
   "cell_type": "code",
   "execution_count": null,
   "metadata": {},
   "outputs": [],
   "source": []
  },
  {
   "cell_type": "code",
   "execution_count": null,
   "metadata": {},
   "outputs": [],
   "source": []
  },
  {
   "cell_type": "code",
   "execution_count": null,
   "metadata": {},
   "outputs": [],
   "source": []
  }
 ],
 "metadata": {
  "kernelspec": {
   "display_name": "Python 3",
   "language": "python",
   "name": "python3"
  },
  "language_info": {
   "name": "python",
   "version": "3.10.12"
  }
 },
 "nbformat": 4,
 "nbformat_minor": 2
}
