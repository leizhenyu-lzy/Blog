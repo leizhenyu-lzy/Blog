{
 "cells": [
  {
   "cell_type": "markdown",
   "metadata": {},
   "source": [
    "# MIT6.046J - Introduction to Algorithms - Charles Leiserson\n",
    "\n",
    "![](Pics/mit_people_001.png) & ![](Pics/mit_people_003.png)\n",
    "\n",
    "[B站视频 - MIT6.046J - Introduction to Algorithms](https://www.bilibili.com/video/BV1Tb411M7FA/)\n",
    "\n",
    "[MIT OCW官网 - Introduction To Algorithms (SMA 5503)](https://ocw.mit.edu/courses/6-046j-introduction-to-algorithms-sma-5503-fall-2005/)\n",
    "\n",
    "[libgen - Introduction to Algorithms](https://libgen.rs/book/index.php?md5=4AC1CD2C5225865EA5551C0B524EC7A4)\n",
    "\n",
    "[Charles E. Leiserson's MIT Homepage](https://people.csail.mit.edu/cel/)"
   ]
  },
  {
   "cell_type": "markdown",
   "metadata": {},
   "source": [
    "## 命名规范\n",
    "\n",
    "|Type       |Rule                            |Example                             |\n",
    "|-----------|--------------------------------|------------------------------------|\n",
    "|Class      |UpperCamelCase                  |MyClass                             |\n",
    "|Function   |lowerCamelCase                  |getHttpMessage()                    |\n",
    "|LocalVal   |lowerCamelCase                  |localValue                          |\n",
    "|Parameter  |lowerCamelCase                  |inputUserId                         |\n",
    "|Constant   |常量命名全部大写，单词间用下划线隔开  |MAX_STOCK_COUNT / CACHE_EXPIRED_TIME|\n",
    "|Package    |包名统一使用小写                   |com.alibaba.ei.kunlun.aap.util      |"
   ]
  },
  {
   "cell_type": "markdown",
   "metadata": {},
   "source": [
    "## Lecture 1: Administrivia; Introduction; Analysis of Algorithms, Insertion Sort, Mergesort - Charles Leiserson"
   ]
  },
  {
   "cell_type": "markdown",
   "metadata": {},
   "source": [
    "techniques for analyzing algorithms <👉> design algorithms\n",
    "\n",
    "FOCUS - theoretical study of computer-program performance and resource usage\n",
    "\n",
    "What is more important than performance?\n",
    "1. programmer time\n",
    "2. robustness\n",
    "3. modularity\n",
    "4. wider collection of features\n",
    "5. functionality\n",
    "6. security\n",
    "7. scalability 可扩展的，可升级的\n",
    "8. user-friendliness\n",
    "\n",
    "Why study algorithms?\n",
    "1. performane measures the line between feasible and infesasible\n",
    "2. algorithms are on the cutting edge of entrepreneurship (not re-implement)\n",
    "\n",
    "performance is like currency which can be used to pay for other things\n",
    "\n",
    "pseudocode - 伪代码"
   ]
  },
  {
   "cell_type": "markdown",
   "metadata": {},
   "source": [
    "### Kinds of analysis\n",
    "\n",
    "Kinds of analysis\n",
    "1. Worst-case analysis\n",
    "   1. T(n) = max time on any input of size n\n",
    "2. Average-case\n",
    "   1. T(n) = expected time over all inputs of size n\n",
    "   2. need assumption of statistical distribution\n",
    "3. Best-case (bogus - illusion - cheat)\n",
    "\n"
   ]
  },
  {
   "cell_type": "markdown",
   "metadata": {},
   "source": [
    "### Asymptotic Analysis 渐进分析\n",
    "\n",
    "Two Speeds\n",
    "1. relative speed (on same machine)\n",
    "2. absolute speed (on different machines)\n",
    "\n",
    "Asymptotic Analysis 渐进分析\n",
    "1. ignore machine dependent constants\n",
    "2. look at growth of T(n) as n->∞ \n",
    "\n",
    "asymptotic notation\n",
    "1. Theta notation - $\\theta$\n",
    "   1. drop low-order terms\n",
    "   2. ignore leading constants"
   ]
  },
  {
   "cell_type": "markdown",
   "metadata": {},
   "source": [
    "### Problem : Sorting"
   ]
  },
  {
   "cell_type": "code",
   "execution_count": 1,
   "metadata": {},
   "outputs": [],
   "source": [
    "# Common Function\n",
    "\n",
    "def checkSortStatus(testList, sortedList) -> bool:\n",
    "    \"\"\"\n",
    "    [INPUT]\n",
    "\n",
    "    testList : 待排序的数组 \\n\n",
    "    sortedList : 排序好的数组 \\n\n",
    "    ---\n",
    "    [OUTPUT]\n",
    "\n",
    "    bool : 检查结果(checkResult)\n",
    "    \"\"\"\n",
    "    if sorted(testList) == sortedList:\n",
    "        return True\n",
    "    else:\n",
    "        return False\n",
    "\n",
    "\n",
    "import random\n",
    "\n",
    "def generateRandomList(lenList=10, randMin=-5, randMax=6, printFlag=False) -> list:\n",
    "    \"\"\"\n",
    "    [INPUT]\n",
    "\n",
    "    lenList=10 : 待生成随机数组长度 \\n\n",
    "    randMin=-5, randMax=6 : 数字的上限&下限 [Min, Max) 会自动调整上下限关系\\n\n",
    "    printFlag=False : 是否打印标志位 \\n\n",
    "    ---\n",
    "    [OUTPUT]\n",
    "\n",
    "    randomList : 随机生成的(int数组)\n",
    "    \"\"\"\n",
    "    if randMin > randMax:\n",
    "        randMin, randMax = randMax, randMin\n",
    "    elif randMin ==  randMax:\n",
    "        randMax = randMin + int(lenList * 0.8)\n",
    "\n",
    "    randomList = [random.randint(randMin, randMax) for _ in range(lenList)]\n",
    "    if printFlag:\n",
    "        print(f\"randomList(lenList:{lenList}, randMin:{randMin}, randMax:{randMax}) : \\n{randomList}\")\n",
    "\n",
    "    return randomList"
   ]
  },
  {
   "cell_type": "markdown",
   "metadata": {},
   "source": [
    "#### Insertion Sort\n",
    "\n",
    "![](Pics/insertionSort.gif)\n",
    "\n",
    "Running Time\n",
    "1. depend on input size\n",
    "2. depend on input - 最坏情况是逆序 reverse sorted\n",
    "\n",
    "Upper Bound - guarantee to user\n",
    "\n",
    "内存引用计数 - counting memory references\n",
    "\n",
    "\n",
    "**Pseudocode**\n",
    "```c\n",
    "Inseraction Sort(A[n])\n",
    "\tFor j <- 2 to n\n",
    "\t\tdo key <- A[j]\n",
    "\t\ti <- j - 1\n",
    "\t\twhile i>0 and A[i] > key\n",
    "\t\t\tdo  A[i + 1] <- A[i]\n",
    "\t\t\t    i <- i -1\n",
    "\t\tA[i + 1] <- key\n",
    "```\n",
    "\n",
    "worst-case\n",
    "\n",
    "$ T(n) = \\sum_{j=2}^{n}(\\theta(j)) =\\theta(n^2)$\n",
    "\n",
    "\n",
    "Is insertion sort fast?\n",
    "1. ok for small n\n",
    "2. not at all for large n\n"
   ]
  },
  {
   "cell_type": "code",
   "execution_count": 2,
   "metadata": {},
   "outputs": [],
   "source": [
    "# Insertion Sort\n",
    "def insertionSort(outerList):  # for 实现\n",
    "    \"\"\"\n",
    "    [INPUT]\n",
    "\n",
    "    outerList : 待排序的数组 \\n\n",
    "    ---\n",
    "    [OUTPUT]\n",
    "\n",
    "    sortedList : 排好序的数组\n",
    "    \"\"\"\n",
    "    sortedList = outerList.copy()\n",
    "    lenList = len(sortedList)\n",
    "\n",
    "    for pivotPos in range(1, lenList):\n",
    "        pivotVal = sortedList[pivotPos]\n",
    "        insertPos = pivotPos\n",
    "        for formerPos in reversed(range(0, pivotPos)):\n",
    "            formerVal = sortedList[formerPos]\n",
    "            if formerVal > pivotVal:\n",
    "                sortedList[formerPos+1] = formerVal\n",
    "                insertPos = formerPos\n",
    "            else:\n",
    "                break\n",
    "        sortedList[insertPos] = pivotVal\n",
    "\n",
    "    return sortedList"
   ]
  },
  {
   "cell_type": "code",
   "execution_count": 3,
   "metadata": {},
   "outputs": [],
   "source": [
    "def insertionSortWhile(outerList):  # while 实现\n",
    "    \"\"\"\n",
    "    [INPUT]\n",
    "\n",
    "    outerList : 待排序的数组 \\n\n",
    "    ---\n",
    "    [OUTPUT]\n",
    "\n",
    "    sortedList : 排好序的数组\n",
    "    \"\"\"\n",
    "    sortedList = outerList.copy()\n",
    "    lenList = len(sortedList)\n",
    "\n",
    "    for pivotPos in range(1, lenList):\n",
    "        pivotVal = sortedList[pivotPos]\n",
    "        formerPos = pivotPos - 1\n",
    "        while formerPos>=0 and sortedList[formerPos]>pivotVal:\n",
    "            sortedList[formerPos+1] = sortedList[formerPos]\n",
    "            formerPos -= 1\n",
    "        sortedList[formerPos+1] = pivotVal  # 多减了1，补上\n",
    "    return sortedList"
   ]
  },
  {
   "cell_type": "markdown",
   "metadata": {},
   "source": [
    "#### Bubble Sort\n",
    "\n",
    "![](Pics/bubbleSort.gif)"
   ]
  },
  {
   "cell_type": "code",
   "execution_count": 4,
   "metadata": {},
   "outputs": [],
   "source": [
    "# Bubble Sort\n",
    "\n",
    "def bubbleSort(outerList):\n",
    "    sortedList = outerList.copy()\n",
    "    lenList = len(sortedList)\n",
    "\n",
    "    for i in range(0, lenList-1):  # 待冒顶个数，-1是因为要相邻比较，剩下一个没冒顶自动在底下\n",
    "        for j in range(0, lenList-i-1):  # 剩余未冒顶的冒泡一轮\n",
    "            if sortedList[j]>sortedList[j+1]:\n",
    "                sortedList[j],sortedList[j+1] = sortedList[j+1],sortedList[j]\n",
    "\n",
    "    return sortedList"
   ]
  },
  {
   "cell_type": "markdown",
   "metadata": {},
   "source": [
    "#### Selection Sort\n",
    "\n",
    "![](Pics/selectionSort.gif)\n"
   ]
  },
  {
   "cell_type": "code",
   "execution_count": 5,
   "metadata": {},
   "outputs": [],
   "source": [
    "# Selection Sort\n",
    "\n",
    "def selectionSort(outerList):\n",
    "    sortedList = outerList.copy()\n",
    "    lenList = len(sortedList)\n",
    "\n",
    "    for i in range(0, lenList-1):  # 确定好位置的最小值数量，最后一个不用选，肯定是最大\n",
    "        minVal = sortedList[i]\n",
    "        minPos = i\n",
    "        for j in range(i+1, lenList):  # 最小值搜索范围，i是预设位置\n",
    "            curVal = sortedList[j]\n",
    "            curPos = j\n",
    "            if curVal < minVal:\n",
    "                minPos = curPos\n",
    "                minVal = curVal\n",
    "        sortedList[minPos], sortedList[i] = sortedList[i], sortedList[minPos]  # 交换值 \n",
    "\n",
    "    return sortedList"
   ]
  },
  {
   "cell_type": "markdown",
   "metadata": {},
   "source": [
    "#### Merge Sort\n",
    "\n",
    "![](Pics/mergeSort.gif)\n",
    "\n",
    "归并排序（Merge sort）是建立在归并操作上的一种有效的排序算法。该算法是采用分治法（Divide and Conquer）的一个非常典型的应用。\n",
    "\n",
    "\n",
    "Merge Sort A[1...n] -> T(n)\n",
    "1. if n=1, done -> $\\theta(1)$\n",
    "2. recursively sort $A[1 ,... ,\\lceil \\frac{n}{2} \\rceil]$ and $A[\\lceil \\frac{n}{2}+1 \\rceil] ,... ,n$ -> $2T(\\frac{n}{2})$\n",
    "3. merge 2 sorted list -> $\\theta(n)$\n",
    "\n",
    "Key Subroutine - Merge - Time = $\\theta(n)$ on n total elements\n",
    "\n",
    "$ T({\\theta}) =\n",
    "\\left\\{\\begin{matrix}\n",
    "\\theta(1),\\ if~n=1 \\\\ \n",
    "2T(\\frac{\\theta}{2})+\\theta(n),\\ if~n>1\n",
    "\\end{matrix}\\right. $ -> $T(n) \\approx 2T(\\frac{n}{2})+cn,\\ (c>0)$\n",
    "\n",
    "Recursion Tree Technique\n",
    "\n",
    "Step1 - ![](Pics/recursion-tree-part0.png)\n",
    "\n",
    "Step2 - ![](Pics/recursion-tree-part1.png)\n",
    "\n",
    "Step3 - ![](Pics/recursion-tree.png)\n",
    "\n",
    "对于 leaves 只有 $\\theta(1)$，所有 leaves 之和 $\\theta(n)$\n",
    "\n",
    "树的高度h等于 $\\log_{2}{x}+1$，+1 是叶子层\n",
    "\n",
    "除最后一层每一层求和都是 $cn$，最后一层\n",
    "\n",
    "$ Total = (cn)lg(n) + \\theta(n) = \\theta(nlgn) $\n"
   ]
  },
  {
   "cell_type": "code",
   "execution_count": 6,
   "metadata": {},
   "outputs": [],
   "source": [
    "import math\n",
    "\n",
    "def subMerge(lList, rList):\n",
    "    lenLeft = len(lList); lenRight = len(rList)\n",
    "\n",
    "    # 已在外部保证不会有空列表传入\n",
    "\n",
    "    lPtr = 0; rPtr = 0\n",
    "\n",
    "    lenTotal = lenLeft + lenRight\n",
    "    sortedSubList = [0] * lenTotal\n",
    "    subPtr = 0\n",
    "\n",
    "    while lPtr<lenLeft and rPtr<lenRight:\n",
    "        lVal = lList[lPtr]\n",
    "        rVal = rList[rPtr]\n",
    "        if lVal<rVal:\n",
    "            sortedSubList[subPtr] = lVal; subPtr += 1; lPtr += 1\n",
    "        elif lVal>rVal:\n",
    "            sortedSubList[subPtr] = rVal; subPtr += 1; rPtr += 1\n",
    "        elif lVal==rVal:\n",
    "            sortedSubList[subPtr] = lVal; subPtr += 1; lPtr += 1\n",
    "            sortedSubList[subPtr] = rVal; subPtr += 1; rPtr += 1\n",
    "    \n",
    "    if lPtr==lenLeft:  # 左边指针到头\n",
    "        sortedSubList[rPtr+lenTotal-lenRight : lenTotal] = rList[rPtr : lenRight]\n",
    "    elif rPtr==lenRight:  # 右边指针到头\n",
    "        sortedSubList[lPtr+lenTotal-lenLeft : lenTotal] = lList[lPtr : lenLeft]\n",
    "    return sortedSubList\n",
    "\n",
    "\n",
    "def mergeSortRecursion(outerList):  # 递归正向实现\n",
    "    sortedList = outerList.copy()\n",
    "    lenList = len(sortedList)\n",
    "\n",
    "    if lenList == 0:\n",
    "        return []\n",
    "    if lenList == 1:  # 特殊处理，保证subMerge不会有空值\n",
    "        return sortedList\n",
    "\n",
    "    halfLen = int(math.ceil(lenList/2))  # 向上取整\n",
    "\n",
    "    leftSortedList = mergeSortRecursion(sortedList[0 : halfLen])\n",
    "    rightSortedList = mergeSortRecursion(sortedList[halfLen : lenList])\n",
    "    \n",
    "    sortedList = subMerge(leftSortedList, rightSortedList)\n",
    "\n",
    "    return sortedList\n",
    "\n",
    "\n",
    "def mergeSortIteration(outerList):  # 递推正向实现\n",
    "    sortedList = outerList.copy()\n",
    "    lenList = len(sortedList)\n",
    "\n",
    "    if lenList == 0:  # 此处仅能保证左边数组不为空，右侧会在后续保证\n",
    "        return []\n",
    "\n",
    "    loopTimes = int(math.ceil(math.log2(lenList)))  # 向上取整\n",
    "\n",
    "    for loop in range(0, loopTimes):\n",
    "        subListLen = 2**(loop)  # 子数组长度\n",
    "        startPtr = 0\n",
    "        while startPtr<lenList:\n",
    "            lStart = startPtr\n",
    "            lEnd = lStart+subListLen  # 取对数保证不会越界\n",
    "            rStart = lEnd\n",
    "            rEnd = min(rStart+subListLen, lenList)  # 防止越界\n",
    "            if rStart != lenList:  # 此处保证右边数组不为空\n",
    "                sortedSubList = subMerge(sortedList[lStart : lEnd], sortedList[rStart : rEnd])\n",
    "            else:  # rStart != lenList\n",
    "                sortedSubList = sortedList[lStart : lEnd]\n",
    "            sortedList[lStart : rEnd] = sortedSubList\n",
    "            startPtr = rEnd\n",
    "    return sortedList"
   ]
  },
  {
   "cell_type": "code",
   "execution_count": 7,
   "metadata": {},
   "outputs": [
    {
     "name": "stdout",
     "output_type": "stream",
     "text": [
      "randomList(lenList:10, randMin:-10, randMax:100) : \n",
      "[79, 39, 48, 23, 32, 87, -7, 60, 91, 46]\n",
      "True\n",
      "randomList(lenList:11, randMin:-10, randMax:100) : \n",
      "[30, 32, 26, 12, 23, 84, 31, 46, 29, 92, 40]\n",
      "True\n",
      "randomList(lenList:12, randMin:-10, randMax:100) : \n",
      "[62, 82, 93, 64, 7, 98, 49, 37, 29, 76, 53, 59]\n",
      "True\n",
      "randomList(lenList:13, randMin:-10, randMax:100) : \n",
      "[20, 20, 83, 41, 9, 76, -3, 65, 49, 83, 0, 21, 48]\n",
      "True\n",
      "randomList(lenList:14, randMin:-10, randMax:100) : \n",
      "[88, 98, 29, 25, 79, 26, 11, 21, 42, 72, 65, 64, 1, 56]\n",
      "True\n"
     ]
    }
   ],
   "source": [
    "for l in range(10,15):\n",
    "    testList = generateRandomList(lenList=l, randMin=-10, randMax=100, printFlag=True)\n",
    "    sortedList = mergeSortIteration(testList)\n",
    "    # print(sortedList)\n",
    "    print(checkSortStatus(testList, sortedList))\n"
   ]
  },
  {
   "cell_type": "markdown",
   "metadata": {},
   "source": [
    "## Lecture 2: Asymptotic Notation; Recurrences; Substitution, Master Method - Erik Demaine"
   ]
  },
  {
   "cell_type": "markdown",
   "metadata": {},
   "source": [
    "### Notations\n",
    "1. $O$，读音：big-oh；表示上界，小于等于。\n",
    "2. $\\Omega$，读音：big omega、欧米伽；表示下界，大于等于。\n",
    "3. $\\Theta$，读音：theta、西塔；既是上界也是下界，称为确界，等于。\n",
    "4. $o$，读音：small-oh；表示上界，小于。\n",
    "5. $\\omega$，读音：small omega；表示下界，大于。\n",
    "6. $O$是渐进上界，$\\Omega$是渐进下界。\n",
    "\n",
    "$\\Theta$需同时满足大Ο和Ω，故称为确界。\n",
    "\n",
    "Ο极其有用，因为它表示了最差性能。\n",
    "\n",
    "![](Pics/complexity001.png)\n",
    "\n",
    "$O(1)<O(log(n))<O(n)<O(nlog(n))<O(n^2)<O(n^3)<O(2^n)<O(n!)<O(n^n)$\n"
   ]
  },
  {
   "cell_type": "markdown",
   "metadata": {},
   "source": [
    "#### O-notation\n",
    "\n",
    "$f(n) = O(g(n))$ - means - there are consts $c>0$ , $n_0>0$ such that $0 \\le f(n) \\le cg(n)$ , for all $n \\ge n_o$\n",
    "\n",
    "eg: $2n^2 = O(n^3)$，$2n^2 = O(n^2)$\n",
    "\n",
    "Set definition\n",
    "\n",
    "$O(g(n)) = \\{f(n): there \\ are \\ consts \\ c>0, \\ n_0>0,\\ such\\ that\\ 0\\le f(n) \\le cg(n) ,\\ for\\ all\\ n\\ge n_0 \\}$\n",
    "\n",
    "eg: $2n^2 \\in O(n^3)$\n",
    "\n",
    "有些时候 在 O-notation 中，$\\in$ 和 $=$可以通用\n",
    "\n",
    "O-notation 确定了 Upper Bound\n"
   ]
  },
  {
   "cell_type": "markdown",
   "metadata": {},
   "source": [
    "#### Macro Convention\n",
    "\n",
    "A set in a formula represents an anonymous function in that set\n",
    "\n",
    "eg : $f(n)=n^3+O(n^2)$, there's a function $h(n) \\in O(n^2)$ such that $f(n) = n^3 + h(n)$\n",
    "\n",
    "eg : $n^2 +O(n) = O(n^2)$ ，此处 $ = $ 不代表 **is**，等号不对称（左属于右，右不属于左）, means for any $f(n) \\in O(n)$ there is a $h(n) \\in O(n^2)$ such that $n^2+f(n) = h(n)$\n"
   ]
  },
  {
   "cell_type": "markdown",
   "metadata": {},
   "source": [
    "#### Ω-notation\n",
    "\n",
    "$\\Omega(g(n)) = \\{f(n): there \\ are \\ consts \\ c>0, \\ n_0>0,\\ such\\ that\\ 0 \\le cg(n) \\le f(n),\\ for\\ all\\ n\\ge n_0 \\}$\n",
    "\n",
    "eg : $\\sqrt{n}=\\Omega(lg(n))$\n"
   ]
  },
  {
   "cell_type": "markdown",
   "metadata": {},
   "source": [
    "#### θ-notation\n",
    "\n",
    "$\\Theta(g(n)) = O(g(n)) \\cap \\Omega(g(n))$\n",
    "\n"
   ]
  },
  {
   "cell_type": "markdown",
   "metadata": {},
   "source": [
    "#### o&ω-notation\n",
    "\n",
    "the inequality must hold for all c instead just for one, $n_0$ 依赖于 c\n",
    "\n",
    "eg : $2n^2 = o(n^3) ,\\ \\ n_0=\\frac{2}{c}$\n",
    "\n",
    "eg : $\\frac{1}{2}n^2 = \\Theta(n^2)$ but $\\frac{1}{2}n^2 \\ne o(n^2)$\n"
   ]
  },
  {
   "cell_type": "markdown",
   "metadata": {},
   "source": [
    "### Solving Recurrences(递归式)\n",
    "\n",
    "no general procedure for solving a recurrence\n",
    "\n",
    "some algorithms work some of the time"
   ]
  },
  {
   "cell_type": "markdown",
   "metadata": {},
   "source": [
    "### 展开法\n",
    "\n",
    "eg : 求 $T(n) = T(\\frac{n}{2}) + cn$ 的复杂度\n",
    "\n",
    "为简化计算，设 $n=2^k$，k为正整数\n",
    "\n",
    "$T(n) = T(1)+2c+4c+...+nc = 2nc - 2c + T(1) = \\Theta(n)$ (等比数列)\n"
   ]
  },
  {
   "cell_type": "markdown",
   "metadata": {},
   "source": [
    "#### 代入法 Substitution Method\n",
    "\n",
    "1. Guess the form of the solution\n",
    "2. verify by induction(归纳法-验证)\n",
    "3. solve the consts\n",
    "\n",
    "eg : \n",
    "$T(n) = 4T(\\frac{n}{2}) + n,\\ T(1)=\\Theta(1)$\n",
    "1. Guess $T(n) = O(n^3)$\n",
    "2. Assue $T(k) \\le ck^3,\\ for\\ k<n$\n",
    "3. $$ \\begin{align}T(n) \\le & 4c(\\frac{n}{2})^3+n \\\\ = & \\frac{1}{2}cn^3+n\\\\ = & cn^3-(\\frac{1}{2}cn^3-n) \\\\ \\le & cn^3 , if \\frac{1}{2}cn^3-n \\ge 0 \\end{align}$$\n",
    "4. 至多是 $O(n^3)$\n",
    "5. Try $O(n^2)$\n",
    "6. Assume $T(k) \\le ck^2,\\ for\\ k<n$\n",
    "7. $$\\begin{align} T(n) \\le & 4c(\\frac{n}{2})^2 +n \\\\ = & cn^2+n \\\\ = & cn^2 - (-n) \\in O(n^2) \\end{align}$$\n",
    "8. True but Useless 不能保证归纳完成，系数需要是c，而不是这里的c+1等\n",
    "9. Assume $T(k) \\le c_1k^2-c_2k,\\ for\\ k<n$\n",
    "10. $$\\begin{align}T(n) \\le & 4c_1(\\frac{n}{2})^2 -4c_2\\frac{n}{2} +n \\\\ = & c_1n^2+n-2c_2n \\\\ = & c_1n^2 - c_2n-(c_2-1)n \\\\ \\le & c_1n^2 - c_2n, \\ if\\ c_2 \\ge 1 \\end{align}$$\n",
    "11. Base Case : $T(1) \\le c_1 - c_2$，所以需要 $c_1>c_2$\n",
    "\n",
    "\n",
    "\n",
    "eg : \n",
    "$T(n) = 2T(\\lfloor \\frac{n}{2} \\rfloor) + \\Theta(n)$\n",
    "1. Guess $O(nlog(n))$\n",
    "2. $$\\begin{align} T(n) \\le & 2c\\lfloor\\frac{n}{2}\\rfloor log(\\lfloor\\frac{n}{2}\\rfloor) + c'n \\\\ \\le & cnlog(n)-cn+c'n \\\\ \\le & cnlog(n),\\ c>c'\\end{align}$$"
   ]
  },
  {
   "cell_type": "markdown",
   "metadata": {},
   "source": [
    "#### 递归树 Recursion-Tree Method\n",
    "\n",
    "画递归树，相对通用\n",
    "\n",
    "并且不必要展开看整个树的样子，可以一层层的求和\n",
    "\n",
    "eg : $T(n) = T(\\frac{T}{4}) + T(\\frac{T}{2}) + n^2$\n",
    "\n",
    "![](Pics/mit001.png)\n",
    "\n",
    "求叶子节点，不同分支收敛速度不一样，但是一定小于n个，因为分别 ${\\frac{1}{4}} \\ and \\ {\\frac{1}{2}}$ 速度收敛，如果都是以$\\frac{1}{2}$ 速度收敛则正好是n个\n",
    "\n",
    "![](Pics/mit003.png)\n",
    "\n",
    "规律 -> 几何级数\n",
    "\n",
    "$Total(finite\\ layers) \\le (1 + (\\frac{5}{16}) + (\\frac{5}{16})^2 +...) n^2 + n \\le 2n^2+n(\\frac{5}{16}放缩到\\frac{1}{2}) = O(n^2)$ \n",
    "\n"
   ]
  },
  {
   "cell_type": "markdown",
   "metadata": {},
   "source": [
    "#### 主方法 Master Method\n",
    "\n",
    "针对 $T(n) = aT(\\frac{n}{b}) + f(n),\\ a \\ge 1 b>1$ 形式\n",
    "\n",
    "$f(n)\\ is\\ asymptotic\\ positive, (f(n)>0\\ for\\ n \\ge n_0)$\n",
    "\n",
    "compare $f(n)$ with $n^{log_b(a)}$ (递归树叶节点数量)\n",
    "1. Case1 - smaller, $f(n) = O(n^{log_b(a)-\\epsilon}),\\ for\\ some\\ \\epsilon>0$ => $T(n) = \\Theta(n^{log_b(a)})$\n",
    "2. Case2 - equal, $f(n) = O(n^{log_b(a)}lg^k(n)),\\ for\\ some\\ k \\ge 0$ => $T(n) = \\Theta(n^{log_b(a)}lg^{k+1}(n))$ - $lg((n)) 以2为底$\n",
    "3. Case3 - bigger, $f(n) = \\Omega(n^{log_b(a)+\\epsilon}),\\ for\\ some\\ \\epsilon>0 \\ ,and,\\ af(\\frac{n}{b})\\le (1-\\epsilon')f(n),\\ for\\ some\\ \\epsilon'>0(保证每层的和逐渐变小)$ => $T(n) = \\Theta(f(n))$\n",
    "\n",
    "eg1 : $T(n) = 4T(\\frac{n}{2})+n$\n",
    "$a=4, b=2, f(n)=n$ => $n^{log_b(a)} = n^2$ => Case1 => $T(n) = \\Theta(n^2)$\n",
    "\n",
    "eg2 : $T(n) = 4T(\\frac{n}{2})+n^2$\n",
    "$a=4, b=2, f(n)=n^2$ => $n^{log_b(a)} = n^2$ => Case2 & k=0 => $T(n) = \\Theta(n^2)log(n)$\n",
    "\n",
    "eg3 : $T(n) = 4T(\\frac{n}{2})+n^3$\n",
    "$a=4, b=2, f(n)=n^3$ => $n^{log_b(a)} = n^3$ => Case3=> $T(n) = \\Theta(n^3)$\n",
    "\n",
    "eg4 : $T(n) = 4T(\\frac{n}{2})+\\frac{n^2}{log(n)}$\n",
    "master method not apply\n"
   ]
  },
  {
   "cell_type": "markdown",
   "metadata": {},
   "source": [
    "#### 主方法证明 Master Method Proof\n",
    "\n",
    "use recursion tree\n",
    "\n",
    "![](Pics/mit004.png)\n",
    "\n",
    "树的高度h = $log_b(n) + 1$ (+1是leaf层)\n",
    "\n",
    "叶子数量 = $a^{log_b(n)}$ = $n^{log_b(a)}$ - 可利用换底公式证明 $log_b(a) = \\frac{log_c(a)}{log_c(b)}$\n",
    "\n",
    "两边同时取$log_b$\n",
    "\n",
    "$$\\begin{align}log_b(a^{log_b(n)}) &= log_b(n^{log_b{a}})\\\\ \\frac{log_a(a^{log_b(n)})}{log_a(b)} &= \\frac{log_n(n^{log_b(a)})}{log_n(b)}\\\\ \\frac{log_b(n)}{log_a(b)}&=\\frac{log_b(a)}{log_n(b)}\\end{align}$$ \n",
    "\n",
    "交叉相乘即可\n",
    "\n",
    "![](Pics/mit005.png)\n",
    "\n",
    "叶子部分 $\\Theta(n^{log_b{(a)}})$\n",
    "\n",
    "\n",
    "\n",
    "Case1\n",
    "1. 叶子节点占据支配地位\n",
    "\n",
    "Case2\n",
    "1. 每层都大致一致\n",
    "2. 每一层为f(n)，乘以总树高度 $log_b(n) + 1$ (+1是leaf层)\n",
    "\n",
    "Case3\n",
    "1. 如果 $af(\\frac{n}{b})\\le (1-\\epsilon')f(n)$，保证叶子部分收敛（Case3）\n",
    "2. 则非叶子部分为等比数列（几何级数）$\\sum_{infinite} = a_0 \\frac{1}{1-r}$ and $\\sum_{N_{finite}} = a_0 \\frac{1-r^{N+1}}{1-r}$，被首项主导（Case3）\n",
    "3. 如果 $f(n) = \\Omega(n^{log_b(a)+\\epsilon})$，则叶子总和也会被略去，非叶子部分还是占据主导（Case3）\n"
   ]
  },
  {
   "cell_type": "markdown",
   "metadata": {},
   "source": [
    "## Lecture 3: Divide-and-Conquer 分治法: Strassen, Fibonacci, Polynomial Multiplication"
   ]
  },
  {
   "cell_type": "markdown",
   "metadata": {},
   "source": [
    "### Procedure Paradigm\n",
    "1. Divide the problem(instance) into one or more subproblems\n",
    "2. Conquer each subproblem recursively\n",
    "3. Combine solutions"
   ]
  },
  {
   "cell_type": "markdown",
   "metadata": {},
   "source": [
    "### Running Time\n",
    "\n",
    "eg : Merge Sort\n",
    "\n",
    "$T(n) = 2T(\\frac{n}{2}) + \\Theta(n)$\n",
    "\n",
    "Use Master Method\n",
    "\n",
    "$a = 2, b = 2, f(n) = \\Theta(n)$ => $n^{log_b(a)} = 1$\n",
    "\n",
    "对应 Case2，其中 k=0 => $\\Theta(nlog(n))$\n",
    "\n"
   ]
  },
  {
   "cell_type": "markdown",
   "metadata": {},
   "source": [
    "### Binary Search (find x in a sorted array)\n",
    "\n",
    "1. Divide - compare x with middle element\n",
    "2. Conquer - recurse in one subarray\n",
    "3. Combine - do nothing\n",
    "\n",
    "$T(n) = T(\\frac{n}{2}) + \\Theta(1) = \\Theta(lg(n))$\n"
   ]
  },
  {
   "cell_type": "markdown",
   "metadata": {},
   "source": [
    "### Powering a number\n",
    "\n",
    "given number $x$, integer $n \\ge 0$, compute $x^n$\n",
    "\n",
    "Naive Algorithm - $\\Theta(n)$\n",
    "\n",
    "$$x^n = \\left \\{ \\begin{matrix} \n",
    "x^{\\frac{n}{2}} * x^{\\frac{n}{2}},\\ if\\ n\\ is\\ even  \\\\ \n",
    "x^{\\frac{n-1}{2}} * x^{\\frac{n-1}{2}} *x,\\ if\\ n\\ is\\ odd \n",
    "\\end{matrix} \\right.$$\n",
    "\n",
    "$T(n) = T(\\frac{n}{2}) + \\Theta(1) = \\Theta(lgn)$\n"
   ]
  },
  {
   "cell_type": "markdown",
   "metadata": {},
   "source": [
    "### Fibonacci Numbers 斐波那契\n",
    "\n",
    "$$F_n = \\left \\{ \\begin{matrix} \n",
    "0,\\ if\\ n=0 \\\\ \n",
    "1,\\ if\\ n=1 \\\\\n",
    "F_{n-1} + F_{n-2},\\ if\\ n \\ge 2\n",
    "\\end{matrix} \\right.$$\n",
    "\n",
    "各种方法\n",
    "1. Recusive Algorithm - Time(exponential):$\\Omega(\\phi^n),\\phi=\\frac{1+\\sqrt5}{2}$ - bad - too much common subtrees\n",
    "2. Dynamic Programming - bottom-up algorithm - linear - Time(Linear):$\\Theta(n)$\n",
    "3. Naive Recursive Squaring - $F_n = \\frac{\\phi^n}{\\sqrt5},\\phi=\\frac{1+\\sqrt5}{2}$ rounded to nearest integer，但是计算机上不能实现，精度问题\n",
    "4. Recursive Square - $\\begin{bmatrix} F_{n+1} \\\\ F_n\\end{bmatrix} = \\begin{bmatrix} 1 & 1\\\\ 1 & 0\\end{bmatrix}^n \\begin{bmatrix} F_{1} \\\\ F_0\\end{bmatrix}$ - Time:$\\Theta(lg(n))$\n"
   ]
  },
  {
   "cell_type": "markdown",
   "metadata": {},
   "source": [
    "### Matrix Multiplication\n",
    "\n",
    "Input ： $A=[a_{ij}], B=[b_{ij}],\\ i,j = 1,2,...,n$\n",
    "\n",
    "Output : $C = [c_{ij}] = AB$, $c_{ij} = \\sum_{k=1}^n a_{ik}b_{kj}$\n",
    "\n",
    "Method\n",
    "1. standard algorithm - 每一项单独计算 - $\\Theta(n^3)$\n",
    "2. divide-and-conquer - 分块矩阵 - 仍然是 $\\Theta(n^3)$ - 怎样分矩阵并不会带来提升\n",
    "   1. $\\begin{bmatrix} r & s \\\\ t & u\\end{bmatrix} = \\begin{bmatrix} a & b\\\\ c & d\\end{bmatrix} \\begin{bmatrix} e & f\\\\ g & h\\end{bmatrix} = \\begin{bmatrix} ae + bg & af+bh \\\\ ce+dg & cf+dh\\end{bmatrix}$\n",
    "   2. 8次 递归求解子矩阵相乘 $\\frac{n}{2}\\times\\frac{n}{2}$\n",
    "3. 对角化\n",
    "4. Strassen's Algorithm - reduce multiplication 次数，普通分块矩阵需要做8次，该算法可以做到7次\n"
   ]
  },
  {
   "cell_type": "markdown",
   "metadata": {},
   "source": [
    "### Strassen's Algorithm\n",
    "\n",
    "Divide A、B + Compute terms for products(加减法) - $\\Theta(n^2)$\n",
    "\n",
    "Conquer recursively compute $P_1,....,P_7$\n",
    "\n",
    "$$\\left \\{ \\begin{matrix}\n",
    "P_1 =& a(f-h) \\\\\n",
    "P_2 =& (a+b)h \\\\\n",
    "P_3 =& (c+d)e \\\\\n",
    "P_4 =& d(g-e) \\\\\n",
    "P_5 =& (a+d)(e+h) \\\\\n",
    "P_6 =& (b-d)(g+h) \\\\\n",
    "P_7 =& (a-c)(e+f) \\\\\n",
    "\\end{matrix} \\right.$$\n",
    "\n",
    "Combine rstu(加减法) - $$\\Theta(n^2)$\n",
    "\n",
    "$$\\left \\{ \\begin{matrix}\n",
    "r =& P_5+P_4-P_2+P6 \\\\\n",
    "s =& P_1+P_2 \\\\\n",
    "t =& P_2+P_4 \\\\\n",
    "u =& P_5+P_1-P_3-P_7 \\\\\n",
    "\\end{matrix} \\right.$$\n",
    "\n",
    "\n",
    "$T(n) = 7T(\\frac{n}{2})+\\Theta(n^2)$\n",
    "\n",
    "-> $a=7,b=2,f(n)=n^2$\n",
    "\n",
    "-> $n^{log_b(a)}=n^{log_2(7)}>n^2$\n",
    "\n",
    "-> $T(n)=\\Theta(n^{log_2(7)})$\n"
   ]
  },
  {
   "cell_type": "markdown",
   "metadata": {},
   "source": [
    "### VLSI(very large scale integrated) layout\n",
    "\n",
    "Problem Embed a complete binary tree 完全二叉树\n",
    "\n",
    "n-leaves in a grid with minimum area\n",
    "\n",
    "**Naive Embedding**\n",
    "\n",
    "![](Pics/mit006.png)\n",
    "\n",
    "$H(n) = H(\\frac{n}{2}) + \\Theta(1) = \\Theta(lg(n))$ - Case2\n",
    "\n",
    "$W(n) = 2W(\\frac{n}{2}) + O(1) = \\Theta(n)$ - Case1\n",
    "\n",
    "$Area = \\Theta(nlg(n))$\n",
    "\n",
    "想要比 $nlg(n)$ 更小的\n",
    "\n",
    "Goal : $W(n) = \\Theta(\\sqrt{n}), H(n) = \\Theta(\\sqrt{n})$ -> $Area=\\Theta(n)$\n",
    "\n",
    "若要出现根号，则需要对应 Case1 - smaller, $f(n) = O(n^{log_b(a)-\\epsilon}),\\ for\\ some\\ \\epsilon>0$ => $T(n) = \\Theta(n^{log_b(a)})$\n",
    "\n",
    "联想 $log_b(a) = log_4(2) = \\frac{1}{2}$ -> $T(n) = 2T(\\frac{n}{4})+O(n^{(\\frac{1}{2}-\\epsilon)})$\n",
    "\n",
    "![](Pics/mit007.png)\n",
    "\n",
    "$L(n) = 2L(\\frac{n}{4}) + \\Theta(1)$\n",
    "\n",
    "\n"
   ]
  },
  {
   "cell_type": "markdown",
   "metadata": {},
   "source": [
    "## Lecture 4: Quicksort, Randomized Algorithms\n",
    "\n",
    "![](Pics/quickSort.gif)"
   ]
  },
  {
   "cell_type": "markdown",
   "metadata": {},
   "source": [
    "### Quicksort - Tony Hoare 1962\n",
    "\n",
    "Divide and Conquer\n",
    "\n",
    "**sort \"in place\"** - just rearrange the elements where they are - no extra storage\n",
    "\n",
    "very practical (with tuning)\n",
    "\n",
    "Procedure\n",
    "1. **Divide(Core)** - partition the input array into subarrays around **pivot** such that $elements\\  in\\ the\\ lower\\ subarray \\le x \\le elements\\ in\\ the\\ upper\\ subarray$\n",
    "2. Conquer - recursively sort the 2 subarrays\n",
    "3. Combine - trivial\n",
    "\n",
    "partition(A,p,q)\n",
    "\n"
   ]
  },
  {
   "cell_type": "code",
   "execution_count": 158,
   "metadata": {},
   "outputs": [],
   "source": [
    "# QuickSort\n",
    "\"\"\"\n",
    "确定分界点方法\n",
    "1. 左边界\n",
    "2. 中间数\n",
    "3. 右边界\n",
    "4. 随机\n",
    "\n",
    "分为两半，左边≤边界，右边大于等于边界，边界点位置不确定，不一定在分界处\n",
    "\"\"\"\n",
    "\n",
    "def quickSortExtraSpace(outerList):\n",
    "    \"\"\"\n",
    "    额外空间实现方式\n",
    "    \"\"\"\n",
    "    sortedList = outerList.copy()\n",
    "    lenList = len(sortedList)\n",
    "    # 空列表检查 + 单元素检查\n",
    "    if lenList<=1:\n",
    "        return sortedList\n",
    "\n",
    "    pivotVal = sortedList[lenList//2]\n",
    "    pivotCnt = 0\n",
    "    # 重新统计\n",
    "    leftSub = [], rightSub = []\n",
    "    \n",
    "    for ptr in range(0, lenList):\n",
    "        curVal = sortedList[ptr]\n",
    "        if curVal == pivotVal:\n",
    "            pivotCnt += 1\n",
    "        elif curVal < pivotVal:\n",
    "            leftSub.append(curVal)\n",
    "        elif curVal > pivotVal:\n",
    "            rightSub.append(curVal)\n",
    "    # 构建新排序列表\n",
    "    sortedList = []\n",
    "    sortedList.extend(leftSub)\n",
    "    sortedList.extend([pivotVal]*pivotCnt)\n",
    "    sortedList.extend(rightSub)\n",
    "    # 递归\n",
    "    sortedList[0:len(leftSub)] = \\\n",
    "        quickSortExtraSpace(sortedList[0:len(leftSub)])\n",
    "    sortedList[len(leftSub)+pivotCnt:lenList] = \\\n",
    "        quickSortExtraSpace(sortedList[len(leftSub)+pivotCnt:lenList])\n",
    "\n",
    "    return sortedList\n",
    "\n",
    "\n",
    "def quickSortClassic(outerList):\n",
    "    \"\"\"\n",
    "    MIT经典实现方式\n",
    "    pivot 取左边界\n",
    "    左边 ≤\n",
    "    右边 >\n",
    "    \"\"\"\n",
    "    sortedList = outerList.copy()\n",
    "    lenList = len(sortedList)\n",
    "\n",
    "    if lenList <= 1:\n",
    "        return sortedList\n",
    "\n",
    "    pivotVal = sortedList[0]\n",
    "    biggerStartPtr = lenList\n",
    "\n",
    "    for searchPtr in range(1, lenList):  # 前面判断保证lenList至少为2\n",
    "        searchVal = sortedList[searchPtr]\n",
    "        if searchVal < pivotVal:\n",
    "            if biggerStartPtr == lenList:  # 目前还没有更大的数出现过(biggerStartPtr 仍未初始设置的值)\n",
    "                if searchPtr == lenList - 1:\n",
    "                    pass\n",
    "            else:  # biggerStartPtr != lenList  # 与更大的子数组首位交换\n",
    "                sortedList[searchPtr] = sortedList[biggerStartPtr]\n",
    "                sortedList[biggerStartPtr] = searchVal\n",
    "                biggerStartPtr += 1  # 因为把大数\n",
    "        if searchVal == pivotVal:\n",
    "            pass\n",
    "        if searchVal > pivotVal:\n",
    "            if biggerStartPtr == lenList:\n",
    "                biggerStartPtr = searchPtr\n",
    "            else:  # biggerStartPtr != lenList\n",
    "                pass\n",
    "    \n",
    "    # 交换避免首位最大情况\n",
    "    sortedList[0] = sortedList[biggerStartPtr-1]\n",
    "    sortedList[biggerStartPtr-1] = pivotVal\n",
    "\n",
    "    sortedList[0:biggerStartPtr-1] = quickSortClassic(sortedList[0:biggerStartPtr-1])  # 不减一可能死循环\n",
    "    sortedList[biggerStartPtr:lenList] = quickSortClassic(sortedList[biggerStartPtr:lenList])\n",
    "\n",
    "    return sortedList\n",
    "\n",
    "\n",
    "def quickSortDoublePtr(outerList):\n",
    "    \"\"\"\n",
    "    双指针实现方式\n",
    "    左边 ≤\n",
    "    右边 >\n",
    "    \"\"\"\n",
    "    sortedList = outerList.copy()\n",
    "    lenList = len(sortedList)\n",
    "\n",
    "    if lenList <= 1:\n",
    "        return sortedList\n",
    "\n",
    "    pivotVal = sortedList[0]\n",
    "    pivotPtr = 0\n",
    "    lPtr = 1\n",
    "    rPtr = lenList - 1\n",
    "\n",
    "\n",
    "    while True:\n",
    "        lVal = sortedList[lPtr]\n",
    "        rVal = sortedList[rPtr]\n",
    "\n",
    "        while(rVal>pivotVal):\n",
    "            if rPtr > lPtr:\n",
    "                rPtr -= 1\n",
    "                rVal = sortedList[rPtr]\n",
    "        sortedList[pivotPtr] = rVal\n",
    "        sortedList[rPtr] = pivotVal\n",
    "        pivotPtr = rPtr\n",
    "\n",
    "        while(lVal<=pivotVal):\n",
    "            if rPtr > lPtr:\n",
    "                lPtr += 1\n",
    "                lVal = sortedList[lPtr]\n",
    "        sortedList[pivotPtr] = lVal\n",
    "        sortedList[lPtr] = pivotVal\n",
    "        pivotPtr = lPtr\n",
    "            \n",
    "        \n",
    "\n",
    "\n",
    "    return sortedList\n",
    "\n",
    "\n"
   ]
  },
  {
   "cell_type": "code",
   "execution_count": 154,
   "metadata": {},
   "outputs": [
    {
     "name": "stdout",
     "output_type": "stream",
     "text": [
      "True\n"
     ]
    }
   ],
   "source": [
    "testList = [1,2]\n",
    "sortedList = quickSortClassic(testList)\n",
    "print(checkSortStatus(testList, sortedList))"
   ]
  },
  {
   "cell_type": "code",
   "execution_count": 187,
   "metadata": {},
   "outputs": [
    {
     "name": "stdout",
     "output_type": "stream",
     "text": [
      "randomList(lenList:20, randMin:-10, randMax:14) : \n",
      "[10, 0, 12, -6, -1, -6, 7, -3, -1, 10, 2, 1, -8, -2, 3, 3, 12, 2, -1, -6]\n",
      "[10, 0, 12, -6, -1, -6, 7, -3, -1, 10, 2, 1, -8, -2, 3, 3, 12, 2, -1, -6]\n",
      "randomList(lenList:21, randMin:-10, randMax:14) : \n",
      "[11, -6, -5, 13, 8, 6, 14, 2, -6, 14, 4, 0, 1, 4, 1, 3, 0, 12, -5, 14, 1]\n",
      "[11, -6, -5, 13, 8, 6, 14, 2, -6, 14, 4, 0, 1, 4, 1, 3, 0, 12, -5, 14, 1]\n",
      "randomList(lenList:22, randMin:-10, randMax:14) : \n",
      "[8, 13, -4, 7, 13, 13, -8, 5, -6, 12, 3, -10, 5, 6, -4, -5, -1, 1, 7, -5, -6, 1]\n",
      "[8, 13, -4, 7, 13, 13, -8, 5, -6, 12, 3, -10, 5, 6, -4, -5, -1, 1, 7, -5, -6, 1]\n",
      "randomList(lenList:23, randMin:-10, randMax:14) : \n",
      "[6, 12, -8, -1, -7, 11, 7, -5, -9, -7, 7, -1, -2, 8, 5, 1, -5, 2, -10, 8, 5, -5, 3]\n",
      "[6, 12, -8, -1, -7, 11, 7, -5, -9, -7, 7, -1, -2, 8, 5, 1, -5, 2, -10, 8, 5, -5, 3]\n",
      "randomList(lenList:24, randMin:-10, randMax:14) : \n",
      "[-10, 3, 9, 4, 6, -7, -10, 2, 13, -9, -2, 6, -8, 0, -4, -10, -3, 6, -3, -1, -9, -10, -10, 9]\n",
      "[-10, 3, 9, 4, 6, -7, -10, 2, 13, -9, -2, 6, -8, 0, -4, -10, -3, 6, -3, -1, -9, -10, -10, 9]\n",
      "randomList(lenList:25, randMin:-10, randMax:14) : \n",
      "[-4, -6, 1, -2, 14, 13, -1, 3, -4, 1, 0, 6, 14, 9, 8, 0, 12, 8, -3, 13, -2, 10, 6, 12, -5]\n",
      "[-4, -6, 1, -2, 14, 13, -1, 3, -4, 1, 0, 6, 14, 9, 8, 0, 12, 8, -3, 13, -2, 10, 6, 12, -5]\n",
      "randomList(lenList:26, randMin:-10, randMax:14) : \n",
      "[-6, 1, 12, -4, 2, -8, -3, 14, -9, 0, 3, 7, -9, -3, 7, -6, 14, -5, 13, 7, 13, 12, -7, 3, 8, -10]\n",
      "[-6, 1, 12, -4, 2, -8, -3, 14, -9, 0, 3, 7, -9, -3, 7, -6, 14, -5, 13, 7, 13, 12, -7, 3, 8, -10]\n",
      "randomList(lenList:27, randMin:-10, randMax:14) : \n",
      "[-8, 14, 10, 9, -3, 11, 3, 10, 13, -5, 1, 0, 7, 11, 5, 13, 2, 1, 14, 9, 4, 9, 10, -6, 9, 9, 4]\n",
      "[-8, 14, 10, 9, -3, 11, 3, 10, 13, -5, 1, 0, 7, 11, 5, 13, 2, 1, 14, 9, 4, 9, 10, -6, 9, 9, 4]\n",
      "randomList(lenList:28, randMin:-10, randMax:14) : \n",
      "[-9, -2, 1, 4, -1, -5, -8, -1, 1, 8, 5, 3, 7, 7, 14, 9, 0, 14, 12, -6, 6, 10, 4, -1, -5, 8, 3, 10]\n",
      "[-9, -2, 1, 4, -1, -5, -8, -1, 1, 8, 5, 3, 7, 7, 14, 9, 0, 14, 12, -6, 6, 10, 4, -1, -5, 8, 3, 10]\n",
      "randomList(lenList:29, randMin:-10, randMax:14) : \n",
      "[-3, 1, 8, 1, 14, -9, -4, 0, -7, 6, -7, 11, 10, 10, -8, -2, 4, 5, 12, 9, 9, 12, 7, -10, 12, 3, 7, -4, -6]\n",
      "[-3, 1, 8, 1, 14, -9, -4, 0, -7, 6, -7, 11, 10, 10, -8, -2, 4, 5, 12, 9, 9, 12, 7, -10, 12, 3, 7, -4, -6]\n"
     ]
    }
   ],
   "source": [
    "for l in range(20,30):\n",
    "    testList = generateRandomList(lenList=l, randMin=-10, randMax=14, printFlag=True)\n",
    "    print(testList)\n",
    "    sortedList = quickSortClassic(testList)\n",
    "    if not checkSortStatus(testList, sortedList):\n",
    "        print(\"What the fuck\")\n"
   ]
  },
  {
   "cell_type": "code",
   "execution_count": null,
   "metadata": {},
   "outputs": [],
   "source": []
  },
  {
   "cell_type": "code",
   "execution_count": null,
   "metadata": {},
   "outputs": [],
   "source": []
  },
  {
   "cell_type": "code",
   "execution_count": null,
   "metadata": {},
   "outputs": [],
   "source": []
  },
  {
   "cell_type": "markdown",
   "metadata": {},
   "source": [
    "## Lecture 5: Linear-time Sorting: Lower Bounds, Counting Sort, Radix Sort"
   ]
  },
  {
   "cell_type": "markdown",
   "metadata": {},
   "source": [
    "## Lecture 6: Order Statistics, Median"
   ]
  },
  {
   "cell_type": "markdown",
   "metadata": {},
   "source": [
    "## Lecture 7: Hashing, Hash Functions"
   ]
  },
  {
   "cell_type": "markdown",
   "metadata": {},
   "source": [
    "## Lecture 8: Universal Hashing, Perfect Hashing"
   ]
  },
  {
   "cell_type": "markdown",
   "metadata": {},
   "source": [
    "## Lecture 9: Relation of BSTs to Quicksort - Analysis of Random BST"
   ]
  },
  {
   "cell_type": "markdown",
   "metadata": {},
   "source": [
    "## Lecture 10: Red-black Trees, Rotations, Insertions, Deletions"
   ]
  },
  {
   "cell_type": "markdown",
   "metadata": {},
   "source": [
    "## Lecture 11: Augmenting Data Structures, Dynamic Order Statistics, Interval Trees"
   ]
  },
  {
   "cell_type": "markdown",
   "metadata": {},
   "source": [
    "## Lecture 12: Skip Lists"
   ]
  },
  {
   "cell_type": "markdown",
   "metadata": {},
   "source": [
    "## Lecture 13: Amortized Algorithms, Table Doubling, Potential Method"
   ]
  },
  {
   "cell_type": "markdown",
   "metadata": {},
   "source": [
    "## Lecture 14: Competitive Analysis: Self-organizing Lists"
   ]
  },
  {
   "cell_type": "markdown",
   "metadata": {},
   "source": [
    "## Lecture 15: Dynamic Programming, Longest Common Subsequence"
   ]
  },
  {
   "cell_type": "markdown",
   "metadata": {},
   "source": [
    "## Lecture 16: Greedy Algorithms, Minimum Spanning Trees"
   ]
  },
  {
   "cell_type": "markdown",
   "metadata": {},
   "source": [
    "## Lecture 17: Shortest Paths I: Properties, Dijkstra's Algorithm, Breadth-first Search"
   ]
  },
  {
   "cell_type": "markdown",
   "metadata": {},
   "source": [
    "## Lecture 18: Shortest Paths II: Bellman-Ford, Linear Programming, Difference Constraints"
   ]
  },
  {
   "cell_type": "markdown",
   "metadata": {},
   "source": [
    "## Lecture 19: Shortest Paths III: All-pairs Shortest Paths, Matrix Multiplication, Floyd-Warshall, Johnson"
   ]
  },
  {
   "cell_type": "markdown",
   "metadata": {},
   "source": [
    "## Lecture 22: Advanced Topics"
   ]
  },
  {
   "cell_type": "markdown",
   "metadata": {},
   "source": [
    "## Lecture 23: Advanced Topics (cont.)"
   ]
  },
  {
   "cell_type": "markdown",
   "metadata": {},
   "source": [
    "## Lecture 24: Advanced Topics (cont.)"
   ]
  },
  {
   "cell_type": "markdown",
   "metadata": {},
   "source": [
    "## Lecture 25: Advanced Topics (cont.) - Discussion of Follow-on Classes"
   ]
  },
  {
   "cell_type": "code",
   "execution_count": null,
   "metadata": {},
   "outputs": [],
   "source": []
  },
  {
   "cell_type": "code",
   "execution_count": null,
   "metadata": {},
   "outputs": [
    {
     "name": "stdout",
     "output_type": "stream",
     "text": [
      "Using matplotlib backend: QtAgg\n"
     ]
    },
    {
     "name": "stderr",
     "output_type": "stream",
     "text": [
      "qt.qpa.plugin: Could not find the Qt platform plugin \"wayland\" in \"\"\n"
     ]
    }
   ],
   "source": [
    "# IPython 魔术命令 在单独的弹出窗口中显示\n",
    "%matplotlib\n",
    "import matplotlib.pyplot as plt\n",
    "\n",
    "def graphicShowList(showList, stepNum, pivotPos, colorPosList, stepExplain=\"\", \\\n",
    "                    finishFlag=False, figWidth=10, figHeight=4) -> None:\n",
    "    \"\"\"\n",
    "    [INPUT]\n",
    "\n",
    "    showList : 待展示数组 \\n\n",
    "    stepNum : 总步数（比较+交换） 暂时没有区分 \\n\n",
    "    pivotPos : 哨兵位置 \\n\n",
    "    colorPosList : 特殊颜色位置列表 \\n\n",
    "    stepExplain=\"\" 步骤解释\\n\n",
    "    finishFlag=False : 是否完成sort \\n\n",
    "    figWidth=10 : 画布宽度 \\n\n",
    "    figHeight=4 : 画布高度 \\n\n",
    "    ---\n",
    "    [OUTPUT]\n",
    "\n",
    "    None\n",
    "    \"\"\"\n",
    "    plt.plot(figsize=(figWidth, figHeight))  # 创建一个指定大小的画布\n",
    "    plt.clf()  # 清空\n",
    "\n",
    "    lenList = len(showList)\n",
    "\n",
    "    if not finishFlag:\n",
    "        colors = ['skyblue'] * lenList\n",
    "        for pos in colorPosList:\n",
    "            colors[pos] = 'pink'\n",
    "    else:\n",
    "        colors = ['turquoise'] * lenList\n",
    "        print(\"finish\")\n",
    "\n",
    "\n",
    "    bars = plt.bar(range(lenList), showList, color=colors)\n",
    "\n",
    "    for pos, bar in enumerate(bars):\n",
    "        tempText = str(showList[pos])\n",
    "        if pos == pivotPos:\n",
    "            tempText = tempText+\"\\nPivot\"\n",
    "        plt.text(bar.get_x() + bar.get_width()/2.0, 0, tempText, ha='center', va='top')\n",
    "        '''\n",
    "        bar.get_x() + bar.get_width()/2.0: 这部分是确定标签位置的关键\n",
    "        bar.get_x() 返回柱形左边缘的位置，而 bar.get_width()/2.0 则是柱形的宽度的一半\n",
    "        ha='center': 水平对齐方式，这里设为 'center' 表示标签水平居中对齐。\n",
    "        va='top': 垂直对齐方式，这里设为 'bottom' 表示标签顶部与柱形底部对齐\n",
    "        '''\n",
    "    \n",
    "    plt.xlabel(\"\")  # 隐藏y轴\n",
    "    plt.xlabel(\"\")  # 隐藏x轴\n",
    "    plt.axis('off')  # 去除外框\n",
    "\n",
    "    if not finishFlag:\n",
    "        plt.title(f\"[STEP {stepNum}] : {stepExplain}\", fontsize=20)\n",
    "    else:\n",
    "        plt.title(f\"[Finish] - TotalStep={stepNum}\", fontsize=20)\n",
    "\n",
    "    \n",
    "    plt.draw()\n",
    "    plt.pause(0.5)\n",
    "    # plt.ioff()\n",
    "    \n",
    "    if finishFlag:\n",
    "        plt.close()  # 关闭窗口\n",
    "    \n",
    "    return"
   ]
  },
  {
   "cell_type": "code",
   "execution_count": null,
   "metadata": {},
   "outputs": [],
   "source": []
  },
  {
   "cell_type": "code",
   "execution_count": null,
   "metadata": {},
   "outputs": [],
   "source": []
  },
  {
   "cell_type": "code",
   "execution_count": null,
   "metadata": {},
   "outputs": [],
   "source": []
  },
  {
   "cell_type": "code",
   "execution_count": null,
   "metadata": {},
   "outputs": [],
   "source": []
  }
 ],
 "metadata": {
  "kernelspec": {
   "display_name": "Python 3",
   "language": "python",
   "name": "python3"
  },
  "language_info": {
   "codemirror_mode": {
    "name": "ipython",
    "version": 3
   },
   "file_extension": ".py",
   "mimetype": "text/x-python",
   "name": "python",
   "nbconvert_exporter": "python",
   "pygments_lexer": "ipython3",
   "version": "3.12.2"
  }
 },
 "nbformat": 4,
 "nbformat_minor": 2
}
