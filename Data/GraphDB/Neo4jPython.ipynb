{
 "cells": [
  {
   "cell_type": "markdown",
   "metadata": {},
   "source": [
    "# <a id='toc1_'></a>[Neo4j X Python](#toc0_)\n",
    "\n"
   ]
  },
  {
   "cell_type": "markdown",
   "metadata": {},
   "source": [
    "## Table of Contents<a id='toc0_'></a>    \n",
    "- [Neo4j X Python](#toc1_)    \n",
    "  - [Table of Contents](#toc1_1_)    \n",
    "- [Using Neo4j from Python](#toc2_)    \n",
    "- [Build applications with Neo4j and Python ](#toc3_)    \n",
    "\n",
    "<!-- vscode-jupyter-toc-config\n",
    "\tnumbering=false\n",
    "\tanchor=true\n",
    "\tflat=false\n",
    "\tminLevel=1\n",
    "\tmaxLevel=6\n",
    "\t/vscode-jupyter-toc-config -->\n",
    "<!-- THIS CELL WILL BE REPLACED ON TOC UPDATE. DO NOT WRITE YOUR TEXT IN THIS CELL -->"
   ]
  },
  {
   "cell_type": "markdown",
   "metadata": {},
   "source": [
    "# <a id='toc2_'></a>[Using Neo4j from Python](#toc0_)\n",
    "\n",
    "[Using Neo4j from Python](https://neo4j.com/docs/getting-started/languages-guides/neo4j-python/)\n"
   ]
  },
  {
   "cell_type": "code",
   "execution_count": 1,
   "metadata": {},
   "outputs": [
    {
     "name": "stdout",
     "output_type": "stream",
     "text": [
      "Defaulting to user installation because normal site-packages is not writeable\n",
      "Requirement already satisfied: neo4j in /home/lzy/.local/lib/python3.10/site-packages (5.20.0)\n",
      "Requirement already satisfied: pytz in /home/lzy/.local/lib/python3.10/site-packages (from neo4j) (2023.3.post1)\n"
     ]
    }
   ],
   "source": [
    "!pip3 install neo4j\n"
   ]
  },
  {
   "cell_type": "code",
   "execution_count": 5,
   "metadata": {},
   "outputs": [],
   "source": [
    "import os\n",
    "from dotenv import load_dotenv\n",
    "from neo4j import GraphDatabase\n",
    "\n",
    "load_dotenv()\n",
    "\n",
    "NEO4J_URI = os.getenv('NEO4J_URI')\n",
    "NEO4J_USERNAME = os.getenv('NEO4J_USERNAME')\n",
    "NEO4J_PASSWORD = os.getenv('NEO4J_PASSWORD')\n"
   ]
  },
  {
   "cell_type": "code",
   "execution_count": 11,
   "metadata": {},
   "outputs": [],
   "source": [
    "from neo4j import GraphDatabase\n",
    "\n",
    "class HelloWorldExample:\n",
    "\n",
    "    def __init__(self, uri, user, password):\n",
    "        self.driver = GraphDatabase.driver(uri, auth=(user, password))\n",
    "        self.driver.verify_connectivity()\n",
    "\n",
    "    def close(self):\n",
    "        self.driver.close()\n",
    "\n",
    "    def print_greeting(self, message):\n",
    "        with self.driver.session() as session:\n",
    "            greeting = session.execute_write(self._create_and_return_greeting, message)\n",
    "            # execute_write 方法接受一个 回调函数 和 回调函数的参数\n",
    "            # 确保回调函数在一个事务中执行，并在执行完后提交事务\n",
    "            # 当 session.execute_write 调用回调函数时，会将事务对象 tx 作为第一个参数传递给回调函数\n",
    "            print(greeting)\n",
    "\n",
    "    @staticmethod  # 静态方法\n",
    "    def _create_and_return_greeting(tx, message):\n",
    "        result = tx.run(query=\"CREATE (a:Greeting) \"\n",
    "                        \"SET a.message = $message \"  # 设置节点的 message 属性为传入的 message 值\n",
    "                        \"RETURN a.message + ', from node ' + id(a)\", message=message)\n",
    "        return result.single()[0]\n",
    "\n"
   ]
  },
  {
   "cell_type": "code",
   "execution_count": 12,
   "metadata": {},
   "outputs": [
    {
     "name": "stdout",
     "output_type": "stream",
     "text": [
      "hello neo4j, from node 33883\n"
     ]
    }
   ],
   "source": [
    "hello = HelloWorldExample(uri=NEO4J_URI,\n",
    "                          user=NEO4J_USERNAME,\n",
    "                          password=NEO4J_PASSWORD)\n",
    "\n",
    "hello.print_greeting(\"hello neo4j\")\n",
    "hello.close()\n"
   ]
  },
  {
   "cell_type": "code",
   "execution_count": null,
   "metadata": {},
   "outputs": [],
   "source": []
  },
  {
   "cell_type": "markdown",
   "metadata": {},
   "source": [
    "# <a id='toc3_'></a>[Build applications with Neo4j and Python](https://neo4j.com/docs/python-manual/current/)  [&#8593;](#toc0_)"
   ]
  },
  {
   "cell_type": "code",
   "execution_count": 2,
   "metadata": {},
   "outputs": [
    {
     "name": "stdout",
     "output_type": "stream",
     "text": [
      "[<Record n=<Node element_id='4:48dd463c-ab48-4195-a78f-cd9ee360df9b:0' labels=frozenset({'Student', 'Person'}) properties={'name': 'lzy'}>>, <Record n=<Node element_id='4:48dd463c-ab48-4195-a78f-cd9ee360df9b:1' labels=frozenset({'School'}) properties={'name': 'tju'}>>, <Record n=<Node element_id='4:48dd463c-ab48-4195-a78f-cd9ee360df9b:2' labels=frozenset({'Person'}) properties={'name': 'Alice'}>>]\n",
      "frozenset({'Student', 'Person'})\n",
      "{'name': 'lzy'}\n",
      "frozenset({'School'})\n",
      "{'name': 'tju'}\n",
      "frozenset({'Person'})\n",
      "{'name': 'Alice'}\n",
      "The query `MATCH (n) RETURN n` returned 3 records in 29 ms.\n"
     ]
    }
   ],
   "source": [
    "import os\n",
    "from dotenv import load_dotenv\n",
    "from neo4j import GraphDatabase\n",
    "\n",
    "load_dotenv()\n",
    "\n",
    "NEO4J_URI = os.getenv('NEO4J_URI')\n",
    "NEO4J_USERNAME = os.getenv('NEO4J_USERNAME')\n",
    "NEO4J_PASSWORD = os.getenv('NEO4J_PASSWORD')\n",
    "\n",
    "\n",
    "with GraphDatabase.driver(uri=NEO4J_URI, auth=(NEO4J_USERNAME, NEO4J_PASSWORD)) as driver:\n",
    "    driver.verify_connectivity()\n",
    "\n",
    "    records, summary, keys = driver.execute_query(\"MATCH (n) RETURN n\")\n",
    "    print(records)\n",
    "\n",
    "    for record in records:\n",
    "        info = record[\"n\"]\n",
    "        labels = info._labels\n",
    "        print(labels)\n",
    "        properties = info._properties\n",
    "        print(properties)\n",
    "\n",
    "    print(\"The query `{query}` returned {records_count} records in {time} ms.\".format(\n",
    "        query=summary.query, records_count=len(records),\n",
    "        time=summary.result_available_after,\n",
    "    ))\n"
   ]
  },
  {
   "cell_type": "markdown",
   "metadata": {},
   "source": [
    "## Write to Database"
   ]
  },
  {
   "cell_type": "code",
   "execution_count": 4,
   "metadata": {},
   "outputs": [
    {
     "name": "stdout",
     "output_type": "stream",
     "text": [
      "<neo4j._work.summary.ResultSummary object at 0x726ba22dc730>\n",
      "Created 0 nodes in 33 ms.\n"
     ]
    }
   ],
   "source": [
    "with GraphDatabase.driver(uri=NEO4J_URI, auth=(NEO4J_USERNAME, NEO4J_PASSWORD)) as driver:\n",
    "    summary = driver.execute_query(database_=\"neo4j\",\n",
    "        query_=\"MERGE (:Person {name: $name})\",\n",
    "        name = \"Alice\").summary\n",
    "    print(\"Created {nodes_created} nodes in {time} ms.\".format(\n",
    "        nodes_created=summary.counters.nodes_created,\n",
    "        time=summary.result_available_after\n",
    "    ))\n"
   ]
  },
  {
   "cell_type": "markdown",
   "metadata": {},
   "source": [
    "## Read from Database"
   ]
  },
  {
   "cell_type": "code",
   "execution_count": 3,
   "metadata": {},
   "outputs": [
    {
     "name": "stdout",
     "output_type": "stream",
     "text": [
      "{'name': 'lzy'}\n",
      "{'name': 'Alice'}\n",
      "------------\n",
      "The query `MATCH (p:Person) RETURN p.name AS name` returned 2 records in 29 ms.\n"
     ]
    }
   ],
   "source": [
    "with GraphDatabase.driver(uri=NEO4J_URI, auth=(NEO4J_USERNAME, NEO4J_PASSWORD)) as driver:\n",
    "    records, summary, keys = driver.execute_query(\n",
    "        database_=\"neo4j\",\n",
    "        query_=\"MATCH (p:Person) RETURN p.name AS name\")\n",
    "\n",
    "    # Loop through results and do something with them\n",
    "    for record in records:\n",
    "        print(record.data())  # obtain record as dict\n",
    "\n",
    "    print(\"------------\")\n",
    "\n",
    "    # Summary information\n",
    "    print(\"The query `{query}` returned {records_count} records in {time} ms.\".format(\n",
    "        query=summary.query, records_count=len(records),\n",
    "        time=summary.result_available_after\n",
    "    ))\n"
   ]
  },
  {
   "cell_type": "markdown",
   "metadata": {},
   "source": [
    "## Update the Database"
   ]
  },
  {
   "cell_type": "code",
   "execution_count": 38,
   "metadata": {},
   "outputs": [
    {
     "name": "stdout",
     "output_type": "stream",
     "text": [
      "{'p': {'name': 'Alice', 'age': '18'}}\n",
      "<Record p=<Node element_id='4:48dd463c-ab48-4195-a78f-cd9ee360df9b:6' labels=frozenset({'Person', 'Teacher'}) properties={'name': 'Alice', 'age': '18'}>>\n"
     ]
    }
   ],
   "source": [
    "with GraphDatabase.driver(uri=NEO4J_URI, auth=(NEO4J_USERNAME, NEO4J_PASSWORD)) as driver:\n",
    "    labels = \"Teacher\"\n",
    "    records, summary, keys = driver.execute_query(\n",
    "        database_=\"neo4j\",\n",
    "        query_=f\"MATCH (p:Person{{name:$name}}) \\\n",
    "            SET p:{labels} \\\n",
    "            RETURN p\", name=\"Alice\")\n",
    "    for record in records:\n",
    "        print(record.data())\n",
    "        print(record)\n"
   ]
  },
  {
   "cell_type": "code",
   "execution_count": 37,
   "metadata": {},
   "outputs": [
    {
     "name": "stdout",
     "output_type": "stream",
     "text": [
      "{'p': {'name': 'Alice', 'age': '18'}}\n",
      "<Record p=<Node element_id='4:48dd463c-ab48-4195-a78f-cd9ee360df9b:6' labels=frozenset({'Person'}) properties={'name': 'Alice', 'age': '18'}>>\n"
     ]
    }
   ],
   "source": [
    "with GraphDatabase.driver(uri=NEO4J_URI, auth=(NEO4J_USERNAME, NEO4J_PASSWORD)) as driver:\n",
    "    records, summary, keys = driver.execute_query(\n",
    "        database_=\"neo4j\",\n",
    "        query_=\"MATCH (p:Person{name:$name}) \\\n",
    "            SET p.age=$age \\\n",
    "            RETURN p\", name=\"Alice\", age=\"18\")\n",
    "    for record in records:\n",
    "        print(record.data())\n",
    "        print(record)\n"
   ]
  },
  {
   "cell_type": "code",
   "execution_count": 36,
   "metadata": {},
   "outputs": [
    {
     "name": "stdout",
     "output_type": "stream",
     "text": [
      "{'p1': {'name': 'lzy'}, 'p2': {'name': 'Alice'}}\n",
      "<Record p1=<Node element_id='4:48dd463c-ab48-4195-a78f-cd9ee360df9b:5' labels=frozenset({'Person'}) properties={'name': 'lzy'}> p2=<Node element_id='4:48dd463c-ab48-4195-a78f-cd9ee360df9b:6' labels=frozenset({'Person'}) properties={'name': 'Alice'}>>\n"
     ]
    }
   ],
   "source": [
    "with GraphDatabase.driver(uri=NEO4J_URI, auth=(NEO4J_USERNAME, NEO4J_PASSWORD)) as driver:\n",
    "    records, summary, keys = driver.execute_query(\n",
    "        database_=\"neo4j\",\n",
    "        query_=\"MERGE (p1:Person{name:$name1})\\\n",
    "            MERGE (p2:Person{name:$name2})\\\n",
    "            MERGE (p1)-[:Knows]->(p2)\\\n",
    "            RETURN p1, p2\", name1=\"lzy\", name2=\"Alice\")\n",
    "    for record in records:\n",
    "        print(record.data())\n",
    "        print(record)\n"
   ]
  },
  {
   "cell_type": "code",
   "execution_count": 35,
   "metadata": {},
   "outputs": [],
   "source": [
    "with GraphDatabase.driver(uri=NEO4J_URI, auth=(NEO4J_USERNAME, NEO4J_PASSWORD)) as driver:\n",
    "    records, summary, keys = driver.execute_query(\n",
    "        database_=\"neo4j\",\n",
    "        query_=\"MATCH (p:Person)\\\n",
    "            WHERE p.name=$name\\\n",
    "            DETACH DELETE p\",\n",
    "        name=\"alice\")\n",
    "    for record in records:\n",
    "        print(record.data())\n",
    "        print(record)\n"
   ]
  },
  {
   "cell_type": "code",
   "execution_count": 18,
   "metadata": {},
   "outputs": [
    {
     "name": "stdout",
     "output_type": "stream",
     "text": [
      "{'propertyKey': 'name'}\n",
      "---\n",
      "{'label': 'Person'}\n",
      "{'label': 'School'}\n",
      "{'label': 'Student'}\n"
     ]
    }
   ],
   "source": [
    "with GraphDatabase.driver(uri=NEO4J_URI, auth=(NEO4J_USERNAME, NEO4J_PASSWORD)) as driver:\n",
    "    records, summary, keys = driver.execute_query(\n",
    "        database_=\"neo4j\",\n",
    "        query_=\"CALL db.propertyKeys()\")\n",
    "    for record in records:\n",
    "        print(record.data())\n",
    "\n",
    "    print(\"---\")\n",
    "\n",
    "    records, summary, keys = driver.execute_query(\n",
    "        database_=\"neo4j\",\n",
    "        query_=\"CALL db.labels()\")\n",
    "    for record in records:\n",
    "        print(record.data())\n"
   ]
  },
  {
   "cell_type": "code",
   "execution_count": 34,
   "metadata": {},
   "outputs": [],
   "source": [
    "with GraphDatabase.driver(uri=NEO4J_URI,\n",
    "                          auth=(NEO4J_USERNAME,\n",
    "                                NEO4J_PASSWORD)) as driver:\n",
    "    parameters = \\\n",
    "    {\n",
    "        \"name\": \"Bob\",\n",
    "        \"age\": 42\n",
    "    }\n",
    "    records, summary, keys = driver.execute_query(\n",
    "        database_=\"neo4j\",\n",
    "        query_=\"MERGE (:Person {name: $name})\",\n",
    "        parameters_=parameters,\n",
    "    )\n",
    "\n",
    "    for record in records:\n",
    "        print(record.data())\n"
   ]
  },
  {
   "cell_type": "code",
   "execution_count": null,
   "metadata": {},
   "outputs": [],
   "source": []
  }
 ],
 "metadata": {
  "kernelspec": {
   "display_name": "Python 3",
   "language": "python",
   "name": "python3"
  },
  "language_info": {
   "codemirror_mode": {
    "name": "ipython",
    "version": 3
   },
   "file_extension": ".py",
   "mimetype": "text/x-python",
   "name": "python",
   "nbconvert_exporter": "python",
   "pygments_lexer": "ipython3",
   "version": "3.10.12"
  }
 },
 "nbformat": 4,
 "nbformat_minor": 2
}
