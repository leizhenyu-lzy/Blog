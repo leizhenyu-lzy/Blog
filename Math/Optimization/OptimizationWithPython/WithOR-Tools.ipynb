{
 "cells": [
  {
   "attachments": {},
   "cell_type": "markdown",
   "metadata": {},
   "source": [
    "[Google OR-Tools 中文官网](https://developers.google.cn/optimization?hl=zh-cn)\n",
    "\n",
    "[Google OR-Tools 英文官网](https://developers.google.cn/optimization?hl=en)\n",
    "\n",
    "[ortools系列：运筹优化工具google ortools简介 知乎](https://zhuanlan.zhihu.com/p/55089642)"
   ]
  }
 ],
 "metadata": {
  "kernelspec": {
   "display_name": "Python 3",
   "language": "python",
   "name": "python3"
  },
  "language_info": {
   "name": "python",
   "version": "3.10.6"
  },
  "orig_nbformat": 4,
  "vscode": {
   "interpreter": {
    "hash": "916dbcbb3f70747c44a77c7bcd40155683ae19c65e1c03b4aa3499c5328201f1"
   }
  }
 },
 "nbformat": 4,
 "nbformat_minor": 2
}
