{
 "cells": [
  {
   "cell_type": "code",
   "execution_count": 4,
   "metadata": {},
   "outputs": [
    {
     "name": "stdout",
     "output_type": "stream",
     "text": [
      "Note: you may need to restart the kernel to use updated packages.\n"
     ]
    }
   ],
   "source": [
    "%pip install langchain-openai --quiet\n"
   ]
  },
  {
   "cell_type": "code",
   "execution_count": 10,
   "metadata": {},
   "outputs": [
    {
     "name": "stdout",
     "output_type": "stream",
     "text": [
      "What is a good name for a company that makes socks?\n",
      "What is a good name for a company that makes cups?\n",
      "---\n",
      "input_variables=['product'] template='What is a good name for a company that makes {product}?'\n"
     ]
    }
   ],
   "source": [
    "from langchain.prompts import PromptTemplate\n",
    "\n",
    "promptTemplate = PromptTemplate.from_template(\n",
    "    \"What is a good name for a company that makes {product}?\")\n",
    "\n",
    "prompt1 = promptTemplate.format(product=\"socks\")\n",
    "prompt2 = promptTemplate.format(product=\"cups\")\n",
    "\n",
    "print(prompt1)\n",
    "print(prompt2)\n",
    "\n",
    "print(\"---\")\n",
    "print(promptTemplate)\n",
    "\n"
   ]
  }
 ],
 "metadata": {
  "kernelspec": {
   "display_name": "Python 3",
   "language": "python",
   "name": "python3"
  },
  "language_info": {
   "codemirror_mode": {
    "name": "ipython",
    "version": 3
   },
   "file_extension": ".py",
   "mimetype": "text/x-python",
   "name": "python",
   "nbconvert_exporter": "python",
   "pygments_lexer": "ipython3",
   "version": "3.10.12"
  }
 },
 "nbformat": 4,
 "nbformat_minor": 2
}
