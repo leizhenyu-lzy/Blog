{
 "cells": [
  {
   "cell_type": "markdown",
   "metadata": {},
   "source": [
    "# PyPDF"
   ]
  },
  {
   "cell_type": "code",
   "execution_count": 12,
   "metadata": {},
   "outputs": [
    {
     "name": "stdout",
     "output_type": "stream",
     "text": [
      "Defaulting to user installation because normal site-packages is not writeable\n",
      "Requirement already satisfied: pypdf in /home/lzy/.local/lib/python3.10/site-packages (4.2.0)\n",
      "Requirement already satisfied: typing_extensions>=4.0 in /home/lzy/.local/lib/python3.10/site-packages (from pypdf) (4.10.0)\n",
      "Note: you may need to restart the kernel to use updated packages.\n"
     ]
    }
   ],
   "source": [
    "%pip install pypdf\n"
   ]
  },
  {
   "cell_type": "code",
   "execution_count": 3,
   "metadata": {},
   "outputs": [],
   "source": [
    "from langchain.document_loaders import PyPDFLoader\n",
    "\n",
    "DocPath = r\"../../../Robotics/Paper/Exploring_the_performance_of_ROS2.pdf\"\n",
    "\n",
    "loader = PyPDFLoader(DocPath)\n",
    "\n",
    "pagesPyPDF = loader.load()\n"
   ]
  },
  {
   "cell_type": "code",
   "execution_count": 4,
   "metadata": {},
   "outputs": [
    {
     "name": "stdout",
     "output_type": "stream",
     "text": [
      "页码=10\n"
     ]
    }
   ],
   "source": [
    "print(f\"页码={len(pagesPyPDF)}\")\n"
   ]
  },
  {
   "cell_type": "code",
   "execution_count": 5,
   "metadata": {},
   "outputs": [
    {
     "name": "stdout",
     "output_type": "stream",
     "text": [
      "Table 2: Evaluation Environment\n",
      "Machine1 Machine2\n",
      "CPUModel number Intel Core i5 3470 Intel Core i5 2320\n",
      "Frequency 3.2 GHz 3.00 GHz\n",
      "Cores 4 4\n",
      "Threads 4 4\n",
      "Memory 16 GB 8G B\n",
      "Network 100 Mbps Ethernet / Full-Duplex\n",
      "ROS1 Indigo\n",
      "ROS2 Cement (alpha3)\n",
      "DDS implementations Connext1/ OpenSplice2/F a s t R T P S\n",
      "OSDistribution Ubuntu 14.04\n",
      "Kernel Linux 3.13.0\n",
      "1RTI Connext DDS Professional [29]\n",
      "2OpenSplice DDS Community Edition [25]\n",
      "Table 3: QoS Policies for Evaluations\n",
      "reliable policy best-effort policy\n",
      "DEADLINE 100 ms 100 ms\n",
      "HISTORY ALL LAST\n",
      "depth -1\n",
      "RELIABILITY RELIABLE BEST_EFFORT\n",
      "DURABILITY TRANSIENT_LOCAL VOLATILE\n",
      "range of the transferred data size is 256 B to 4 MB be-\n",
      "cause large image data (e.g., 2 MB) and point cloud data\n",
      "(.pcd) are frequently used in ROS applications, such as an\n",
      "autonomous driving system [18]. A string type message\n",
      "is used for this evaluation. In the following experiments,\n",
      "we use two QoS settings, i.e., reliable policy and best-\n",
      "effort policy, as shown in Table 3. In the reliable pol-\n",
      "icy,TRANSIENT_LOCAL allowsa nodetokeepall messages for\n",
      "late-joining subscriber-nodes,a n d RELIABLE facilitates reli-\n",
      "able communication. In the best-effort policy, nodesdo\n",
      "not keep messages and communicate unreliably. While each\n",
      "nodeis executed at 10 Hz, the experiments are repeated\n",
      "up to 4 MB. Boxplots and the medians obtained from 100\n",
      "measurements for each data size are presented. For precise\n",
      "evaluation methods, we make the source code open in [5]\n",
      "and [6]. We compare three DDS implementations, i.e., Con-\n",
      "next [29], OpenSplice [25], and FastRTPS [14]. Connext and\n",
      "OpenSplice are well-known commercial license DDS imple-\n",
      "mentations. Note that Connext also has a research license.Several implementations of OpenSplice and FastRTPS have\n",
      "been released under the LGPL license. By default, Con-\n",
      "next uses UDPv4 and shared memory to exchange data.\n",
      "NotethatOpenSplice\n",
      "3andFastRTPSdonotsupportshared\n",
      "memory data transport. For precise evaluations and real-\n",
      "time requirements, nodesfollow SCHED FIFO[15] and the\n",
      "mlockall systemcall. A SCHED FIFOprocesspreemptsany\n",
      "non-SCHED FIFOprocesses, i.e., processes that use the de-\n",
      "fault Linux scheduling. Using mlockall,ap r o c e s s ’ sv i r t u a l\n",
      "address space is ﬁxed in physical RAM, thereby preventing\n",
      "that memory from being paged to the swap area.\n",
      "3.1 Experimental Situations and Methods\n",
      "As shown in Figure 5, various communication situations\n",
      "between nodesin ROS1 and/or ROS2 are evaluated in the\n",
      "following experiments. Whereas ROS1 is used in (1-a), (1-b), and (1-c), ROS2 is used in (2-a), (2-b), and (2-c). In (3-\n",
      "3Vortex OpenSplice [26], i.e., OpenSplice commercial edi-\n",
      "tion, supports shared memory transport, but ROS2 does\n",
      "not support Vortex OpenSplice. In this paper, OpenSplice\n",
      "DDS Community Edition is used because it is open-source.526\u0014 526\u0014\n",
      "ORRS\u0003EDFN526\u0014 526\u0014\n",
      "SDVV\u0003SRLQWHU\n",
      "526\u0015 526\u0015\n",
      "SDVV\u0003SRLQWHUZLWKRXW\u0003''6\n",
      "526\u0015 526\u0015\n",
      "ORRS\u0003EDFN\n",
      "VKDUHG\u0003PHPRU\\526\u0014 526\u0014\n",
      "526\u0015 526\u0015\n",
      "526\u0014 526\u0015\n",
      " 526\u0014 526\u0015\u000b\u0014\u0010D\f\u001d\u0003526\u0014 UHPRWH \u000b\u0014\u0010E\f\u001d\u0003526\u0014\u0003ORFDO \u000b\u0014\u0010F\f\u001d\u0003526\u0014\u0003QRGHOHW\n",
      "\u000b\u0015\u0010D\f\u001d\u0003526\u0015\u0003UHPRWH \u000b\u0015\u0010E\f\u001d\u0003526\u0015\u0003ORFDO \u000b\u0015\u0010F\f\u001d\u0003526\u0015\u0003LQWUD\u0010SURFHVV\n",
      "\u000b\u0016\u0010D\f\u001d\u0003526 EULGJH\u0003UHPRWH \u000b\u0016\u0010E\f\u001d\u0003526\u0003EULGJH\u0003ORFDO\n",
      "Figure 5: Experimental situations.\n",
      "WDONHU526\u0015\n",
      "URVBEULGJH FKDWWHU526\u0014\n",
      "FKDWWHU OLVWHQHU1RGH 7RSLF3XEOLVK\u00126XEVFULEH\n",
      "Figure 6: ros_bridge evaluation in (3-a) and (3-b).\n",
      "a) and (3-b), ROS1 and ROS2 nodescoexist. Note that the\n",
      "case of (2-c) does not require DDS due to intra-process com-\n",
      "munication , i.e., shared memory transport. Shared memory\n",
      "transport is used in the (1-c) nodeletand (2-c) intra-process\n",
      "cases. In the experiments, Machine1 is only used in (1-b),\n",
      "(1-c), (2-b), (2-c), and (3-b). End-to-end latencies are mea-\n",
      "sured on the same machine by sending messages between\n",
      "nodes.Messages pass over a local loopback in localcases,\n",
      "i.e., (1-b), (2-b), and (3-b). Otherwise, for communication\n",
      "across the network, Machine1 and Machine2 are used in re-\n",
      "motecases, i.e., (1-a), (2-a), and (3-a). They are connected\n",
      "by a local IP network without any other network.\n",
      "Communication between ROS1 and ROS2 nodesrequires\n",
      "aros_bridge [33], a bridge-node that converts topicsfor\n",
      "DDS. The ros_bridge program has been released by the\n",
      "OpenSourceRoboticsFoundation(OSRF)[2]. A ros_bridge\n",
      "dynamicallymarshalsseveral topicsfornodesinROS2. Thus,\n",
      "in (3-a) and (3-b), a ros_bridge is launched on which ROS2\n",
      "nodesrun. Figure 6 shows the node-graph for evaluation\n",
      "of communication from ROS1 to ROS2. Note that a best-\n",
      "effort policy istheonlyoneusedwhenusinga ros_bridge\n",
      "because a ros_bridge does not support the RELIABLE policy\n",
      "in the QoS Policy.\n",
      "3.2 Capabilities of ROS1 and ROS2\n",
      "Table 4 shows whether end-to-end latencies can be mea-\n",
      "sured for each data size with a comment about the causal\n",
      "factors of the experimental results. Table 4 summarizes\n",
      "ROS2’s capabilities, and several interesting observations can\n",
      "be made. In the “Initial loss” column, ROS1 fails to ob-\n",
      "tain initial messages when a nodesends messages for the\n",
      "ﬁrst time even though ROS1 uses TCPROS with small data\n",
      "such as 256 B and a subscriber-node is launched before a\n",
      "publisher-node beginstosend messages . AlthoughTCPROS\n",
      "is reliable for delivering intermediate messages ,i td o e sn o t\n"
     ]
    }
   ],
   "source": [
    "print(pagesPyPDF[3].page_content)  # 第四页\n"
   ]
  },
  {
   "cell_type": "code",
   "execution_count": 6,
   "metadata": {},
   "outputs": [
    {
     "name": "stdout",
     "output_type": "stream",
     "text": [
      "内容长度=5155\n"
     ]
    }
   ],
   "source": [
    "print(f\"内容长度={len(pagesPyPDF[3].page_content)}\")\n"
   ]
  },
  {
   "cell_type": "code",
   "execution_count": 9,
   "metadata": {},
   "outputs": [
    {
     "name": "stdout",
     "output_type": "stream",
     "text": [
      "3.1 Experimental Situations and Methods\n",
      "As shown in Figure 5, various communication situations\n",
      "between nodesin ROS1 and/or ROS2 are evaluated in the\n",
      "following experiments. Whereas ROS1 is used in (1-a), (1-b), and (1-c), ROS2 is used in (2-a), (2-b), and (2-c). In (3-\n",
      "3Vortex OpenSplice [26], i.e., OpenSplice commercial edi-\n",
      "tion, supports shared memory transport, but ROS2 does\n",
      "not support Vortex OpenSplice. In this paper, OpenSplice\n",
      "DDS Community Edition is used because it is open-sou\n"
     ]
    }
   ],
   "source": [
    "print(pagesPyPDF[3].page_content[2310:2800])\n"
   ]
  },
  {
   "cell_type": "code",
   "execution_count": 10,
   "metadata": {},
   "outputs": [
    {
     "data": {
      "text/plain": [
       "'3.1 Experimental Situations and Methods\\nAs shown in Figure 5, various communication situations\\nbetween nodesin ROS1 and/or ROS2 are evaluated in the\\nfollowing experiments. Whereas ROS1 is used in (1-a), (1-b), and (1-c), ROS2 is used in (2-a), (2-b), and (2-c). In (3-\\n3Vortex OpenSplice [26], i.e., OpenSplice commercial edi-\\ntion, supports shared memory transport, but ROS2 does\\nnot support Vortex OpenSplice. In this paper, OpenSplice\\nDDS Community Edition is used because it is open-sou'"
      ]
     },
     "execution_count": 10,
     "metadata": {},
     "output_type": "execute_result"
    }
   ],
   "source": [
    "pagesPyPDF[3].page_content[2310:2800]  # 没有区分主动换行和自动换行\n"
   ]
  },
  {
   "cell_type": "code",
   "execution_count": 13,
   "metadata": {},
   "outputs": [
    {
     "name": "stdout",
     "output_type": "stream",
     "text": [
      "Defaulting to user installation because normal site-packages is not writeable\n",
      "Requirement already satisfied: rapidocr-onnxruntime in /home/lzy/.local/lib/python3.10/site-packages (1.3.22)\n",
      "Requirement already satisfied: pyclipper>=1.2.0 in /home/lzy/.local/lib/python3.10/site-packages (from rapidocr-onnxruntime) (1.3.0.post5)\n",
      "Requirement already satisfied: opencv-python>=4.5.1.48 in /home/lzy/.local/lib/python3.10/site-packages (from rapidocr-onnxruntime) (4.9.0.80)\n",
      "Requirement already satisfied: numpy>=1.19.5 in /home/lzy/.local/lib/python3.10/site-packages (from rapidocr-onnxruntime) (1.23.5)\n",
      "Requirement already satisfied: six>=1.15.0 in /usr/lib/python3/dist-packages (from rapidocr-onnxruntime) (1.16.0)\n",
      "Requirement already satisfied: Shapely>=1.7.1 in /home/lzy/.local/lib/python3.10/site-packages (from rapidocr-onnxruntime) (2.0.4)\n",
      "Requirement already satisfied: PyYAML in /home/lzy/.local/lib/python3.10/site-packages (from rapidocr-onnxruntime) (6.0.1)\n",
      "Requirement already satisfied: Pillow in /home/lzy/.local/lib/python3.10/site-packages (from rapidocr-onnxruntime) (10.3.0)\n",
      "Requirement already satisfied: onnxruntime>=1.7.0 in /home/lzy/.local/lib/python3.10/site-packages (from rapidocr-onnxruntime) (1.16.2)\n",
      "Requirement already satisfied: coloredlogs in /home/lzy/.local/lib/python3.10/site-packages (from onnxruntime>=1.7.0->rapidocr-onnxruntime) (15.0.1)\n",
      "Requirement already satisfied: flatbuffers in /home/lzy/.local/lib/python3.10/site-packages (from onnxruntime>=1.7.0->rapidocr-onnxruntime) (23.5.26)\n",
      "Requirement already satisfied: packaging in /home/lzy/.local/lib/python3.10/site-packages (from onnxruntime>=1.7.0->rapidocr-onnxruntime) (23.2)\n",
      "Requirement already satisfied: protobuf in /home/lzy/.local/lib/python3.10/site-packages (from onnxruntime>=1.7.0->rapidocr-onnxruntime) (4.25.0)\n",
      "Requirement already satisfied: sympy in /home/lzy/.local/lib/python3.10/site-packages (from onnxruntime>=1.7.0->rapidocr-onnxruntime) (1.12)\n",
      "Requirement already satisfied: humanfriendly>=9.1 in /home/lzy/.local/lib/python3.10/site-packages (from coloredlogs->onnxruntime>=1.7.0->rapidocr-onnxruntime) (10.0)\n",
      "Requirement already satisfied: mpmath>=0.19 in /home/lzy/.local/lib/python3.10/site-packages (from sympy->onnxruntime>=1.7.0->rapidocr-onnxruntime) (1.3.0)\n",
      "Note: you may need to restart the kernel to use updated packages.\n"
     ]
    }
   ],
   "source": [
    "%pip install rapidocr-onnxruntime\n"
   ]
  },
  {
   "cell_type": "code",
   "execution_count": 14,
   "metadata": {},
   "outputs": [],
   "source": [
    "loader = PyPDFLoader(DocPath, extract_images=True)\n",
    "pagesPyPDFwithImage = loader.load()  # 加载图片速度较慢\n"
   ]
  },
  {
   "cell_type": "code",
   "execution_count": 15,
   "metadata": {},
   "outputs": [
    {
     "name": "stdout",
     "output_type": "stream",
     "text": [
      "Table 2: Evaluation Environment\n",
      "Machine1 Machine2\n",
      "CPUModel number Intel Core i5 3470 Intel Core i5 2320\n",
      "Frequency 3.2 GHz 3.00 GHz\n",
      "Cores 4 4\n",
      "Threads 4 4\n",
      "Memory 16 GB 8G B\n",
      "Network 100 Mbps Ethernet / Full-Duplex\n",
      "ROS1 Indigo\n",
      "ROS2 Cement (alpha3)\n",
      "DDS implementations Connext1/ OpenSplice2/F a s t R T P S\n",
      "OSDistribution Ubuntu 14.04\n",
      "Kernel Linux 3.13.0\n",
      "1RTI Connext DDS Professional [29]\n",
      "2OpenSplice DDS Community Edition [25]\n",
      "Table 3: QoS Policies for Evaluations\n",
      "reliable policy best-effort policy\n",
      "DEADLINE 100 ms 100 ms\n",
      "HISTORY ALL LAST\n",
      "depth -1\n",
      "RELIABILITY RELIABLE BEST_EFFORT\n",
      "DURABILITY TRANSIENT_LOCAL VOLATILE\n",
      "range of the transferred data size is 256 B to 4 MB be-\n",
      "cause large image data (e.g., 2 MB) and point cloud data\n",
      "(.pcd) are frequently used in ROS applications, such as an\n",
      "autonomous driving system [18]. A string type message\n",
      "is used for this evaluation. In the following experiments,\n",
      "we use two QoS settings, i.e., reliable policy and best-\n",
      "effort policy, as shown in Table 3. In the reliable pol-\n",
      "icy,TRANSIENT_LOCAL allowsa nodetokeepall messages for\n",
      "late-joining subscriber-nodes,a n d RELIABLE facilitates reli-\n",
      "able communication. In the best-effort policy, nodesdo\n",
      "not keep messages and communicate unreliably. While each\n",
      "nodeis executed at 10 Hz, the experiments are repeated\n",
      "up to 4 MB. Boxplots and the medians obtained from 100\n",
      "measurements for each data size are presented. For precise\n",
      "evaluation methods, we make the source code open in [5]\n",
      "and [6]. We compare three DDS implementations, i.e., Con-\n",
      "next [29], OpenSplice [25], and FastRTPS [14]. Connext and\n",
      "OpenSplice are well-known commercial license DDS imple-\n",
      "mentations. Note that Connext also has a research license.Several implementations of OpenSplice and FastRTPS have\n",
      "been released under the LGPL license. By default, Con-\n",
      "next uses UDPv4 and shared memory to exchange data.\n",
      "NotethatOpenSplice\n",
      "3andFastRTPSdonotsupportshared\n",
      "memory data transport. For precise evaluations and real-\n",
      "time requirements, nodesfollow SCHED FIFO[15] and the\n",
      "mlockall systemcall. A SCHED FIFOprocesspreemptsany\n",
      "non-SCHED FIFOprocesses, i.e., processes that use the de-\n",
      "fault Linux scheduling. Using mlockall,ap r o c e s s ’ sv i r t u a l\n",
      "address space is ﬁxed in physical RAM, thereby preventing\n",
      "that memory from being paged to the swap area.\n",
      "3.1 Experimental Situations and Methods\n",
      "As shown in Figure 5, various communication situations\n",
      "between nodesin ROS1 and/or ROS2 are evaluated in the\n",
      "following experiments. Whereas ROS1 is used in (1-a), (1-b), and (1-c), ROS2 is used in (2-a), (2-b), and (2-c). In (3-\n",
      "3Vortex OpenSplice [26], i.e., OpenSplice commercial edi-\n",
      "tion, supports shared memory transport, but ROS2 does\n",
      "not support Vortex OpenSplice. In this paper, OpenSplice\n",
      "DDS Community Edition is used because it is open-source.526\u0014 526\u0014\n",
      "ORRS\u0003EDFN526\u0014 526\u0014\n",
      "SDVV\u0003SRLQWHU\n",
      "526\u0015 526\u0015\n",
      "SDVV\u0003SRLQWHUZLWKRXW\u0003''6\n",
      "526\u0015 526\u0015\n",
      "ORRS\u0003EDFN\n",
      "VKDUHG\u0003PHPRU\\526\u0014 526\u0014\n",
      "526\u0015 526\u0015\n",
      "526\u0014 526\u0015\n",
      " 526\u0014 526\u0015\u000b\u0014\u0010D\f\u001d\u0003526\u0014 UHPRWH \u000b\u0014\u0010E\f\u001d\u0003526\u0014\u0003ORFDO \u000b\u0014\u0010F\f\u001d\u0003526\u0014\u0003QRGHOHW\n",
      "\u000b\u0015\u0010D\f\u001d\u0003526\u0015\u0003UHPRWH \u000b\u0015\u0010E\f\u001d\u0003526\u0015\u0003ORFDO \u000b\u0015\u0010F\f\u001d\u0003526\u0015\u0003LQWUD\u0010SURFHVV\n",
      "\u000b\u0016\u0010D\f\u001d\u0003526 EULGJH\u0003UHPRWH \u000b\u0016\u0010E\f\u001d\u0003526\u0003EULGJH\u0003ORFDO\n",
      "Figure 5: Experimental situations.\n",
      "WDONHU526\u0015\n",
      "URVBEULGJH FKDWWHU526\u0014\n",
      "FKDWWHU OLVWHQHU1RGH 7RSLF3XEOLVK\u00126XEVFULEH\n",
      "Figure 6: ros_bridge evaluation in (3-a) and (3-b).\n",
      "a) and (3-b), ROS1 and ROS2 nodescoexist. Note that the\n",
      "case of (2-c) does not require DDS due to intra-process com-\n",
      "munication , i.e., shared memory transport. Shared memory\n",
      "transport is used in the (1-c) nodeletand (2-c) intra-process\n",
      "cases. In the experiments, Machine1 is only used in (1-b),\n",
      "(1-c), (2-b), (2-c), and (3-b). End-to-end latencies are mea-\n",
      "sured on the same machine by sending messages between\n",
      "nodes.Messages pass over a local loopback in localcases,\n",
      "i.e., (1-b), (2-b), and (3-b). Otherwise, for communication\n",
      "across the network, Machine1 and Machine2 are used in re-\n",
      "motecases, i.e., (1-a), (2-a), and (3-a). They are connected\n",
      "by a local IP network without any other network.\n",
      "Communication between ROS1 and ROS2 nodesrequires\n",
      "aros_bridge [33], a bridge-node that converts topicsfor\n",
      "DDS. The ros_bridge program has been released by the\n",
      "OpenSourceRoboticsFoundation(OSRF)[2]. A ros_bridge\n",
      "dynamicallymarshalsseveral topicsfornodesinROS2. Thus,\n",
      "in (3-a) and (3-b), a ros_bridge is launched on which ROS2\n",
      "nodesrun. Figure 6 shows the node-graph for evaluation\n",
      "of communication from ROS1 to ROS2. Note that a best-\n",
      "effort policy istheonlyoneusedwhenusinga ros_bridge\n",
      "because a ros_bridge does not support the RELIABLE policy\n",
      "in the QoS Policy.\n",
      "3.2 Capabilities of ROS1 and ROS2\n",
      "Table 4 shows whether end-to-end latencies can be mea-\n",
      "sured for each data size with a comment about the causal\n",
      "factors of the experimental results. Table 4 summarizes\n",
      "ROS2’s capabilities, and several interesting observations can\n",
      "be made. In the “Initial loss” column, ROS1 fails to ob-\n",
      "tain initial messages when a nodesends messages for the\n",
      "ﬁrst time even though ROS1 uses TCPROS with small data\n",
      "such as 256 B and a subscriber-node is launched before a\n",
      "publisher-node beginstosend messages . AlthoughTCPROS\n",
      "is reliable for delivering intermediate messages ,i td o e sn o t\n"
     ]
    }
   ],
   "source": [
    "print(pagesPyPDFwithImage[3].page_content)\n"
   ]
  },
  {
   "cell_type": "code",
   "execution_count": 16,
   "metadata": {},
   "outputs": [
    {
     "name": "stdout",
     "output_type": "stream",
     "text": [
      "5155\n"
     ]
    }
   ],
   "source": [
    "print(len(pagesPyPDFwithImage[3].page_content))\n"
   ]
  },
  {
   "cell_type": "markdown",
   "metadata": {},
   "source": [
    "# PyPlumber"
   ]
  },
  {
   "cell_type": "code",
   "execution_count": 3,
   "metadata": {},
   "outputs": [
    {
     "name": "stdout",
     "output_type": "stream",
     "text": [
      "Defaulting to user installation because normal site-packages is not writeable\n",
      "Collecting pdfplumber\n",
      "  Downloading pdfplumber-0.11.0-py3-none-any.whl.metadata (39 kB)\n",
      "Collecting pdfminer.six==20231228 (from pdfplumber)\n",
      "  Downloading pdfminer.six-20231228-py3-none-any.whl.metadata (4.2 kB)\n",
      "Requirement already satisfied: Pillow>=9.1 in /home/lzy/.local/lib/python3.10/site-packages (from pdfplumber) (10.3.0)\n",
      "Collecting pypdfium2>=4.18.0 (from pdfplumber)\n",
      "  Downloading pypdfium2-4.30.0-py3-none-manylinux_2_17_x86_64.manylinux2014_x86_64.whl.metadata (48 kB)\n",
      "\u001b[2K     \u001b[90m━━━━━━━━━━━━━━━━━━━━━━━━━━━━━━━━━━━━━━━━\u001b[0m \u001b[32m48.5/48.5 kB\u001b[0m \u001b[31m2.6 MB/s\u001b[0m eta \u001b[36m0:00:00\u001b[0m\n",
      "\u001b[?25hRequirement already satisfied: charset-normalizer>=2.0.0 in /home/lzy/.local/lib/python3.10/site-packages (from pdfminer.six==20231228->pdfplumber) (3.3.2)\n",
      "Collecting cryptography>=36.0.0 (from pdfminer.six==20231228->pdfplumber)\n",
      "  Downloading cryptography-42.0.7-cp39-abi3-manylinux_2_28_x86_64.whl.metadata (5.3 kB)\n",
      "Requirement already satisfied: cffi>=1.12 in /home/lzy/.local/lib/python3.10/site-packages (from cryptography>=36.0.0->pdfminer.six==20231228->pdfplumber) (1.16.0)\n",
      "Requirement already satisfied: pycparser in /home/lzy/.local/lib/python3.10/site-packages (from cffi>=1.12->cryptography>=36.0.0->pdfminer.six==20231228->pdfplumber) (2.21)\n",
      "Downloading pdfplumber-0.11.0-py3-none-any.whl (56 kB)\n",
      "\u001b[2K   \u001b[90m━━━━━━━━━━━━━━━━━━━━━━━━━━━━━━━━━━━━━━━━\u001b[0m \u001b[32m56.4/56.4 kB\u001b[0m \u001b[31m3.7 MB/s\u001b[0m eta \u001b[36m0:00:00\u001b[0m\n",
      "\u001b[?25hDownloading pdfminer.six-20231228-py3-none-any.whl (5.6 MB)\n",
      "\u001b[2K   \u001b[90m━━━━━━━━━━━━━━━━━━━━━━━━━━━━━━━━━━━━━━━━\u001b[0m \u001b[32m5.6/5.6 MB\u001b[0m \u001b[31m10.8 MB/s\u001b[0m eta \u001b[36m0:00:00\u001b[0m00:01\u001b[0m00:01\u001b[0m\n",
      "\u001b[?25hDownloading pypdfium2-4.30.0-py3-none-manylinux_2_17_x86_64.manylinux2014_x86_64.whl (2.8 MB)\n",
      "\u001b[2K   \u001b[90m━━━━━━━━━━━━━━━━━━━━━━━━━━━━━━━━━━━━━━━━\u001b[0m \u001b[32m2.8/2.8 MB\u001b[0m \u001b[31m13.7 MB/s\u001b[0m eta \u001b[36m0:00:00\u001b[0ma \u001b[36m0:00:01\u001b[0m\n",
      "\u001b[?25hDownloading cryptography-42.0.7-cp39-abi3-manylinux_2_28_x86_64.whl (3.8 MB)\n",
      "\u001b[2K   \u001b[90m━━━━━━━━━━━━━━━━━━━━━━━━━━━━━━━━━━━━━━━━\u001b[0m \u001b[32m3.8/3.8 MB\u001b[0m \u001b[31m13.7 MB/s\u001b[0m eta \u001b[36m0:00:00\u001b[0m00:01\u001b[0m00:01\u001b[0m\n",
      "\u001b[?25hInstalling collected packages: pypdfium2, cryptography, pdfminer.six, pdfplumber\n",
      "Successfully installed cryptography-42.0.7 pdfminer.six-20231228 pdfplumber-0.11.0 pypdfium2-4.30.0\n",
      "Note: you may need to restart the kernel to use updated packages.\n"
     ]
    }
   ],
   "source": [
    "%pip install pdfplumber\n"
   ]
  },
  {
   "cell_type": "code",
   "execution_count": 4,
   "metadata": {},
   "outputs": [],
   "source": [
    "from langchain.document_loaders import PDFPlumberLoader\n",
    "\n",
    "DocPath = r\"../../../Robotics/Paper/Exploring_the_performance_of_ROS2.pdf\"\n",
    "\n",
    "loader = PDFPlumberLoader(DocPath)\n",
    "dataPlumber = loader.load()\n"
   ]
  },
  {
   "cell_type": "code",
   "execution_count": 5,
   "metadata": {},
   "outputs": [
    {
     "name": "stdout",
     "output_type": "stream",
     "text": [
      "页码=10\n"
     ]
    }
   ],
   "source": [
    "print(f\"页码={len(dataPlumber)}\")\n"
   ]
  },
  {
   "cell_type": "code",
   "execution_count": 6,
   "metadata": {},
   "outputs": [
    {
     "name": "stdout",
     "output_type": "stream",
     "text": [
      "Table 2: Evaluation Environment (cid:11)(cid:20)(cid:16)(cid:68)(cid:12)(cid:29)(cid:3)(cid:53)(cid:50)(cid:54)(cid:20)(cid:85)(cid:72)(cid:80)(cid:82)(cid:87)(cid:72) (cid:11)(cid:20)(cid:16)(cid:69)(cid:12)(cid:29)(cid:3)(cid:53)(cid:50)(cid:54)(cid:20)(cid:3)(cid:79)(cid:82)(cid:70)(cid:68)(cid:79) (cid:11)(cid:20)(cid:16)(cid:70)(cid:12)(cid:29)(cid:3)(cid:53)(cid:50)(cid:54)(cid:20)(cid:3)(cid:81)(cid:82)(cid:71)(cid:72)(cid:79)(cid:72)(cid:87)\n",
      "Machine1 Machine2\n",
      "Modelnumber IntelCorei53470 IntelCorei52320\n",
      "Frequency 3.2GHz 3.00GHz (cid:53)(cid:50)(cid:54)(cid:20) (cid:53)(cid:50)(cid:54)(cid:20) (cid:53)(cid:50)(cid:54)(cid:20) (cid:53)(cid:50)(cid:54)(cid:20) (cid:53)(cid:50)(cid:54)(cid:20) (cid:53)(cid:50)(cid:54)(cid:20)\n",
      "CPU\n",
      "Cores 4 4 (cid:79)(cid:82)(cid:82)(cid:83)(cid:3)(cid:69)(cid:68)(cid:70)(cid:78) (cid:83)(cid:68)(cid:86)(cid:86)(cid:3)(cid:83)(cid:82)(cid:76)(cid:81)(cid:87)(cid:72)(cid:85)\n",
      "Threads 4 4\n",
      "Memory 16GB 8GB (cid:11)(cid:21)(cid:16)(cid:68)(cid:12)(cid:29)(cid:3)(cid:53)(cid:50)(cid:54)(cid:21)(cid:3)(cid:85)(cid:72)(cid:80)(cid:82)(cid:87)(cid:72) (cid:11)(cid:21)(cid:16)(cid:69)(cid:12)(cid:29)(cid:3)(cid:53)(cid:50)(cid:54)(cid:21)(cid:3)(cid:79)(cid:82)(cid:70)(cid:68)(cid:79) (cid:11)(cid:21)(cid:16)(cid:70)(cid:12)(cid:29)(cid:3)(cid:53)(cid:50)(cid:54)(cid:21)(cid:3)(cid:76)(cid:81)(cid:87)(cid:85)(cid:68)(cid:16)(cid:83)(cid:85)(cid:82)(cid:70)(cid:72)(cid:86)(cid:86)\n",
      "Network 100MbpsEthernet/Full-Duplex (cid:90)(cid:76)(cid:87)(cid:75)(cid:82)(cid:88)(cid:87)(cid:3)(cid:39)(cid:39)(cid:54)\n",
      "ROS1 Indigo\n",
      "ROS2 Cement(alpha3)\n",
      "DDSimplementations Connext1/OpenSplice2/FastRTPS (cid:53)(cid:50)(cid:54)(cid:21) (cid:53)(cid:50)(cid:54)(cid:21) (cid:53)(cid:50)(cid:54)(cid:21) (cid:53)(cid:50)(cid:54)(cid:21) (cid:53)(cid:50)(cid:54)(cid:21) (cid:53)(cid:50)(cid:54)(cid:21)\n",
      "OS Dis Ktr ei rb nu et lion U Lb inu un xtu 3.1 14 3. .0 04 (cid:86)(cid:75)(cid:68)(cid:79) (cid:85)(cid:82) (cid:72)(cid:82) (cid:71)(cid:83) (cid:3)(cid:3) (cid:80)(cid:69)(cid:68) (cid:72)(cid:70) (cid:80)(cid:78) (cid:82)(cid:85)(cid:92) (cid:83)(cid:68)(cid:86)(cid:86)(cid:3)(cid:83)(cid:82)(cid:76)(cid:81)(cid:87)(cid:72)(cid:85)\n",
      "1RTIConnextDDSProfessional[29] (cid:11)(cid:22)(cid:16)(cid:68)(cid:12)(cid:29)(cid:3)(cid:53)(cid:50)(cid:54)(cid:69)(cid:85)(cid:76)(cid:71)(cid:74)(cid:72)(cid:3)(cid:85)(cid:72)(cid:80)(cid:82)(cid:87)(cid:72) (cid:11)(cid:22)(cid:16)(cid:69)(cid:12)(cid:29)(cid:3)(cid:53)(cid:50)(cid:54)(cid:3)(cid:69)(cid:85)(cid:76)(cid:71)(cid:74)(cid:72)(cid:3)(cid:79)(cid:82)(cid:70)(cid:68)(cid:79)\n",
      "2OpenSpliceDDSCommunityEdition[25]\n",
      "Table 3: QoS Policies for Evaluations\n",
      "(cid:53)(cid:50)(cid:54)(cid:20) (cid:53)(cid:50)(cid:54)(cid:21) (cid:53)(cid:50)(cid:54)(cid:20) (cid:53)(cid:50)(cid:54)(cid:21)\n",
      "reliable policy best-effort policy\n",
      "DEADLINE 100 ms 100 ms\n",
      "HISTORY ALL LAST Figure 5: Experimental situations.\n",
      "depth - 1\n",
      "RELIABILITY RELIABLE BEST_EFFORT (cid:49)(cid:82)(cid:71)(cid:72) (cid:55)(cid:82)(cid:83)(cid:76)(cid:70) (cid:51)(cid:88)(cid:69)(cid:79)(cid:76)(cid:86)(cid:75)(cid:18)(cid:54)(cid:88)(cid:69)(cid:86)(cid:70)(cid:85)(cid:76)(cid:69)(cid:72)\n",
      "DURABILITY TRANSIENT_LOCAL VOLATILE\n",
      "(cid:53)(cid:50)(cid:54)(cid:20) (cid:53)(cid:50)(cid:54)(cid:21)\n",
      "range of the transferred data size is 256 B to 4 MB be-\n",
      "cause large image data (e.g., 2 MB) and point cloud data\n",
      "(cid:87)(cid:68)(cid:79)(cid:78)(cid:72)(cid:85) (cid:70)(cid:75)(cid:68)(cid:87)(cid:87)(cid:72)(cid:85) (cid:85)(cid:82)(cid:86)(cid:66)(cid:69)(cid:85)(cid:76)(cid:71)(cid:74)(cid:72) (cid:70)(cid:75)(cid:68)(cid:87)(cid:87)(cid:72)(cid:85) (cid:79)(cid:76)(cid:86)(cid:87)(cid:72)(cid:81)(cid:72)(cid:85)\n",
      "(.pcd) are frequently used in ROS applications, such as an\n",
      "autonomous driving system [18]. A string type message\n",
      "is used for this evaluation. In the following experiments,\n",
      "Figure 6: ros_bridge evaluation in (3-a) and (3-b).\n",
      "we use two QoS settings, i.e., reliable policy and best-\n",
      "a)and(3-b),ROS1andROS2nodes coexist. Notethatthe\n",
      "effort policy,asshowninTable3. Inthereliable pol-\n",
      "caseof(2-c)doesnotrequireDDSduetointra-processcom-\n",
      "icy,TRANSIENT_LOCALallowsanodetokeepallmessagesfor\n",
      "munication,i.e.,sharedmemorytransport. Sharedmemory\n",
      "late-joining subscriber-nodes, and RELIABLE facilitates reli-\n",
      "transportisusedinthe(1-c)nodelet and(2-c)intra-process\n",
      "ablecommunication. Inthebest-effort policy,nodes do\n",
      "cases. In the experiments, Machine1 is only used in (1-b),\n",
      "notkeepmessages andcommunicateunreliably. Whileeach\n",
      "(1-c), (2-b), (2-c), and (3-b). End-to-end latencies are mea-\n",
      "node is executed at 10 Hz, the experiments are repeated\n",
      "sured on the same machine by sending messages between\n",
      "up to 4 MB. Boxplots and the medians obtained from 100\n",
      "nodes. Messages pass over a local loopback in local cases,\n",
      "measurements for each data size are presented. For precise\n",
      "i.e., (1-b), (2-b), and (3-b). Otherwise, for communication\n",
      "evaluation methods, we make the source code open in [5]\n",
      "acrossthenetwork,Machine1andMachine2areusedinre-\n",
      "and[6]. WecomparethreeDDSimplementations,i.e.,Con-\n",
      "mote cases, i.e., (1-a), (2-a), and (3-a). They are connected\n",
      "next[29],OpenSplice[25],andFastRTPS[14]. Connextand\n",
      "by a local IP network without any other network.\n",
      "OpenSplice are well-known commercial license DDS imple-\n",
      "CommunicationbetweenROS1andROS2nodes requires\n",
      "mentations. Note that Connext also has a research license.\n",
      "a ros_bridge [33], a bridge-node that converts topics for\n",
      "SeveralimplementationsofOpenSpliceandFastRTPShave\n",
      "DDS. The ros_bridge program has been released by the\n",
      "been released under the LGPL license. By default, Con-\n",
      "OpenSourceRoboticsFoundation(OSRF)[2]. Aros_bridge\n",
      "next uses UDPv4 and shared memory to exchange data.\n",
      "NotethatOpenSplice3andFastRTPSdonotsupportshared dynamicallymarshalsseveraltopicsfornodesinROS2. Thus,\n",
      "in(3-a)and(3-b),aros_bridgeislaunchedonwhichROS2\n",
      "memory data transport. For precise evaluations and real-\n",
      "nodes run. Figure 6 shows the node-graph for evaluation\n",
      "timerequirements,nodes followSCHED FIFO [15]andthe\n",
      "of communication from ROS1 to ROS2. Note that a best-\n",
      "mlockall systemcall. ASCHED FIFOprocesspreemptsany\n",
      "effort policyistheonlyoneusedwhenusingaros_bridge\n",
      "non-SCHED FIFO processes,i.e.,processesthatusethede-\n",
      "becausearos_bridgedoesnotsupporttheRELIABLEpolicy\n",
      "fault Linux scheduling. Using mlockall, a process’s virtual\n",
      "in the QoS Policy.\n",
      "address space is fixed in physical RAM, thereby preventing\n",
      "that memory from being paged to the swap area. 3.2 CapabilitiesofROS1andROS2\n",
      "3.1 ExperimentalSituationsandMethods Table 4 shows whether end-to-end latencies can be mea-\n",
      "sured for each data size with a comment about the causal\n",
      "As shown in Figure 5, various communication situations\n",
      "factors of the experimental results. Table 4 summarizes\n",
      "between nodes in ROS1 and/or ROS2 are evaluated in the\n",
      "ROS2’scapabilities,andseveralinterestingobservationscan\n",
      "following experiments. Whereas ROS1 is used in (1-a), (1-\n",
      "be made. In the “Initial loss” column, ROS1 fails to ob-\n",
      "b),and(1-c),ROS2isusedin(2-a),(2-b),and(2-c). In(3-\n",
      "tain initial messages when a node sends messages for the\n",
      "3Vortex OpenSplice [26], i.e., OpenSplice commercial edi- firsttimeeventhoughROS1usesTCPROSwithsmalldata\n",
      "tion, supports shared memory transport, but ROS2 does such as 256 B and a subscriber-node is launched before a\n",
      "not support Vortex OpenSplice. In this paper, OpenSplice\n",
      "publisher-nodebeginstosendmessages. AlthoughTCPROS\n",
      "DDS Community Edition is used because it is open-source.\n",
      "is reliable for delivering intermediate messages, it does not\n",
      "\n"
     ]
    }
   ],
   "source": [
    "print(dataPlumber[3].page_content)  # 无法处理双栏的文档，混淆了\n"
   ]
  },
  {
   "cell_type": "markdown",
   "metadata": {},
   "source": [
    "# PDFMiner"
   ]
  },
  {
   "cell_type": "code",
   "execution_count": 7,
   "metadata": {},
   "outputs": [],
   "source": [
    "from langchain.document_loaders import PDFMinerLoader\n",
    "\n",
    "DocPath = r\"../../../Robotics/Paper/Exploring_the_performance_of_ROS2.pdf\"\n",
    "\n",
    "loader = PDFMinerLoader(DocPath)\n",
    "\n",
    "dataMiner = loader.load()\n"
   ]
  },
  {
   "cell_type": "code",
   "execution_count": 9,
   "metadata": {},
   "outputs": [
    {
     "name": "stdout",
     "output_type": "stream",
     "text": [
      "页码=1\n"
     ]
    }
   ],
   "source": [
    "print(f\"页码={len(dataMiner)}\")  # 不分页，作为完整的文档\n"
   ]
  },
  {
   "cell_type": "code",
   "execution_count": 16,
   "metadata": {},
   "outputs": [
    {
     "name": "stdout",
     "output_type": "stream",
     "text": [
      "ROS2 adopts DDS as its communication system. How-\n",
      "ever, as an exception, intra-process communication is exe-\n",
      "cuted without DDS. DDS is provided by many vendors and\n",
      "has several implementation types. Developers can select an\n",
      "appropriate DDS implementation from a variety of DDS ven-\n",
      "dors.\n",
      "2.2 Data Distribution Service (DDS)\n",
      "\n",
      "The DDS speciﬁcation [21] is deﬁned for a publish/subscribe\n",
      "\n",
      "data-distribution system by the Object Management Group\n",
      "(OMG) [1]. The OMG manages the deﬁnitions and stan-\n",
      "dardized APIs; however the OMG hides the details of im-\n",
      "plementation. Several implementations have been developed\n",
      "by diﬀerent vendors (e.g., RTI [29] and PRISMTECH [25]).\n",
      "DDS supports a wide range of applications, from small em-\n",
      "bedded systems to large scale systems, such as infrastruc-\n",
      "tures. Note that distributed real-time embedded systems\n",
      "are also supported.\n",
      "\n",
      "The core of DDS is a Data-Centric Publish-Subscribe (DCPS)\n",
      "\n",
      "model designed to provide eﬃcient data transport between\n",
      "processes even in distribut\n"
     ]
    }
   ],
   "source": [
    "print(dataMiner[0].page_content[11998 : 13000])\n"
   ]
  },
  {
   "cell_type": "code",
   "execution_count": 17,
   "metadata": {},
   "outputs": [
    {
     "data": {
      "text/plain": [
       "'ROS2 adopts DDS as its communication system. How-\\never, as an exception, intra-process communication is exe-\\ncuted without DDS. DDS is provided by many vendors and\\nhas several implementation types. Developers can select an\\nappropriate DDS implementation from a variety of DDS ven-\\ndors.\\n2.2 Data Distribution Service (DDS)\\n\\nThe DDS speciﬁcation [21] is deﬁned for a publish/subscribe\\n\\ndata-distribution system by the Object Management Group\\n(OMG) [1]. The OMG manages the deﬁnitions and stan-\\ndardized APIs; however the OMG hides the details of im-\\nplementation. Several implementations have been developed\\nby diﬀerent vendors (e.g., RTI [29] and PRISMTECH [25]).\\nDDS supports a wide range of applications, from small em-\\nbedded systems to large scale systems, such as infrastruc-\\ntures. Note that distributed real-time embedded systems\\nare also supported.\\n\\nThe core of DDS is a Data-Centric Publish-Subscribe (DCPS)\\n\\nmodel designed to provide eﬃcient data transport between\\nprocesses even in distribut'"
      ]
     },
     "execution_count": 17,
     "metadata": {},
     "output_type": "execute_result"
    }
   ],
   "source": [
    "dataMiner[0].page_content[11998 : 13000]  # 区分主动换行和自动换行\n"
   ]
  },
  {
   "cell_type": "markdown",
   "metadata": {},
   "source": [
    "# Unstructed"
   ]
  },
  {
   "cell_type": "code",
   "execution_count": 20,
   "metadata": {},
   "outputs": [
    {
     "name": "stdout",
     "output_type": "stream",
     "text": [
      "Defaulting to user installation because normal site-packages is not writeable\n",
      "Collecting pdf2image\n",
      "  Downloading pdf2image-1.17.0-py3-none-any.whl.metadata (6.2 kB)\n",
      "Requirement already satisfied: pillow in /home/lzy/.local/lib/python3.10/site-packages (from pdf2image) (10.3.0)\n",
      "Downloading pdf2image-1.17.0-py3-none-any.whl (11 kB)\n",
      "Installing collected packages: pdf2image\n",
      "Successfully installed pdf2image-1.17.0\n",
      "Note: you may need to restart the kernel to use updated packages.\n"
     ]
    }
   ],
   "source": [
    "%pip install pdf2image\n"
   ]
  },
  {
   "cell_type": "code",
   "execution_count": 23,
   "metadata": {},
   "outputs": [],
   "source": [
    "from langchain.document_loaders import UnstructuredPDFLoader\n",
    "\n",
    "DocPath = r\"../../../Robotics/Paper/Exploring_the_performance_of_ROS2.pdf\"\n",
    "\n",
    "loader = UnstructuredPDFLoader(DocPath)\n",
    "\n",
    "dataUnstruct = loader.load()\n"
   ]
  },
  {
   "cell_type": "code",
   "execution_count": 24,
   "metadata": {},
   "outputs": [
    {
     "name": "stdout",
     "output_type": "stream",
     "text": [
      "页码=1\n"
     ]
    }
   ],
   "source": [
    "print(f\"页码={len(dataUnstruct)}\")  # 不区分页码\n"
   ]
  },
  {
   "cell_type": "code",
   "execution_count": 29,
   "metadata": {},
   "outputs": [
    {
     "name": "stdout",
     "output_type": "stream",
     "text": [
      "as a simple data structure (much like C structs) deﬁned by .msg ﬁles. Nodes identify the content of the message by the topic name. As a node publishes a message to a topic, another node subscribes to the topic and utilizes the message. For example, as shown in Fig- ure 2, the “Camera” node sends messages to the “Images”\n",
      "\n",
      "The DDS speciﬁcation [21] is deﬁned for a publish/subscribe\n",
      "\n",
      "data-distribution system by the Object Management Group (OMG) [1]. The OMG manages the deﬁnitions and stan- dardized APIs; however the OMG hides the details of im- plementation. Several implementations have been developed by diﬀerent vendors (e.g., RTI [29] and PRISMTECH [25]). DDS supports a wide range of applications, from small em- bedded systems to large scale systems, such as infrastruc- tures. Note that distributed real-time embedded systems are also supported.\n",
      "\n",
      "The core of DDS is a Data-Centric Publish-Subscribe (DCPS)\n",
      "\n",
      "model designed to provide eﬃcient data transport between processes even in distribute\n"
     ]
    }
   ],
   "source": [
    "print(dataUnstruct[0].page_content[11998 : 13000] ) # 区分主动换行(换行) 和 自动换行(不换行)\n"
   ]
  },
  {
   "cell_type": "code",
   "execution_count": 28,
   "metadata": {},
   "outputs": [
    {
     "data": {
      "text/plain": [
       "'as a simple data structure (much like C structs) deﬁned by .msg ﬁles. Nodes identify the content of the message by the topic name. As a node publishes a message to a topic, another node subscribes to the topic and utilizes the message. For example, as shown in Fig- ure 2, the “Camera” node sends messages to the “Images”\\n\\nThe DDS speciﬁcation [21] is deﬁned for a publish/subscribe\\n\\ndata-distribution system by the Object Management Group (OMG) [1]. The OMG manages the deﬁnitions and stan- dardized APIs; however the OMG hides the details of im- plementation. Several implementations have been developed by diﬀerent vendors (e.g., RTI [29] and PRISMTECH [25]). DDS supports a wide range of applications, from small em- bedded systems to large scale systems, such as infrastruc- tures. Note that distributed real-time embedded systems are also supported.\\n\\nThe core of DDS is a Data-Centric Publish-Subscribe (DCPS)\\n\\nmodel designed to provide eﬃcient data transport between processes even in distribute'"
      ]
     },
     "execution_count": 28,
     "metadata": {},
     "output_type": "execute_result"
    }
   ],
   "source": [
    "dataUnstruct[0].page_content[11998 : 13000]\n"
   ]
  },
  {
   "cell_type": "code",
   "execution_count": 31,
   "metadata": {},
   "outputs": [],
   "source": [
    "loader = UnstructuredPDFLoader(DocPath, mode=\"elements\")\n",
    "\n",
    "dataElement = loader.load()\n"
   ]
  },
  {
   "cell_type": "code",
   "execution_count": 36,
   "metadata": {},
   "outputs": [
    {
     "data": {
      "text/plain": [
       "Document(page_content='In this section, we provide background knowledge. First, we describe the ROS2 system model compared to ROS1, focusing on its communication system. We then review as- pects of the ROS, such as the publish/subscribe model. Fi- nally, we describe DDS, which is used as the communication system for real-time systems in ROS2. 2.1 Robot Operating System (ROS)', metadata={'source': '../../../Robotics/Paper/Exploring_the_performance_of_ROS2.pdf', 'coordinates': {'points': ((53.7766, 396.2514643), (53.7766, 474.2637528), (292.78622216, 474.2637528), (292.78622216, 396.2514643)), 'system': 'PixelSpace', 'layout_width': 595.22, 'layout_height': 842.0}, 'filename': 'Exploring_the_performance_of_ROS2.pdf', 'file_directory': '../../../Robotics/Paper', 'last_modified': '2024-06-04T09:59:38', 'filetype': 'application/pdf', 'page_number': 2, 'category': 'NarrativeText'})"
      ]
     },
     "execution_count": 36,
     "metadata": {},
     "output_type": "execute_result"
    }
   ],
   "source": [
    "dataElement[50]\n"
   ]
  },
  {
   "cell_type": "code",
   "execution_count": null,
   "metadata": {},
   "outputs": [],
   "source": []
  }
 ],
 "metadata": {
  "kernelspec": {
   "display_name": "Python 3",
   "language": "python",
   "name": "python3"
  },
  "language_info": {
   "codemirror_mode": {
    "name": "ipython",
    "version": 3
   },
   "file_extension": ".py",
   "mimetype": "text/x-python",
   "name": "python",
   "nbconvert_exporter": "python",
   "pygments_lexer": "ipython3",
   "version": "3.10.12"
  }
 },
 "nbformat": 4,
 "nbformat_minor": 2
}
