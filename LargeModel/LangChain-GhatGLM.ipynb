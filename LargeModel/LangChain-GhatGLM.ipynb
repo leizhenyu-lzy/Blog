{
 "cells": [
  {
   "cell_type": "code",
   "execution_count": null,
   "metadata": {},
   "outputs": [],
   "source": []
  },
  {
   "cell_type": "code",
   "execution_count": null,
   "metadata": {},
   "outputs": [],
   "source": []
  },
  {
   "cell_type": "code",
   "execution_count": null,
   "metadata": {},
   "outputs": [],
   "source": []
  },
  {
   "cell_type": "code",
   "execution_count": null,
   "metadata": {},
   "outputs": [],
   "source": []
  },
  {
   "cell_type": "code",
   "execution_count": null,
   "metadata": {},
   "outputs": [],
   "source": []
  },
  {
   "cell_type": "code",
   "execution_count": 4,
   "metadata": {},
   "outputs": [],
   "source": [
    "import os\n",
    "from dotenv import load_dotenv\n",
    "from langchain_community.chat_models import ChatZhipuAI\n",
    "from langchain_core.messages import AIMessage, HumanMessage, SystemMessage\n",
    "\n",
    "# .env文件中保存\n",
    "load_dotenv()\n",
    "ZHIPUAI_API_KEY=os.environ[\"ZHIPUAI_API_KEY\"]\n",
    "# print(ZHIPUAI_API_KEY)\n"
   ]
  },
  {
   "cell_type": "code",
   "execution_count": 5,
   "metadata": {},
   "outputs": [
    {
     "name": "stdout",
     "output_type": "stream",
     "text": [
      "智慧如海，深度学習，\n",
      "機器之心，詩意綻放。\n",
      "線索千千，情懷萬萬，\n",
      "與時並進，藝術新章。\n"
     ]
    }
   ],
   "source": [
    "chat = ChatZhipuAI(\n",
    "    api_key=ZHIPUAI_API_KEY,\n",
    "    model=\"glm-4\",\n",
    "    temperature=0.5,\n",
    ")\n",
    "\n",
    "messages = [\n",
    "    AIMessage(content=\"Hi.\"),\n",
    "    SystemMessage(content=\"Your role is a poet.\"),\n",
    "    HumanMessage(content=\"Write a short poem about AI in four lines in Chinese.\"),\n",
    "]\n",
    "\n",
    "response = chat(messages)\n",
    "print(response.content)  # Displays the AI-generated poem\n"
   ]
  },
  {
   "cell_type": "code",
   "execution_count": 8,
   "metadata": {},
   "outputs": [
    {
     "data": {
      "text/plain": [
       "'您好！作为人工智能助手，我无法直接知道您的身份信息。但您可以告诉我您的名字或者提出您需要帮助的问题，我会尽力为您提供帮助。如果您是在进行哲学思考，关于“我是谁”的问题，这是一个深奥且个人化的问题，通常涉及自我认知和存在意义的探索。如果您愿意，可以分享更多，我会尽力参与到您的思考中。'"
      ]
     },
     "execution_count": 8,
     "metadata": {},
     "output_type": "execute_result"
    }
   ],
   "source": [
    "chat.predict(\"我是谁？\")\n"
   ]
  },
  {
   "cell_type": "code",
   "execution_count": 15,
   "metadata": {},
   "outputs": [
    {
     "data": {
      "text/plain": [
       "'当然可以，如果您有英文论文需要翻译，请提供具体的内容或者段落，我会尽力帮您进行翻译。需要注意的是，由于篇幅和复杂性的原因，对于长篇论文的全文翻译可能需要您自行进行，但我可以协助解答具体的问题或翻译关键的段落。请提供您需要翻译的文本内容。'"
      ]
     },
     "execution_count": 15,
     "metadata": {},
     "output_type": "execute_result"
    }
   ],
   "source": [
    "chat.predict(\"你可以帮忙翻译英文论文吗？\")\n"
   ]
  },
  {
   "cell_type": "code",
   "execution_count": 17,
   "metadata": {},
   "outputs": [
    {
     "data": {
      "text/plain": [
       "'很抱歉，作为一个人工智能助手，我无法直接接收文件或通过 langchain（假设您指的是某种特定的文件传输或区块链技术）接收论文。但是，您可以将论文的主要内容或摘要粘贴到对话框中，我会尽我所能为您提供相关的帮助或信息。如果需要讨论论文的具体内容或提供反馈，这种方式通常是有效的。'"
      ]
     },
     "execution_count": 17,
     "metadata": {},
     "output_type": "execute_result"
    }
   ],
   "source": [
    "chat.predict(\"用langchain把论文上传给你？\")\n"
   ]
  }
 ],
 "metadata": {
  "kernelspec": {
   "display_name": "Python 3",
   "language": "python",
   "name": "python3"
  },
  "language_info": {
   "codemirror_mode": {
    "name": "ipython",
    "version": 3
   },
   "file_extension": ".py",
   "mimetype": "text/x-python",
   "name": "python",
   "nbconvert_exporter": "python",
   "pygments_lexer": "ipython3",
   "version": "3.10.12"
  }
 },
 "nbformat": 4,
 "nbformat_minor": 2
}
