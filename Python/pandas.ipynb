{
 "cells": [
  {
   "cell_type": "markdown",
   "metadata": {},
   "source": [
    "![](Pics/pandas001.svg)\n",
    "\n",
    "# Pandas\n",
    "\n",
    "[Pandas 官网](https://pandas.pydata.org/)\n",
    "\n",
    "[Pandas Docs](https://pandas.pydata.org/docs/)\n"
   ]
  },
  {
   "cell_type": "code",
   "execution_count": 1,
   "metadata": {},
   "outputs": [
    {
     "name": "stdout",
     "output_type": "stream",
     "text": [
      "Defaulting to user installation because normal site-packages is not writeable\n",
      "Requirement already satisfied: pandas in /home/lzy/.local/lib/python3.10/site-packages (2.0.3)\n",
      "Requirement already satisfied: python-dateutil>=2.8.2 in /home/lzy/.local/lib/python3.10/site-packages (from pandas) (2.8.2)\n",
      "Requirement already satisfied: pytz>=2020.1 in /home/lzy/.local/lib/python3.10/site-packages (from pandas) (2023.3.post1)\n",
      "Requirement already satisfied: tzdata>=2022.1 in /home/lzy/.local/lib/python3.10/site-packages (from pandas) (2023.3)\n",
      "Requirement already satisfied: numpy>=1.21.0 in /home/lzy/.local/lib/python3.10/site-packages (from pandas) (1.23.5)\n",
      "Requirement already satisfied: six>=1.5 in /usr/lib/python3/dist-packages (from python-dateutil>=2.8.2->pandas) (1.16.0)\n",
      "Note: you may need to restart the kernel to use updated packages.\n"
     ]
    }
   ],
   "source": [
    "%pip install pandas\n"
   ]
  },
  {
   "cell_type": "markdown",
   "metadata": {},
   "source": [
    "# 10 minutes to pandas\n",
    "\n",
    "[10 minutes to pandas](https://pandas.pydata.org/docs/user_guide/10min.html#minutes-to-pandas)\n",
    "\n",
    "basic data structures\n",
    "1. **Series** - a **one-dimensional** labeled array holding data of any type\n",
    "2. **DataFrame** - a **two-dimensional** data structure that holds data like a two-dimension array or a table with rows and columns\n"
   ]
  },
  {
   "cell_type": "code",
   "execution_count": 2,
   "metadata": {},
   "outputs": [
    {
     "name": "stdout",
     "output_type": "stream",
     "text": [
      "np.__version__ = 1.23.5\n",
      "pd.__version__ = 2.0.3\n"
     ]
    }
   ],
   "source": [
    "import numpy as np\n",
    "import pandas as pd\n",
    "\n",
    "print(\"np.__version__ =\", np.__version__)\n",
    "print(\"pd.__version__ =\", pd.__version__)\n"
   ]
  },
  {
   "cell_type": "code",
   "execution_count": 3,
   "metadata": {},
   "outputs": [
    {
     "name": "stdout",
     "output_type": "stream",
     "text": [
      "0    1.0\n",
      "1    3.0\n",
      "2    5.0\n",
      "3    NaN\n",
      "dtype: float32\n"
     ]
    }
   ],
   "source": [
    "s = pd.Series([1,3,5, np.nan], dtype=np.float32)\n",
    "print(s)\n"
   ]
  },
  {
   "cell_type": "code",
   "execution_count": 4,
   "metadata": {},
   "outputs": [
    {
     "name": "stdout",
     "output_type": "stream",
     "text": [
      "DatetimeIndex(['2013-01-01', '2013-01-02', '2013-01-03', '2013-01-04',\n",
      "               '2013-01-05', '2013-01-06'],\n",
      "              dtype='datetime64[ns]', freq='D')\n",
      "2014-01-01 00:00:00 <class 'pandas._libs.tslibs.timestamps.Timestamp'> 2014-01-01 00:00:00\n"
     ]
    }
   ],
   "source": [
    "dates = pd.date_range(\"20130101\", periods=6)\n",
    "day = pd.date_range(\"20140101\", periods=1)\n",
    "print(dates)\n",
    "print(day[0], type(day[0]), day[0].__str__())\n"
   ]
  },
  {
   "cell_type": "code",
   "execution_count": 5,
   "metadata": {},
   "outputs": [
    {
     "name": "stdout",
     "output_type": "stream",
     "text": [
      "                   A         B         C         D\n",
      "2013-01-01 -1.804267  0.512541  1.478742 -0.008781\n",
      "2013-01-02  0.752652  0.553812 -1.124539  2.118587\n",
      "2013-01-03 -1.394315 -0.860397 -0.617271 -0.419300\n",
      "2013-01-04 -0.991398 -1.001155  0.372627  1.084731\n",
      "2013-01-05  1.958556  0.921617 -1.278416  1.062926\n",
      "2013-01-06  0.866593  2.126282 -0.630127 -0.271167\n",
      "A    float64\n",
      "B    float64\n",
      "C    float64\n",
      "D    float64\n",
      "dtype: object\n"
     ]
    }
   ],
   "source": [
    "df = pd.DataFrame(np.random.randn(6, 4), index=dates, columns=list(\"ABCD\"))\n",
    "print(df)\n",
    "print(df.dtypes)\n"
   ]
  },
  {
   "cell_type": "code",
   "execution_count": 6,
   "metadata": {},
   "outputs": [
    {
     "name": "stdout",
     "output_type": "stream",
     "text": [
      "     A          B    C  D      E    F\n",
      "0  1.0 2013-01-01  1.0  3   test  foo\n",
      "1  2.0 2013-01-02  2.0  3  train  foo\n",
      "2  3.0 2013-01-03  3.0  3   test  foo\n",
      "3  4.0 2013-01-04  4.0  3  train  foo\n",
      "A           float64\n",
      "B    datetime64[ns]\n",
      "C           float32\n",
      "D             int32\n",
      "E          category\n",
      "F            object\n",
      "dtype: object\n",
      "<class 'pandas._libs.tslibs.timestamps.Timestamp'>\n",
      "True\n"
     ]
    }
   ],
   "source": [
    "df = pd.DataFrame(\n",
    "    {\n",
    "        \"A\": [1.0, 2.0, 3.0, 4.0],\n",
    "        \"B\": [pd.Timestamp(i) for i in[\"20130101\", \"20130102\",\"20130103\",\"20130104\"]],\n",
    "        \"C\": pd.Series([1,2,3,4], index=list(range(4)), dtype=\"float32\"),\n",
    "        \"D\": np.array([3] * 4, dtype=\"int32\"),\n",
    "        \"E\": pd.Categorical([\"test\", \"train\", \"test\", \"train\"]),\n",
    "        \"F\": \"foo\",\n",
    "    }\n",
    ")\n",
    "\n",
    "print(df)\n",
    "print(df.dtypes)\n",
    "print(type(df.loc[0][\"B\"]))\n",
    "print(type(df.loc[0][\"B\"]) == type(day[0]))  # True\n"
   ]
  },
  {
   "cell_type": "markdown",
   "metadata": {},
   "source": [
    "## Viewing"
   ]
  },
  {
   "cell_type": "code",
   "execution_count": 7,
   "metadata": {},
   "outputs": [
    {
     "name": "stdout",
     "output_type": "stream",
     "text": [
      "----df.head(2)----\n",
      "     A          B    C  D      E    F\n",
      "0  1.0 2013-01-01  1.0  3   test  foo\n",
      "1  2.0 2013-01-02  2.0  3  train  foo\n",
      "----df.tail(2)----\n",
      "     A          B    C  D      E    F\n",
      "2  3.0 2013-01-03  3.0  3   test  foo\n",
      "3  4.0 2013-01-04  4.0  3  train  foo\n",
      "----df.index----\n",
      "Index([0, 1, 2, 3], dtype='int64')\n",
      "----df.columns----\n",
      "Index(['A', 'B', 'C', 'D', 'E', 'F'], dtype='object')\n",
      "----df.to_numpy()----\n",
      "[[1.0 Timestamp('2013-01-01 00:00:00') 1.0 3 'test' 'foo']\n",
      " [2.0 Timestamp('2013-01-02 00:00:00') 2.0 3 'train' 'foo']\n",
      " [3.0 Timestamp('2013-01-03 00:00:00') 3.0 3 'test' 'foo']\n",
      " [4.0 Timestamp('2013-01-04 00:00:00') 4.0 3 'train' 'foo']]\n",
      "----df.describe()----\n",
      "              A                    B         C    D\n",
      "count  4.000000                    4  4.000000  4.0\n",
      "mean   2.500000  2013-01-02 12:00:00  2.500000  3.0\n",
      "min    1.000000  2013-01-01 00:00:00  1.000000  3.0\n",
      "25%    1.750000  2013-01-01 18:00:00  1.750000  3.0\n",
      "50%    2.500000  2013-01-02 12:00:00  2.500000  3.0\n",
      "75%    3.250000  2013-01-03 06:00:00  3.250000  3.0\n",
      "max    4.000000  2013-01-04 00:00:00  4.000000  3.0\n",
      "std    1.290994                  NaN  1.290994  0.0\n"
     ]
    }
   ],
   "source": [
    "print(\"----df.head(2)----\")\n",
    "\n",
    "print(df.head(2))\n",
    "\n",
    "print(\"----df.tail(2)----\")\n",
    "\n",
    "print(df.tail(2))\n",
    "\n",
    "print(\"----df.index----\")\n",
    "\n",
    "print(df.index)\n",
    "\n",
    "print(\"----df.columns----\")\n",
    "\n",
    "print(df.columns)\n",
    "\n",
    "print(\"----df.to_numpy()----\")\n",
    "\n",
    "print(df.to_numpy())\n",
    "\n",
    "print(\"----df.describe()----\")\n",
    "\n",
    "print(df.describe())\n"
   ]
  },
  {
   "cell_type": "code",
   "execution_count": 8,
   "metadata": {},
   "outputs": [
    {
     "name": "stdout",
     "output_type": "stream",
     "text": [
      "----df.sort_index() & df.sort_values()----\n",
      "     A          B    C  D      E    F\n",
      "3  4.0 2013-01-04  4.0  3  train  foo\n",
      "2  3.0 2013-01-03  3.0  3   test  foo\n",
      "1  2.0 2013-01-02  2.0  3  train  foo\n",
      "0  1.0 2013-01-01  1.0  3   test  foo\n",
      "     F      E  D    C          B    A\n",
      "0  foo   test  3  1.0 2013-01-01  1.0\n",
      "1  foo  train  3  2.0 2013-01-02  2.0\n",
      "2  foo   test  3  3.0 2013-01-03  3.0\n",
      "3  foo  train  3  4.0 2013-01-04  4.0\n",
      "     A          B    C  D      E    F\n",
      "3  4.0 2013-01-04  4.0  3  train  foo\n",
      "2  3.0 2013-01-03  3.0  3   test  foo\n",
      "1  2.0 2013-01-02  2.0  3  train  foo\n",
      "0  1.0 2013-01-01  1.0  3   test  foo\n"
     ]
    }
   ],
   "source": [
    "print(\"----df.sort_index() & df.sort_values()----\")\n",
    "\n",
    "print(df.sort_index(axis=0, ascending=False))\n",
    "print(df.sort_index(axis=1, ascending=False))\n",
    "\n",
    "print(df.sort_values(by=\"C\", ascending=False))\n"
   ]
  },
  {
   "cell_type": "markdown",
   "metadata": {},
   "source": [
    "## Selection\n",
    "\n",
    "`at`, `loc` -> **by label**\n",
    "\n",
    "`iat`, `iloc` -> **by position**"
   ]
  },
  {
   "cell_type": "code",
   "execution_count": 9,
   "metadata": {},
   "outputs": [
    {
     "name": "stdout",
     "output_type": "stream",
     "text": [
      "2013-01-04 00:00:00\n",
      "2013-01-04 00:00:00\n",
      "     C  D\n",
      "1  2.0  3\n",
      "2  3.0  3\n",
      "0    False\n",
      "1    False\n",
      "2     True\n",
      "3     True\n",
      "Name: B, dtype: bool\n",
      "     A          B    C  D      E    F\n",
      "2  3.0 2013-01-03  3.0  3   test  foo\n",
      "3  4.0 2013-01-04  4.0  3  train  foo\n"
     ]
    }
   ],
   "source": [
    "print(df.at[3,\"B\"])\n",
    "print(df.iat[3,1])\n",
    "\n",
    "print(df.iloc[1:3, 2:4])\n",
    "print(df.loc[:,\"B\"]>df.at[1,\"B\"])\n",
    "print(df.loc[df.loc[:,\"B\"]>df.at[1,\"B\"], :])\n"
   ]
  },
  {
   "cell_type": "code",
   "execution_count": 10,
   "metadata": {},
   "outputs": [
    {
     "name": "stdout",
     "output_type": "stream",
     "text": [
      "0    1.0\n",
      "1    2.0\n",
      "2    3.0\n",
      "3    4.0\n",
      "Name: A, dtype: float64\n",
      "     A          B    C  D      E    F\n",
      "0  1.0 2013-01-01  1.0  3   test  foo\n",
      "1  2.0 2013-01-02  2.0  3  train  foo\n"
     ]
    }
   ],
   "source": [
    "print(df[\"A\"])\n",
    "print(df[0:2])\n"
   ]
  },
  {
   "cell_type": "code",
   "execution_count": 11,
   "metadata": {},
   "outputs": [
    {
     "name": "stdout",
     "output_type": "stream",
     "text": [
      "          A         B         C         D\n",
      "a -0.988439  0.862905 -1.072494 -1.063085\n",
      "b -2.943490  0.410001 -1.399803  1.070892\n",
      "c  0.530956 -0.116681  0.454259 -1.339599\n",
      "d -1.028265 -0.879491  1.040228  0.671186\n",
      "e  0.753861 -0.105719  0.302764 -0.559807\n",
      "f -0.549648 -1.129107 -0.750099  0.242340\n",
      "       A      B      C      D\n",
      "a  False   True  False  False\n",
      "b  False   True  False   True\n",
      "c   True  False   True  False\n",
      "d  False  False   True   True\n",
      "e   True  False   True  False\n",
      "f  False  False  False   True\n",
      "          A         B         C         D\n",
      "a       NaN  0.862905       NaN       NaN\n",
      "b       NaN  0.410001       NaN  1.070892\n",
      "c  0.530956       NaN  0.454259       NaN\n",
      "d       NaN       NaN  1.040228  0.671186\n",
      "e  0.753861       NaN  0.302764       NaN\n",
      "f       NaN       NaN       NaN  0.242340\n"
     ]
    }
   ],
   "source": [
    "df = pd.DataFrame(np.random.randn(6, 4), index=list(\"abcdef\"), columns=list(\"ABCD\"))\n",
    "print(df)\n",
    "print(df>0)\n",
    "print(df[df>0])\n"
   ]
  },
  {
   "cell_type": "code",
   "execution_count": 12,
   "metadata": {},
   "outputs": [
    {
     "name": "stdout",
     "output_type": "stream",
     "text": [
      "          A         B         C         D      E\n",
      "a -0.988439  0.862905 -1.072494 -1.063085    one\n",
      "b -2.943490  0.410001 -1.399803  1.070892    one\n",
      "c  0.530956 -0.116681  0.454259 -1.339599    two\n",
      "d -1.028265 -0.879491  1.040228  0.671186  three\n",
      "e  0.753861 -0.105719  0.302764 -0.559807   four\n",
      "f -0.549648 -1.129107 -0.750099  0.242340  three\n",
      "          A         B         C         D     E\n",
      "c  0.530956 -0.116681  0.454259 -1.339599   two\n",
      "e  0.753861 -0.105719  0.302764 -0.559807  four\n"
     ]
    }
   ],
   "source": [
    "df2 = df.copy()\n",
    "df2[\"E\"] = [\"one\", \"one\", \"two\", \"three\", \"four\", \"three\"]\n",
    "print(df2)\n",
    "\n",
    "print(df2[df2['E'].isin([\"two\", \"four\"])])\n"
   ]
  },
  {
   "cell_type": "code",
   "execution_count": 13,
   "metadata": {},
   "outputs": [
    {
     "name": "stdout",
     "output_type": "stream",
     "text": [
      "          A         B         C         D\n",
      "a -0.988439 -0.862905 -1.072494 -1.063085\n",
      "b  0.000000  0.000000  0.000000  0.000000\n",
      "c -0.530956 -0.116681 -0.454259 -1.339599\n",
      "d -1.028265 -0.879491 -1.040228 -0.671186\n",
      "e -0.753861 -0.105719 -0.302764 -0.559807\n",
      "f -0.549648 -1.129107 -0.750099 -0.242340\n"
     ]
    }
   ],
   "source": [
    "df3 = df.copy()\n",
    "df3[df3 > 0] = -df3\n",
    "\n",
    "df3.iloc[1,:] = 0\n",
    "\n",
    "print(df3)\n"
   ]
  },
  {
   "cell_type": "markdown",
   "metadata": {},
   "source": [
    "## Missing Data"
   ]
  },
  {
   "cell_type": "code",
   "execution_count": 14,
   "metadata": {},
   "outputs": [
    {
     "name": "stdout",
     "output_type": "stream",
     "text": [
      "                   A         B         C    D    F\n",
      "2013-01-01       NaN       NaN       NaN  NaN  NaN\n",
      "2013-01-02       NaN       NaN       NaN  NaN  NaN\n",
      "2013-01-03 -1.861849 -3.104569 -1.494929  4.0  1.0\n",
      "2013-01-04 -2.278445       NaN -4.039575  2.0  0.0\n",
      "2013-01-05       NaN  -4.43298 -4.723768  0.0 -1.0\n",
      "2013-01-06       NaN       NaN       NaN  NaN  NaN\n"
     ]
    }
   ],
   "source": [
    "# Create a date range\n",
    "dates = pd.date_range(start=\"2013-01-01\", periods=6)\n",
    "\n",
    "# Create a DataFrame with NaNs initialized\n",
    "df4 = pd.DataFrame(index=dates, columns=[\"A\", \"B\", \"C\", \"D\", \"F\"])\n",
    "\n",
    "# Fill in specific values for certain dates\n",
    "values = {\n",
    "    \"A\": [-1.861849, -2.278445, np.nan],\n",
    "    \"B\": [-3.104569, np.nan, -4.432980],\n",
    "    \"C\": [-1.494929, -4.039575, -4.723768],\n",
    "    \"D\": [4.0, 2.0, 0.0],\n",
    "    \"F\": [1.0, 0.0, -1.0]\n",
    "}\n",
    "\n",
    "# Only setting values for the dates that are not NaN\n",
    "for col, vals in values.items():\n",
    "    df4.at[\"2013-01-03\", col] = vals[0]\n",
    "    df4.at[\"2013-01-04\", col] = vals[1]\n",
    "    df4.at[\"2013-01-05\", col] = vals[2]\n",
    "\n",
    "print(df4)\n"
   ]
  },
  {
   "cell_type": "code",
   "execution_count": 15,
   "metadata": {},
   "outputs": [
    {
     "name": "stdout",
     "output_type": "stream",
     "text": [
      "                   A         B         C    D    F\n",
      "2013-01-03 -1.861849 -3.104569 -1.494929  4.0  1.0\n",
      "2013-01-04 -2.278445       NaN -4.039575  2.0  0.0\n",
      "2013-01-05       NaN  -4.43298 -4.723768  0.0 -1.0\n",
      "                   A         B         C    D    F\n",
      "2013-01-03 -1.861849 -3.104569 -1.494929  4.0  1.0\n"
     ]
    }
   ],
   "source": [
    "print(df4.dropna(how=\"all\"))\n",
    "\n",
    "\n",
    "print(df4.dropna(how=\"any\"))\n"
   ]
  },
  {
   "cell_type": "code",
   "execution_count": 16,
   "metadata": {},
   "outputs": [
    {
     "name": "stdout",
     "output_type": "stream",
     "text": [
      "                A      B      C      D      F\n",
      "2013-01-01   True   True   True   True   True\n",
      "2013-01-02   True   True   True   True   True\n",
      "2013-01-03  False  False  False  False  False\n",
      "2013-01-04  False   True  False  False  False\n",
      "2013-01-05   True  False  False  False  False\n",
      "2013-01-06   True   True   True   True   True\n",
      "                   A         B         C    D    F\n",
      "2013-01-01  0.000000  0.000000  0.000000  0.0  0.0\n",
      "2013-01-02  0.000000  0.000000  0.000000  0.0  0.0\n",
      "2013-01-03 -1.861849 -3.104569 -1.494929  4.0  1.0\n",
      "2013-01-04 -2.278445  0.000000 -4.039575  2.0  0.0\n",
      "2013-01-05  0.000000 -4.432980 -4.723768  0.0 -1.0\n",
      "2013-01-06  0.000000  0.000000  0.000000  0.0  0.0\n"
     ]
    }
   ],
   "source": [
    "print(df4.isna())\n",
    "\n",
    "print(df4.fillna(value=0))\n"
   ]
  },
  {
   "cell_type": "markdown",
   "metadata": {},
   "source": [
    "## Operations"
   ]
  },
  {
   "cell_type": "code",
   "execution_count": 17,
   "metadata": {},
   "outputs": [
    {
     "name": "stdout",
     "output_type": "stream",
     "text": [
      "          A         B         C         D\n",
      "a -0.988439 -0.862905 -1.072494 -1.063085\n",
      "b  0.000000  0.000000  0.000000  0.000000\n",
      "c -0.530956 -0.116681 -0.454259 -1.339599\n",
      "d -1.028265 -0.879491 -1.040228 -0.671186\n",
      "e -0.753861 -0.105719 -0.302764 -0.559807\n",
      "f -0.549648 -1.129107 -0.750099 -0.242340\n",
      "A   -0.641862\n",
      "B   -0.515651\n",
      "C   -0.603307\n",
      "D   -0.646003\n",
      "dtype: float64\n",
      "a   -0.996731\n",
      "b    0.000000\n",
      "c   -0.610374\n",
      "d   -0.904793\n",
      "e   -0.430538\n",
      "f   -0.667799\n",
      "dtype: float64\n"
     ]
    }
   ],
   "source": [
    "print(df3)\n",
    "\n",
    "print(df3.mean(axis=0))  #\n",
    "print(df3.mean(axis=1))  #\n"
   ]
  },
  {
   "cell_type": "code",
   "execution_count": 18,
   "metadata": {},
   "outputs": [
    {
     "name": "stdout",
     "output_type": "stream",
     "text": [
      "     A    B    C    D\n",
      "a  0.0  0.0  0.0  0.0\n",
      "b  0.0  0.0  0.0  0.0\n",
      "c  0.0  0.0  0.0  0.0\n",
      "d  0.0  0.0  0.0  0.0\n",
      "e  0.0  0.0  0.0  0.0\n",
      "f  0.0  0.0  0.0  0.0\n",
      "          A         B         C         D\n",
      "a  0.988439  0.862905  1.072494  1.063085\n",
      "b -0.000000 -0.000000 -0.000000 -0.000000\n",
      "c  0.530956  0.116681  0.454259  1.339599\n",
      "d  1.028265  0.879491  1.040228  0.671186\n",
      "e  0.753861  0.105719  0.302764  0.559807\n",
      "f  0.549648  1.129107  0.750099  0.242340\n",
      "          A         B         C         D\n",
      "a -0.988439 -0.862905 -1.072494 -1.063085\n",
      "b  0.000000  0.000000  0.000000  0.000000\n",
      "c -0.530956 -0.116681 -0.454259 -1.339599\n",
      "d -1.028265 -0.879491 -1.040228 -0.671186\n",
      "e -0.753861 -0.105719 -0.302764 -0.559807\n",
      "f -0.549648 -1.129107 -0.750099 -0.242340\n"
     ]
    }
   ],
   "source": [
    "df5 = df3.copy()\n",
    "df5 = df3.transform(lambda x : x*(-1.0))\n",
    "\n",
    "print(df5+df3)\n",
    "\n",
    "print(df5)\n",
    "print(df3)\n"
   ]
  },
  {
   "cell_type": "code",
   "execution_count": 19,
   "metadata": {},
   "outputs": [
    {
     "name": "stdout",
     "output_type": "stream",
     "text": [
      "A\n",
      "-0.988439    1\n",
      " 0.000000    1\n",
      "-0.530956    1\n",
      "-1.028265    1\n",
      "-0.753861    1\n",
      "-0.549648    1\n",
      "Name: count, dtype: int64\n"
     ]
    }
   ],
   "source": [
    "print(df3[\"A\"].value_counts())\n"
   ]
  },
  {
   "cell_type": "code",
   "execution_count": 20,
   "metadata": {},
   "outputs": [
    {
     "name": "stdout",
     "output_type": "stream",
     "text": [
      "a      ONE\n",
      "b      ONE\n",
      "c      TWO\n",
      "d    THREE\n",
      "e     FOUR\n",
      "f    THREE\n",
      "Name: E, dtype: object\n"
     ]
    }
   ],
   "source": [
    "print(df2[\"E\"].str.upper())\n"
   ]
  },
  {
   "cell_type": "markdown",
   "metadata": {},
   "source": [
    "## Concat\n",
    "\n"
   ]
  },
  {
   "cell_type": "code",
   "execution_count": 21,
   "metadata": {},
   "outputs": [
    {
     "name": "stdout",
     "output_type": "stream",
     "text": [
      "          0         1         2\n",
      "0 -0.001961  1.341119  0.625427\n",
      "1  1.253160  0.436528  0.806473\n",
      "2 -2.091542  1.202948  2.250409\n",
      "0 -0.001961  1.341119  0.625427\n",
      "1  1.253160  0.436528  0.806473\n",
      "2 -2.091542  1.202948  2.250409\n",
      "          0         1         2         0         1         2\n",
      "0 -0.001961  1.341119  0.625427 -0.001961  1.341119  0.625427\n",
      "1  1.253160  0.436528  0.806473  1.253160  0.436528  0.806473\n",
      "2 -2.091542  1.202948  2.250409 -2.091542  1.202948  2.250409\n"
     ]
    }
   ],
   "source": [
    "df6 = pd.DataFrame(np.random.randn(3, 3))\n",
    "\n",
    "print(pd.concat([df6, df6], axis=0))  #\n",
    "\n",
    "print(pd.concat([df6, df6], axis=1))\n"
   ]
  },
  {
   "cell_type": "markdown",
   "metadata": {},
   "source": [
    "## Join\n",
    "\n",
    "merge() enables SQL style join types along specific columns"
   ]
  },
  {
   "cell_type": "code",
   "execution_count": 22,
   "metadata": {},
   "outputs": [
    {
     "name": "stdout",
     "output_type": "stream",
     "text": [
      "   key  lval\n",
      "0  foo     1\n",
      "1  bar     2\n",
      "   key  rval\n",
      "0  foo     4\n",
      "1  bar     5\n",
      "   key  lval  rval\n",
      "0  foo     1     4\n",
      "1  bar     2     5\n"
     ]
    }
   ],
   "source": [
    "left = pd.DataFrame({\"key\": [\"foo\", \"bar\"], \"lval\": [1, 2]})\n",
    "\n",
    "right = pd.DataFrame({\"key\": [\"foo\", \"bar\"], \"rval\": [4, 5]})\n",
    "\n",
    "print(left)\n",
    "\n",
    "print(right)\n",
    "\n",
    "result = pd.merge(left, right, on=\"key\")\n",
    "\n",
    "print(result)\n"
   ]
  },
  {
   "cell_type": "markdown",
   "metadata": {},
   "source": [
    "## Grouping\n",
    "\n",
    "`groupby`\n",
    "1. **Splitting** the data into groups based on some criteria\n",
    "2. **Applying** a function to each group independently\n",
    "3. **Combining** the results into a data structure\n",
    "   1. mean\n",
    "   2. sum\n"
   ]
  },
  {
   "cell_type": "code",
   "execution_count": 23,
   "metadata": {},
   "outputs": [
    {
     "name": "stdout",
     "output_type": "stream",
     "text": [
      "     A      B         C         D\n",
      "0  foo    one  1.724160 -1.384768\n",
      "1  bar    one -0.086792 -0.462194\n",
      "2  foo    two  0.071224  1.671748\n",
      "3  bar  three -1.606883 -0.406600\n",
      "4  foo    two -1.192394 -0.021425\n",
      "5  bar    two  0.439433  1.148466\n",
      "6  foo    one -0.094902 -0.211407\n",
      "7  foo  three  0.427227 -0.605723\n"
     ]
    }
   ],
   "source": [
    "df = pd.DataFrame(\n",
    "    {\n",
    "        \"A\": [\"foo\", \"bar\", \"foo\", \"bar\", \"foo\", \"bar\", \"foo\", \"foo\"],\n",
    "        \"B\": [\"one\", \"one\", \"two\", \"three\", \"two\", \"two\", \"one\", \"three\"],\n",
    "        \"C\": np.random.randn(8),\n",
    "        \"D\": np.random.randn(8),\n",
    "    }\n",
    ")\n",
    "\n",
    "print(df)\n"
   ]
  },
  {
   "cell_type": "code",
   "execution_count": 24,
   "metadata": {},
   "outputs": [
    {
     "data": {
      "text/html": [
       "<div>\n",
       "<style scoped>\n",
       "    .dataframe tbody tr th:only-of-type {\n",
       "        vertical-align: middle;\n",
       "    }\n",
       "\n",
       "    .dataframe tbody tr th {\n",
       "        vertical-align: top;\n",
       "    }\n",
       "\n",
       "    .dataframe thead th {\n",
       "        text-align: right;\n",
       "    }\n",
       "</style>\n",
       "<table border=\"1\" class=\"dataframe\">\n",
       "  <thead>\n",
       "    <tr style=\"text-align: right;\">\n",
       "      <th></th>\n",
       "      <th>A</th>\n",
       "      <th>B</th>\n",
       "      <th>C</th>\n",
       "      <th>D</th>\n",
       "    </tr>\n",
       "    <tr>\n",
       "      <th>B</th>\n",
       "      <th></th>\n",
       "      <th></th>\n",
       "      <th></th>\n",
       "      <th></th>\n",
       "    </tr>\n",
       "  </thead>\n",
       "  <tbody>\n",
       "    <tr>\n",
       "      <th>one</th>\n",
       "      <td>foo</td>\n",
       "      <td>one</td>\n",
       "      <td>1.724160</td>\n",
       "      <td>-0.211407</td>\n",
       "    </tr>\n",
       "    <tr>\n",
       "      <th>three</th>\n",
       "      <td>foo</td>\n",
       "      <td>three</td>\n",
       "      <td>0.427227</td>\n",
       "      <td>-0.406600</td>\n",
       "    </tr>\n",
       "    <tr>\n",
       "      <th>two</th>\n",
       "      <td>foo</td>\n",
       "      <td>two</td>\n",
       "      <td>0.439433</td>\n",
       "      <td>1.671748</td>\n",
       "    </tr>\n",
       "  </tbody>\n",
       "</table>\n",
       "</div>"
      ],
      "text/plain": [
       "         A      B         C         D\n",
       "B                                    \n",
       "one    foo    one  1.724160 -0.211407\n",
       "three  foo  three  0.427227 -0.406600\n",
       "two    foo    two  0.439433  1.671748"
      ]
     },
     "execution_count": 24,
     "metadata": {},
     "output_type": "execute_result"
    }
   ],
   "source": [
    "df.groupby(\"B\")[[\"A\",\"B\",\"C\",\"D\"]].max()\n"
   ]
  },
  {
   "cell_type": "code",
   "execution_count": 25,
   "metadata": {},
   "outputs": [
    {
     "name": "stdout",
     "output_type": "stream",
     "text": [
      "            C         D\n",
      "A                      \n",
      "bar -1.254242  0.279671\n",
      "foo  0.935314 -0.551576\n"
     ]
    }
   ],
   "source": [
    "print(df.groupby(\"A\")[[\"C\", \"D\"]].sum())\n"
   ]
  },
  {
   "cell_type": "code",
   "execution_count": 26,
   "metadata": {},
   "outputs": [
    {
     "name": "stdout",
     "output_type": "stream",
     "text": [
      "                  C         D\n",
      "A   B                        \n",
      "bar one   -0.086792 -0.462194\n",
      "    three -1.606883 -0.406600\n",
      "    two    0.439433  1.148466\n",
      "foo one    1.629258 -1.596175\n",
      "    three  0.427227 -0.605723\n",
      "    two   -1.121171  1.650322\n"
     ]
    }
   ],
   "source": [
    "print(df.groupby([\"A\", \"B\"]).sum())\n"
   ]
  },
  {
   "cell_type": "code",
   "execution_count": 29,
   "metadata": {},
   "outputs": [
    {
     "name": "stdout",
     "output_type": "stream",
     "text": [
      "  Department Employee  Salary\n",
      "0         HR    Alice   70000\n",
      "1         HR      Bob   80000\n",
      "2         IT  Charlie  120000\n",
      "3         IT    David  110000\n",
      "4      Sales      Eve   90000\n"
     ]
    }
   ],
   "source": [
    "data = {'Department': ['HR', 'HR', 'IT', 'IT', 'Sales'],\n",
    "        'Employee': ['Alice', 'Bob', 'Charlie', 'David', 'Eve'],\n",
    "        'Salary': [70000, 80000, 120000, 110000, 90000]}\n",
    "\n",
    "df = pd.DataFrame(data)\n",
    "\n",
    "print(df)\n"
   ]
  },
  {
   "cell_type": "code",
   "execution_count": 30,
   "metadata": {},
   "outputs": [
    {
     "name": "stdout",
     "output_type": "stream",
     "text": [
      "Department\n",
      "HR        75000.0\n",
      "IT       115000.0\n",
      "Sales     90000.0\n",
      "Name: Salary, dtype: float64\n",
      "Department\n",
      "HR       150000\n",
      "IT       230000\n",
      "Sales     90000\n",
      "Name: Salary, dtype: int64\n"
     ]
    }
   ],
   "source": [
    "grouped = df.groupby(\"Department\")\n",
    "\n",
    "average_salary = grouped['Salary'].mean()\n",
    "print(average_salary)\n",
    "\n",
    "total_salary = grouped['Salary'].sum()\n",
    "print(total_salary)\n"
   ]
  },
  {
   "cell_type": "code",
   "execution_count": 31,
   "metadata": {},
   "outputs": [
    {
     "name": "stdout",
     "output_type": "stream",
     "text": [
      "Department\n",
      "HR       150000\n",
      "IT       230000\n",
      "Sales     90000\n",
      "Name: Salary, dtype: int64\n"
     ]
    }
   ],
   "source": [
    "total_salary = grouped['Salary'].sum()\n",
    "print(total_salary)\n"
   ]
  },
  {
   "cell_type": "markdown",
   "metadata": {},
   "source": [
    "## Plotting\n",
    "\n",
    "\n"
   ]
  },
  {
   "cell_type": "code",
   "execution_count": null,
   "metadata": {},
   "outputs": [],
   "source": [
    "import matplotlib.pyplot as plt\n",
    "plt.close(\"all\")\n"
   ]
  },
  {
   "cell_type": "code",
   "execution_count": null,
   "metadata": {},
   "outputs": [
    {
     "data": {
      "text/plain": [
       "<Axes: >"
      ]
     },
     "execution_count": 68,
     "metadata": {},
     "output_type": "execute_result"
    },
    {
     "data": {
      "image/png": "[encoded data removed]",
      "text/plain": [
       "<Figure size 640x480 with 1 Axes>"
      ]
     },
     "metadata": {},
     "output_type": "display_data"
    }
   ],
   "source": [
    "ts = pd.Series(np.random.randn(1000), index=pd.date_range(\"1/1/2000\", periods=1000))\n",
    "\n",
    "ts = ts.cumsum()\n",
    "\n",
    "ts.plot()\n"
   ]
  },
  {
   "cell_type": "code",
   "execution_count": null,
   "metadata": {},
   "outputs": [
    {
     "data": {
      "text/plain": [
       "<matplotlib.legend.Legend at 0x7bb5f8282050>"
      ]
     },
     "execution_count": 69,
     "metadata": {},
     "output_type": "execute_result"
    },
    {
     "data": {
      "text/plain": [
       "<Figure size 640x480 with 0 Axes>"
      ]
     },
     "metadata": {},
     "output_type": "display_data"
    },
    {
     "data": {
      "image/png": "[encoded data removed]",
      "text/plain": [
       "<Figure size 640x480 with 1 Axes>"
      ]
     },
     "metadata": {},
     "output_type": "display_data"
    }
   ],
   "source": [
    "df = pd.DataFrame(\n",
    "    np.random.randn(1000, 4), index=ts.index, columns=[\"A\", \"B\", \"C\", \"D\"]\n",
    ")\n",
    "\n",
    "df = df.cumsum()\n",
    "\n",
    "plt.figure()\n",
    "\n",
    "df.plot()\n",
    "\n",
    "plt.legend(loc='best')\n"
   ]
  },
  {
   "cell_type": "markdown",
   "metadata": {},
   "source": [
    "## Import & Export Data\n",
    "\n",
    "[pandas.read_excel 详细说明](https://pandas.pydata.org/docs/reference/api/pandas.read_excel.html#pandas-read-excel)\n",
    "\n",
    "csv"
   ]
  },
  {
   "cell_type": "code",
   "execution_count": 37,
   "metadata": {},
   "outputs": [
    {
     "name": "stdout",
     "output_type": "stream",
     "text": [
      "     姓名 行业/专业             学校/公司\n",
      "0   NaN   机器人        UIUC硕+TJU本\n",
      "1   zyy   NaN               NaN\n",
      "2  jmzy   NaN        UCSD硕+TJU本\n",
      "3   NaN    金融         HKU硕+FDU本\n",
      "4   yyr   NaN               NaN\n",
      "5   NaN    交通         UCB硕+TJU本\n",
      "6   qyc   NaN  UChicago硕+CityU本\n",
      "7   yty   计算机               NaN\n"
     ]
    }
   ],
   "source": [
    "filePath = r\"./Test/people.xlsx\"\n",
    "\n",
    "peopleDF = pd.read_excel(filePath, sheet_name=\"People\", header=0, index_col=None, na_values=np.nan)\n",
    "print(peopleDF)\n"
   ]
  },
  {
   "cell_type": "code",
   "execution_count": 42,
   "metadata": {},
   "outputs": [],
   "source": [
    "filePathWrite = r\"./Test/people_new.xlsx\"\n",
    "\n",
    "\n",
    "peopleDF.to_excel(filePathWrite, index=False)\n"
   ]
  }
 ],
 "metadata": {
  "kernelspec": {
   "display_name": "Python 3",
   "language": "python",
   "name": "python3"
  },
  "language_info": {
   "codemirror_mode": {
    "name": "ipython",
    "version": 3
   },
   "file_extension": ".py",
   "mimetype": "text/x-python",
   "name": "python",
   "nbconvert_exporter": "python",
   "pygments_lexer": "ipython3",
   "version": "3.10.12"
  }
 },
 "nbformat": 4,
 "nbformat_minor": 2
}
