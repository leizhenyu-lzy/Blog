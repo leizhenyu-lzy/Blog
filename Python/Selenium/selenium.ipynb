{
 "cells": [
  {
   "cell_type": "code",
   "execution_count": 1,
   "metadata": {},
   "outputs": [],
   "source": [
    "from selenium import webdriver\n",
    "from selenium.webdriver.edge.service import Service"
   ]
  },
  {
   "cell_type": "code",
   "execution_count": 9,
   "metadata": {},
   "outputs": [],
   "source": [
    "wd = webdriver.Edge(service=Service(r'D:\\Tools\\EdgeDriver\\msedgedriver.exe'))  # 可以通过添加环境变量，省去内容括号内容"
   ]
  },
  {
   "cell_type": "code",
   "execution_count": 10,
   "metadata": {},
   "outputs": [],
   "source": [
    "wd.get('https://www.baidu.com')  # 自动化程序构建http请求，发送给浏览器驱动，传给浏览器，最后返回给自动化程序"
   ]
  },
  {
   "cell_type": "code",
   "execution_count": 4,
   "metadata": {},
   "outputs": [],
   "source": [
    "from selenium.webdriver.common.by import By"
   ]
  },
  {
   "cell_type": "code",
   "execution_count": 11,
   "metadata": {},
   "outputs": [],
   "source": [
    "# 定位元素，返回element对象\n",
    "element = wd.find_element(By.ID, 'kw')  # 按照规范，元素id应该是唯一的\n",
    "# 如果没有找到，则会抛出异常"
   ]
  },
  {
   "cell_type": "code",
   "execution_count": 12,
   "metadata": {},
   "outputs": [],
   "source": [
    "element.send_keys('qs\\n')  # \\n相当于输入回车键进行搜索\n",
    "# 如果输入框中有内容，使用clear清除\n",
    "element.clear()"
   ]
  },
  {
   "cell_type": "code",
   "execution_count": 11,
   "metadata": {},
   "outputs": [
    {
     "name": "stdout",
     "output_type": "stream",
     "text": [
      "No\n"
     ]
    }
   ],
   "source": [
    "# 捕获异常\n",
    "from selenium.common.exceptions import NoSuchElementException\n",
    "try:\n",
    "    element = wd.find_element(By.ID, 'lzy')\n",
    "except NoSuchElementException:\n",
    "    print(\"No\")\n"
   ]
  },
  {
   "cell_type": "code",
   "execution_count": 12,
   "metadata": {},
   "outputs": [
    {
     "ename": "KeyboardInterrupt",
     "evalue": "Interrupted by user",
     "output_type": "error",
     "traceback": [
      "\u001b[1;31m---------------------------------------------------------------------------\u001b[0m",
      "\u001b[1;31mKeyboardInterrupt\u001b[0m                         Traceback (most recent call last)",
      "\u001b[1;32md:\\Project\\Blog\\Python\\Selenium\\selenium.ipynb Cell 8'\u001b[0m in \u001b[0;36m<cell line: 6>\u001b[1;34m()\u001b[0m\n\u001b[0;32m      <a href='vscode-notebook-cell:/d%3A/Project/Blog/Python/Selenium/selenium.ipynb#ch0000008?line=2'>3</a>\u001b[0m element \u001b[39m=\u001b[39m wd\u001b[39m.\u001b[39mfind_element(By\u001b[39m.\u001b[39mID, \u001b[39m'\u001b[39m\u001b[39msu\u001b[39m\u001b[39m'\u001b[39m)\n\u001b[0;32m      <a href='vscode-notebook-cell:/d%3A/Project/Blog/Python/Selenium/selenium.ipynb#ch0000008?line=3'>4</a>\u001b[0m element\u001b[39m.\u001b[39mclick()\n\u001b[1;32m----> <a href='vscode-notebook-cell:/d%3A/Project/Blog/Python/Selenium/selenium.ipynb#ch0000008?line=5'>6</a>\u001b[0m \u001b[39minput\u001b[39;49m()\n\u001b[0;32m      <a href='vscode-notebook-cell:/d%3A/Project/Blog/Python/Selenium/selenium.ipynb#ch0000008?line=7'>8</a>\u001b[0m wd\u001b[39m.\u001b[39mquit()\n",
      "File \u001b[1;32md:\\Anaconda\\envs\\web\\lib\\site-packages\\ipykernel\\kernelbase.py:1161\u001b[0m, in \u001b[0;36mKernel.raw_input\u001b[1;34m(self, prompt)\u001b[0m\n\u001b[0;32m   <a href='file:///d%3A/Anaconda/envs/web/lib/site-packages/ipykernel/kernelbase.py?line=1156'>1157</a>\u001b[0m \u001b[39mif\u001b[39;00m \u001b[39mnot\u001b[39;00m \u001b[39mself\u001b[39m\u001b[39m.\u001b[39m_allow_stdin:\n\u001b[0;32m   <a href='file:///d%3A/Anaconda/envs/web/lib/site-packages/ipykernel/kernelbase.py?line=1157'>1158</a>\u001b[0m     \u001b[39mraise\u001b[39;00m StdinNotImplementedError(\n\u001b[0;32m   <a href='file:///d%3A/Anaconda/envs/web/lib/site-packages/ipykernel/kernelbase.py?line=1158'>1159</a>\u001b[0m         \u001b[39m\"\u001b[39m\u001b[39mraw_input was called, but this frontend does not support input requests.\u001b[39m\u001b[39m\"\u001b[39m\n\u001b[0;32m   <a href='file:///d%3A/Anaconda/envs/web/lib/site-packages/ipykernel/kernelbase.py?line=1159'>1160</a>\u001b[0m     )\n\u001b[1;32m-> <a href='file:///d%3A/Anaconda/envs/web/lib/site-packages/ipykernel/kernelbase.py?line=1160'>1161</a>\u001b[0m \u001b[39mreturn\u001b[39;00m \u001b[39mself\u001b[39;49m\u001b[39m.\u001b[39;49m_input_request(\n\u001b[0;32m   <a href='file:///d%3A/Anaconda/envs/web/lib/site-packages/ipykernel/kernelbase.py?line=1161'>1162</a>\u001b[0m     \u001b[39mstr\u001b[39;49m(prompt),\n\u001b[0;32m   <a href='file:///d%3A/Anaconda/envs/web/lib/site-packages/ipykernel/kernelbase.py?line=1162'>1163</a>\u001b[0m     \u001b[39mself\u001b[39;49m\u001b[39m.\u001b[39;49m_parent_ident[\u001b[39m\"\u001b[39;49m\u001b[39mshell\u001b[39;49m\u001b[39m\"\u001b[39;49m],\n\u001b[0;32m   <a href='file:///d%3A/Anaconda/envs/web/lib/site-packages/ipykernel/kernelbase.py?line=1163'>1164</a>\u001b[0m     \u001b[39mself\u001b[39;49m\u001b[39m.\u001b[39;49mget_parent(\u001b[39m\"\u001b[39;49m\u001b[39mshell\u001b[39;49m\u001b[39m\"\u001b[39;49m),\n\u001b[0;32m   <a href='file:///d%3A/Anaconda/envs/web/lib/site-packages/ipykernel/kernelbase.py?line=1164'>1165</a>\u001b[0m     password\u001b[39m=\u001b[39;49m\u001b[39mFalse\u001b[39;49;00m,\n\u001b[0;32m   <a href='file:///d%3A/Anaconda/envs/web/lib/site-packages/ipykernel/kernelbase.py?line=1165'>1166</a>\u001b[0m )\n",
      "File \u001b[1;32md:\\Anaconda\\envs\\web\\lib\\site-packages\\ipykernel\\kernelbase.py:1205\u001b[0m, in \u001b[0;36mKernel._input_request\u001b[1;34m(self, prompt, ident, parent, password)\u001b[0m\n\u001b[0;32m   <a href='file:///d%3A/Anaconda/envs/web/lib/site-packages/ipykernel/kernelbase.py?line=1201'>1202</a>\u001b[0m             \u001b[39mbreak\u001b[39;00m\n\u001b[0;32m   <a href='file:///d%3A/Anaconda/envs/web/lib/site-packages/ipykernel/kernelbase.py?line=1202'>1203</a>\u001b[0m \u001b[39mexcept\u001b[39;00m \u001b[39mKeyboardInterrupt\u001b[39;00m:\n\u001b[0;32m   <a href='file:///d%3A/Anaconda/envs/web/lib/site-packages/ipykernel/kernelbase.py?line=1203'>1204</a>\u001b[0m     \u001b[39m# re-raise KeyboardInterrupt, to truncate traceback\u001b[39;00m\n\u001b[1;32m-> <a href='file:///d%3A/Anaconda/envs/web/lib/site-packages/ipykernel/kernelbase.py?line=1204'>1205</a>\u001b[0m     \u001b[39mraise\u001b[39;00m \u001b[39mKeyboardInterrupt\u001b[39;00m(\u001b[39m\"\u001b[39m\u001b[39mInterrupted by user\u001b[39m\u001b[39m\"\u001b[39m) \u001b[39mfrom\u001b[39;00m \u001b[39mNone\u001b[39m\n\u001b[0;32m   <a href='file:///d%3A/Anaconda/envs/web/lib/site-packages/ipykernel/kernelbase.py?line=1205'>1206</a>\u001b[0m \u001b[39mexcept\u001b[39;00m \u001b[39mException\u001b[39;00m:\n\u001b[0;32m   <a href='file:///d%3A/Anaconda/envs/web/lib/site-packages/ipykernel/kernelbase.py?line=1206'>1207</a>\u001b[0m     \u001b[39mself\u001b[39m\u001b[39m.\u001b[39mlog\u001b[39m.\u001b[39mwarning(\u001b[39m\"\u001b[39m\u001b[39mInvalid Message:\u001b[39m\u001b[39m\"\u001b[39m, exc_info\u001b[39m=\u001b[39m\u001b[39mTrue\u001b[39;00m)\n",
      "\u001b[1;31mKeyboardInterrupt\u001b[0m: Interrupted by user"
     ]
    }
   ],
   "source": [
    "element = wd.find_element(By.ID, 'kw')\n",
    "element.send_keys('apple')  # 不手动添加回车，使用按钮点击\n",
    "element = wd.find_element(By.ID, 'su')\n",
    "element.click()\n",
    "\n",
    "input()\n",
    "\n",
    "wd.quit()"
   ]
  },
  {
   "cell_type": "code",
   "execution_count": 4,
   "metadata": {},
   "outputs": [
    {
     "name": "stdout",
     "output_type": "stream",
     "text": [
      "{'code': 0, 'message': '0', 'ttl': 1, 'data': {'config': {'id': 1, 'type': 'weekly_selected', 'number': 1, 'subject': '神仙爱情', 'stime': 1553184000, 'etime': 1553788799, 'status': 2, 'name': '2019第1期 03.22 - 03.28', 'label': '第1期(0329更新)', 'hint': '本周热词：', 'color': 2, 'cover': 'http://i0.hdslb.com/bfs/archive/59e86c3874a77529708e49bd3d10abe9b662f6de.png', 'share_title': '这是什么神仙爱情？ | B站每周必看2019年第1期', 'share_subtitle': '暴风哭泣！今天也是为别人的神仙爱情流泪的一天……', 'media_id': 448235488}, 'reminder': '每周五晚18:00更新', 'list': [{'aid': 46900196, 'videos': 1, 'tid': 250, 'tname': '出行', 'copyright': 1, 'pic': 'http://i0.hdslb.com/bfs/archive/f42edcdd84853a06e00a779162fa8655a74030a2.jpg', 'title': '这集vlog我们拍了十年，致最美好的青春', 'pubdate': 1553152210, 'ctime': 1553152210, 'desc': '我在18岁认识了你，\\n然后我们开始了长达8年的异地恋，\\n2019年03月16日\\n我们在认识十年后终于结婚了，\\n这当中的酸甜苦辣只有我们自己能懂。', 'state': 0, 'duration': 504, 'rights': {'bp': 0, 'elec': 0, 'download': 0, 'movie': 0, 'pay': 0, 'hd5': 1, 'no_reprint': 1, 'autoplay': 1, 'ugc_pay': 0, 'is_cooperation': 0, 'ugc_pay_preview': 0, 'no_background': 0, 'arc_pay': 0, 'pay_free_watch': 0}, 'owner': {'mid': 326257138, 'name': 'AresserA-Vlog', 'face': 'http://i1.hdslb.com/bfs/face/1917454d730732b0b1b091e5cce9f76ad06ea7f3.jpg'}, 'stat': {'aid': 46900196, 'view': 4825054, 'danmaku': 67134, 'reply': 21877, 'favorite': 244531, 'coin': 544599, 'share': 203368, 'now_rank': 0, 'his_rank': 1, 'like': 489334, 'dislike': 0}, 'dynamic': '请允许我在Hyperlapse的Vlog中间插播一集！\\n刚拿到婚礼素材，终于可以把这集诠释着我们十年青春的vlog补完整了！', 'cid': 82142406, 'dimension': {'width': 1920, 'height': 1080, 'rotate': 0}, 'short_link': 'https://b23.tv/BV14b411J7ML', 'short_link_v2': 'https://b23.tv/BV14b411J7ML', 'bvid': 'BV14b411J7ML', 'season_type': 0, 'is_ogv': False, 'ogv_info': None, 'rcmd_reason': '暴风流泪推荐！今天也是为别人的神仙爱情流泪的一天！'}, {'aid': 47211520, 'videos': 1, 'tid': 21, 'tname': '日常', 'copyright': 1, 'pic': 'http://i1.hdslb.com/bfs/archive/fd6bc55d9a9a6fe25278670fb2c021580c3503f6.jpg', 'title': '华农兄弟：兄弟家的鱼跑河里去了，帮他网回来，一网下去还不少', 'pubdate': 1553427011, 'ctime': 1553427013, 'desc': '华农兄弟：兄弟家的鱼跑河里去了，帮他网回来，一网下去还不少', 'state': 0, 'duration': 312, 'rights': {'bp': 0, 'elec': 0, 'download': 0, 'movie': 0, 'pay': 0, 'hd5': 1, 'no_reprint': 1, 'autoplay': 1, 'ugc_pay': 0, 'is_cooperation': 0, 'ugc_pay_preview': 0, 'no_background': 0, 'arc_pay': 0, 'pay_free_watch': 0}, 'owner': {'mid': 250858633, 'name': '华农兄弟', 'face': 'http://i1.hdslb.com/bfs/face/bac504655c69ab937b0be4557e27535f794b0c66.jpg'}, 'stat': {'aid': 47211520, 'view': 2514521, 'danmaku': 21619, 'reply': 5639, 'favorite': 4757, 'coin': 28381, 'share': 2618, 'now_rank': 0, 'his_rank': 10, 'like': 74850, 'dislike': 0}, 'dynamic': '华农兄弟：兄弟家的鱼跑河里去了，帮他网回来，一网下去还不少', 'cid': 82681291, 'dimension': {'width': 3840, 'height': 2160, 'rotate': 0}, 'short_link': 'https://b23.tv/BV15b41147uu', 'short_link_v2': 'https://b23.tv/BV15b41147uu', 'bvid': 'BV15b41147uu', 'season_type': 0, 'is_ogv': False, 'ogv_info': None, 'rcmd_reason': '村霸兄弟又上线了！这次他们把魔抓伸向了兄弟家的鱼！'}, {'aid': 46567722, 'videos': 3, 'tid': 183, 'tname': '影视剪辑', 'copyright': 1, 'pic': 'http://i0.hdslb.com/bfs/archive/9130be4b624afc19e14c1bf702626d869989f8b4.jpg', 'title': '【性转版】回家的诱惑', 'pubdate': 1552823023, 'ctime': 1552823023, 'desc': '性转版回家的诱惑\\n都市男人拯救幸福情仇大戏\\n认真你就输了23333', 'state': 0, 'duration': 643, 'rights': {'bp': 0, 'elec': 0, 'download': 0, 'movie': 0, 'pay': 0, 'hd5': 1, 'no_reprint': 1, 'autoplay': 1, 'ugc_pay': 0, 'is_cooperation': 0, 'ugc_pay_preview': 0, 'no_background': 0, 'arc_pay': 0, 'pay_free_watch': 0}, 'owner': {'mid': 9813844, 'name': '兰彻lancche', 'face': 'http://i1.hdslb.com/bfs/face/4992595a6351395da73538909fd86bfbd77cc7bf.jpg'}, 'stat': {'aid': 46567722, 'view': 4535972, 'danmaku': 42929, 'reply': 12708, 'favorite': 154884, 'coin': 211532, 'share': 155985, 'now_rank': 0, 'his_rank': 1, 'like': 239649, 'dislike': 0}, 'dynamic': '#回家的诱惑##刘亦菲##刘昊然#', 'cid': 81577663, 'dimension': {'width': 1920, 'height': 1080, 'rotate': 0}, 'short_link': 'https://b23.tv/BV1xb411n7L6', 'short_link_v2': 'https://b23.tv/BV1xb411n7L6', 'bvid': 'BV1xb411n7L6', 'season_type': 0, 'is_ogv': False, 'ogv_info': None, 'rcmd_reason': ''}, {'aid': 46898941, 'videos': 1, 'tid': 17, 'tname': '单机游戏', 'copyright': 1, 'pic': 'http://i0.hdslb.com/bfs/archive/fe068469298d3f9791c637c4c5d21e5c74d13615.jpg', 'title': '【敖厂长】20年前此暴力游戏火遍中国', 'pubdate': 1553150201, 'ctime': 1553150201, 'desc': '我回来了,敢不敢来一大波收藏淹没我', 'state': 0, 'duration': 449, 'rights': {'bp': 0, 'elec': 0, 'download': 0, 'movie': 0, 'pay': 0, 'hd5': 1, 'no_reprint': 1, 'autoplay': 1, 'ugc_pay': 0, 'is_cooperation': 0, 'ugc_pay_preview': 0, 'no_background': 0, 'arc_pay': 0, 'pay_free_watch': 0}, 'owner': {'mid': 122879, 'name': '敖厂长', 'face': 'http://i2.hdslb.com/bfs/face/3368af39da3285bdb46ee719b896602028433932.jpg'}, 'stat': {'aid': 46898941, 'view': 5688419, 'danmaku': 16753, 'reply': 9188, 'favorite': 51844, 'coin': 193933, 'share': 8924, 'now_rank': 0, 'his_rank': 1, 'like': 206512, 'dislike': 0}, 'dynamic': '#敖厂长#【敖厂长】20年前此暴力游戏火遍中国 新视频发布!', 'cid': 82146157, 'dimension': {'width': 1920, 'height': 1080, 'rotate': 0}, 'season_id': 2884, 'short_link': 'https://b23.tv/BV1Wb411J7RS', 'short_link_v2': 'https://b23.tv/BV1Wb411J7RS', 'bvid': 'BV1Wb411J7RS', 'season_type': 0, 'is_ogv': False, 'ogv_info': None, 'rcmd_reason': '不看不知道，小学的时候还真的玩过诶！我的童年你怎么知道(ﾟДﾟ≡ﾟдﾟ)!?'}, {'aid': 47151947, 'videos': 1, 'tid': 27, 'tname': '综合', 'copyright': 1, 'pic': 'http://i0.hdslb.com/bfs/archive/e5cd89d85f7518ef128400fc677b8cf78cddf78d.jpg', 'title': '哆啦A梦结局背后的秘密？从未播出的黑历史？真相出人意料', 'pubdate': 1553396443, 'ctime': 1553365833, 'desc': '微博：@瓶子君152\\n关注关注关注关注关注关注关注关注关注关注关注关注\\n三连三连三连三连三连三连三连三连三连三连三连三连\\n谢谢谢谢谢谢谢谢谢谢谢谢谢谢谢谢谢谢谢谢谢谢谢谢', 'state': 0, 'duration': 415, 'rights': {'bp': 0, 'elec': 0, 'download': 0, 'movie': 0, 'pay': 0, 'hd5': 1, 'no_reprint': 1, 'autoplay': 1, 'ugc_pay': 0, 'is_cooperation': 0, 'ugc_pay_preview': 0, 'no_background': 0, 'arc_pay': 0, 'pay_free_watch': 0}, 'owner': {'mid': 730732, 'name': '瓶子君152', 'face': 'http://i1.hdslb.com/bfs/face/98e257964e64dd8cf27b0a52779724aed9a614e9.jpg'}, 'stat': {'aid': 47151947, 'view': 2440607, 'danmaku': 4802, 'reply': 3331, 'favorite': 53618, 'coin': 132900, 'share': 4161, 'now_rank': 0, 'his_rank': 6, 'like': 154115, 'dislike': 0}, 'dynamic': '#动漫杂谈##哆啦A梦##童年#\\n重新投稿\\n还是那句话，这期弄得挺用心的希望大家多三连支持\\n长按推荐素质三连哦', 'cid': 82579802, 'dimension': {'width': 1920, 'height': 1080, 'rotate': 0}, 'short_link': 'https://b23.tv/BV1Qb41177Vm', 'short_link_v2': 'https://b23.tv/BV1Qb41177Vm', 'bvid': 'BV1Qb41177Vm', 'season_type': 0, 'is_ogv': False, 'ogv_info': None, 'rcmd_reason': ''}, {'aid': 46601555, 'videos': 1, 'tid': 183, 'tname': '影视剪辑', 'copyright': 1, 'pic': 'http://i0.hdslb.com/bfs/archive/57f63f237346e23eab3a3b969b6f5ffe1d0ae61c.jpg', 'title': '【AI换脸】当洪世贤穿上品如的衣服', 'pubdate': 1552849498, 'ctime': 1552849498, 'desc': '大家熟悉且恶搞的比较多的片段，仅学习娱乐', 'state': 0, 'duration': 37, 'rights': {'bp': 0, 'elec': 0, 'download': 0, 'movie': 0, 'pay': 0, 'hd5': 0, 'no_reprint': 0, 'autoplay': 1, 'ugc_pay': 0, 'is_cooperation': 0, 'ugc_pay_preview': 0, 'no_background': 0, 'arc_pay': 0, 'pay_free_watch': 0}, 'owner': {'mid': 335076959, 'name': '用户名未填写', 'face': 'http://i2.hdslb.com/bfs/face/732f42324b74d6a0b8f576c4661fbc3641333497.jpg'}, 'stat': {'aid': 46601555, 'view': 1521340, 'danmaku': 2997, 'reply': 3042, 'favorite': 35985, 'coin': 37773, 'share': 50051, 'now_rank': 0, 'his_rank': 3, 'like': 60600, 'dislike': 0}, 'dynamic': '#洪世贤##回家的诱惑##剪辑#', 'cid': 81637106, 'dimension': {'width': 1280, 'height': 720, 'rotate': 0}, 'short_link': 'https://b23.tv/BV1vb411n76g', 'short_link_v2': 'https://b23.tv/BV1vb411n76g', 'bvid': 'BV1vb411n76g', 'season_type': 0, 'is_ogv': False, 'ogv_info': None, 'rcmd_reason': 'AI换脸必看视频！你……你怎么穿品如的衣服呀？'}, {'aid': 46797630, 'videos': 1, 'tid': 212, 'tname': '美食侦探', 'copyright': 1, 'pic': 'http://i1.hdslb.com/bfs/archive/e6d407814892c54c5635943e69a4b1ffd8d6bccb.jpg', 'title': '在中国挑战通宵卖烧烤！为啥美国没有这个？', 'pubdate': 1553050747, 'ctime': 1553050747, 'desc': '在美国我们很少有深夜美食，但是在中国却很多，那么，通宵卖烧烤是怎样的一种生活呢？\\n\\n关注微信公众号“我是郭杰瑞”，不定期抽奖！', 'state': 0, 'duration': 326, 'rights': {'bp': 0, 'elec': 0, 'download': 0, 'movie': 0, 'pay': 0, 'hd5': 0, 'no_reprint': 1, 'autoplay': 1, 'ugc_pay': 0, 'is_cooperation': 0, 'ugc_pay_preview': 0, 'no_background': 0, 'arc_pay': 0, 'pay_free_watch': 0}, 'owner': {'mid': 176037767, 'name': '我是郭杰瑞', 'face': 'http://i2.hdslb.com/bfs/face/6182455e4d61159121c223ddc7a3a381f2d4d056.jpg'}, 'stat': {'aid': 46797630, 'view': 2574636, 'danmaku': 14221, 'reply': 3501, 'favorite': 5312, 'coin': 18777, 'share': 2045, 'now_rank': 0, 'his_rank': 5, 'like': 75647, 'dislike': 0}, 'dynamic': '我差点把自己烤熟了！', 'cid': 81965902, 'dimension': {'width': 1920, 'height': 1080, 'rotate': 0}, 'short_link': 'https://b23.tv/BV1Rb411E7yi', 'short_link_v2': 'https://b23.tv/BV1Rb411E7yi', 'bvid': 'BV1Rb411E7yi', 'season_type': 0, 'is_ogv': False, 'ogv_info': None, 'rcmd_reason': ''}, {'aid': 47306249, 'videos': 1, 'tid': 17, 'tname': '单机游戏', 'copyright': 1, 'pic': 'http://i2.hdslb.com/bfs/archive/11547c3b159fdf21d7fe080f0c2bfc1a35b4007c.jpg', 'title': '【纯黑】《鬼泣5》一周目无伤S评价攻略解说 第七期', 'pubdate': 1553501956, 'ctime': 1553499341, 'desc': '一周目最高难度，不是游戏最高难度。剧情杀以外无伤。\\n微博：@纯黑GK \\n直播间：www.zhanqi.tv/666666 \\n零食店：chlsd.taobao.com', 'state': 0, 'duration': 902, 'rights': {'bp': 0, 'elec': 0, 'download': 0, 'movie': 0, 'pay': 0, 'hd5': 1, 'no_reprint': 1, 'autoplay': 1, 'ugc_pay': 0, 'is_cooperation': 0, 'ugc_pay_preview': 0, 'no_background': 0, 'arc_pay': 0, 'pay_free_watch': 0}, 'owner': {'mid': 585267, 'name': '-纯黑-', 'face': 'http://i0.hdslb.com/bfs/face/e8ab7b02d6576f4141ea857734b68b9dd35a5730.jpg'}, 'stat': {'aid': 47306249, 'view': 1385259, 'danmaku': 5707, 'reply': 1953, 'favorite': 19538, 'coin': 74616, 'share': 1011, 'now_rank': 0, 'his_rank': 4, 'like': 61953, 'dislike': 0}, 'dynamic': '#攻略##鬼泣5##纯黑#', 'cid': 82850118, 'dimension': {'width': 1920, 'height': 1080, 'rotate': 0}, 'short_link': 'https://b23.tv/BV1Cb41147EK', 'short_link_v2': 'https://b23.tv/BV1Cb41147EK', 'bvid': 'BV1Cb41147EK', 'season_type': 0, 'is_ogv': False, 'ogv_info': None, 'rcmd_reason': ''}, {'aid': 47014688, 'videos': 1, 'tid': 24, 'tname': 'MAD·AMV', 'copyright': 1, 'pic': 'http://i0.hdslb.com/bfs/archive/5a1c8d5c8d4b57cf71ec87a971d07db636d39499.jpg', 'title': '化身修罗只为守护你！此刻世界将为之颤抖！', 'pubdate': 1553256958, 'ctime': 1553256959, 'desc': \"BGM：「Tommee Profitt,Jung Youth,Fleurie - In the End」素材：哥布林杀手，刺客五六七，Re:CREATORS，天狼，游戏人生，赤红之瞳，Fate系列，魔圆，黑色四叶草，DNF，东京喰种，野良神，宝石之国，境界的彼方，刀剑，火影，进击的巨人，灵能百分百，w'z，无彩限的怪灵，一拳超人，血界战线，rwby，平凡职业成就世界最强，噬神者，Flip Flappers，禁忌咒纹，绀青之拳，文豪野犬，电磁炮，空之境界全职高手剩下看热评\", 'state': 0, 'duration': 163, 'rights': {'bp': 0, 'elec': 0, 'download': 0, 'movie': 0, 'pay': 0, 'hd5': 1, 'no_reprint': 1, 'autoplay': 1, 'ugc_pay': 0, 'is_cooperation': 0, 'ugc_pay_preview': 0, 'no_background': 0, 'arc_pay': 0, 'pay_free_watch': 0}, 'owner': {'mid': 15377173, 'name': '烟季', 'face': 'http://i1.hdslb.com/bfs/face/3c657487f9a7993f50bcbafa82f64f99ff1229bd.jpg'}, 'stat': {'aid': 47014688, 'view': 6749064, 'danmaku': 16130, 'reply': 6184, 'favorite': 337466, 'coin': 411006, 'share': 31103, 'now_rank': 0, 'his_rank': 1, 'like': 396627, 'dislike': 0}, 'dynamic': '爆肝产出，一定要看完！', 'cid': 82342112, 'dimension': {'width': 1920, 'height': 1080, 'rotate': 0}, 'short_link': 'https://b23.tv/BV1gb41177rt', 'short_link_v2': 'https://b23.tv/BV1gb41177rt', 'bvid': 'BV1gb41177rt', 'season_type': 0, 'is_ogv': False, 'ogv_info': None, 'rcmd_reason': ''}, {'aid': 46952333, 'videos': 1, 'tid': 17, 'tname': '单机游戏', 'copyright': 1, 'pic': 'http://i0.hdslb.com/bfs/archive/cb91293adb09c5f57eabe8c160207b794e049b54.jpg', 'title': '破案大师老番茄', 'pubdate': 1553227211, 'ctime': 1553227217, 'desc': '游戏：Return of the Obra Dinn', 'state': 0, 'duration': 1114, 'rights': {'bp': 0, 'elec': 0, 'download': 0, 'movie': 0, 'pay': 0, 'hd5': 0, 'no_reprint': 1, 'autoplay': 1, 'ugc_pay': 0, 'is_cooperation': 0, 'ugc_pay_preview': 0, 'no_background': 0, 'arc_pay': 0, 'pay_free_watch': 0}, 'owner': {'mid': 546195, 'name': '老番茄', 'face': 'http://i0.hdslb.com/bfs/face/bc5ca101313d4db223c395d64779e76eb3482d60.jpg'}, 'stat': {'aid': 46952333, 'view': 6187424, 'danmaku': 15475, 'reply': 4092, 'favorite': 26962, 'coin': 50895, 'share': 2650, 'now_rank': 0, 'his_rank': 4, 'like': 131079, 'dislike': 0}, 'dynamic': '这游戏玩的我快瞎了。', 'cid': 82235716, 'dimension': {'width': 1920, 'height': 1080, 'rotate': 0}, 'short_link': 'https://b23.tv/BV1Sb411j75C', 'short_link_v2': 'https://b23.tv/BV1Sb411j75C', 'bvid': 'BV1Sb411j75C', 'season_type': 0, 'is_ogv': False, 'ogv_info': None, 'rcmd_reason': ''}, {'aid': 47126553, 'videos': 3, 'tid': 171, 'tname': '电子竞技', 'copyright': 1, 'pic': 'http://i2.hdslb.com/bfs/archive/48a9c300999a712e8271e417d8d6da417f2c29d4.jpg', 'title': '[LPL春季赛] 3月23日 RNG vs IG', 'pubdate': 1553347231, 'ctime': 1553347232, 'desc': '[LPL春季赛] 3月23日 RNG vs IG', 'state': 0, 'duration': 9492, 'rights': {'bp': 0, 'elec': 0, 'download': 0, 'movie': 0, 'pay': 0, 'hd5': 0, 'no_reprint': 0, 'autoplay': 1, 'ugc_pay': 0, 'is_cooperation': 0, 'ugc_pay_preview': 0, 'no_background': 0, 'arc_pay': 0, 'pay_free_watch': 0}, 'owner': {'mid': 50329118, 'name': '哔哩哔哩英雄联盟赛事', 'face': 'http://i2.hdslb.com/bfs/face/cb620bbb9071974f37843134875d472b47532a97.jpg'}, 'stat': {'aid': 47126553, 'view': 3683639, 'danmaku': 107141, 'reply': 47451, 'favorite': 21090, 'coin': 25319, 'share': 5396, 'now_rank': 0, 'his_rank': 9, 'like': 38624, 'dislike': 0}, 'dynamic': '', 'cid': 82536177, 'dimension': {'width': 1920, 'height': 1080, 'rotate': 0}, 'short_link': 'https://b23.tv/BV19b411774z', 'short_link_v2': 'https://b23.tv/BV19b411774z', 'bvid': 'BV19b411774z', 'season_type': 0, 'is_ogv': False, 'ogv_info': None, 'rcmd_reason': ''}, {'aid': 45031807, 'videos': 1, 'tid': 130, 'tname': '音乐综合', 'copyright': 2, 'pic': 'http://i0.hdslb.com/bfs/archive/aef6dc906a1a518430425c05d488dcec46555d51.jpg', 'title': 'the real suger baby已知最高画质', 'pubdate': 1551437298, 'ctime': 1551437298, 'desc': '转自油管', 'state': 0, 'duration': 29, 'rights': {'bp': 0, 'elec': 0, 'download': 0, 'movie': 0, 'pay': 0, 'hd5': 0, 'no_reprint': 0, 'autoplay': 1, 'ugc_pay': 0, 'is_cooperation': 0, 'ugc_pay_preview': 0, 'no_background': 0, 'arc_pay': 0, 'pay_free_watch': 0}, 'owner': {'mid': 30194033, 'name': '一嗷垚', 'face': 'http://i2.hdslb.com/bfs/face/782067e92ee35c5bb8d4397030f215701914f834.jpg'}, 'stat': {'aid': 45031807, 'view': 28805530, 'danmaku': 21747, 'reply': 19575, 'favorite': 733118, 'coin': 239660, 'share': 102621, 'now_rank': 0, 'his_rank': 65, 'like': 765261, 'dislike': 0}, 'dynamic': '#欧美音乐#', 'cid': 78868295, 'dimension': {'width': 1280, 'height': 720, 'rotate': 0}, 'short_link': 'https://b23.tv/BV16b411b71j', 'short_link_v2': 'https://b23.tv/BV16b411b71j', 'bvid': 'BV16b411b71j', 'season_type': 0, 'is_ogv': False, 'ogv_info': None, 'rcmd_reason': ''}]}}\n",
      "fuck\n"
     ]
    }
   ],
   "source": [
    "import requests\n",
    "\n",
    "url = 'https://api.bilibili.com/x/web-interface/popular/series/one?number=1'\n",
    "html = requests.get(url).json()\n",
    "print(html)\n",
    "print('fuck')"
   ]
  },
  {
   "cell_type": "code",
   "execution_count": 9,
   "metadata": {},
   "outputs": [
    {
     "name": "stdout",
     "output_type": "stream",
     "text": [
      "12\n"
     ]
    }
   ],
   "source": [
    "print(len(html['data']['list']))"
   ]
  },
  {
   "cell_type": "code",
   "execution_count": null,
   "metadata": {},
   "outputs": [],
   "source": []
  }
 ],
 "metadata": {
  "interpreter": {
   "hash": "eb7f9805a82d7919dd74890a973c8970137e9823ad1b7c89f90a82f7cb263d49"
  },
  "kernelspec": {
   "display_name": "Python 3.8.13 ('web')",
   "language": "python",
   "name": "python3"
  },
  "language_info": {
   "codemirror_mode": {
    "name": "ipython",
    "version": 3
   },
   "file_extension": ".py",
   "mimetype": "text/x-python",
   "name": "python",
   "nbconvert_exporter": "python",
   "pygments_lexer": "ipython3",
   "version": "3.8.13"
  },
  "orig_nbformat": 4
 },
 "nbformat": 4,
 "nbformat_minor": 2
}
