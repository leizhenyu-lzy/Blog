{
 "cells": [
  {
   "cell_type": "code",
   "execution_count": null,
   "metadata": {},
   "outputs": [],
   "source": [
    "import os"
   ]
  },
  {
   "cell_type": "code",
   "execution_count": null,
   "metadata": {},
   "outputs": [],
   "source": [
    "# 绝对路径 __file__代表当前文件\n",
    "dir1=os.path.dirname(__file__)  # d:\\Project\\Blog\\Python\\OS\n",
    "print(dir1)\n",
    "# 绝对路径\n",
    "dir2=os.getcwd()  # d:\\Project\\Blog\\Python\\OS\n",
    "print(dir2)\n"
   ]
  },
  {
   "cell_type": "code",
   "execution_count": null,
   "metadata": {},
   "outputs": [],
   "source": [
    "file1 = open('test.txt', encoding='utf-8')\n",
    "content1 = file1.read()\n",
    "print(content1)\n",
    "file2 = open(r'D:\\Project\\Blog\\Python\\OS\\test.txt',encoding='utf-8')\n",
    "content2 = file2.read()\n",
    "print(content2)"
   ]
  }
 ],
 "metadata": {
  "kernelspec": {
   "display_name": "Python 3.8.13 ('ML')",
   "language": "python",
   "name": "python3"
  },
  "language_info": {
   "name": "python",
   "version": "3.8.13"
  },
  "orig_nbformat": 4,
  "vscode": {
   "interpreter": {
    "hash": "8809126b2e3f6bd67afd8dec0aaf136102c3339cf179547b748c69a78a732e29"
   }
  }
 },
 "nbformat": 4,
 "nbformat_minor": 2
}
