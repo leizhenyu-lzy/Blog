{
 "cells": [
  {
   "cell_type": "markdown",
   "metadata": {},
   "source": [
    "# <a id='toc1_'></a>[Advanced Python](#toc0_)\n",
    "\n",
    "[合集·不基础的python基础 - 码农高天](https://space.bilibili.com/245645656/channel/collectiondetail?sid=346060)\n",
    "\n"
   ]
  },
  {
   "cell_type": "markdown",
   "metadata": {},
   "source": [
    "**Table of contents**<a id='toc0_'></a>    \n",
    "- [Advanced Python](#toc1_)    \n",
    "  - [import](#toc1_1_)    \n",
    "  - [迭代器 & for loop ](#toc1_2_)    \n",
    "  - [生成器 ](#toc1_3_)    \n",
    "\n",
    "<!-- vscode-jupyter-toc-config\n",
    "\tnumbering=false\n",
    "\tanchor=true\n",
    "\tflat=false\n",
    "\tminLevel=1\n",
    "\tmaxLevel=6\n",
    "\t/vscode-jupyter-toc-config -->\n",
    "<!-- THIS CELL WILL BE REPLACED ON TOC UPDATE. DO NOT WRITE YOUR TEXT IN THIS CELL -->"
   ]
  },
  {
   "cell_type": "markdown",
   "metadata": {},
   "source": [
    "## <a id='toc1_1_'></a>[import](https://www.bilibili.com/video/BV1K24y1k7XA/) [&#8593;](#toc0_)\n",
    "\n",
    "两个概念\n",
    "1. [module](https://docs.python.org/zh-cn/3.8/tutorial/modules.html#modules)\n",
    "   1. Python **运行时** 概念，保存在 **内存** 中，而**文件**是一个 **操作系统级别** 的概念\n",
    "   2. 需要 import 过程 从 文件 生成 module\n",
    "   3. 是一个 组织单位\n",
    "   4. 独立构成一个 命名空间\n",
    "   5. 本身是 **Python Object**，里面可以包含其他 Python Object\n",
    "   6. 一个 module 通常对应一个 .py 文件\n",
    "2. [package](https://docs.python.org/zh-cn/3.8/tutorial/modules.html#packages)\n",
    "   1. 一种特殊的 module\n",
    "   2. 比 module 多了一个 \\_\\_path\\_\\_\n",
    "   3. 在操作系统层面，package 往往对应一个文件夹\n",
    "   4. package 里可以有 subpackage 也可以有 module\n",
    "   5. 无论有没有 \\_\\_init\\_\\_.py 文件，都可以作为 package\n",
    "\n",
    "\n",
    "import 是把文件系统里面的 文件&文件夹 变成 Python 的 module 或 package\n",
    "\n",
    "import xxx 时发生\n",
    "1. 拿到 xxx 字符串作为 名字 寻找 module\n",
    "2. 检查 缓存 有无名为 xxx 的 module 已被读取\n",
    "   1. 有 无需 load 直接 赋值给 xxx\n",
    "   2. 没有 需要寻找 名为 xxx 的module\n",
    "   3. 检查是否为 builtin module - python 自带的 (sys,os,math)\n",
    "   4. 不是 builtin 在文件夹里寻找 可以被 load 为 xxx 的文件\n",
    "      1. 最常见的是 xxx.py\n",
    "      2. 寻找路径被保存到了 **sys.path** 中\n",
    "         1. '' 表示当前文件所在文件夹\n",
    "         2. **site-packages** 是 **pip install** 的位置\n",
    "      3. python 运行时 可以手动修改 sys.path\n",
    "      4. 会按照 sys.path 的顺序寻找，一旦找到就不继续寻找，需要注意 **命名冲突问题**\n",
    "3. 寻找到符合条件的文件后，在单独的 命名空间 中运行该文件(建立 module)\n",
    "4. 完成 module object 后，更新缓存，避免重复 load (下一次 import 时，直接拿到缓存好的 module)\n",
    "5. 将 module object 赋值给 xxx 变量\n",
    "6. xxx 可以作为一个 变量 被使用\n",
    "7. xxx 的两个责任\n",
    "   1. 根据 xxx 字符串 拿到 module\n",
    "   2. 将 module 保存到 xxx 变量\n",
    "8. import xxx as yyy\n",
    "   1. 根据 xxx 名字 找 module\n",
    "   2. 把 module 保存到 yyy 变量\n",
    "9. from xxx import yyy (as zzz)\n",
    "   1. 只需要 module 中的 yyy object\n",
    "   2. 依然会 load xxx module 并刷新缓存\n",
    "   3. 不把 module 赋值给任何变量，而是在 module 中找到 yyy 并将其保存的 object 赋值给 yyy 变量\n",
    "10. import package 和 module 的区别\n",
    "    1.  import package 时，会查看 package 文件夹下有无 \\_\\_init\\_\\_.py 文件\n",
    "        1.  如果没有 不会运行任何额外的代码\n",
    "        2.  如果有 则运行 \\_\\_init\\_\\_.py 文件\n",
    "    2.  实际上是在单独的命名空间中运行 \\_\\_init\\_\\_.py 文件并用该命名空间构成 module(package)\n",
    "    3.  使用 dir(xxx) 查看 package\n",
    "    4.  import package 只会运行 \\_\\_init\\_\\_.py，如果没有在 \\_\\_init\\_\\_.py 文件中写明 文件夹下的其他文件 则 python 不知道\n",
    "    5.  import xxx.yyy 导入 package 下的 module，同时 把最外层的 package 赋值给 xxx\n",
    "\n"
   ]
  },
  {
   "cell_type": "code",
   "execution_count": null,
   "metadata": {},
   "outputs": [],
   "source": []
  },
  {
   "cell_type": "markdown",
   "metadata": {},
   "source": [
    "## <a id='toc1_2_'></a>[迭代器 & for loop](https://www.bilibili.com/video/BV1ca411t7A9/)  [&#8593;](#toc0_)\n"
   ]
  },
  {
   "cell_type": "code",
   "execution_count": 1,
   "metadata": {},
   "outputs": [
    {
     "name": "stdout",
     "output_type": "stream",
     "text": [
      "1\n",
      "3\n",
      "5\n",
      "a\n",
      "b\n"
     ]
    }
   ],
   "source": [
    "l = [1,3,5]\n",
    "for i in l:\n",
    "    print(i)\n",
    "\n",
    "d = {\"a\":1, \"b\":2}\n",
    "for i in d:\n",
    "    print(i)\n"
   ]
  },
  {
   "cell_type": "markdown",
   "metadata": {},
   "source": [
    "[iterable -- 可迭代对象](https://docs.python.org/zh-cn/3/glossary.html#term-iterable)\n",
    "\n",
    "一种能够逐个返回其成员项的对象。 可迭代对象的例子包括所有序列类型（如 list, str 和 tuple 等）以及某些非序列类型如 dict, 文件对象 以及任何自定义类的对象，只要满足\n",
    "1. 定义了 \\_\\_iter\\_\\_() 方法 - 返回一个 iterator\n",
    "2. 或实现了 sequence 语义的 \\_\\_getitem\\_\\_() 方法\n",
    "\n",
    "可迭代对象可被用于 for 循环以及许多其他需要一个序列的地方\n",
    "\n",
    "[iterator -- 迭代器](https://docs.python.org/zh-cn/3/glossary.html#term-iterator)\n",
    "\n",
    "用来表示一连串数据流的对象。 重复调用迭代器的 \\_\\_next\\_\\_() 方法 (或将其传给内置函数 next()) 将逐个返回流中的项。 当没有数据可用时则将引发 StopIteration 异常\n",
    "\n",
    "迭代器必须具有 \\_\\_iter\\_\\_() 方法用来返回该迭代器对象自身，**因此迭代器必定也是可迭代对象**，可被用于其他可迭代对象适用的大部分场合\n",
    "\n",
    "使得 iterator 也是 iterable，可以写在 for loop 中\n"
   ]
  },
  {
   "cell_type": "markdown",
   "metadata": {},
   "source": [
    "两者区别\n",
    "1. iterable\n",
    "   1. 类似于数据的保存者\n",
    "   2. 可以没有状态\n",
    "   3. 可以不知道 iterator 数到哪里了\n",
    "   4. 需要有能力产生 iterator\n",
    "2. iterator\n",
    "   1. 一定是有状态的\n",
    "   2. 不需要interface 修改 iterable 里面的数据"
   ]
  },
  {
   "cell_type": "markdown",
   "metadata": {},
   "source": [
    "在 for x in iterable 时，for loop 先做了一个 从 iterable 拿到 iterator 的操作"
   ]
  },
  {
   "cell_type": "code",
   "execution_count": 32,
   "metadata": {},
   "outputs": [],
   "source": [
    "# 链表实现\n",
    "\n",
    "class NodeIter:  # iterator\n",
    "    def __init__(self, node) -> None:\n",
    "        self.curNode = node\n",
    "    def __next__(self) -> None:\n",
    "        if self.curNode is None:\n",
    "            raise StopIteration\n",
    "        node = self.curNode  # 返回当前 node\n",
    "        self.curNode = self.curNode.next\n",
    "        return node\n",
    "    def __iter__(self):\n",
    "        return self\n",
    "\n",
    "class Node:  # iterable\n",
    "    def __init__(self, num) -> None:\n",
    "        self.num = num\n",
    "        self.next = None\n",
    "        \n",
    "    def __iter__(self):\n",
    "        return NodeIter(self)  # 返回一个NodeIter实例，以当前节点作为开始的节点\n"
   ]
  },
  {
   "cell_type": "code",
   "execution_count": 33,
   "metadata": {},
   "outputs": [
    {
     "name": "stdout",
     "output_type": "stream",
     "text": [
      "1\n",
      "2\n",
      "3\n",
      "--------------\n",
      "1\n",
      "2\n",
      "3\n"
     ]
    }
   ],
   "source": [
    "# node 都是 iterable\n",
    "node1 = Node(1)\n",
    "node2 = Node(2)\n",
    "node3 = Node(3)\n",
    "\n",
    "node1.next = node2\n",
    "node2.next = node3\n",
    "# node3.next = node1  # 别尝试(循环链表)\n",
    "\n",
    "for node in node1:\n",
    "    print(node.num)\n",
    "\n",
    "print(\"--------------\")\n",
    "\n",
    "for node in iter(node1):  # 因为 NodeIter 里面 实现了 iter 所以可以正常运行，否则不是 iterable\n",
    "    print(node.num)\n"
   ]
  },
  {
   "cell_type": "code",
   "execution_count": 25,
   "metadata": {},
   "outputs": [
    {
     "name": "stdout",
     "output_type": "stream",
     "text": [
      "True\n",
      "False\n",
      "True\n",
      "True\n"
     ]
    }
   ],
   "source": [
    "from collections.abc import Iterable, Iterator\n",
    "\n",
    "testNode = Node(0)\n",
    "testNodeIter = NodeIter(node)\n",
    "\n",
    "print(isinstance(testNode,Iterable))  # True\n",
    "print(isinstance(testNode,Iterator))  # False\n",
    "print(isinstance(testNodeIter,Iterable))  # True\n",
    "print(isinstance(testNodeIter,Iterator))  # True\n"
   ]
  },
  {
   "cell_type": "markdown",
   "metadata": {},
   "source": [
    "## <a id='toc1_3_'></a>[生成器](https://www.bilibili.com/video/BV1KS4y1D7Qb/)  [&#8593;](#toc0_)\n",
    "\n",
    "生成器是一种特殊的迭代器\n",
    "\n",
    "两个概念\n",
    "1. 生成器函数\n",
    "2. 生成器对象\n",
    "\n",
    "当编译时发现函数的定义里有 yield 关键词时，则不会将函数当做普通函数处理，而是当做**生成器函数**\n",
    "\n",
    "调用**生成器函数**得到一个**生成器对象**，yield、return 都不是返回值\n",
    "\n",
    "对生成器对象使用 next 函数时，才开始真正运行函数本体\n",
    "\n",
    "生成器函数会先执行 yield 之前的部分，并**在 yield 的地方返回 值**，**然后函数暂停执行**\n",
    "\n",
    "下次再对生成器对象使用next的时候，会接着 yield 运行下面的代码\n",
    "\n",
    "在生成器函数内，return 等价于 raise StopIteration"
   ]
  },
  {
   "cell_type": "code",
   "execution_count": 30,
   "metadata": {},
   "outputs": [
    {
     "name": "stdout",
     "output_type": "stream",
     "text": [
      "5\n",
      "-----\n",
      "4\n",
      "3\n",
      "2\n",
      "1\n"
     ]
    }
   ],
   "source": [
    "def gen(num):  # 生成器函数\n",
    "    while num>0:\n",
    "        yield num\n",
    "        num -= 1\n",
    "    return\n",
    "\n",
    "g = gen(5)  # 生成器对象\n",
    "print(next(g))\n",
    "\n",
    "print(\"-----\")\n",
    "\n",
    "for i in g:\n",
    "    print(i)\n"
   ]
  },
  {
   "cell_type": "code",
   "execution_count": 33,
   "metadata": {},
   "outputs": [
    {
     "name": "stdout",
     "output_type": "stream",
     "text": [
      "1\n",
      "2\n",
      "3\n",
      "--------------\n",
      "1\n",
      "2\n",
      "3\n"
     ]
    }
   ],
   "source": [
    "class Node:\n",
    "    def __init__(self, num) -> None:\n",
    "        self.num = num\n",
    "        self.next = None\n",
    "    \n",
    "    def __iter__(self):\n",
    "        node = self\n",
    "        while node is not None:\n",
    "            yield node\n",
    "            node = node.next\n",
    "\n",
    "node1 = Node(1)\n",
    "node2 = Node(2)\n",
    "node3 = Node(3)\n",
    "\n",
    "node1.next = node2\n",
    "node2.next = node3\n",
    "# node3.next = node1  # 别尝试\n",
    "\n",
    "for node in node1:\n",
    "    print(node.num)\n",
    "\n",
    "print(\"--------------\")\n",
    "\n",
    "for node in iter(node1):\n",
    "    # 对生成器对象使用 next 函数时，才开始真正运行函数本体\n",
    "    # 生成器函数在被调用时并不立即执行，而是返回一个生成器对象\n",
    "    print(node.num)\n"
   ]
  },
  {
   "cell_type": "markdown",
   "metadata": {},
   "source": [
    "生成器的用法和迭代器几乎一样\n",
    "\n",
    "但生成器本身有一个高级用法 - **send**\n",
    "\n",
    "在生成器 yield 后，把 yield 内容变成一个值，该值可以继续赋给生成器函数里的其他变量\n",
    "\n",
    "send 函数是一个机制，可以和 generator 交互，改变其运行状态"
   ]
  },
  {
   "cell_type": "code",
   "execution_count": 36,
   "metadata": {},
   "outputs": [
    {
     "name": "stdout",
     "output_type": "stream",
     "text": [
      "first: 5\n",
      "second: 4\n",
      "send:9\n",
      "8\n",
      "7\n",
      "6\n",
      "5\n",
      "4\n",
      "3\n",
      "2\n",
      "1\n"
     ]
    }
   ],
   "source": [
    "def gen(num):\n",
    "    while num>0:\n",
    "        temp = yield num  # yield会等send\n",
    "        if temp is not None:\n",
    "            num = temp\n",
    "        num -= 1\n",
    "\n",
    "g = gen(5)\n",
    "\n",
    "first = next(g)  # next(g) 等价于 g.send(None)\n",
    "print(f\"first: {first}\")\n",
    "\n",
    "second = g.send(None)\n",
    "print(f\"second: {second}\")\n",
    "\n",
    "print(f\"send:{g.send(10)}\")  # 10 会赋值给 gen() 里的 temp\n",
    "\n",
    "for i in g:\n",
    "    print(i)\n"
   ]
  },
  {
   "cell_type": "markdown",
   "metadata": {},
   "source": [
    "## *args & **kwargs\n",
    "\n",
    "参数中\n",
    "1. \\* 对应 positional arguments 放入 tuple\n",
    "2. \\*\\* 对应 keyword arguments 放入 dictionary"
   ]
  },
  {
   "cell_type": "code",
   "execution_count": 30,
   "metadata": {},
   "outputs": [
    {
     "name": "stdout",
     "output_type": "stream",
     "text": [
      "[1, 2, 3, 4, 5]\n",
      "1 2 3 4 5\n",
      "[1, 2, 3, 4, 5, 1, 2, 3, 4, 5]\n",
      "hahahahahahahahahaha\n",
      "1\n",
      "[2, 3, 4, 5]\n",
      "2 3 4 5\n",
      "[1, 2, 3, 4, 5, 6]\n",
      "dict_items([('a', 1), ('b', 2), ('c', 4), ('d', 5), ('e', 6)])\n"
     ]
    }
   ],
   "source": [
    "nums = [1,2,3,4,5]\n",
    "\n",
    "# * -> unpacking\n",
    "print(nums)\n",
    "print(*nums)\n",
    "\n",
    "# * -> replicate\n",
    "print(nums*2)\n",
    "print(\"ha\"*10)\n",
    "\n",
    "# \n",
    "a, *b = nums  # packing\n",
    "print(a)\n",
    "print(b)\n",
    "print(*b)  # unpacking\n",
    "\n",
    "# merge\n",
    "a = [1,2,3]\n",
    "b = (4,5,6)\n",
    "c = [*a, *b]\n",
    "print(c)\n",
    "\n",
    "dict1 = {\"a\":1, \"b\":2, \"c\":3}\n",
    "dict2 = {\"c\":4, \"d\":5, \"e\":6}\n",
    "dict3 = {**dict1, **dict2}\n",
    "print(dict3.items())\n"
   ]
  },
  {
   "cell_type": "code",
   "execution_count": 21,
   "metadata": {},
   "outputs": [
    {
     "name": "stdout",
     "output_type": "stream",
     "text": [
      "a\n",
      "('b', 'c', 'd')\n",
      "b c d\n"
     ]
    }
   ],
   "source": [
    "def printAll(a, *pack):  # * 对应 positional arguments 放入 tuple\n",
    "    print(a)\n",
    "    print(pack)\n",
    "    print(*pack)\n",
    "\n",
    "printAll(\"a\",\"b\",\"c\",\"d\")\n"
   ]
  },
  {
   "cell_type": "code",
   "execution_count": 22,
   "metadata": {},
   "outputs": [
    {
     "name": "stdout",
     "output_type": "stream",
     "text": [
      "a\n",
      "('b', 'c', 'd')\n",
      "b c d\n",
      "{'pp1': 1, 'pp2': 2}\n",
      "dict_keys(['pp1', 'pp2'])\n",
      "dict_values([1, 2])\n",
      "pp1 1\n",
      "pp2 2\n"
     ]
    }
   ],
   "source": [
    "def printAll(a, *pack, **pp):  # ** 对应 keyword arguments 放入 dictionary\n",
    "    print(a)\n",
    "    print(pack)\n",
    "    print(*pack)\n",
    "    print(pp)\n",
    "    print(pp.keys())\n",
    "    print(pp.values())\n",
    "    for k,v in pp.items():\n",
    "        print(k, v)\n",
    "    # help(dict.items)  # D.items() -> a set-like object providing a view on D's items\n",
    "\n",
    "printAll(\"a\",\"b\",\"c\",\"d\",pp1=1,pp2=2)\n"
   ]
  },
  {
   "cell_type": "code",
   "execution_count": 28,
   "metadata": {},
   "outputs": [
    {
     "name": "stdout",
     "output_type": "stream",
     "text": [
      "1\n",
      "2\n",
      "3\n"
     ]
    }
   ],
   "source": [
    "def printDict(a,b,c):\n",
    "    print(a)\n",
    "    print(b)\n",
    "    print(c)\n",
    "\n",
    "dict1 = {\"a\":1, \"b\":2, \"c\":3}\n",
    "\n",
    "printDict(**dict1)\n"
   ]
  },
  {
   "cell_type": "code",
   "execution_count": null,
   "metadata": {},
   "outputs": [],
   "source": [
    "\n",
    "\n",
    "\n",
    "\n"
   ]
  },
  {
   "cell_type": "code",
   "execution_count": 24,
   "metadata": {},
   "outputs": [
    {
     "name": "stdout",
     "output_type": "stream",
     "text": [
      "2.2.2+cu121\n",
      "12.1\n",
      "8902\n"
     ]
    }
   ],
   "source": [
    "import torch\n",
    "print(torch.__version__)\n",
    "print(torch.version.cuda)\n",
    "print(torch.backends.cudnn.version())\n"
   ]
  }
 ],
 "metadata": {
  "kernelspec": {
   "display_name": "Python 3",
   "language": "python",
   "name": "python3"
  },
  "language_info": {
   "codemirror_mode": {
    "name": "ipython",
    "version": 3
   },
   "file_extension": ".py",
   "mimetype": "text/x-python",
   "name": "python",
   "nbconvert_exporter": "python",
   "pygments_lexer": "ipython3",
   "version": "3.10.12"
  }
 },
 "nbformat": 4,
 "nbformat_minor": 2
}
