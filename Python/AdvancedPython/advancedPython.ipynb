{
 "cells": [
  {
   "cell_type": "markdown",
   "metadata": {},
   "source": [
    "# <a id='toc1_'></a>[Advanced Python](#toc0_)\n"
   ]
  },
  {
   "cell_type": "markdown",
   "metadata": {},
   "source": [
    "**Table of contents**<a id='toc0_'></a>    \n",
    "- [Advanced Python](#toc1_)    \n",
    "  - [魔术方法](#toc1_1_)    \n",
    "  - [import    ](#toc1_2_)    \n",
    "  - [迭代器 & for loop     ](#toc1_3_)    \n",
    "  - [生成器     ](#toc1_4_)    \n",
    "  - [*args & **kwargs](#toc1_5_)    \n",
    "  - [装饰器](#toc1_6_)    \n",
    "    - [@staticmethod 静态方法](#toc1_6_1_)    \n",
    "  - [with 语句](#toc1_7_)    \n",
    "  - [open 语句](#toc1_8_)    \n",
    "  - [哈希](#toc1_9_)    \n",
    "    - [哈希表](#toc1_9_1_)    \n",
    "    - [Python 中的哈希](#toc1_9_2_)    \n",
    "\n",
    "<!-- vscode-jupyter-toc-config\n",
    "\tnumbering=false\n",
    "\tanchor=true\n",
    "\tflat=false\n",
    "\tminLevel=1\n",
    "\tmaxLevel=6\n",
    "\t/vscode-jupyter-toc-config -->\n",
    "<!-- THIS CELL WILL BE REPLACED ON TOC UPDATE. DO NOT WRITE YOUR TEXT IN THIS CELL -->"
   ]
  },
  {
   "cell_type": "markdown",
   "metadata": {},
   "source": [
    "## <a id='toc1_1_'></a>[魔术方法](#toc0_)\n",
    "\n",
    "[Special method names - Python](https://docs.python.org/3/reference/datamodel.html#special-method-names)\n",
    "\n",
    "[魔术方法 - 码农高天](https://space.bilibili.com/245645656/search/video?keyword=%E9%AD%94%E6%9C%AF)\n",
    "\n",
    "\n",
    "魔术方法 是 Python 提供的让用户客制化一个类的方法(定义在类中的一些特殊方法)\n",
    "\n",
    "标志 - 前后 双下划线 `__xxx__`\n",
    "\n",
    "\n",
    "魔术方法\n",
    "1. 初始化和构造如果建立\n",
    "   1. `__new__(cls, [...])`: 真正的构造函数，用于创建实例，在__init__之前调用。从class建立object的过程。必须返回建立的object\n",
    "   2. `__init__(self, [...])`: 构造器，当一个新的对象被创建时调用。有object后，初始化过程。无返回值，self即为需要初始化的对象\n",
    "   3. `__del__(self)`: 对象被释放，比较不可控(①引用为0时 ②garbage collection时 ③Interpreter结束)。和关键字`del`无关，不一定会触发`__del__(self)`\n",
    "   4. object 时传入参数，则同时会被传给 (`__new__(self, [...])` & `__init__(self, [...])`)\n",
    "   5. 一般只需要初始化，不需要客制化建立object的过程(反例，单例模式)\n",
    "2. 表示和格式化 (返回 object 的字符串表示)\n",
    "   1. `__repr__(self)`: 官方的字符串表示(更详细的信息)\n",
    "   2. `__str__(self)`: 较为友好的字符串表示(方便人类理解&阅读)\n",
    "   3. 都定义时，print 使用 `__str__(self)`\n",
    "   4. `__format__(self, spec)`\n",
    "   5. `__bytes__()`: 使得对象可以通过bytes()函数进行转换，返回对象的字节表示，用于将对象序列化为字节流以便存储或网络传输等场景。可能需要 反序列化\n",
    "3. 集合/序列方法\n",
    "   1. `__len__(self)`: 返回容器中元素的数量\n",
    "   2. `__getitem__(self, key)`: 定义获取容器中元素的行为，例如 self[key]\n",
    "   3. `__setitem__(self, key, value)`: 定义设置容器中指定元素的行为\n",
    "   4. `__delitem__(self, key)`: 定义删除容器中元素的行为\n",
    "4. 迭代\n",
    "   1. `__iter__(self)`: 返回迭代器对象本身，通常用于for循环中\n",
    "   2. `__next__(self)`: 使对象成为迭代器，返回下一个迭代值\n",
    "5. 运算符重载\n",
    "   1. `__add__`: 加法运算符\n",
    "   2. `__sub__`: 减法运算符\n",
    "   3. `__mul__`: 乘法运算符\n",
    "   4. `__truediv__`: 真除法运算符\n",
    "   5. `__floordiv__`: 地板除法运算符\n",
    "   6. `__mod__`: 模运算符\n",
    "6. 比较方法(rich comparison)\n",
    "   1. `__eq__`: 等于。如果没有定义，python 默认使用 is 进行 == 比较\n",
    "   2. `__ne__`: not equal 不等于。如果没有定义，python 默认将 等于函数结果取反\n",
    "   3. `__lt__`: 小于。python 默认 大于和小于 是一对 (`x>y` <-> `y<x`)\n",
    "   4. `__le__`: 小于等于。python 不会通过 小于 和 等于 进行推测\n",
    "   5. `__gt__`: 大于\n",
    "   6. `__ge__`: 大于等于\n",
    "   7. 优先使用**运算符左边的类**的rich comparison，优先使用**衍生类**的rich comparison\n",
    "   8. `__hash__`: 必须返回整数，对于相等的对象必须有相同的hash值。自定义数据结构有默认的 `__hash__()` & `__eq__`。但是如果定了自己的 `__eq__`，默认的 `__hash__()` 则会被删除，需要自己定义。因为必须满足 对象相等则hash值相等\n",
    "   9. `__bool__`: 对于所有自定义对象，如果直接放在 if statement 中，都会被认为是 True\n",
    "7. 上下文管理\n",
    "   1. `__enter__(self)`: 进入with语句的上下文管理器时调用\n",
    "   2. `__exit__(self, exc_type, exc_value, traceback)`: 离开with语句的上下文管理器时调用\n",
    "8. 属性(attr - attribute)\n",
    "   1. `__getattr__(self, name)`: 定义 **读取不存在的属性的** 行为，不能使用`getattr()`函数，否则无限递归\n",
    "   2. `__getattribute__(self, name)`: 拦截对象的所有属性访问尝试，无论是访问存在的属性还是不存在的属性\n",
    "   3. `__setattr__(self, name, value)`: 定义 设置属性时的行为\n",
    "   4. `__delattr__(self, name)`: 定义 删除属性时的行为，在 object 正常 产生和消亡的过程中，不会被调用\n",
    "   5. `__dir__()`: 使用 `dir()` 函数 列举属性(有 内置的&自定义的)，必须返回 sequence\n",
    "\n",
    "\n",
    "\n"
   ]
  },
  {
   "cell_type": "code",
   "execution_count": 4,
   "metadata": {},
   "outputs": [
    {
     "name": "stdout",
     "output_type": "stream",
     "text": [
      "<class 'type'>\n",
      "A\n",
      "__new__()\n",
      "__init__()\n",
      "__del__()\n",
      "__format__(x)\n",
      "0xAA\n",
      "end\n"
     ]
    }
   ],
   "source": [
    "class A:\n",
    "    def __new__(cls, x):  # cls在这里代表了类A本身\n",
    "        print(type(cls))  # <class 'type'>\n",
    "        print(cls.__name__)\n",
    "        print(\"__new__()\")\n",
    "        return super().__new__(cls)  # super().__new__(cls)调用了超类(object)的__new__方法来实际创建一个实例\n",
    "\n",
    "    def __init__(self, x) -> None:\n",
    "        print(\"__init__()\")\n",
    "\n",
    "    def __del__(self):\n",
    "        print(\"__del__()\")\n",
    "\n",
    "    def __format__(self, format_spec: str) -> str:\n",
    "        print(f\"__format__({format_spec})\")\n",
    "        if format_spec == \"x\":\n",
    "            return \"0xAA\"\n",
    "        return \"<AA>\"\n",
    "\n",
    "    def __bytes__(self):\n",
    "        print(\"__bytes__()\")\n",
    "        return bytes(0)\n",
    "\n",
    "\n",
    "\n",
    "o = A(10)\n",
    "x = o\n",
    "print(format(o, \"x\"))\n",
    "del(o)\n",
    "print(\"end\")\n"
   ]
  },
  {
   "cell_type": "code",
   "execution_count": 6,
   "metadata": {},
   "outputs": [
    {
     "name": "stdout",
     "output_type": "stream",
     "text": [
      "__getattribute__() : num\n",
      "50.0\n",
      "__getattribute__() : num\n",
      "50.0\n",
      "__getattribute__() : num\n",
      "50.0\n",
      "__getattribute__() : counter\n",
      "6\n",
      "dir\n",
      "__getattribute__() : __dict__\n",
      "__getattribute__() : __class__\n",
      "['__class__', '__delattr__', '__dict__', '__dir__', '__doc__', '__eq__', '__format__', '__ge__', '__getattr__', '__getattribute__', '__gt__', '__hash__', '__init__', '__init_subclass__', '__le__', '__lt__', '__module__', '__ne__', '__new__', '__reduce__', '__reduce_ex__', '__repr__', '__setattr__', '__sizeof__', '__str__', '__subclasshook__', '__weakref__', 'counter', 'num']\n",
      "__del_attr__()\n",
      "dir\n",
      "__getattribute__() : __dict__\n",
      "__getattribute__() : __class__\n",
      "['__class__', '__delattr__', '__dict__', '__dir__', '__doc__', '__eq__', '__format__', '__ge__', '__getattr__', '__getattribute__', '__gt__', '__hash__', '__init__', '__init_subclass__', '__le__', '__lt__', '__module__', '__ne__', '__new__', '__reduce__', '__reduce_ex__', '__repr__', '__setattr__', '__sizeof__', '__str__', '__subclasshook__', '__weakref__', 'num']\n"
     ]
    }
   ],
   "source": [
    "from typing import Any\n",
    "\n",
    "\n",
    "class Attr():\n",
    "    def __init__(self, num):\n",
    "        self.num = num\n",
    "        self.counter = 0\n",
    "\n",
    "    def __getattr__(self, name: str) -> Any:\n",
    "        raise AttributeError(\"No attribute name : \"+name)\n",
    "\n",
    "    def __getattribute__(self, name: str) -> Any:\n",
    "        print(\"__getattribute__() : \" + name)\n",
    "        if name == \"num\":\n",
    "            # self.counter += 1  # 会再次调用 __getattribute__()\n",
    "            # 合理的 counter + 1 方法①\n",
    "            object.__setattr__(self, 'counter', super().__getattribute__('counter') + 1)\n",
    "            # 合理的 counter + 1 方法②\n",
    "            super().__setattr__('counter', super().__getattribute__('counter')+1)\n",
    "            return (super().__getattribute__(name))/2  # 加了两遍所以 ÷2\n",
    "        return (super().__getattribute__(name))\n",
    "\n",
    "    def __delattr__(self, name: str) -> None:\n",
    "        print(\"__del_attr__()\")\n",
    "        super().__delattr__(name)\n",
    "\n",
    "attr = Attr(100)\n",
    "\n",
    "# print(attr.age)  # AttributeError: No attribute name : age\n",
    "\n",
    "print(attr.num)\n",
    "print(attr.num)\n",
    "print(attr.num)\n",
    "print(attr.counter)\n",
    "\n",
    "print(\"dir\")\n",
    "print(dir(attr))\n",
    "\n",
    "del attr.counter\n",
    "\n",
    "print(\"dir\")\n",
    "print(dir(attr))  # 比上一个少了 counter 属性\n",
    "# print(attr.counter)  # AttributeError: No attribute name : counter\n",
    "\n"
   ]
  },
  {
   "cell_type": "code",
   "execution_count": 5,
   "metadata": {},
   "outputs": [
    {
     "name": "stdout",
     "output_type": "stream",
     "text": [
      "__len__()\n",
      "5\n",
      "__getitem__() slice(2, 4, None)\n",
      "[3, 4]\n",
      "__contains__() 3\n",
      "True\n"
     ]
    }
   ],
   "source": [
    "from collections.abc import Iterable, Iterator\n",
    "\n",
    "class MyClass():\n",
    "    def __init__(self, outList):\n",
    "        self.List = outList\n",
    "\n",
    "    def __len__(self):\n",
    "        print(\"__len__()\")\n",
    "        return len(self.List)\n",
    "\n",
    "    def __getitem__(self, idx):  # 遍历 & 切片\n",
    "        print(\"__getitem__()\", idx)\n",
    "        return self.List[idx]\n",
    "\n",
    "    def __contains__(self, val):\n",
    "        print(\"__contains__()\", val)\n",
    "        return val in self.List\n",
    "\n",
    "\n",
    "\n",
    "myl = MyClass([1,2,3,4,5])\n",
    "print(len(myl))\n",
    "print(myl[2:4])\n",
    "print(3 in myl)  # 不断进入 __getitem__()  # 如果有 contains 则不会重复进入\n",
    "\n",
    "\n"
   ]
  },
  {
   "cell_type": "code",
   "execution_count": null,
   "metadata": {},
   "outputs": [],
   "source": [
    "\n"
   ]
  },
  {
   "cell_type": "code",
   "execution_count": null,
   "metadata": {},
   "outputs": [],
   "source": []
  },
  {
   "cell_type": "markdown",
   "metadata": {},
   "source": [
    "## <a id='toc1_2_'></a>[import](https://www.bilibili.com/video/BV1K24y1k7XA/)     [&#8593;](#toc0_)\n",
    "\n",
    "两个概念\n",
    "1. [module](https://docs.python.org/zh-cn/3.8/tutorial/modules.html#modules)\n",
    "   1. Python **运行时** 概念，保存在 **内存** 中，而**文件**是一个 **操作系统级别** 的概念\n",
    "   2. 需要 import 过程 从 文件 生成 module\n",
    "   3. 是一个 组织单位\n",
    "   4. 独立构成一个 命名空间\n",
    "   5. 本身是 **Python Object**，里面可以包含其他 Python Object\n",
    "   6. 一个 module 通常对应一个 .py 文件\n",
    "2. [package](https://docs.python.org/zh-cn/3.8/tutorial/modules.html#packages)\n",
    "   1. 一种特殊的 module\n",
    "   2. 比 module 多了一个 \\_\\_path\\_\\_\n",
    "   3. 在操作系统层面，package 往往对应一个文件夹\n",
    "   4. package 里可以有 subpackage 也可以有 module\n",
    "   5. 无论有没有 \\_\\_init\\_\\_.py 文件，都可以作为 package\n",
    "\n",
    "\n",
    "import 是把文件系统里面的 文件&文件夹 变成 Python 的 module 或 package\n",
    "\n",
    "import xxx 时发生\n",
    "1. 拿到 xxx 字符串作为 名字 寻找 module\n",
    "2. 检查 缓存 有无名为 xxx 的 module 已被读取\n",
    "   1. 有 无需 load 直接 赋值给 xxx\n",
    "   2. 没有 需要寻找 名为 xxx 的module\n",
    "   3. 检查是否为 builtin module - python 自带的 (sys,os,math)\n",
    "   4. 不是 builtin 在文件夹里寻找 可以被 load 为 xxx 的文件\n",
    "      1. 最常见的是 xxx.py\n",
    "      2. 寻找路径被保存到了 **sys.path** 中\n",
    "         1. '' 表示当前文件所在文件夹\n",
    "         2. **site-packages** 是 **pip install** 的位置\n",
    "      3. python 运行时 可以手动修改 sys.path\n",
    "      4. 会按照 sys.path 的顺序寻找，一旦找到就不继续寻找，需要注意 **命名冲突问题**\n",
    "3. 寻找到符合条件的文件后，在单独的 命名空间 中运行该文件(建立 module)\n",
    "4. 完成 module object 后，更新缓存，避免重复 load (下一次 import 时，直接拿到缓存好的 module)\n",
    "5. 将 module object 赋值给 xxx 变量\n",
    "6. xxx 可以作为一个 变量 被使用\n",
    "7. xxx 的两个责任\n",
    "   1. 根据 xxx 字符串 拿到 module\n",
    "   2. 将 module 保存到 xxx 变量\n",
    "8. import xxx as yyy\n",
    "   1. 根据 xxx 名字 找 module\n",
    "   2. 把 module 保存到 yyy 变量\n",
    "9. from xxx import yyy (as zzz)\n",
    "   1. 只需要 module 中的 yyy object\n",
    "   2. 依然会 load xxx module 并刷新缓存\n",
    "   3. 不把 module 赋值给任何变量，而是在 module 中找到 yyy 并将其保存的 object 赋值给 yyy 变量\n",
    "10. import package 和 module 的区别\n",
    "    1.  import package 时，会查看 package 文件夹下有无 \\_\\_init\\_\\_.py 文件\n",
    "        1.  如果没有 不会运行任何额外的代码\n",
    "        2.  如果有 则运行 \\_\\_init\\_\\_.py 文件\n",
    "    2.  实际上是在单独的命名空间中运行 \\_\\_init\\_\\_.py 文件并用该命名空间构成 module(package)\n",
    "    3.  使用 dir(xxx) 查看 package\n",
    "    4.  import package 只会运行 \\_\\_init\\_\\_.py，如果没有在 \\_\\_init\\_\\_.py 文件中写明 文件夹下的其他文件 则 python 不知道\n",
    "    5.  import xxx.yyy 导入 package 下的 module，同时 把最外层的 package 赋值给 xxx\n",
    "\n"
   ]
  },
  {
   "cell_type": "code",
   "execution_count": null,
   "metadata": {},
   "outputs": [],
   "source": []
  },
  {
   "cell_type": "markdown",
   "metadata": {},
   "source": [
    "## <a id='toc1_3_'></a>[迭代器 & for loop](https://www.bilibili.com/video/BV1ca411t7A9/)      [&#8593;](#toc0_)\n"
   ]
  },
  {
   "cell_type": "code",
   "execution_count": 6,
   "metadata": {},
   "outputs": [
    {
     "name": "stdout",
     "output_type": "stream",
     "text": [
      "1\n",
      "3\n",
      "5\n",
      "a\n",
      "b\n"
     ]
    }
   ],
   "source": [
    "l = [1,3,5]\n",
    "for i in l:\n",
    "    print(i)\n",
    "\n",
    "d = {\"a\":1, \"b\":2}\n",
    "for i in d:\n",
    "    print(i)\n"
   ]
  },
  {
   "cell_type": "markdown",
   "metadata": {},
   "source": [
    "[iterable -- 可迭代对象](https://docs.python.org/zh-cn/3/glossary.html#term-iterable)\n",
    "\n",
    "一种能够逐个返回其成员项的对象。 可迭代对象的例子包括所有序列类型（如 list, str 和 tuple 等）以及某些非序列类型如 dict, 文件对象 以及任何自定义类的对象，只要满足\n",
    "1. 定义了 \\_\\_iter\\_\\_() 方法 - 返回一个 iterator\n",
    "2. 或实现了 sequence 语义的 \\_\\_getitem\\_\\_() 方法\n",
    "\n",
    "可迭代对象可被用于 for 循环以及许多其他需要一个序列的地方\n",
    "\n",
    "[iterator -- 迭代器](https://docs.python.org/zh-cn/3/glossary.html#term-iterator)\n",
    "\n",
    "用来表示一连串数据流的对象。 重复调用迭代器的 \\_\\_next\\_\\_() 方法 (或将其传给内置函数 next()) 将逐个返回流中的项。 当没有数据可用时则将引发 StopIteration 异常\n",
    "\n",
    "迭代器必须具有 \\_\\_iter\\_\\_() 方法用来返回该迭代器对象自身，**因此迭代器必定也是可迭代对象**，可被用于其他可迭代对象适用的大部分场合\n",
    "\n",
    "使得 iterator 也是 iterable，可以写在 for loop 中\n"
   ]
  },
  {
   "cell_type": "markdown",
   "metadata": {},
   "source": [
    "两者区别\n",
    "1. iterable\n",
    "   1. 类似于数据的保存者\n",
    "   2. 可以没有状态\n",
    "   3. 可以不知道 iterator 数到哪里了\n",
    "   4. 需要有能力产生 iterator\n",
    "2. iterator\n",
    "   1. 一定是有状态的\n",
    "   2. 不需要interface 修改 iterable 里面的数据"
   ]
  },
  {
   "cell_type": "markdown",
   "metadata": {},
   "source": [
    "在 for x in iterable 时，for loop 先做了一个 从 iterable 拿到 iterator 的操作"
   ]
  },
  {
   "cell_type": "code",
   "execution_count": 7,
   "metadata": {},
   "outputs": [],
   "source": [
    "# 链表实现\n",
    "\n",
    "class NodeIter:  # iterator\n",
    "    def __init__(self, node) -> None:\n",
    "        self.curNode = node\n",
    "    def __next__(self) -> None:\n",
    "        if self.curNode is None:\n",
    "            raise StopIteration\n",
    "        node = self.curNode  # 返回当前 node\n",
    "        self.curNode = self.curNode.next\n",
    "        return node\n",
    "    def __iter__(self):\n",
    "        return self\n",
    "\n",
    "class Node:  # iterable\n",
    "    def __init__(self, num) -> None:\n",
    "        self.num = num\n",
    "        self.next = None\n",
    "\n",
    "    def __iter__(self):\n",
    "        return NodeIter(self)  # 返回一个NodeIter实例，以当前节点作为开始的节点\n"
   ]
  },
  {
   "cell_type": "code",
   "execution_count": 8,
   "metadata": {},
   "outputs": [
    {
     "name": "stdout",
     "output_type": "stream",
     "text": [
      "1\n",
      "2\n",
      "3\n",
      "--------------\n",
      "1\n",
      "2\n",
      "3\n"
     ]
    }
   ],
   "source": [
    "# node 都是 iterable\n",
    "node1 = Node(1)\n",
    "node2 = Node(2)\n",
    "node3 = Node(3)\n",
    "\n",
    "node1.next = node2\n",
    "node2.next = node3\n",
    "# node3.next = node1  # 别尝试(循环链表)\n",
    "\n",
    "for node in node1:\n",
    "    print(node.num)\n",
    "\n",
    "print(\"--------------\")\n",
    "\n",
    "for node in iter(node1):  # 因为 NodeIter 里面 实现了 iter 所以可以正常运行，否则不是 iterable\n",
    "    print(node.num)\n"
   ]
  },
  {
   "cell_type": "code",
   "execution_count": 9,
   "metadata": {},
   "outputs": [
    {
     "name": "stdout",
     "output_type": "stream",
     "text": [
      "True\n",
      "False\n",
      "True\n",
      "True\n"
     ]
    }
   ],
   "source": [
    "from collections.abc import Iterable, Iterator\n",
    "\n",
    "testNode = Node(0)\n",
    "testNodeIter = NodeIter(node)\n",
    "\n",
    "print(isinstance(testNode,Iterable))  # True\n",
    "print(isinstance(testNode,Iterator))  # False\n",
    "print(isinstance(testNodeIter,Iterable))  # True\n",
    "print(isinstance(testNodeIter,Iterator))  # True\n"
   ]
  },
  {
   "cell_type": "markdown",
   "metadata": {},
   "source": [
    "## <a id='toc1_4_'></a>[生成器](https://www.bilibili.com/video/BV1KS4y1D7Qb/)      [&#8593;](#toc0_)\n",
    "\n",
    "生成器是一种特殊的迭代器\n",
    "\n",
    "两个概念\n",
    "1. 生成器函数\n",
    "2. 生成器对象\n",
    "\n",
    "当编译时发现函数的定义里有 yield 关键词时，则不会将函数当做普通函数处理，而是当做**生成器函数**\n",
    "\n",
    "调用**生成器函数**得到一个**生成器对象**，yield、return 都不是返回值\n",
    "\n",
    "对生成器对象使用 next 函数时，才开始真正运行函数本体\n",
    "\n",
    "生成器函数会先执行 yield 之前的部分，并**在 yield 的地方返回 值**，**然后函数暂停执行**\n",
    "\n",
    "下次再对生成器对象使用next的时候，会接着 yield 运行下面的代码\n",
    "\n",
    "在生成器函数内，return 等价于 raise StopIteration"
   ]
  },
  {
   "cell_type": "code",
   "execution_count": 10,
   "metadata": {},
   "outputs": [
    {
     "name": "stdout",
     "output_type": "stream",
     "text": [
      "5\n",
      "-----\n",
      "4\n",
      "3\n",
      "2\n",
      "1\n"
     ]
    }
   ],
   "source": [
    "def gen(num):  # 生成器函数\n",
    "    while num>0:\n",
    "        yield num\n",
    "        num -= 1\n",
    "    return\n",
    "\n",
    "g = gen(5)  # 生成器对象\n",
    "print(next(g))\n",
    "\n",
    "print(\"-----\")\n",
    "\n",
    "for i in g:\n",
    "    print(i)\n"
   ]
  },
  {
   "cell_type": "code",
   "execution_count": 11,
   "metadata": {},
   "outputs": [
    {
     "name": "stdout",
     "output_type": "stream",
     "text": [
      "1\n",
      "2\n",
      "3\n",
      "--------------\n",
      "1\n",
      "2\n",
      "3\n"
     ]
    }
   ],
   "source": [
    "class Node:\n",
    "    def __init__(self, num) -> None:\n",
    "        self.num = num\n",
    "        self.next = None\n",
    "\n",
    "    def __iter__(self):\n",
    "        node = self\n",
    "        while node is not None:\n",
    "            yield node\n",
    "            node = node.next\n",
    "\n",
    "node1 = Node(1)\n",
    "node2 = Node(2)\n",
    "node3 = Node(3)\n",
    "\n",
    "node1.next = node2\n",
    "node2.next = node3\n",
    "# node3.next = node1  # 别尝试\n",
    "\n",
    "for node in node1:\n",
    "    print(node.num)\n",
    "\n",
    "print(\"--------------\")\n",
    "\n",
    "for node in iter(node1):\n",
    "    # 对生成器对象使用 next 函数时，才开始真正运行函数本体\n",
    "    # 生成器函数在被调用时并不立即执行，而是返回一个生成器对象\n",
    "    print(node.num)\n"
   ]
  },
  {
   "cell_type": "markdown",
   "metadata": {},
   "source": [
    "生成器的用法和迭代器几乎一样\n",
    "\n",
    "但生成器本身有一个高级用法 - **send**\n",
    "\n",
    "在生成器 yield 后，把 yield 内容变成一个值，该值可以继续赋给生成器函数里的其他变量\n",
    "\n",
    "send 函数是一个机制，可以和 generator 交互，改变其运行状态"
   ]
  },
  {
   "cell_type": "code",
   "execution_count": 12,
   "metadata": {},
   "outputs": [
    {
     "name": "stdout",
     "output_type": "stream",
     "text": [
      "first: 5\n",
      "second: 4\n",
      "send:9\n",
      "8\n",
      "7\n",
      "6\n",
      "5\n",
      "4\n",
      "3\n",
      "2\n",
      "1\n"
     ]
    }
   ],
   "source": [
    "def gen(num):\n",
    "    while num>0:\n",
    "        temp = yield num  # yield会等send\n",
    "        if temp is not None:\n",
    "            num = temp\n",
    "        num -= 1\n",
    "\n",
    "g = gen(5)\n",
    "\n",
    "first = next(g)  # next(g) 等价于 g.send(None)\n",
    "print(f\"first: {first}\")\n",
    "\n",
    "second = g.send(None)\n",
    "print(f\"second: {second}\")\n",
    "\n",
    "print(f\"send:{g.send(10)}\")  # 10 会赋值给 gen() 里的 temp\n",
    "\n",
    "for i in g:\n",
    "    print(i)\n"
   ]
  },
  {
   "cell_type": "markdown",
   "metadata": {},
   "source": [
    "## <a id='toc1_6_'></a>[装饰器](#toc0_)\n",
    "\n",
    "\n",
    "\n",
    "\n",
    "\n"
   ]
  },
  {
   "cell_type": "markdown",
   "metadata": {},
   "source": [
    "### <a id='toc1_6_1_'></a>[@staticmethod 静态方法](#toc0_)\n",
    "\n",
    "**@staticmethod** 是 Python 的一个 **装饰器**，用于 **定义静态方法**\n",
    "\n",
    "**静态方法 不需要创建类实例(self 参数)，并且可以直接通过类名调用**\n",
    "\n",
    "静态方法 主要用于 **不依赖于实例或类的数据和方法**\n",
    "\n",
    "可以通过 **类名** 直接调用，也可以通过 **实例** 来调用"
   ]
  },
  {
   "cell_type": "code",
   "execution_count": null,
   "metadata": {},
   "outputs": [
    {
     "name": "stdout",
     "output_type": "stream",
     "text": [
      "3\n",
      "3\n"
     ]
    }
   ],
   "source": [
    "class myClass:\n",
    "    @staticmethod\n",
    "    def add(a,b):\n",
    "        return a+b\n",
    "\n",
    "\n",
    "addMachine = myClass()\n",
    "print(addMachine.add(1,2))  # 实例\n",
    "print(myClass.add(1,2))  # 类名\n"
   ]
  },
  {
   "cell_type": "markdown",
   "metadata": {},
   "source": [
    "## 描述器 descriptor\n",
    "\n",
    "[描述器 - 码农高天](https://www.bilibili.com/video/BV1pT4y1a7dd/)\n",
    "\n",
    "定义了 `__get__`,`__set__`,`__delete__` 中至少一个，会将该 class 变为 descriptor\n"
   ]
  },
  {
   "cell_type": "code",
   "execution_count": null,
   "metadata": {},
   "outputs": [],
   "source": []
  },
  {
   "cell_type": "code",
   "execution_count": null,
   "metadata": {},
   "outputs": [],
   "source": []
  },
  {
   "cell_type": "code",
   "execution_count": null,
   "metadata": {},
   "outputs": [],
   "source": []
  },
  {
   "cell_type": "markdown",
   "metadata": {},
   "source": [
    "## <a id='toc1_5_'></a>[*args & **kwargs](#toc0_)\n",
    "\n",
    "参数中\n",
    "1. \\* 对应 positional arguments 放入 tuple\n",
    "2. \\*\\* 对应 keyword arguments 放入 dictionary"
   ]
  },
  {
   "cell_type": "code",
   "execution_count": 13,
   "metadata": {},
   "outputs": [
    {
     "name": "stdout",
     "output_type": "stream",
     "text": [
      "[1, 2, 3, 4, 5]\n",
      "1 2 3 4 5\n",
      "[1, 2, 3, 4, 5, 1, 2, 3, 4, 5]\n",
      "hahahahahahahahahaha\n",
      "1\n",
      "[2, 3, 4, 5]\n",
      "2 3 4 5\n",
      "[1, 2, 3, 4, 5, 6]\n",
      "dict_items([('a', 1), ('b', 2), ('c', 4), ('d', 5), ('e', 6)])\n"
     ]
    }
   ],
   "source": [
    "nums = [1,2,3,4,5]\n",
    "\n",
    "# * -> unpacking\n",
    "print(nums)\n",
    "print(*nums)\n",
    "\n",
    "# * -> replicate\n",
    "print(nums*2)\n",
    "print(\"ha\"*10)\n",
    "\n",
    "#\n",
    "a, *b = nums  # packing\n",
    "print(a)\n",
    "print(b)\n",
    "print(*b)  # unpacking\n",
    "\n",
    "# merge\n",
    "a = [1,2,3]\n",
    "b = (4,5,6)\n",
    "c = [*a, *b]\n",
    "print(c)\n",
    "\n",
    "dict1 = {\"a\":1, \"b\":2, \"c\":3}\n",
    "dict2 = {\"c\":4, \"d\":5, \"e\":6}\n",
    "dict3 = {**dict1, **dict2}\n",
    "print(dict3.items())\n"
   ]
  },
  {
   "cell_type": "code",
   "execution_count": 14,
   "metadata": {},
   "outputs": [
    {
     "name": "stdout",
     "output_type": "stream",
     "text": [
      "a\n",
      "('b', 'c', 'd')\n",
      "b c d\n"
     ]
    }
   ],
   "source": [
    "def printAll(a, *pack):  # * 对应 positional arguments 放入 tuple\n",
    "    print(a)\n",
    "    print(pack)\n",
    "    print(*pack)\n",
    "\n",
    "printAll(\"a\",\"b\",\"c\",\"d\")\n"
   ]
  },
  {
   "cell_type": "code",
   "execution_count": 15,
   "metadata": {},
   "outputs": [
    {
     "name": "stdout",
     "output_type": "stream",
     "text": [
      "a\n",
      "('b', 'c', 'd')\n",
      "b c d\n",
      "{'pp1': 1, 'pp2': 2}\n",
      "dict_keys(['pp1', 'pp2'])\n",
      "dict_values([1, 2])\n",
      "pp1 1\n",
      "pp2 2\n"
     ]
    }
   ],
   "source": [
    "def printAll(a, *pack, **pp):  # ** 对应 keyword arguments 放入 dictionary\n",
    "    print(a)\n",
    "    print(pack)\n",
    "    print(*pack)\n",
    "    print(pp)\n",
    "    print(pp.keys())\n",
    "    print(pp.values())\n",
    "    for k,v in pp.items():\n",
    "        print(k, v)\n",
    "    # help(dict.items)  # D.items() -> a set-like object providing a view on D's items\n",
    "\n",
    "printAll(\"a\",\"b\",\"c\",\"d\",pp1=1,pp2=2)\n"
   ]
  },
  {
   "cell_type": "code",
   "execution_count": 16,
   "metadata": {},
   "outputs": [
    {
     "name": "stdout",
     "output_type": "stream",
     "text": [
      "1\n",
      "2\n",
      "3\n"
     ]
    }
   ],
   "source": [
    "def printDict(a,b,c):\n",
    "    print(a)\n",
    "    print(b)\n",
    "    print(c)\n",
    "\n",
    "dict1 = {\"a\":1, \"b\":2, \"c\":3}\n",
    "\n",
    "printDict(**dict1)\n"
   ]
  },
  {
   "cell_type": "markdown",
   "metadata": {},
   "source": [
    "## <a id='toc1_7_'></a>[with 语句](#toc0_)\n",
    "\n",
    "with 语句被用作上下文管理器\n",
    "\n",
    "简化资源管理(如文件的打开和关闭)，确保使用资源的代码块执行完毕后，资源会被正确释放或还原，即使代码块中发生了异常\n",
    "\n",
    "资源获取即初始化 - RAII\n",
    "\n",
    "功能\n",
    "1. **自动资源管理** - 自动处理资源的清理工作(如文件关闭、锁的释放等)，减少了手动管理资源的代码，使代码更简洁、更安全。无需调用 file.close()\n",
    "2. **异常处理** - 在 with 块中发生异常时，会在退出 with 块之前运行清理代码(如关闭文件)，保证即使在错误发生时也不会遗漏资源释放\n",
    "\n",
    "with 语句需要一个**对象**(上下文管理器)，该对象必须有两个特殊的方法，执行资源的获取与释放工作\n",
    "1. **_ _ enter _ _()** - 在 with 块**开始**时执行，通常返回当前对象或其他与环境相关的数据\n",
    "2. **_ _ exit _ _()** - 在 with 块**结束**时执行，无论 with 块内部是否发生了异常，都可以处理异常、执行清理工作等\n",
    "\n"
   ]
  },
  {
   "cell_type": "markdown",
   "metadata": {},
   "source": [
    "## <a id='toc1_8_'></a>[open 语句](#toc0_)\n",
    "\n",
    "open() 函数是一个内置的函数，用于打开文件并返回一个文件对象(实现了 **_ _ enter _ _()** & **_ _ exit _ _()**)\n",
    "\n",
    "处理文件读写操作的基础，它提供了访问文件内容的方法和功能\n",
    "\n",
    "```python\n",
    "open(file, mode='r', buffering=-1, encoding=None, errors=None, newline=None, closefd=True, opener=None)\n",
    "```\n",
    "1. file - 文件路径\n",
    "2. mode\n",
    "   1. r 读取\n",
    "   2. w 写入\n",
    "   3. x 独占创建模式，如果文件已存在，操作将失败\n",
    "   4. a 追加模式(数据添加到文件末尾)\n",
    "   5. b 二进制模式\n",
    "   6. t 文本模式\n",
    "   7. \\+ 更新模式\n",
    "      1. r+ 可以读取文件内容，并且可以在文件中任意位置写入或修改内容，不会自动截断文件\n",
    "      2. w+ 删除文件中的所有内容，然后从头开始写入新内容\n",
    "      3. a+ 写操作会自动将内容追加到文件的末尾，不管文件指针当前位置，可以读取文件中的内容\n",
    "\n",
    "\n",
    "**write & writelines** 都 **不会自动添加 结束符、换行符**\n",
    "\n",
    "**readline & readlines** 都 **会读取 结束符、换行符**"
   ]
  },
  {
   "cell_type": "code",
   "execution_count": 18,
   "metadata": {},
   "outputs": [
    {
     "name": "stdout",
     "output_type": "stream",
     "text": [
      "Hello World\n",
      "\n",
      "['Hello World\\n', 'First line\\n', 'Second line\\n', 'Third line\\n', 'First line\\n', 'Second line\\n', 'Third line\\n']\n"
     ]
    }
   ],
   "source": [
    "with open(\"./file.txt\", mode=\"r\") as f:\n",
    "    content = f.readline()\n",
    "    print(content)\n",
    "\n",
    "\n",
    "lines = [\"First line\\n\", \"Second line\\n\", \"Third line\\n\"]\n",
    "with open('./file.txt', 'a') as file:\n",
    "    file.writelines(lines)\n",
    "\n",
    "with open(\"./file.txt\", mode=\"r\") as f:\n",
    "    content = f.readlines()\n",
    "    print(content)\n"
   ]
  },
  {
   "cell_type": "markdown",
   "metadata": {},
   "source": [
    "## 列表推导"
   ]
  },
  {
   "cell_type": "code",
   "execution_count": 14,
   "metadata": {},
   "outputs": [
    {
     "name": "stdout",
     "output_type": "stream",
     "text": [
      "[0, 1, 2, 3, 4]\n",
      "[(0, 0), (0, 1), (0, 2), (0, 3), (1, 0), (1, 1), (1, 2), (1, 3)]\n",
      "[2, 3, 4]\n",
      "[2, 3, 4, 5, 6]\n",
      "[3, 4]\n",
      "[3, 4]\n"
     ]
    }
   ],
   "source": [
    "l1 = [i for i in range(5)]\n",
    "print(l1)\n",
    "\n",
    "l2 = [(i,j) for i in range(2) for j in range(4)]\n",
    "print(l2)\n",
    "\n",
    "l3 = [i+2 for i in range(3)]\n",
    "print(l3)\n",
    "l4 = list(map(lambda x : x+2, range(5)))\n",
    "print(l4)\n",
    "\n",
    "l5 = [i for i in range(5) if i>=3]\n",
    "print(l5)\n",
    "l6 = list(filter(lambda x : x>=3, range(5)))\n",
    "print(l6)\n"
   ]
  },
  {
   "cell_type": "code",
   "execution_count": null,
   "metadata": {},
   "outputs": [],
   "source": []
  },
  {
   "cell_type": "code",
   "execution_count": null,
   "metadata": {},
   "outputs": [],
   "source": []
  },
  {
   "cell_type": "code",
   "execution_count": 22,
   "metadata": {},
   "outputs": [
    {
     "name": "stdout",
     "output_type": "stream",
     "text": [
      "2.2.2+cu121\n",
      "12.1\n",
      "8902\n"
     ]
    }
   ],
   "source": [
    "import torch\n",
    "print(torch.__version__)\n",
    "print(torch.version.cuda)\n",
    "print(torch.backends.cudnn.version())\n"
   ]
  },
  {
   "cell_type": "markdown",
   "metadata": {},
   "source": []
  }
 ],
 "metadata": {
  "kernelspec": {
   "display_name": "Python 3",
   "language": "python",
   "name": "python3"
  },
  "language_info": {
   "codemirror_mode": {
    "name": "ipython",
    "version": 3
   },
   "file_extension": ".py",
   "mimetype": "text/x-python",
   "name": "python",
   "nbconvert_exporter": "python",
   "pygments_lexer": "ipython3",
   "version": "3.10.12"
  }
 },
 "nbformat": 4,
 "nbformat_minor": 2
}
