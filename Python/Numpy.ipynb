{
 "cells": [
  {
   "cell_type": "markdown",
   "metadata": {},
   "source": [
    "# <a id='toc1_'></a>[Numpy](#toc0_)\n",
    "\n",
    "[NumPy user guide](https://numpy.org/doc/stable/user/index.html)"
   ]
  },
  {
   "cell_type": "markdown",
   "metadata": {},
   "source": [
    "**Table of contents**<a id='toc0_'></a>    \n",
    "- [Numpy](#toc1_)    \n",
    "  - [01 - Getting started](#toc1_1_)    \n",
    "    - [What is NumPy?](#toc1_1_1_)    \n",
    "    - [Why is NumPy Fast?](#toc1_1_2_)    \n",
    "    - [NumPy quickstart](#toc1_1_3_)    \n",
    "    - [Array Creation](#toc1_1_4_)    \n",
    "    - [Printing Arrays](#toc1_1_5_)    \n",
    "    - [Basic Operations](#toc1_1_6_)    \n",
    "    - [Universal Functions](#toc1_1_7_)    \n",
    "    - [Indexing, Slicing and Iterating](#toc1_1_8_)    \n",
    "    - [Shape Manipulation](#toc1_1_9_)    \n",
    "    - [Stacking together different arrays](#toc1_1_10_)    \n",
    "    - [Splitting one array into several smaller ones](#toc1_1_11_)    \n",
    "    - [Copies and Views](#toc1_1_12_)    \n",
    "      - [No Copy at All](#toc1_1_12_1_)    \n",
    "      - [View or Shallow Copy](#toc1_1_12_2_)    \n",
    "      - [Deep Copy](#toc1_1_12_3_)    \n",
    "    - [Random](#toc1_1_13_)    \n",
    "    - [Unique](#toc1_1_14_)    \n",
    "    - [Reverse](#toc1_1_15_)    \n",
    "    - [Get Help](#toc1_1_16_)    \n",
    "    - [Functions and Methods Overview](#toc1_1_17_)    \n",
    "    - [Less Basic](#toc1_1_18_)    \n",
    "  - [02 - Fundamentals and usage](#toc1_2_)    \n",
    "  - [03 - Advanced usage and interoperability](#toc1_3_)    \n",
    "\n",
    "<!-- vscode-jupyter-toc-config\n",
    "\tnumbering=false\n",
    "\tanchor=true\n",
    "\tflat=false\n",
    "\tminLevel=1\n",
    "\tmaxLevel=6\n",
    "\t/vscode-jupyter-toc-config -->\n",
    "<!-- THIS CELL WILL BE REPLACED ON TOC UPDATE. DO NOT WRITE YOUR TEXT IN THIS CELL -->"
   ]
  },
  {
   "cell_type": "code",
   "execution_count": 2,
   "metadata": {},
   "outputs": [],
   "source": [
    "import numpy as np\n"
   ]
  },
  {
   "cell_type": "markdown",
   "metadata": {},
   "source": [
    "## <a id='toc1_1_'></a>[01 - Getting started](#toc0_)"
   ]
  },
  {
   "cell_type": "markdown",
   "metadata": {},
   "source": [
    "### <a id='toc1_1_1_'></a>[What is NumPy?](#toc0_)\n",
    "\n",
    "For **fast operations** on arrays, including mathematical, logical, shape manipulation, sorting, selecting, I/O, discrete Fourier transforms, basic linear algebra, basic statistical operations, random simulation and much more.\n",
    "\n",
    "\n",
    "\n",
    "At the core of the NumPy package, is the **ndarray** object.\n",
    "\n",
    "Several important differences between NumPy arrays and the standard Python sequences\n",
    "1. NumPy arrays have **a fixed size at creation**\n",
    "2. The elements in a NumPy array are all required to be of the **same data type**\n",
    "3. Operations are executed **more efficiently** and with less code\n",
    "\n",
    "Element-by-element operations are the “default mode” when an ndarray is involved\n",
    "\n",
    "Element-by-element operation is speedily executed by pre-compiled C code. \n"
   ]
  },
  {
   "cell_type": "markdown",
   "metadata": {},
   "source": [
    "### <a id='toc1_1_2_'></a>[Why is NumPy Fast?](#toc0_)\n",
    "\n",
    "Vectorization describes the absence of any explicit looping, indexing\n",
    "\n",
    "pre-compiled C code\n",
    "\n",
    "Broadcasting is the term used to describe the **implicit element-by-element behavior of operations**\n",
    "\n",
    "In NumPy all operations, not just arithmetic operations, but logical, bit-wise, functional, etc., behave in this implicit element-by-element fashion, i.e., they broadcast\n",
    "\n",
    "a and b could be multidimensional arrays of the same shape, or a scalar and an array, or even two arrays of with different shapes, provided that the **smaller array is “expandable” to the shape of the larger** in such a way that the resulting broadcast is unambiguous"
   ]
  },
  {
   "cell_type": "code",
   "execution_count": 3,
   "metadata": {},
   "outputs": [
    {
     "name": "stdout",
     "output_type": "stream",
     "text": [
      "[[1]\n",
      " [2]\n",
      " [3]\n",
      " [4]]\n",
      "[ 2  6 12 20]\n",
      "[[ 2  3  4  5]\n",
      " [ 4  6  8 10]\n",
      " [ 6  9 12 15]\n",
      " [ 8 12 16 20]]\n",
      "array([[1],\n",
      "       [2],\n",
      "       [3],\n",
      "       [4]], dtype=uint8)\n"
     ]
    }
   ],
   "source": [
    "a = [1,2,3,4]\n",
    "b = [2,3,4,5]\n",
    "\n",
    "np_a = np.array(a, dtype=np.uint8)\n",
    "np_b = np.array(b, dtype=np.uint8)\n",
    "\n",
    "np_a_t = np.reshape(np_a, (-1,1))\n",
    "\n",
    "print(np_a_t)\n",
    "\n",
    "print(np_a*np_b)  # 对应位置相乘\n",
    "\n",
    "print(np_a_t*np_b)  # 广播 broadcast\n",
    "\n",
    "print(repr(np_a_t))\n"
   ]
  },
  {
   "cell_type": "markdown",
   "metadata": {},
   "source": [
    "### <a id='toc1_1_3_'></a>[NumPy quickstart](#toc0_)\n",
    "\n",
    "apply common functions to n-dimensional arrays (without using for-loops), or if you want to understand axis and shape properties for n-dimensional arrays\n",
    "\n",
    "Understand the difference between one-, two- and n-dimensional arrays in NumPy;\n",
    "\n",
    "Understand how to apply some linear algebra operations to n-dimensional arrays without using for-loops;\n",
    "\n",
    "Understand axis and shape properties for n-dimensional arrays.\n",
    "\n",
    "**The Basics**\n",
    "\n",
    "NumPy’s main object is the homogeneous multidimensional array (all of the same type)\n",
    "\n",
    "indexed by a tuple of non-negative integers\n",
    "\n",
    "In NumPy dimensions are called **axes**(axis)\n",
    "\n",
    "NumPy’s array class is called ndarray. It is also known by the alias array.\n",
    "\n",
    "Note that numpy.array is not the same as the Standard Python Library class array.array(only handles one-dimensional arrays and offers less functionality)\n",
    "\n",
    "\n",
    "**attributes of an ndarray object**\n",
    "1. ndarray.**ndim** - the number of axes (dimensions) of the array.\n",
    "2. ndarray.**shape** - the dimensions of the array. This is a tuple of integers indicating the size of the array\n",
    "3. ndarray.**size** - the total number of elements of the array. This is equal to the product of the elements of shape\n",
    "4. ndarray.**dtype** - an object describing the type of the elements in the array(can create or specify dtype’s using standard Python types)\n",
    "5. ndarray.**itemsize** - the size in bytes of each element of the array (float64 has itemsize 8 (=64/8))\n",
    "6. ndarray.**data** - the buffer containing the actual elements of the array.\n",
    "\n",
    "当使用 np.ndarray 来创建数组时，NumPy 并不会自动初始化数组中的元素，这意味着数组中的元素是随机的，实际上是未初始化的。"
   ]
  },
  {
   "cell_type": "code",
   "execution_count": 4,
   "metadata": {},
   "outputs": [
    {
     "name": "stdout",
     "output_type": "stream",
     "text": [
      "3\n",
      "(4, 3, 2)\n",
      "24\n",
      "int16\n",
      "2\n",
      "<memory at 0x7ac0a2fae3e0>\n",
      "2\n",
      "(1, 2)\n",
      "2\n",
      "<U0\n",
      "0\n",
      "<memory at 0x7ac0a27a8d40>\n",
      "True\n",
      "True\n",
      "True\n",
      "False\n",
      "False\n",
      "<class 'numpy.dtypes.StrDType'>\n",
      "True\n",
      "False\n",
      "True\n",
      "True\n"
     ]
    }
   ],
   "source": [
    "a = np.ndarray(shape=(4,3,2), dtype=np.int16,)\n",
    "\n",
    "print(a.ndim)\n",
    "print(a.shape)\n",
    "print(a.size)\n",
    "print(a.dtype)\n",
    "print(a.itemsize)\n",
    "print(a.data)\n",
    "\n",
    "b = np.ndarray(shape=(1,2), dtype=str)\n",
    "print(b.ndim)\n",
    "print(b.shape)\n",
    "print(b.size)\n",
    "print(b.dtype)  # <U0 : This indicates a Unicode string of unspecified length, a common way NumPy represents string data\n",
    "print(b.itemsize)\n",
    "print(b.data)\n",
    "\n",
    "\n",
    "# == 运算符在这里被 NumPy 重载\n",
    "print(b.dtype == str)  # True\n",
    "print(b.dtype == np.str_)  # True\n",
    "print(b.dtype == np.unicode_)  # True\n",
    "print(np.str_ == str)  # False\n",
    "print(b.dtype == np.dtypes.StrDType)  # False\n",
    "print(type(b.dtype))  # <class 'numpy.dtypes.StrDType'>\n",
    "print(type(b.dtype) == np.dtypes.StrDType)  # True\n",
    "print(isinstance(b.dtype, str))  # False\n",
    "print(isinstance(b.dtype, np.dtypes.StrDType))  # True\n",
    "\n",
    "\n",
    "print(b.dtype.char == 'U')  # True  # # 检查是否是 Unicode 字符串类型\n"
   ]
  },
  {
   "cell_type": "markdown",
   "metadata": {},
   "source": [
    "### <a id='toc1_1_4_'></a>[Array Creation](#toc0_)"
   ]
  },
  {
   "cell_type": "code",
   "execution_count": 5,
   "metadata": {},
   "outputs": [],
   "source": [
    "a = np.array([1, 2, 3, 4])  # create an array from a regular Python list or tuple using the array function\n",
    "\n",
    "b = np.array([(1.5, 2, 3), (4, 5, 6)])  # array transforms sequences of sequences into two-dimensional arrays\n",
    "\n",
    "c = np.array([[1, 2], [3, 4]], dtype=complex)  # The type of the array can also be explicitly specified at creation time\n",
    "\n",
    "d = np.zeros((3, 4))  # zeros creates an array full of zeros\n",
    "\n",
    "e = np.ones((2, 3, 4), dtype=np.int16)  # ones creates an array full of ones\n",
    "\n",
    "f = np.empty((2, 3))  # empty creates an array whose initial content is random and depends on the state of the memory\n",
    "\n",
    "g = np.arange(start=1, stop=10, step=3)  # [1 4 7]  # create sequences of numbers, NumPy provides the arange function which is analogous to the Python built-in range\n",
    "\n",
    "h = np.linspace(start=1, stop=10, num=4, endpoint=True, dtype=np.int16)  # [ 1  4  7 10]  # linspace that receives as an argument the number of elements that we want, instead of the step\n"
   ]
  },
  {
   "cell_type": "markdown",
   "metadata": {},
   "source": [
    "### <a id='toc1_1_5_'></a>[Printing Arrays](#toc0_)\n",
    "\n",
    "Layout\n",
    "1. the last axis is printed from left to right,\n",
    "2. the second-to-last is printed from top to bottom,\n",
    "3. the rest are also printed from top to bottom, with each slice separated from the next by an empty line.\n",
    "\n",
    "个人理解就是 shape 的最后两位是按正常理解的二位数组打印的，以后的都是从上到下\n",
    "\n",
    "If an array is too large to be printed, NumPy automatically **skips the central part of the array and only prints the corners**\n",
    "\n",
    "To disable this behaviour and force NumPy to print the entire array, you can change the printing options using **set_printoptions**"
   ]
  },
  {
   "cell_type": "code",
   "execution_count": 6,
   "metadata": {},
   "outputs": [
    {
     "name": "stdout",
     "output_type": "stream",
     "text": [
      "[[[[  0   1   2   3   4]\n",
      "   [  5   6   7   8   9]\n",
      "   [ 10  11  12  13  14]\n",
      "   [ 15  16  17  18  19]]\n",
      "\n",
      "  [[ 20  21  22  23  24]\n",
      "   [ 25  26  27  28  29]\n",
      "   [ 30  31  32  33  34]\n",
      "   [ 35  36  37  38  39]]\n",
      "\n",
      "  [[ 40  41  42  43  44]\n",
      "   [ 45  46  47  48  49]\n",
      "   [ 50  51  52  53  54]\n",
      "   [ 55  56  57  58  59]]]\n",
      "\n",
      "\n",
      " [[[ 60  61  62  63  64]\n",
      "   [ 65  66  67  68  69]\n",
      "   [ 70  71  72  73  74]\n",
      "   [ 75  76  77  78  79]]\n",
      "\n",
      "  [[ 80  81  82  83  84]\n",
      "   [ 85  86  87  88  89]\n",
      "   [ 90  91  92  93  94]\n",
      "   [ 95  96  97  98  99]]\n",
      "\n",
      "  [[100 101 102 103 104]\n",
      "   [105 106 107 108 109]\n",
      "   [110 111 112 113 114]\n",
      "   [115 116 117 118 119]]]]\n"
     ]
    }
   ],
   "source": [
    "layout = np.arange(0, 2*3*4*5).reshape((2,3,4,5))  # 4,5就是按正常理解的二位数组打印，然后3是从上到下，最后2从上到下\n",
    "\n",
    "print(layout)\n"
   ]
  },
  {
   "cell_type": "code",
   "execution_count": 7,
   "metadata": {},
   "outputs": [
    {
     "name": "stdout",
     "output_type": "stream",
     "text": [
      "[[  0   1   2 ...  97  98  99]\n",
      " [100 101 102 ... 197 198 199]\n",
      " [200 201 202 ...  41  42  43]\n",
      " ...\n",
      " [228 229 230 ...  69  70  71]\n",
      " [ 72  73  74 ... 169 170 171]\n",
      " [172 173 174 ...  13  14  15]]\n"
     ]
    }
   ],
   "source": [
    "big = np.arange(0,10000,dtype=np.uint8).reshape((100,100))\n",
    "print(big)\n",
    "\n",
    "# [[  0   1   2 ...  97  98  99]\n",
    "#  [100 101 102 ... 197 198 199]\n",
    "#  [200 201 202 ...  41  42  43]\n",
    "#  ...\n",
    "#  [228 229 230 ...  69  70  71]\n",
    "#  [ 72  73  74 ... 169 170 171]\n",
    "#  [172 173 174 ...  13  14  15]]\n",
    "\n",
    "\n",
    "# try \n",
    "# import sys\n",
    "# np.set_printoptions(threshold=sys.maxsize)\n"
   ]
  },
  {
   "cell_type": "markdown",
   "metadata": {},
   "source": [
    "### <a id='toc1_1_6_'></a>[Basic Operations](#toc0_)\n",
    "\n",
    "Arithmetic operators on arrays apply **elementwise**. \n",
    "\n",
    "**A new array is created** and filled with the result.\n",
    "\n",
    "Some operations, such as **+= and *=**, **act in place to modify an existing array** rather than create a new one\n",
    "\n",
    "Key:\n",
    "1. **The product operator * operates elementwise in NumPy arrays**\n",
    "2. **The matrix product can be performed using the @ operator (in python >=3.5) or the dot function or method**\n",
    "\n",
    "When operating with arrays of different types, the type of the resulting array corresponds to the more general or precise one\n",
    "(a behavior known as upcasting) 向上转型\n"
   ]
  },
  {
   "cell_type": "code",
   "execution_count": 8,
   "metadata": {},
   "outputs": [
    {
     "name": "stdout",
     "output_type": "stream",
     "text": [
      "[20 30 40 50]\n",
      "[0 1 2 3]\n",
      "[20 29 38 47]\n",
      "[0 1 4 9]\n",
      "[ 9.12945251 -9.88031624  7.4511316  -2.62374854]\n",
      "0.9999999999999999\n",
      "[0. 0. 0. 0.]\n",
      "[ True  True False False]\n",
      "[20 31 42 53]\n"
     ]
    }
   ],
   "source": [
    "a = np.array([20, 30, 40, 50])\n",
    "b = np.arange(4)\n",
    "c = a - b\n",
    "d = b**2\n",
    "e = 10 * np.sin(a)\n",
    "f = np.sin(45/180*np.pi)/(np.sqrt(2)/2)\n",
    "g = np.sqrt(d) - b\n",
    "h = a < 35\n",
    "print(a,b,c,d,e,f,g,h, sep=\"\\n\")\n",
    "\n",
    "a += b\n",
    "print(a)\n"
   ]
  },
  {
   "cell_type": "code",
   "execution_count": 9,
   "metadata": {},
   "outputs": [
    {
     "name": "stdout",
     "output_type": "stream",
     "text": [
      "[[2 0]\n",
      " [0 4]]\n",
      "[[5 4]\n",
      " [3 4]]\n",
      "[[5 4]\n",
      " [3 4]]\n",
      "[[5 4]\n",
      " [3 4]]\n"
     ]
    }
   ],
   "source": [
    "A = np.array([[1, 1],\n",
    "              [0, 1]])\n",
    "B = np.array([[2, 0],\n",
    "              [3, 4]])\n",
    "\n",
    "print(A*B)\n",
    "print(A@B)\n",
    "print(np.dot(A,B))\n",
    "print(A.dot(B))\n"
   ]
  },
  {
   "cell_type": "markdown",
   "metadata": {},
   "source": [
    "Many unary operations(一元运算), such as computing the sum of all the elements in the array, are implemented as methods of the ndarray class.\n",
    "\n",
    "By default, **these operations apply to the array** as though it were a list of numbers, regardless of its shape. However\n",
    "\n",
    "by specifying the axis parameter you can apply an operation along the specified axis of an array(axis对应shape)\n",
    "\n",
    "个人理解 :\n",
    "对于 inputMat shape=(a,b,c,d)\n",
    "对应 axis 编号为 (0,1,2,3)\n",
    "如果 传入axis=1， 对应压缩 b-axis，输出shape=(a,c,d)\n",
    "其中(a1,c1,d1)位置的元素 = max(inputMat(a1,:,c1,d1))\n",
    "\n"
   ]
  },
  {
   "cell_type": "code",
   "execution_count": 10,
   "metadata": {},
   "outputs": [
    {
     "name": "stdout",
     "output_type": "stream",
     "text": [
      "[[[[  0   1   2   3   4]\n",
      "   [  5   6   7   8   9]\n",
      "   [ 10  11  12  13  14]\n",
      "   [ 15  16  17  18  19]]\n",
      "\n",
      "  [[ 20  21  22  23  24]\n",
      "   [ 25  26  27  28  29]\n",
      "   [ 30  31  32  33  34]\n",
      "   [ 35  36  37  38  39]]\n",
      "\n",
      "  [[ 40  41  42  43  44]\n",
      "   [ 45  46  47  48  49]\n",
      "   [ 50  51  52  53  54]\n",
      "   [ 55  56  57  58  59]]]\n",
      "\n",
      "\n",
      " [[[ 60  61  62  63  64]\n",
      "   [ 65  66  67  68  69]\n",
      "   [ 70  71  72  73  74]\n",
      "   [ 75  76  77  78  79]]\n",
      "\n",
      "  [[ 80  81  82  83  84]\n",
      "   [ 85  86  87  88  89]\n",
      "   [ 90  91  92  93  94]\n",
      "   [ 95  96  97  98  99]]\n",
      "\n",
      "  [[100 101 102 103 104]\n",
      "   [105 106 107 108 109]\n",
      "   [110 111 112 113 114]\n",
      "   [115 116 117 118 119]]]]\n",
      "mat.max(), mat.min(), mat.mean(), mat.sum() 119 0 59.5 7140\n",
      "mat.max(axis=0)\n",
      "(3, 4, 5)\n",
      "[[[ 60  61  62  63  64]\n",
      "  [ 65  66  67  68  69]\n",
      "  [ 70  71  72  73  74]\n",
      "  [ 75  76  77  78  79]]\n",
      "\n",
      " [[ 80  81  82  83  84]\n",
      "  [ 85  86  87  88  89]\n",
      "  [ 90  91  92  93  94]\n",
      "  [ 95  96  97  98  99]]\n",
      "\n",
      " [[100 101 102 103 104]\n",
      "  [105 106 107 108 109]\n",
      "  [110 111 112 113 114]\n",
      "  [115 116 117 118 119]]]\n",
      "mat.max(axis=1)\n",
      "(2, 4, 5)\n",
      "[[[ 40  41  42  43  44]\n",
      "  [ 45  46  47  48  49]\n",
      "  [ 50  51  52  53  54]\n",
      "  [ 55  56  57  58  59]]\n",
      "\n",
      " [[100 101 102 103 104]\n",
      "  [105 106 107 108 109]\n",
      "  [110 111 112 113 114]\n",
      "  [115 116 117 118 119]]]\n",
      "mat.max(axis=2)\n",
      "(2, 3, 5)\n",
      "[[[ 15  16  17  18  19]\n",
      "  [ 35  36  37  38  39]\n",
      "  [ 55  56  57  58  59]]\n",
      "\n",
      " [[ 75  76  77  78  79]\n",
      "  [ 95  96  97  98  99]\n",
      "  [115 116 117 118 119]]]\n",
      "mat.max(axis=3)\n",
      "(2, 3, 4)\n",
      "[[[  4   9  14  19]\n",
      "  [ 24  29  34  39]\n",
      "  [ 44  49  54  59]]\n",
      "\n",
      " [[ 64  69  74  79]\n",
      "  [ 84  89  94  99]\n",
      "  [104 109 114 119]]]\n"
     ]
    }
   ],
   "source": [
    "mat = np.arange(start=0, stop=2*3*4*5, dtype=np.uint16).reshape((2,3,4,5))\n",
    "\n",
    "print(mat)\n",
    "\n",
    "print(\"mat.max(), mat.min(), mat.mean(), mat.sum()\", mat.max(), mat.min(), mat.mean(), mat.sum())\n",
    "\n",
    "a = mat.max(axis=0)\n",
    "b = mat.max(axis=1)\n",
    "c = mat.max(axis=2)\n",
    "d = mat.max(axis=3)\n",
    "\n",
    "print(\"mat.max(axis=0)\", a.shape, a, sep=\"\\n\")\n",
    "print(\"mat.max(axis=1)\", b.shape, b, sep=\"\\n\")\n",
    "print(\"mat.max(axis=2)\", c.shape, c, sep=\"\\n\")\n",
    "print(\"mat.max(axis=3)\", d.shape, d, sep=\"\\n\")\n"
   ]
  },
  {
   "cell_type": "code",
   "execution_count": 54,
   "metadata": {},
   "outputs": [
    {
     "name": "stdout",
     "output_type": "stream",
     "text": [
      "[[ 0.          0.84147098]\n",
      " [ 0.90929743  0.14112001]\n",
      " [-0.7568025  -0.95892427]\n",
      " [-0.2794155   0.6569866 ]]\n",
      "[0.90929743 0.84147098]\n",
      "[1 0]\n",
      "[0.90929743 0.84147098]\n"
     ]
    }
   ],
   "source": [
    "data = np.sin(np.arange(8)).reshape(4, 2)\n",
    "print(data)\n",
    "\n",
    "print(data.max(axis=0))\n",
    "print(data.argmax(axis=0))\n",
    "\n",
    "print(data[data.argmax(axis=0), [i for i in range(2)]])  # 利用 argmax 重新算回 max\n",
    "\n",
    "\n"
   ]
  },
  {
   "cell_type": "markdown",
   "metadata": {},
   "source": [
    "### <a id='toc1_1_7_'></a>[Universal Functions](#toc0_)\n",
    "\n",
    "NumPy provides familiar mathematical functions such as sin, cos, and exp. \n",
    "\n",
    "In NumPy, these are called “universal functions” (ufunc). \n",
    "\n",
    "Within NumPy, these functions operate elementwise on an array, producing an array as output.\n",
    "\n",
    "[Universal Functions](https://numpy.org/doc/stable/user/quickstart.html#universal-functions)\n",
    "\n",
    "```text\n",
    "all, any, apply_along_axis, argmax, argmin, argsort, average, bincount, ceil, clip, conj, corrcoef,\n",
    "cov, cross, cumprod, cumsum, diff, dot, floor, inner, invert, lexsort, max, maximum, mean, median, min,\n",
    "minimum, nonzero, outer, prod, re, round, sort, std, sum, trace, transpose, var, vdot, vectorize, where\n",
    "```\n"
   ]
  },
  {
   "cell_type": "markdown",
   "metadata": {},
   "source": [
    "### <a id='toc1_1_8_'></a>[Indexing, Slicing and Iterating](#toc0_)\n",
    "\n",
    "One-dimensional arrays can be indexed, sliced and iterated over, much like lists and other Python sequences.\n",
    "\n",
    "**Multidimensional** arrays can have one index per axis. These indices are given in **a tuple separated by commas:**\n",
    "\n",
    "When fewer indices are provided than the number of axes, the missing indices are considered complete slices:\n",
    "\n",
    "The expression within brackets in b[i] is treated as an i followed by as many instances of : as needed to represent the remaining axes.\n",
    "\n",
    "NumPy also allows you to write this using dots as b[i, ...].\n",
    "1. x[1, 2, ...] is equivalent to x[1, 2, :, :, :],\n",
    "2. x[..., 3] to x[:, :, :, :, 3] \n",
    "3. x[4, ..., 5, :] to x[4, :, :, 5, :].\n",
    "\n",
    "**flat** : if one wants to perform an operation **on each element in the array**, one can use the **flat attribute** which is an iterator over all the elements of the array:\n"
   ]
  },
  {
   "cell_type": "code",
   "execution_count": 11,
   "metadata": {},
   "outputs": [
    {
     "name": "stdout",
     "output_type": "stream",
     "text": [
      "[[ 0  1  2  3]\n",
      " [10 11 12 13]\n",
      " [20 21 22 23]\n",
      " [30 31 32 33]\n",
      " [40 41 42 43]]\n",
      "[ 3 13 23 33 43]\n",
      "[[[[  0   1   2   3   4]\n",
      "   [  5   6   7   8   9]\n",
      "   [ 10  11  12  13  14]\n",
      "   [ 15  16  17  18  19]]\n",
      "\n",
      "  [[ 20  21  22  23  24]\n",
      "   [ 25  26  27  28  29]\n",
      "   [ 30  31  32  33  34]\n",
      "   [ 35  36  37  38  39]]\n",
      "\n",
      "  [[ 40  41  42  43  44]\n",
      "   [ 45  46  47  48  49]\n",
      "   [ 50  51  52  53  54]\n",
      "   [ 55  56  57  58  59]]]\n",
      "\n",
      "\n",
      " [[[ 60  61  62  63  64]\n",
      "   [ 65  66  67  68  69]\n",
      "   [ 70  71  72  73  74]\n",
      "   [ 75  76  77  78  79]]\n",
      "\n",
      "  [[ 80  81  82  83  84]\n",
      "   [ 85  86  87  88  89]\n",
      "   [ 90  91  92  93  94]\n",
      "   [ 95  96  97  98  99]]\n",
      "\n",
      "  [[100 101 102 103 104]\n",
      "   [105 106 107 108 109]\n",
      "   [110 111 112 113 114]\n",
      "   [115 116 117 118 119]]]]\n",
      "[[[  4   9  14  19]\n",
      "  [ 24  29  34  39]\n",
      "  [ 44  49  54  59]]\n",
      "\n",
      " [[ 64  69  74  79]\n",
      "  [ 84  89  94  99]\n",
      "  [104 109 114 119]]]\n",
      "True\n",
      "True\n",
      "0,1,2,3,4,5,6,7,8,9,10,11,12,13,14,15,16,17,18,19,20,21,22,23,24,25,26,27,28,29,30,31,32,33,34,35,36,37,38,39,40,41,42,43,44,45,46,47,48,49,50,51,52,53,54,55,56,57,58,59,60,61,62,63,64,65,66,67,68,69,70,71,72,73,74,75,76,77,78,79,80,81,82,83,84,85,86,87,88,89,90,91,92,93,94,95,96,97,98,99,100,101,102,103,104,105,106,107,108,109,110,111,112,113,114,115,116,117,118,119,"
     ]
    }
   ],
   "source": [
    "def helpFun(x,y):\n",
    "    return 10*x+y\n",
    "\n",
    "mat = np.fromfunction(function=helpFun,shape=(5,4),dtype=int)\n",
    "\n",
    "print(mat)\n",
    "\n",
    "print(mat[...,-1])\n",
    "\n",
    "mat = np.arange(start=0, stop=2*3*4*5, dtype=np.uint8).reshape((2,3,4,5))\n",
    "\n",
    "print(mat)\n",
    "\n",
    "print(mat[...,-1])\n",
    "\n",
    "from collections.abc import Iterable, Iterator\n",
    "print(isinstance(mat.flat, Iterable))  # True\n",
    "print(isinstance(mat.flat, Iterator))  # True\n",
    "\n",
    "for element in mat.flat:\n",
    "    print(element, end=\",\")\n"
   ]
  },
  {
   "cell_type": "code",
   "execution_count": 12,
   "metadata": {},
   "outputs": [
    {
     "name": "stdout",
     "output_type": "stream",
     "text": [
      "[[False False False  True]\n",
      " [ True  True  True False]\n",
      " [False False False False]]\n",
      "[1 2 3 4 5 6 7]\n",
      "(array([0, 0, 0, 0, 1, 1, 1]), array([0, 1, 2, 3, 0, 1, 2]))\n",
      "[(0, 0), (0, 1), (0, 2), (0, 3), (1, 0), (1, 1), (1, 2)]\n"
     ]
    }
   ],
   "source": [
    "a = np.array([[1, 2, 3, 4], [5, 6, 7, 8], [9, 10, 11, 12]])\n",
    "print((a<8) & (a>3))\n",
    "print(a[a < 8])\n",
    "\n",
    "\n",
    "b = np.nonzero(a<8)\n",
    "print(b)\n",
    "coordinates= list(zip(b[0], b[1]))\n",
    "print(coordinates)\n"
   ]
  },
  {
   "cell_type": "code",
   "execution_count": 46,
   "metadata": {},
   "outputs": [
    {
     "name": "stdout",
     "output_type": "stream",
     "text": [
      "[3 7]\n",
      "[[[ 0  1  2  3]\n",
      "  [ 4  5  6  7]\n",
      "  [ 8  9 10 11]]\n",
      "\n",
      " [[12 13 14 15]\n",
      "  [16 17 18 19]\n",
      "  [20 21 22 23]]]\n",
      "[ 3 23 21]\n"
     ]
    }
   ],
   "source": [
    "a = np.array([[3, 4], [9, 7]])\n",
    "print(a[[0,1],[0,1]])\n",
    "\n",
    "b = np.arange(2*3*4).reshape((2,3,4))\n",
    "print(b)\n",
    "print(b[[0,1,1],[0,-1,2],[-1,-1,1]])  # 相同轴写在同一个[]内\n",
    "\n"
   ]
  },
  {
   "cell_type": "code",
   "execution_count": 49,
   "metadata": {},
   "outputs": [
    {
     "name": "stdout",
     "output_type": "stream",
     "text": [
      "<class 'tuple'>\n",
      "<class 'int'>\n"
     ]
    }
   ],
   "source": [
    "def p(x):\n",
    "    print(type(x))\n",
    "\n",
    "p((1+2+3,))\n",
    "p(6)\n"
   ]
  },
  {
   "cell_type": "code",
   "execution_count": null,
   "metadata": {},
   "outputs": [],
   "source": []
  },
  {
   "cell_type": "code",
   "execution_count": null,
   "metadata": {},
   "outputs": [],
   "source": []
  },
  {
   "cell_type": "markdown",
   "metadata": {},
   "source": [
    "### <a id='toc1_1_9_'></a>[Shape Manipulation](#toc0_)\n",
    "\n",
    "An array has a shape given by the number of elements along each axis\n",
    "\n",
    "The shape of an array can be changed with various commands.\n",
    "\n",
    "Note that the following three commands all return a modified array, but do not change the original array:\n",
    "1. ravel  - The order of the elements in the array resulting from ravel is normally “C-style”\n",
    "2. reshape\n",
    "   1. “Automatic” Reshaping - **-1** means \"whatever is needed\"\n",
    "3. T - 形状完全对调\n",
    "\n",
    "The reshape function returns its argument with a modified shape, whereas the ndarray.resize method modifies the array itself:\n",
    "1. reshape - 不改变原mat - 形状不匹配会抛出错误\n",
    "2. resize - 改变原来mat - 总大小可以不同于原始数组，refcheck=False\n",
    "\n",
    "two popular ways to flatten an array\n",
    "1. flatten()\n",
    "2. ravel()\n",
    "   1. the new array created using ravel() is actually a reference to the parent array\n",
    "   2. any changes to the new array will affect the parent array as well\n",
    "   3. ravel does not create a copy, it’s memory efficient\n"
   ]
  },
  {
   "cell_type": "code",
   "execution_count": 35,
   "metadata": {},
   "outputs": [
    {
     "name": "stdout",
     "output_type": "stream",
     "text": [
      "[[ 1  2  3  4]\n",
      " [ 5  6  7  8]\n",
      " [ 9 10 11 12]]\n",
      "[[100   2   3   4]\n",
      " [  5   6   7   8]\n",
      " [  9  10  11  12]]\n"
     ]
    }
   ],
   "source": [
    "x = np.array([[1, 2, 3, 4], \n",
    "              [5, 6, 7, 8], \n",
    "              [9, 10, 11, 12]])\n",
    "\n",
    "b = x.flatten()\n",
    "c = x.ravel()\n",
    "\n",
    "b[0]=100\n",
    "print(x)\n",
    "c[0]=100\n",
    "print(x)\n"
   ]
  },
  {
   "cell_type": "code",
   "execution_count": 13,
   "metadata": {},
   "outputs": [
    {
     "name": "stdout",
     "output_type": "stream",
     "text": [
      "[[[5.37239766e-310 0.00000000e+000 6.66831753e-310 6.66831227e-310]\n",
      "  [6.66831227e-310 6.66831227e-310 6.66831753e-310 6.66831753e-310]\n",
      "  [6.66831227e-310 6.66831227e-310 6.66831227e-310 6.66831227e-310]]\n",
      "\n",
      " [[6.66831753e-310 6.66831753e-310 6.66831753e-310 6.66831227e-310]\n",
      "  [6.66831753e-310 6.66831753e-310 6.66831227e-310 6.66831227e-310]\n",
      "  [6.66831227e-310 6.66831227e-310 6.66831227e-310 5.37194543e-310]]]\n",
      "(4, 2, 4) (24,) (4, 3, 2) (24,)\n",
      "[[[5.37239766e-310 0.00000000e+000 6.66831753e-310 6.66831227e-310]\n",
      "  [6.66831227e-310 6.66831227e-310 6.66831753e-310 6.66831753e-310]]\n",
      "\n",
      " [[6.66831227e-310 6.66831227e-310 6.66831227e-310 6.66831227e-310]\n",
      "  [6.66831753e-310 6.66831753e-310 6.66831753e-310 6.66831227e-310]]\n",
      "\n",
      " [[6.66831753e-310 6.66831753e-310 6.66831227e-310 6.66831227e-310]\n",
      "  [6.66831227e-310 6.66831227e-310 6.66831227e-310 5.37194543e-310]]\n",
      "\n",
      " [[0.00000000e+000 0.00000000e+000 0.00000000e+000 0.00000000e+000]\n",
      "  [0.00000000e+000 0.00000000e+000 0.00000000e+000 0.00000000e+000]]]\n",
      "(2, 3, 4, 5) (5, 4, 3, 2)\n",
      "(6,)\n",
      "(1, 6)\n",
      "(1, 6, 1)\n"
     ]
    }
   ],
   "source": [
    "mat = np.ndarray(shape=(2,3,4))\n",
    "print(mat)\n",
    "mat1 = mat.ravel()  # returns the array, flattened\n",
    "mat2 = mat.T\n",
    "mat3 = mat.reshape((-1))\n",
    "mat.resize((4,2,4), refcheck=False)\n",
    "\n",
    "print(mat.shape, mat1.shape, mat2.shape, mat3.shape)\n",
    "print(mat)\n",
    "\n",
    "mat = np.ndarray(shape=(2,3,4,5))\n",
    "mat4 = mat.T\n",
    "print(mat.shape, mat4.shape)\n",
    "\n",
    "\n",
    "a = np.array([1, 2, 3, 4, 5, 6])\n",
    "print(a.shape)\n",
    "a2 = a[np.newaxis, :]\n",
    "print(a2.shape)\n",
    "\n",
    "a3 = np.expand_dims(a2, axis=2)\n",
    "print(a3.shape)\n"
   ]
  },
  {
   "cell_type": "code",
   "execution_count": 25,
   "metadata": {},
   "outputs": [
    {
     "name": "stdout",
     "output_type": "stream",
     "text": [
      "[[0 1 2]\n",
      " [3 4 5]]\n",
      "[[0 3]\n",
      " [1 4]\n",
      " [2 5]]\n",
      "[[0 3]\n",
      " [1 4]\n",
      " [2 5]]\n"
     ]
    }
   ],
   "source": [
    "arr = np.arange(6).reshape((2, 3))\n",
    "print(arr)\n",
    "print(arr.transpose())\n",
    "print(arr.T)\n"
   ]
  },
  {
   "cell_type": "code",
   "execution_count": 31,
   "metadata": {},
   "outputs": [
    {
     "name": "stdout",
     "output_type": "stream",
     "text": [
      "[[[ 0  1  2  3]\n",
      "  [ 4  5  6  7]\n",
      "  [ 8  9 10 11]]\n",
      "\n",
      " [[12 13 14 15]\n",
      "  [16 17 18 19]\n",
      "  [20 21 22 23]]]\n",
      "[[[ 0 12]\n",
      "  [ 4 16]\n",
      "  [ 8 20]]\n",
      "\n",
      " [[ 1 13]\n",
      "  [ 5 17]\n",
      "  [ 9 21]]\n",
      "\n",
      " [[ 2 14]\n",
      "  [ 6 18]\n",
      "  [10 22]]\n",
      "\n",
      " [[ 3 15]\n",
      "  [ 7 19]\n",
      "  [11 23]]]\n",
      "(4, 3, 2)\n",
      "[[[ 0 12]\n",
      "  [ 4 16]\n",
      "  [ 8 20]]\n",
      "\n",
      " [[ 1 13]\n",
      "  [ 5 17]\n",
      "  [ 9 21]]\n",
      "\n",
      " [[ 2 14]\n",
      "  [ 6 18]\n",
      "  [10 22]]\n",
      "\n",
      " [[ 3 15]\n",
      "  [ 7 19]\n",
      "  [11 23]]]\n",
      "(4, 3, 2)\n"
     ]
    }
   ],
   "source": [
    "arr = np.arange(24).reshape((2, 3, 4))\n",
    "print(arr)\n",
    "print(arr.T)\n",
    "print(arr.T.shape)  # (4, 3, 2)\n",
    "print(arr.transpose())\n",
    "print(arr.transpose().shape)\n"
   ]
  },
  {
   "cell_type": "markdown",
   "metadata": {},
   "source": [
    "### <a id='toc1_1_10_'></a>[Stacking together different arrays](#toc0_)\n",
    "\n",
    "Several arrays can be stacked together along different axes:\n",
    "1. vstack - 改变第0轴大小 - np.concatenate((a,b),axis=0)\n",
    "2. hstack - 改变第1轴大小 - np.concatenate((a,b),axis=1)\n",
    "3. [concatenate](https://numpy.org/doc/stable/reference/generated/numpy.concatenate.html#numpy.concatenate)\n",
    "4. row_stack is equivalent to vstack for any input arrays. In fact, row_stack is an alias for vstack\n",
    "5. r_ and c_ are useful for creating arrays by stacking numbers along one axis\n",
    "6. column_stack stacks 1D arrays as columns into a 2D array. It is equivalent to hstack only for 2D arrays\n",
    "\n"
   ]
  },
  {
   "cell_type": "code",
   "execution_count": 14,
   "metadata": {},
   "outputs": [
    {
     "name": "stdout",
     "output_type": "stream",
     "text": [
      "[[[5. 9. 1.]\n",
      "  [9. 3. 4.]]\n",
      "\n",
      " [[8. 4. 5.]\n",
      "  [0. 7. 5.]]]\n",
      "[[[3. 7. 3.]\n",
      "  [4. 1. 4.]]\n",
      "\n",
      " [[2. 2. 7.]\n",
      "  [2. 4. 9.]]]\n",
      "--------------\n",
      "[[[5. 9. 1.]\n",
      "  [9. 3. 4.]]\n",
      "\n",
      " [[8. 4. 5.]\n",
      "  [0. 7. 5.]]\n",
      "\n",
      " [[3. 7. 3.]\n",
      "  [4. 1. 4.]]\n",
      "\n",
      " [[2. 2. 7.]\n",
      "  [2. 4. 9.]]]\n",
      "[[[5. 9. 1.]\n",
      "  [9. 3. 4.]\n",
      "  [3. 7. 3.]\n",
      "  [4. 1. 4.]]\n",
      "\n",
      " [[8. 4. 5.]\n",
      "  [0. 7. 5.]\n",
      "  [2. 2. 7.]\n",
      "  [2. 4. 9.]]]\n",
      "[[[ True  True  True]\n",
      "  [ True  True  True]]\n",
      "\n",
      " [[ True  True  True]\n",
      "  [ True  True  True]]\n",
      "\n",
      " [[ True  True  True]\n",
      "  [ True  True  True]]\n",
      "\n",
      " [[ True  True  True]\n",
      "  [ True  True  True]]]\n",
      "[[[ True  True  True]\n",
      "  [ True  True  True]\n",
      "  [ True  True  True]\n",
      "  [ True  True  True]]\n",
      "\n",
      " [[ True  True  True]\n",
      "  [ True  True  True]\n",
      "  [ True  True  True]\n",
      "  [ True  True  True]]]\n",
      "[1 2 3 4 5 6 7 8]\n"
     ]
    }
   ],
   "source": [
    "rg = np.random.default_rng(1)  # create instance of default random number generator\n",
    "\n",
    "a = np.floor(10 * rg.random((2, 2, 3)))\n",
    "b = np.floor(10 * rg.random((2, 2, 3)))\n",
    "\n",
    "print(a)\n",
    "print(b)\n",
    "print(\"--------------\")\n",
    "print(np.vstack((a,b)))\n",
    "print(np.hstack((a,b)))\n",
    "\n",
    "print(np.concatenate((a,b),axis=0) == np.vstack((a,b)))\n",
    "print(np.concatenate((a,b),axis=1) == np.hstack((a,b)))\n",
    "\n",
    "arr = np.array([2, 1, 5, 3, 7, 4, 6, 8])\n",
    "print(np.sort(arr))\n"
   ]
  },
  {
   "cell_type": "markdown",
   "metadata": {},
   "source": [
    "### <a id='toc1_1_11_'></a>[Splitting one array into several smaller ones](#toc0_)\n",
    "\n",
    "Using hsplit, you can split an array along its horizontal axis\n",
    "1. either by specifying the number of equally shaped arrays to return\n",
    "2. or by specifying the columns after which the division should occur\n",
    "\n"
   ]
  },
  {
   "cell_type": "code",
   "execution_count": 15,
   "metadata": {},
   "outputs": [
    {
     "name": "stdout",
     "output_type": "stream",
     "text": [
      "[[9. 7. 5. 2. 1. 9. 5. 1. 6. 7. 6. 9.]\n",
      " [0. 5. 4. 0. 6. 8. 5. 2. 8. 5. 5. 7.]]\n",
      "[array([[9., 7., 5.],\n",
      "       [0., 5., 4.]]), array([[2., 1., 9.],\n",
      "       [0., 6., 8.]]), array([[5., 1., 6.],\n",
      "       [5., 2., 8.]]), array([[7., 6., 9.],\n",
      "       [5., 5., 7.]])]\n",
      "[array([[9., 7., 5., 2., 1., 9., 5., 1., 6., 7., 6., 9.]]), array([[0., 5., 4., 0., 6., 8., 5., 2., 8., 5., 5., 7.]])]\n"
     ]
    }
   ],
   "source": [
    "a = np.floor(10 * rg.random((2, 12)))\n",
    "arrayList1 = np.hsplit(a, 4)\n",
    "arrayList2 = np.vsplit(a, 2)\n",
    "\n",
    "\n",
    "print(a)\n",
    "print(arrayList1)\n",
    "print(arrayList2)\n"
   ]
  },
  {
   "cell_type": "markdown",
   "metadata": {},
   "source": [
    "### <a id='toc1_1_12_'></a>[Copies and Views](#toc0_)\n",
    "\n",
    "When operating and manipulating arrays, their data is sometimes copied into a new array and sometimes not. This is often a source of confusion for beginners.\n",
    "\n",
    "浅拷贝与深拷贝\n",
    "1. 浅拷贝（Shallow Copy）\n",
    "   1. 创建一个新对象，但是不会创建原有对象中的子对象的副本。这意味着，如果原有对象中包含了对其他对象的引用，那么浅拷贝出的新对象将使用对这些子对象的同样引用。\n",
    "   2. 如果原对象或其任何子对象是可变的，那么无论是在新对象还是原对象中对这些可变子对象的任何改动都会互相影响。\n",
    "2. 深拷贝（Deep Copy）\n",
    "   1. 深拷贝创建一个新对象，同时递归地复制原有对象中的所有子对象。\n",
    "   2. 深拷贝出的新对象和原有对象没有任何引用上的联系。因此，修改新对象不会影响原对象，反之亦然。\n"
   ]
  },
  {
   "cell_type": "markdown",
   "metadata": {},
   "source": [
    "#### <a id='toc1_1_12_1_'></a>[No Copy at All](#toc0_)\n",
    "\n",
    "Simple assignments make no copy of objects or their data.\n",
    "\n",
    "Function calls make no copy"
   ]
  },
  {
   "cell_type": "code",
   "execution_count": 16,
   "metadata": {},
   "outputs": [
    {
     "name": "stdout",
     "output_type": "stream",
     "text": [
      "True\n",
      "134967737896464\n",
      "134967737896464\n"
     ]
    }
   ],
   "source": [
    "a = np.array([[ 0,  1,  2,  3],\n",
    "              [ 4,  5,  6,  7],\n",
    "              [ 8,  9, 10, 11]])\n",
    "b = a            # no new object is created\n",
    "print(b is a)    # True\n",
    "\n",
    "def f(x):\n",
    "    print(id(x))\n",
    "\n",
    "print(id(a))\n",
    "f(a)\n"
   ]
  },
  {
   "cell_type": "markdown",
   "metadata": {},
   "source": [
    "#### <a id='toc1_1_12_2_'></a>[View or Shallow Copy](#toc0_)\n",
    "\n",
    "Different array objects can share the same data. \n",
    "\n",
    "**The view method creates a new array object that looks at the same data.**\n",
    "\n",
    "Slicing an array returns a view of it:"
   ]
  },
  {
   "cell_type": "code",
   "execution_count": 17,
   "metadata": {},
   "outputs": [
    {
     "name": "stdout",
     "output_type": "stream",
     "text": [
      "True\n",
      "(3, 4)\n",
      "[[ 0  1  2  3  4  5]\n",
      " [ 6  7  8  9 10 11]]\n",
      "[[  0   1   2   3   4   5]\n",
      " [  6 100   8   9  10  11]]\n",
      "[[  0   1   2   3]\n",
      " [  4   5   6 100]\n",
      " [  8   9  10  11]]\n",
      "[[  0   1   2   3]\n",
      " [  4   5   6 100]\n",
      " [  8   9  10  11]]\n"
     ]
    }
   ],
   "source": [
    "a = np.array([[ 0,  1,  2,  3],\n",
    "              [ 4,  5,  6,  7],\n",
    "              [ 8,  9, 10, 11]])\n",
    "\n",
    "c = a.view()\n",
    "print(c.base is a)  # True\n",
    "\n",
    "c = c.reshape((2,6))\n",
    "print(a.shape)  # a's shape doesn't change\n",
    "\n",
    "print(c)\n",
    "\n",
    "c[1,1] = 100\n",
    "\n",
    "print(c)\n",
    "print(c.base)\n",
    "print(a)\n"
   ]
  },
  {
   "cell_type": "code",
   "execution_count": 18,
   "metadata": {},
   "outputs": [
    {
     "name": "stdout",
     "output_type": "stream",
     "text": [
      "[[  0  10  10   3]\n",
      " [  4  10  10 100]\n",
      " [  8  10  10  11]]\n"
     ]
    }
   ],
   "source": [
    "viewA = a[:,1:3]  # view of a\n",
    "viewA[:] = 10  # Note the difference between s = 10 and s[:] = 10\n",
    "print(a)\n"
   ]
  },
  {
   "cell_type": "markdown",
   "metadata": {},
   "source": [
    "#### <a id='toc1_1_12_3_'></a>[Deep Copy](#toc0_)\n",
    "\n",
    "The copy method makes a complete copy of the array and its data.\n",
    "\n",
    "doesn't share anything"
   ]
  },
  {
   "cell_type": "code",
   "execution_count": 19,
   "metadata": {},
   "outputs": [
    {
     "data": {
      "text/plain": [
       "False"
      ]
     },
     "execution_count": 19,
     "metadata": {},
     "output_type": "execute_result"
    }
   ],
   "source": [
    "d = a.copy()  # a new array object with new data is created\n",
    "d is a\n"
   ]
  },
  {
   "cell_type": "markdown",
   "metadata": {},
   "source": [
    "### <a id='toc1_1_13_'></a>[Random](#toc0_)\n"
   ]
  },
  {
   "cell_type": "code",
   "execution_count": 20,
   "metadata": {},
   "outputs": [
    {
     "name": "stdout",
     "output_type": "stream",
     "text": [
      "[0.94461106 0.48014678 0.94835648]\n",
      "[[0.40374466 0.48563584]\n",
      " [0.04461884 0.77386072]\n",
      " [0.26508044 0.13959526]]\n",
      "[[3 1 2 2]\n",
      " [4 0 0 3]]\n"
     ]
    }
   ],
   "source": [
    "rng = np.random.default_rng()  # the simplest way to generate random numbers\n",
    "print(rng.random(3))\n",
    "print(rng.random((3, 2)))\n",
    "print(rng.integers(5, size=(2, 4)) )\n"
   ]
  },
  {
   "cell_type": "markdown",
   "metadata": {},
   "source": [
    "### <a id='toc1_1_14_'></a>[Unique](#toc0_)\n",
    "\n",
    "find the unique elements in an array easily with np.unique"
   ]
  },
  {
   "cell_type": "code",
   "execution_count": 21,
   "metadata": {},
   "outputs": [
    {
     "name": "stdout",
     "output_type": "stream",
     "text": [
      "[11 12 13 14 15 16 17 18 19 20]\n",
      "[ 0  2  3  4  5  6  7 12 13 14]\n",
      "[3 2 2 2 1 1 1 1 1 1]\n"
     ]
    }
   ],
   "source": [
    "a = np.array([11, 11, 12, 13, 14, 15, 16, 17, 12, 13, 11, 14, 18, 19, 20])\n",
    "print(np.unique(a))\n",
    "\n",
    "unique_values, indices_list = np.unique(a, return_index=True)\n",
    "print(indices_list)\n",
    "unique_values, occurrence_count = np.unique(a, return_counts=True)\n",
    "print(occurrence_count)\n"
   ]
  },
  {
   "cell_type": "code",
   "execution_count": 22,
   "metadata": {},
   "outputs": [
    {
     "name": "stdout",
     "output_type": "stream",
     "text": [
      "[ 1  2  3  4  5  6  7  8  9 10 11 12]\n",
      "[[ 1  2  3  4]\n",
      " [ 5  6  7  8]\n",
      " [ 9 10 11 12]]\n"
     ]
    }
   ],
   "source": [
    "a_2d = np.array([[1, 2, 3, 4], [5, 6, 7, 8], [9, 10, 11, 12], [1, 2, 3, 4]])\n",
    "unique_values = np.unique(a_2d)\n",
    "print(unique_values)\n",
    "\n",
    "unique_rows = np.unique(a_2d, axis=0)\n",
    "print(unique_rows)\n"
   ]
  },
  {
   "cell_type": "code",
   "execution_count": 23,
   "metadata": {},
   "outputs": [
    {
     "name": "stdout",
     "output_type": "stream",
     "text": [
      "(array([ 1,  2,  3,  4,  5,  6,  7,  8,  9, 10, 11, 12]), array([ 0,  1,  2,  3,  4,  5,  6,  7,  8,  9, 10, 11]), array([2, 2, 2, 2, 1, 1, 1, 1, 1, 1, 1, 1]))\n"
     ]
    }
   ],
   "source": [
    "unique_rows, indices, occurrence_count = np.unique(a_2d, axis=0, return_counts=True, return_index=True)\n",
    "print(np.unique(ar=a_2d, return_index=True, return_counts=True))\n"
   ]
  },
  {
   "cell_type": "markdown",
   "metadata": {},
   "source": [
    "### <a id='toc1_1_15_'></a>[Reverse](#toc0_)"
   ]
  },
  {
   "cell_type": "code",
   "execution_count": 34,
   "metadata": {},
   "outputs": [
    {
     "name": "stdout",
     "output_type": "stream",
     "text": [
      "[[12 11 10  9]\n",
      " [ 8  7  6  5]\n",
      " [ 4  3  2  1]]\n",
      "[[ 9 10 11 12]\n",
      " [ 5  6  7  8]\n",
      " [ 1  2  3  4]]\n",
      "[[ 4  3  2  1]\n",
      " [ 8  7  6  5]\n",
      " [12 11 10  9]]\n"
     ]
    }
   ],
   "source": [
    "arr_2d = np.array([[1, 2, 3, 4], [5, 6, 7, 8], [9, 10, 11, 12]])\n",
    "reversed_arr = np.flip(arr_2d)\n",
    "print(reversed_arr)\n",
    "reversed_arr_rows = np.flip(arr_2d, axis=0)\n",
    "print(reversed_arr_rows)\n",
    "reversed_arr_columns = np.flip(arr_2d, axis=1)\n",
    "print(reversed_arr_columns)\n"
   ]
  },
  {
   "cell_type": "markdown",
   "metadata": {},
   "source": [
    "### <a id='toc1_1_16_'></a>[Get Help](#toc0_)\n",
    "\n",
    "help(), ?, ??"
   ]
  },
  {
   "cell_type": "code",
   "execution_count": 38,
   "metadata": {},
   "outputs": [
    {
     "name": "stdout",
     "output_type": "stream",
     "text": [
      "Help on _ArrayFunctionDispatcher in module numpy.linalg:\n",
      "\n",
      "svd(a, full_matrices=True, compute_uv=True, hermitian=False)\n",
      "    Singular Value Decomposition.\n",
      "    \n",
      "    When `a` is a 2D array, and ``full_matrices=False``, then it is\n",
      "    factorized as ``u @ np.diag(s) @ vh = (u * s) @ vh``, where\n",
      "    `u` and the Hermitian transpose of `vh` are 2D arrays with\n",
      "    orthonormal columns and `s` is a 1D array of `a`'s singular\n",
      "    values. When `a` is higher-dimensional, SVD is applied in\n",
      "    stacked mode as explained below.\n",
      "    \n",
      "    Parameters\n",
      "    ----------\n",
      "    a : (..., M, N) array_like\n",
      "        A real or complex array with ``a.ndim >= 2``.\n",
      "    full_matrices : bool, optional\n",
      "        If True (default), `u` and `vh` have the shapes ``(..., M, M)`` and\n",
      "        ``(..., N, N)``, respectively.  Otherwise, the shapes are\n",
      "        ``(..., M, K)`` and ``(..., K, N)``, respectively, where\n",
      "        ``K = min(M, N)``.\n",
      "    compute_uv : bool, optional\n",
      "        Whether or not to compute `u` and `vh` in addition to `s`.  True\n",
      "        by default.\n",
      "    hermitian : bool, optional\n",
      "        If True, `a` is assumed to be Hermitian (symmetric if real-valued),\n",
      "        enabling a more efficient method for finding singular values.\n",
      "        Defaults to False.\n",
      "    \n",
      "        .. versionadded:: 1.17.0\n",
      "    \n",
      "    Returns\n",
      "    -------\n",
      "    When `compute_uv` is True, the result is a namedtuple with the following\n",
      "    attribute names:\n",
      "    \n",
      "    U : { (..., M, M), (..., M, K) } array\n",
      "        Unitary array(s). The first ``a.ndim - 2`` dimensions have the same\n",
      "        size as those of the input `a`. The size of the last two dimensions\n",
      "        depends on the value of `full_matrices`. Only returned when\n",
      "        `compute_uv` is True.\n",
      "    S : (..., K) array\n",
      "        Vector(s) with the singular values, within each vector sorted in\n",
      "        descending order. The first ``a.ndim - 2`` dimensions have the same\n",
      "        size as those of the input `a`.\n",
      "    Vh : { (..., N, N), (..., K, N) } array\n",
      "        Unitary array(s). The first ``a.ndim - 2`` dimensions have the same\n",
      "        size as those of the input `a`. The size of the last two dimensions\n",
      "        depends on the value of `full_matrices`. Only returned when\n",
      "        `compute_uv` is True.\n",
      "    \n",
      "    Raises\n",
      "    ------\n",
      "    LinAlgError\n",
      "        If SVD computation does not converge.\n",
      "    \n",
      "    See Also\n",
      "    --------\n",
      "    scipy.linalg.svd : Similar function in SciPy.\n",
      "    scipy.linalg.svdvals : Compute singular values of a matrix.\n",
      "    \n",
      "    Notes\n",
      "    -----\n",
      "    \n",
      "    .. versionchanged:: 1.8.0\n",
      "       Broadcasting rules apply, see the `numpy.linalg` documentation for\n",
      "       details.\n",
      "    \n",
      "    The decomposition is performed using LAPACK routine ``_gesdd``.\n",
      "    \n",
      "    SVD is usually described for the factorization of a 2D matrix :math:`A`.\n",
      "    The higher-dimensional case will be discussed below. In the 2D case, SVD is\n",
      "    written as :math:`A = U S V^H`, where :math:`A = a`, :math:`U= u`,\n",
      "    :math:`S= \\mathtt{np.diag}(s)` and :math:`V^H = vh`. The 1D array `s`\n",
      "    contains the singular values of `a` and `u` and `vh` are unitary. The rows\n",
      "    of `vh` are the eigenvectors of :math:`A^H A` and the columns of `u` are\n",
      "    the eigenvectors of :math:`A A^H`. In both cases the corresponding\n",
      "    (possibly non-zero) eigenvalues are given by ``s**2``.\n",
      "    \n",
      "    If `a` has more than two dimensions, then broadcasting rules apply, as\n",
      "    explained in :ref:`routines.linalg-broadcasting`. This means that SVD is\n",
      "    working in \"stacked\" mode: it iterates over all indices of the first\n",
      "    ``a.ndim - 2`` dimensions and for each combination SVD is applied to the\n",
      "    last two indices. The matrix `a` can be reconstructed from the\n",
      "    decomposition with either ``(u * s[..., None, :]) @ vh`` or\n",
      "    ``u @ (s[..., None] * vh)``. (The ``@`` operator can be replaced by the\n",
      "    function ``np.matmul`` for python versions below 3.5.)\n",
      "    \n",
      "    If `a` is a ``matrix`` object (as opposed to an ``ndarray``), then so are\n",
      "    all the return values.\n",
      "    \n",
      "    Examples\n",
      "    --------\n",
      "    >>> a = np.random.randn(9, 6) + 1j*np.random.randn(9, 6)\n",
      "    >>> b = np.random.randn(2, 7, 8, 3) + 1j*np.random.randn(2, 7, 8, 3)\n",
      "    \n",
      "    Reconstruction based on full SVD, 2D case:\n",
      "    \n",
      "    >>> U, S, Vh = np.linalg.svd(a, full_matrices=True)\n",
      "    >>> U.shape, S.shape, Vh.shape\n",
      "    ((9, 9), (6,), (6, 6))\n",
      "    >>> np.allclose(a, np.dot(U[:, :6] * S, Vh))\n",
      "    True\n",
      "    >>> smat = np.zeros((9, 6), dtype=complex)\n",
      "    >>> smat[:6, :6] = np.diag(S)\n",
      "    >>> np.allclose(a, np.dot(U, np.dot(smat, Vh)))\n",
      "    True\n",
      "    \n",
      "    Reconstruction based on reduced SVD, 2D case:\n",
      "    \n",
      "    >>> U, S, Vh = np.linalg.svd(a, full_matrices=False)\n",
      "    >>> U.shape, S.shape, Vh.shape\n",
      "    ((9, 6), (6,), (6, 6))\n",
      "    >>> np.allclose(a, np.dot(U * S, Vh))\n",
      "    True\n",
      "    >>> smat = np.diag(S)\n",
      "    >>> np.allclose(a, np.dot(U, np.dot(smat, Vh)))\n",
      "    True\n",
      "    \n",
      "    Reconstruction based on full SVD, 4D case:\n",
      "    \n",
      "    >>> U, S, Vh = np.linalg.svd(b, full_matrices=True)\n",
      "    >>> U.shape, S.shape, Vh.shape\n",
      "    ((2, 7, 8, 8), (2, 7, 3), (2, 7, 3, 3))\n",
      "    >>> np.allclose(b, np.matmul(U[..., :3] * S[..., None, :], Vh))\n",
      "    True\n",
      "    >>> np.allclose(b, np.matmul(U[..., :3], S[..., None] * Vh))\n",
      "    True\n",
      "    \n",
      "    Reconstruction based on reduced SVD, 4D case:\n",
      "    \n",
      "    >>> U, S, Vh = np.linalg.svd(b, full_matrices=False)\n",
      "    >>> U.shape, S.shape, Vh.shape\n",
      "    ((2, 7, 8, 3), (2, 7, 3), (2, 7, 3, 3))\n",
      "    >>> np.allclose(b, np.matmul(U * S[..., None, :], Vh))\n",
      "    True\n",
      "    >>> np.allclose(b, np.matmul(U, S[..., None] * Vh))\n",
      "    True\n",
      "\n"
     ]
    }
   ],
   "source": [
    "help(np.linalg.svd)\n"
   ]
  },
  {
   "cell_type": "code",
   "execution_count": 39,
   "metadata": {},
   "outputs": [
    {
     "name": "stdout",
     "output_type": "stream",
     "text": [
      "\u001b[0;31mType:\u001b[0m        ndarray\n",
      "\u001b[0;31mString form:\u001b[0m [1 2 3 4 5 6]\n",
      "\u001b[0;31mLength:\u001b[0m      6\n",
      "\u001b[0;31mFile:\u001b[0m        ~/.local/lib/python3.10/site-packages/numpy/__init__.py\n",
      "\u001b[0;31mDocstring:\u001b[0m  \n",
      "ndarray(shape, dtype=float, buffer=None, offset=0,\n",
      "        strides=None, order=None)\n",
      "\n",
      "An array object represents a multidimensional, homogeneous array\n",
      "of fixed-size items.  An associated data-type object describes the\n",
      "format of each element in the array (its byte-order, how many bytes it\n",
      "occupies in memory, whether it is an integer, a floating point number,\n",
      "or something else, etc.)\n",
      "\n",
      "Arrays should be constructed using `array`, `zeros` or `empty` (refer\n",
      "to the See Also section below).  The parameters given here refer to\n",
      "a low-level method (`ndarray(...)`) for instantiating an array.\n",
      "\n",
      "For more information, refer to the `numpy` module and examine the\n",
      "methods and attributes of an array.\n",
      "\n",
      "Parameters\n",
      "----------\n",
      "(for the __new__ method; see Notes below)\n",
      "\n",
      "shape : tuple of ints\n",
      "    Shape of created array.\n",
      "dtype : data-type, optional\n",
      "    Any object that can be interpreted as a numpy data type.\n",
      "buffer : object exposing buffer interface, optional\n",
      "    Used to fill the array with data.\n",
      "offset : int, optional\n",
      "    Offset of array data in buffer.\n",
      "strides : tuple of ints, optional\n",
      "    Strides of data in memory.\n",
      "order : {'C', 'F'}, optional\n",
      "    Row-major (C-style) or column-major (Fortran-style) order.\n",
      "\n",
      "Attributes\n",
      "----------\n",
      "T : ndarray\n",
      "    Transpose of the array.\n",
      "data : buffer\n",
      "    The array's elements, in memory.\n",
      "dtype : dtype object\n",
      "    Describes the format of the elements in the array.\n",
      "flags : dict\n",
      "    Dictionary containing information related to memory use, e.g.,\n",
      "    'C_CONTIGUOUS', 'OWNDATA', 'WRITEABLE', etc.\n",
      "flat : numpy.flatiter object\n",
      "    Flattened version of the array as an iterator.  The iterator\n",
      "    allows assignments, e.g., ``x.flat = 3`` (See `ndarray.flat` for\n",
      "    assignment examples; TODO).\n",
      "imag : ndarray\n",
      "    Imaginary part of the array.\n",
      "real : ndarray\n",
      "    Real part of the array.\n",
      "size : int\n",
      "    Number of elements in the array.\n",
      "itemsize : int\n",
      "    The memory use of each array element in bytes.\n",
      "nbytes : int\n",
      "    The total number of bytes required to store the array data,\n",
      "    i.e., ``itemsize * size``.\n",
      "ndim : int\n",
      "    The array's number of dimensions.\n",
      "shape : tuple of ints\n",
      "    Shape of the array.\n",
      "strides : tuple of ints\n",
      "    The step-size required to move from one element to the next in\n",
      "    memory. For example, a contiguous ``(3, 4)`` array of type\n",
      "    ``int16`` in C-order has strides ``(8, 2)``.  This implies that\n",
      "    to move from element to element in memory requires jumps of 2 bytes.\n",
      "    To move from row-to-row, one needs to jump 8 bytes at a time\n",
      "    (``2 * 4``).\n",
      "ctypes : ctypes object\n",
      "    Class containing properties of the array needed for interaction\n",
      "    with ctypes.\n",
      "base : ndarray\n",
      "    If the array is a view into another array, that array is its `base`\n",
      "    (unless that array is also a view).  The `base` array is where the\n",
      "    array data is actually stored.\n",
      "\n",
      "See Also\n",
      "--------\n",
      "array : Construct an array.\n",
      "zeros : Create an array, each element of which is zero.\n",
      "empty : Create an array, but leave its allocated memory unchanged (i.e.,\n",
      "        it contains \"garbage\").\n",
      "dtype : Create a data-type.\n",
      "numpy.typing.NDArray : An ndarray alias :term:`generic <generic type>`\n",
      "                       w.r.t. its `dtype.type <numpy.dtype.type>`.\n",
      "\n",
      "Notes\n",
      "-----\n",
      "There are two modes of creating an array using ``__new__``:\n",
      "\n",
      "1. If `buffer` is None, then only `shape`, `dtype`, and `order`\n",
      "   are used.\n",
      "2. If `buffer` is an object exposing the buffer interface, then\n",
      "   all keywords are interpreted.\n",
      "\n",
      "No ``__init__`` method is needed because the array is fully initialized\n",
      "after the ``__new__`` method.\n",
      "\n",
      "Examples\n",
      "--------\n",
      "These examples illustrate the low-level `ndarray` constructor.  Refer\n",
      "to the `See Also` section above for easier ways of constructing an\n",
      "ndarray.\n",
      "\n",
      "First mode, `buffer` is None:\n",
      "\n",
      ">>> np.ndarray(shape=(2,2), dtype=float, order='F')\n",
      "array([[0.0e+000, 0.0e+000], # random\n",
      "       [     nan, 2.5e-323]])\n",
      "\n",
      "Second mode:\n",
      "\n",
      ">>> np.ndarray((2,), buffer=np.array([1,2,3]),\n",
      "...            offset=np.int_().itemsize,\n",
      "...            dtype=int) # offset = 1*itemsize, i.e. skip first element\n",
      "array([2, 3])"
     ]
    }
   ],
   "source": [
    "a = np.array([1, 2, 3, 4, 5, 6])\n",
    "a?\n"
   ]
  },
  {
   "cell_type": "code",
   "execution_count": 40,
   "metadata": {},
   "outputs": [
    {
     "name": "stdout",
     "output_type": "stream",
     "text": [
      "\u001b[0;31mType:\u001b[0m        ndarray\n",
      "\u001b[0;31mString form:\u001b[0m [1 2 3 4 5 6]\n",
      "\u001b[0;31mLength:\u001b[0m      6\n",
      "\u001b[0;31mFile:\u001b[0m        ~/.local/lib/python3.10/site-packages/numpy/__init__.py\n",
      "\u001b[0;31mDocstring:\u001b[0m  \n",
      "ndarray(shape, dtype=float, buffer=None, offset=0,\n",
      "        strides=None, order=None)\n",
      "\n",
      "An array object represents a multidimensional, homogeneous array\n",
      "of fixed-size items.  An associated data-type object describes the\n",
      "format of each element in the array (its byte-order, how many bytes it\n",
      "occupies in memory, whether it is an integer, a floating point number,\n",
      "or something else, etc.)\n",
      "\n",
      "Arrays should be constructed using `array`, `zeros` or `empty` (refer\n",
      "to the See Also section below).  The parameters given here refer to\n",
      "a low-level method (`ndarray(...)`) for instantiating an array.\n",
      "\n",
      "For more information, refer to the `numpy` module and examine the\n",
      "methods and attributes of an array.\n",
      "\n",
      "Parameters\n",
      "----------\n",
      "(for the __new__ method; see Notes below)\n",
      "\n",
      "shape : tuple of ints\n",
      "    Shape of created array.\n",
      "dtype : data-type, optional\n",
      "    Any object that can be interpreted as a numpy data type.\n",
      "buffer : object exposing buffer interface, optional\n",
      "    Used to fill the array with data.\n",
      "offset : int, optional\n",
      "    Offset of array data in buffer.\n",
      "strides : tuple of ints, optional\n",
      "    Strides of data in memory.\n",
      "order : {'C', 'F'}, optional\n",
      "    Row-major (C-style) or column-major (Fortran-style) order.\n",
      "\n",
      "Attributes\n",
      "----------\n",
      "T : ndarray\n",
      "    Transpose of the array.\n",
      "data : buffer\n",
      "    The array's elements, in memory.\n",
      "dtype : dtype object\n",
      "    Describes the format of the elements in the array.\n",
      "flags : dict\n",
      "    Dictionary containing information related to memory use, e.g.,\n",
      "    'C_CONTIGUOUS', 'OWNDATA', 'WRITEABLE', etc.\n",
      "flat : numpy.flatiter object\n",
      "    Flattened version of the array as an iterator.  The iterator\n",
      "    allows assignments, e.g., ``x.flat = 3`` (See `ndarray.flat` for\n",
      "    assignment examples; TODO).\n",
      "imag : ndarray\n",
      "    Imaginary part of the array.\n",
      "real : ndarray\n",
      "    Real part of the array.\n",
      "size : int\n",
      "    Number of elements in the array.\n",
      "itemsize : int\n",
      "    The memory use of each array element in bytes.\n",
      "nbytes : int\n",
      "    The total number of bytes required to store the array data,\n",
      "    i.e., ``itemsize * size``.\n",
      "ndim : int\n",
      "    The array's number of dimensions.\n",
      "shape : tuple of ints\n",
      "    Shape of the array.\n",
      "strides : tuple of ints\n",
      "    The step-size required to move from one element to the next in\n",
      "    memory. For example, a contiguous ``(3, 4)`` array of type\n",
      "    ``int16`` in C-order has strides ``(8, 2)``.  This implies that\n",
      "    to move from element to element in memory requires jumps of 2 bytes.\n",
      "    To move from row-to-row, one needs to jump 8 bytes at a time\n",
      "    (``2 * 4``).\n",
      "ctypes : ctypes object\n",
      "    Class containing properties of the array needed for interaction\n",
      "    with ctypes.\n",
      "base : ndarray\n",
      "    If the array is a view into another array, that array is its `base`\n",
      "    (unless that array is also a view).  The `base` array is where the\n",
      "    array data is actually stored.\n",
      "\n",
      "See Also\n",
      "--------\n",
      "array : Construct an array.\n",
      "zeros : Create an array, each element of which is zero.\n",
      "empty : Create an array, but leave its allocated memory unchanged (i.e.,\n",
      "        it contains \"garbage\").\n",
      "dtype : Create a data-type.\n",
      "numpy.typing.NDArray : An ndarray alias :term:`generic <generic type>`\n",
      "                       w.r.t. its `dtype.type <numpy.dtype.type>`.\n",
      "\n",
      "Notes\n",
      "-----\n",
      "There are two modes of creating an array using ``__new__``:\n",
      "\n",
      "1. If `buffer` is None, then only `shape`, `dtype`, and `order`\n",
      "   are used.\n",
      "2. If `buffer` is an object exposing the buffer interface, then\n",
      "   all keywords are interpreted.\n",
      "\n",
      "No ``__init__`` method is needed because the array is fully initialized\n",
      "after the ``__new__`` method.\n",
      "\n",
      "Examples\n",
      "--------\n",
      "These examples illustrate the low-level `ndarray` constructor.  Refer\n",
      "to the `See Also` section above for easier ways of constructing an\n",
      "ndarray.\n",
      "\n",
      "First mode, `buffer` is None:\n",
      "\n",
      ">>> np.ndarray(shape=(2,2), dtype=float, order='F')\n",
      "array([[0.0e+000, 0.0e+000], # random\n",
      "       [     nan, 2.5e-323]])\n",
      "\n",
      "Second mode:\n",
      "\n",
      ">>> np.ndarray((2,), buffer=np.array([1,2,3]),\n",
      "...            offset=np.int_().itemsize,\n",
      "...            dtype=int) # offset = 1*itemsize, i.e. skip first element\n",
      "array([2, 3])"
     ]
    }
   ],
   "source": [
    "a??\n"
   ]
  },
  {
   "cell_type": "code",
   "execution_count": null,
   "metadata": {},
   "outputs": [],
   "source": []
  },
  {
   "cell_type": "code",
   "execution_count": null,
   "metadata": {},
   "outputs": [],
   "source": []
  },
  {
   "cell_type": "code",
   "execution_count": null,
   "metadata": {},
   "outputs": [],
   "source": []
  },
  {
   "cell_type": "markdown",
   "metadata": {},
   "source": [
    "### <a id='toc1_1_17_'></a>[Functions and Methods Overview](#toc0_)\n",
    "\n",
    "Array Creation - \n",
    "arange, array, copy, empty, empty_like, eye, fromfile, fromfunction, identity, linspace, logspace, mgrid, ogrid, ones, ones_like, r_, zeros, zeros_like\n",
    "\n",
    "Conversions - \n",
    "ndarray.astype, atleast_1d, atleast_2d, atleast_3d, mat\n",
    "\n",
    "Manipulations - \n",
    "array_split, column_stack, concatenate, diagonal, dsplit, dstack, hsplit, hstack, ndarray.item, newaxis, ravel, repeat, reshape, resize, squeeze, swapaxes, take, transpose, vsplit, vstack\n",
    "\n",
    "Questions - \n",
    "all, any, nonzero, where\n",
    "\n",
    "Ordering - \n",
    "argmax, argmin, argsort, max, min, ptp, searchsorted, sort\n",
    "\n",
    "Operations - \n",
    "choose, compress, cumprod, cumsum, inner, ndarray.fill, imag, prod, put, putmask, real, sum\n",
    "\n",
    "Basic Statistics - \n",
    "cov, mean, std, var\n",
    "\n",
    "Basic Linear Algebra - \n",
    "cross, dot, outer, linalg.svd, vdot"
   ]
  },
  {
   "cell_type": "markdown",
   "metadata": {},
   "source": [
    "### <a id='toc1_1_18_'></a>[Less Basic](#toc0_)\n"
   ]
  },
  {
   "cell_type": "markdown",
   "metadata": {},
   "source": [
    "## <a id='toc1_2_'></a>[02 - Fundamentals and usage](#toc0_)"
   ]
  },
  {
   "cell_type": "code",
   "execution_count": null,
   "metadata": {},
   "outputs": [],
   "source": []
  },
  {
   "cell_type": "code",
   "execution_count": null,
   "metadata": {},
   "outputs": [],
   "source": []
  },
  {
   "cell_type": "code",
   "execution_count": null,
   "metadata": {},
   "outputs": [],
   "source": []
  },
  {
   "cell_type": "code",
   "execution_count": null,
   "metadata": {},
   "outputs": [],
   "source": []
  },
  {
   "cell_type": "markdown",
   "metadata": {},
   "source": [
    "## <a id='toc1_3_'></a>[03 - Advanced usage and interoperability](#toc0_)"
   ]
  },
  {
   "cell_type": "code",
   "execution_count": null,
   "metadata": {},
   "outputs": [],
   "source": []
  },
  {
   "cell_type": "code",
   "execution_count": null,
   "metadata": {},
   "outputs": [],
   "source": []
  },
  {
   "cell_type": "code",
   "execution_count": null,
   "metadata": {},
   "outputs": [],
   "source": []
  },
  {
   "cell_type": "code",
   "execution_count": null,
   "metadata": {},
   "outputs": [],
   "source": []
  },
  {
   "cell_type": "code",
   "execution_count": null,
   "metadata": {},
   "outputs": [],
   "source": []
  },
  {
   "cell_type": "code",
   "execution_count": null,
   "metadata": {},
   "outputs": [],
   "source": []
  },
  {
   "cell_type": "code",
   "execution_count": null,
   "metadata": {},
   "outputs": [],
   "source": []
  },
  {
   "cell_type": "code",
   "execution_count": null,
   "metadata": {},
   "outputs": [],
   "source": []
  }
 ],
 "metadata": {
  "kernelspec": {
   "display_name": "base",
   "language": "python",
   "name": "python3"
  },
  "language_info": {
   "codemirror_mode": {
    "name": "ipython",
    "version": 3
   },
   "file_extension": ".py",
   "mimetype": "text/x-python",
   "name": "python",
   "nbconvert_exporter": "python",
   "pygments_lexer": "ipython3",
   "version": "3.10.12"
  }
 },
 "nbformat": 4,
 "nbformat_minor": 2
}
