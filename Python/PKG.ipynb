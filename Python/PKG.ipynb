{
 "cells": [
  {
   "cell_type": "markdown",
   "metadata": {},
   "source": [
    "# <a id='toc1_'></a>[Python Packages](#toc0_)\n"
   ]
  },
  {
   "cell_type": "markdown",
   "metadata": {},
   "source": [
    "**Table of contents**<a id='toc0_'></a>    \n",
    "- [Python Packages](#toc1_)    \n",
    "  - [rich](#toc1_1_)    \n",
    "  - [tqdm](#toc1_2_)    \n",
    "\n",
    "<!-- vscode-jupyter-toc-config\n",
    "\tnumbering=false\n",
    "\tanchor=true\n",
    "\tflat=false\n",
    "\tminLevel=1\n",
    "\tmaxLevel=6\n",
    "\t/vscode-jupyter-toc-config -->\n",
    "<!-- THIS CELL WILL BE REPLACED ON TOC UPDATE. DO NOT WRITE YOUR TEXT IN THIS CELL -->"
   ]
  },
  {
   "cell_type": "markdown",
   "metadata": {},
   "source": [
    "## Pandas"
   ]
  },
  {
   "cell_type": "markdown",
   "metadata": {},
   "source": [
    "## seaborn"
   ]
  },
  {
   "cell_type": "code",
   "execution_count": null,
   "metadata": {},
   "outputs": [],
   "source": []
  },
  {
   "cell_type": "markdown",
   "metadata": {},
   "source": [
    "## lida\n",
    "\n",
    "[microsoft/lida - Github](https://github.com/microsoft/lida)\n"
   ]
  },
  {
   "cell_type": "code",
   "execution_count": null,
   "metadata": {},
   "outputs": [],
   "source": []
  },
  {
   "cell_type": "code",
   "execution_count": null,
   "metadata": {},
   "outputs": [],
   "source": []
  },
  {
   "cell_type": "code",
   "execution_count": null,
   "metadata": {},
   "outputs": [],
   "source": []
  },
  {
   "cell_type": "code",
   "execution_count": null,
   "metadata": {},
   "outputs": [],
   "source": []
  },
  {
   "cell_type": "markdown",
   "metadata": {},
   "source": [
    "## <a id='toc1_1_'></a>[rich - beautify and enhance terminal outputs](#toc0_)\n",
    "\n",
    "\n",
    "<left><img src=\"Pics/rich001.svg\" width=40%></left>\n",
    "\n",
    "[rich - Github](https://github.com/Textualize/rich)\n",
    "\n"
   ]
  },
  {
   "cell_type": "code",
   "execution_count": 11,
   "metadata": {},
   "outputs": [
    {
     "name": "stdout",
     "output_type": "stream",
     "text": [
      "Defaulting to user installation because normal site-packages is not writeable\n",
      "Requirement already satisfied: rich in /home/lzy/.local/lib/python3.10/site-packages (13.7.1)\n",
      "Requirement already satisfied: markdown-it-py>=2.2.0 in /home/lzy/.local/lib/python3.10/site-packages (from rich) (2.2.0)\n",
      "Requirement already satisfied: pygments<3.0.0,>=2.13.0 in /home/lzy/.local/lib/python3.10/site-packages (from rich) (2.14.0)\n",
      "Requirement already satisfied: mdurl~=0.1 in /home/lzy/.local/lib/python3.10/site-packages (from markdown-it-py>=2.2.0->rich) (0.1.2)\n",
      "Note: you may need to restart the kernel to use updated packages.\n"
     ]
    }
   ],
   "source": [
    "%pip install rich\n"
   ]
  },
  {
   "cell_type": "code",
   "execution_count": 12,
   "metadata": {},
   "outputs": [],
   "source": [
    "from rich import print\n",
    "from rich.console import Console\n",
    "from rich.progress import Progress\n",
    "from rich.table import Table\n",
    "import time\n"
   ]
  },
  {
   "cell_type": "code",
   "execution_count": 13,
   "metadata": {},
   "outputs": [
    {
     "data": {
      "text/html": [
       "<pre style=\"white-space:pre;overflow-x:auto;line-height:normal;font-family:Menlo,'DejaVu Sans Mono',consolas,'Courier New',monospace\"><span style=\"color: #7fbfbf; text-decoration-color: #7fbfbf\">[14:42:53] </span>Welcome to <span style=\"color: #008000; text-decoration-color: #008000; font-weight: bold\"> Rich </span><span style=\"font-weight: bold\">!</span>                                                                       <a href=\"file:///tmp/ipykernel_1828177/1386885764.py\" target=\"_blank\"><span style=\"color: #7f7f7f; text-decoration-color: #7f7f7f\">1386885764.py</span></a><span style=\"color: #7f7f7f; text-decoration-color: #7f7f7f\">:</span><a href=\"file:///tmp/ipykernel_1828177/1386885764.py#5\" target=\"_blank\"><span style=\"color: #7f7f7f; text-decoration-color: #7f7f7f\">5</span></a>\n",
       "</pre>\n"
      ],
      "text/plain": [
       "\u001b[2;36m[14:42:53]\u001b[0m\u001b[2;36m \u001b[0mWelcome to \u001b[1;32m Rich \u001b[0m\u001b[1m!\u001b[0m                                                                       \u001b]8;id=472744;file:///tmp/ipykernel_1828177/1386885764.py\u001b\\\u001b[2m1386885764.py\u001b[0m\u001b]8;;\u001b\\\u001b[2m:\u001b[0m\u001b]8;id=16223;file:///tmp/ipykernel_1828177/1386885764.py#5\u001b\\\u001b[2m5\u001b[0m\u001b]8;;\u001b\\\n"
      ]
     },
     "metadata": {},
     "output_type": "display_data"
    }
   ],
   "source": [
    "# 创建控制台实例\n",
    "console = Console()\n",
    "\n",
    "# 打印彩色文本\n",
    "console.log(\"Welcome to [bold][green] Rich [/green]!\")\n"
   ]
  },
  {
   "cell_type": "code",
   "execution_count": 14,
   "metadata": {},
   "outputs": [
    {
     "data": {
      "application/vnd.jupyter.widget-view+json": {
       "model_id": "ba5bb1bca539424d8b4b4adfbbb5b035",
       "version_major": 2,
       "version_minor": 0
      },
      "text/plain": [
       "Output()"
      ]
     },
     "metadata": {},
     "output_type": "display_data"
    },
    {
     "data": {
      "text/html": [
       "<pre style=\"white-space:pre;overflow-x:auto;line-height:normal;font-family:Menlo,'DejaVu Sans Mono',consolas,'Courier New',monospace\"></pre>\n"
      ],
      "text/plain": []
     },
     "metadata": {},
     "output_type": "display_data"
    },
    {
     "data": {
      "text/html": [
       "<pre style=\"white-space:pre;overflow-x:auto;line-height:normal;font-family:Menlo,'DejaVu Sans Mono',consolas,'Courier New',monospace\">\n",
       "</pre>\n"
      ],
      "text/plain": [
       "\n"
      ]
     },
     "metadata": {},
     "output_type": "display_data"
    }
   ],
   "source": [
    "# 显示进度条\n",
    "with Progress() as progress:\n",
    "    task = progress.add_task(\"Processing\", total=100)\n",
    "    for i in range(100):\n",
    "        time.sleep(0.05)\n",
    "        progress.update(task, advance=1)\n",
    "        # console.log(f\"[bold][yellow]Progress: {i+1}%[/yellow]\")\n"
   ]
  },
  {
   "cell_type": "code",
   "execution_count": 15,
   "metadata": {},
   "outputs": [
    {
     "data": {
      "text/html": [
       "<pre style=\"white-space:pre;overflow-x:auto;line-height:normal;font-family:Menlo,'DejaVu Sans Mono',consolas,'Courier New',monospace\">┏━━━━━━━┳━━━━━┳━━━━━━━━━━━━━━━┓\n",
       "┃<span style=\"color: #800080; text-decoration-color: #800080; font-weight: bold\"> Name  </span>┃<span style=\"color: #800080; text-decoration-color: #800080; font-weight: bold\"> Age </span>┃<span style=\"color: #800080; text-decoration-color: #800080; font-weight: bold\"> City          </span>┃\n",
       "┡━━━━━━━╇━━━━━╇━━━━━━━━━━━━━━━┩\n",
       "│<span style=\"color: #008080; text-decoration-color: #008080\"> Alice </span>│<span style=\"color: #808000; text-decoration-color: #808000\"> 30  </span>│<span style=\"color: #800000; text-decoration-color: #800000; font-weight: bold\"> New York      </span>│\n",
       "│<span style=\"color: #008080; text-decoration-color: #008080\"> Bob   </span>│<span style=\"color: #808000; text-decoration-color: #808000\"> 25  </span>│<span style=\"color: #800000; text-decoration-color: #800000; font-weight: bold\"> San Francisco </span>│\n",
       "└───────┴─────┴───────────────┘\n",
       "</pre>\n"
      ],
      "text/plain": [
       "┏━━━━━━━┳━━━━━┳━━━━━━━━━━━━━━━┓\n",
       "┃\u001b[1;35m \u001b[0m\u001b[1;35mName \u001b[0m\u001b[1;35m \u001b[0m┃\u001b[1;35m \u001b[0m\u001b[1;35mAge\u001b[0m\u001b[1;35m \u001b[0m┃\u001b[1;35m \u001b[0m\u001b[1;35mCity         \u001b[0m\u001b[1;35m \u001b[0m┃\n",
       "┡━━━━━━━╇━━━━━╇━━━━━━━━━━━━━━━┩\n",
       "│\u001b[36m \u001b[0m\u001b[36mAlice\u001b[0m\u001b[36m \u001b[0m│\u001b[33m \u001b[0m\u001b[33m30 \u001b[0m\u001b[33m \u001b[0m│\u001b[1;31m \u001b[0m\u001b[1;31mNew York     \u001b[0m\u001b[1;31m \u001b[0m│\n",
       "│\u001b[36m \u001b[0m\u001b[36mBob  \u001b[0m\u001b[36m \u001b[0m│\u001b[33m \u001b[0m\u001b[33m25 \u001b[0m\u001b[33m \u001b[0m│\u001b[1;31m \u001b[0m\u001b[1;31mSan Francisco\u001b[0m\u001b[1;31m \u001b[0m│\n",
       "└───────┴─────┴───────────────┘\n"
      ]
     },
     "metadata": {},
     "output_type": "display_data"
    }
   ],
   "source": [
    "# 创建表格\n",
    "table = Table(show_header=True, header_style=\"bold magenta\")\n",
    "table.add_column(\"Name\", style=\"cyan\")\n",
    "table.add_column(\"Age\", style=\"yellow\")\n",
    "table.add_column(\"City\", style=\"bold red\")\n",
    "table.add_row(\"Alice\", str(30), \"New York\")\n",
    "table.add_row(\"Bob\", str(25), \"San Francisco\")\n",
    "console.print(table)\n"
   ]
  },
  {
   "cell_type": "markdown",
   "metadata": {},
   "source": [
    "## <a id='toc1_2_'></a>[tqdm](#toc0_)\n",
    "\n",
    "![](Pics/tqdm001.gif)\n",
    "\n",
    "[tqdm Docs](https://tqdm.github.io/)"
   ]
  },
  {
   "cell_type": "code",
   "execution_count": 16,
   "metadata": {},
   "outputs": [
    {
     "name": "stdout",
     "output_type": "stream",
     "text": [
      "Defaulting to user installation because normal site-packages is not writeable\n",
      "Requirement already satisfied: tqdm in /home/lzy/.local/lib/python3.10/site-packages (4.66.1)\n",
      "Note: you may need to restart the kernel to use updated packages.\n"
     ]
    }
   ],
   "source": [
    "%pip install tqdm\n"
   ]
  },
  {
   "cell_type": "code",
   "execution_count": 17,
   "metadata": {},
   "outputs": [
    {
     "name": "stderr",
     "output_type": "stream",
     "text": [
      "100%|██████████| 100/100 [00:05<00:00, 19.85it/s]\n"
     ]
    }
   ],
   "source": [
    "from tqdm import tqdm\n",
    "import time\n",
    "\n",
    "for i in tqdm(range(100)):\n",
    "    time.sleep(0.05)  # Simulating a task\n"
   ]
  }
 ],
 "metadata": {
  "kernelspec": {
   "display_name": "Python 3",
   "language": "python",
   "name": "python3"
  },
  "language_info": {
   "codemirror_mode": {
    "name": "ipython",
    "version": 3
   },
   "file_extension": ".py",
   "mimetype": "text/x-python",
   "name": "python",
   "nbconvert_exporter": "python",
   "pygments_lexer": "ipython3",
   "version": "3.10.12"
  }
 },
 "nbformat": 4,
 "nbformat_minor": 2
}
