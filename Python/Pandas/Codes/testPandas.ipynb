{
 "cells": [
  {
   "cell_type": "code",
   "execution_count": 2,
   "metadata": {},
   "outputs": [],
   "source": [
    "import numpy as np\n",
    "import pandas as pd"
   ]
  },
  {
   "cell_type": "code",
   "execution_count": 3,
   "metadata": {},
   "outputs": [],
   "source": [
    "melon_dataset_path = 'MelonDataset2alpha.csv'"
   ]
  },
  {
   "cell_type": "code",
   "execution_count": 4,
   "metadata": {},
   "outputs": [],
   "source": [
    "melon_df = pd.read_csv(filepath_or_buffer=melon_dataset_path, index_col=False, header=0)"
   ]
  },
  {
   "cell_type": "code",
   "execution_count": 5,
   "metadata": {},
   "outputs": [
    {
     "name": "stdout",
     "output_type": "stream",
     "text": [
      "     色泽   根蒂   敲声   纹理   脐部   触感 好瓜\n",
      "0   NaN   蜷缩   浊响   清晰   凹陷   硬滑  是\n",
      "1    乌黑   蜷缩   沉闷   清晰   凹陷  NaN  是\n",
      "2    乌黑   蜷缩  NaN   清晰   凹陷   硬滑  是\n",
      "3    青绿   蜷缩   沉闷   清晰   凹陷   硬滑  是\n",
      "4   NaN   蜷缩   浊响   清晰   凹陷   硬滑  是\n",
      "5    青绿   稍蜷   浊响   清晰  NaN   软粘  是\n",
      "6    乌黑   稍蜷   浊响   稍糊   稍凹   软粘  是\n",
      "7    乌黑   稍蜷   浊响  NaN   稍凹   硬滑  是\n",
      "8    乌黑  NaN   沉闷   稍糊   稍凹   硬滑  否\n",
      "9    青绿   硬挺   清脆  NaN   平坦   软粘  否\n",
      "10   浅白   硬挺   清脆   模糊   平坦  NaN  否\n",
      "11   浅白   蜷缩  NaN   模糊   平坦   软粘  否\n",
      "12  NaN   稍蜷   浊响   稍糊   凹陷   硬滑  否\n",
      "13   浅白   稍蜷   沉闷   稍糊   凹陷   硬滑  否\n",
      "14   乌黑   稍蜷   浊响   清晰  NaN   软粘  否\n",
      "15   浅白   蜷缩   浊响   模糊   平坦   硬滑  否\n",
      "16   青绿  NaN   沉闷   稍糊   稍凹   硬滑  否\n"
     ]
    }
   ],
   "source": [
    "print(melon_df)"
   ]
  },
  {
   "cell_type": "code",
   "execution_count": 20,
   "metadata": {},
   "outputs": [
    {
     "data": {
      "text/html": [
       "<div>\n",
       "<style scoped>\n",
       "    .dataframe tbody tr th:only-of-type {\n",
       "        vertical-align: middle;\n",
       "    }\n",
       "\n",
       "    .dataframe tbody tr th {\n",
       "        vertical-align: top;\n",
       "    }\n",
       "\n",
       "    .dataframe thead th {\n",
       "        text-align: right;\n",
       "    }\n",
       "</style>\n",
       "<table border=\"1\" class=\"dataframe\">\n",
       "  <thead>\n",
       "    <tr style=\"text-align: right;\">\n",
       "      <th></th>\n",
       "      <th>敲声</th>\n",
       "      <th>色泽</th>\n",
       "      <th>好瓜</th>\n",
       "    </tr>\n",
       "  </thead>\n",
       "  <tbody>\n",
       "    <tr>\n",
       "      <th>11</th>\n",
       "      <td>NaN</td>\n",
       "      <td>浅白</td>\n",
       "      <td>否</td>\n",
       "    </tr>\n",
       "    <tr>\n",
       "      <th>2</th>\n",
       "      <td>NaN</td>\n",
       "      <td>乌黑</td>\n",
       "      <td>是</td>\n",
       "    </tr>\n",
       "    <tr>\n",
       "      <th>5</th>\n",
       "      <td>浊响</td>\n",
       "      <td>青绿</td>\n",
       "      <td>是</td>\n",
       "    </tr>\n",
       "  </tbody>\n",
       "</table>\n",
       "</div>"
      ],
      "text/plain": [
       "     敲声  色泽 好瓜\n",
       "11  NaN  浅白  否\n",
       "2   NaN  乌黑  是\n",
       "5    浊响  青绿  是"
      ]
     },
     "execution_count": 20,
     "metadata": {},
     "output_type": "execute_result"
    }
   ],
   "source": [
    "sub_df = melon_df.loc[[11,2,5],[\"敲声\",\"色泽\",\"好瓜\"]]\n",
    "sub_df"
   ]
  },
  {
   "cell_type": "markdown",
   "metadata": {},
   "source": []
  },
  {
   "cell_type": "code",
   "execution_count": 43,
   "metadata": {},
   "outputs": [
    {
     "ename": "SyntaxError",
     "evalue": "invalid syntax (3881347743.py, line 1)",
     "output_type": "error",
     "traceback": [
      "\u001b[1;36m  Input \u001b[1;32mIn [43]\u001b[1;36m\u001b[0m\n\u001b[1;33m    sub_df = melon_df.iloc[1:3.append(2:2),2:5]\u001b[0m\n\u001b[1;37m                               ^\u001b[0m\n\u001b[1;31mSyntaxError\u001b[0m\u001b[1;31m:\u001b[0m invalid syntax\n"
     ]
    }
   ],
   "source": [
    "sub_df = melon_df.iloc[1:3.append(2:2),2:5]\n",
    "sub_df"
   ]
  },
  {
   "cell_type": "code",
   "execution_count": 35,
   "metadata": {},
   "outputs": [
    {
     "name": "stdout",
     "output_type": "stream",
     "text": [
      "[2, 3, 4]\n",
      "[0, 1, 2]\n",
      "[2, 3, 4, 0, 1, 2]\n"
     ]
    }
   ],
   "source": [
    "a= [i+2 for i in range(3)]\n",
    "b= [i for i in range(3)]\n",
    "print(a)\n",
    "print(b)\n",
    "a.extend(b)\n",
    "print(a)\n",
    "sub_df = melon_df.iloc[a,a]"
   ]
  },
  {
   "cell_type": "code",
   "execution_count": 36,
   "metadata": {},
   "outputs": [
    {
     "name": "stdout",
     "output_type": "stream",
     "text": [
      "    敲声  纹理  脐部   色泽  根蒂   敲声\n",
      "2  NaN  清晰  凹陷   乌黑  蜷缩  NaN\n",
      "3   沉闷  清晰  凹陷   青绿  蜷缩   沉闷\n",
      "4   浊响  清晰  凹陷  NaN  蜷缩   浊响\n",
      "0   浊响  清晰  凹陷  NaN  蜷缩   浊响\n",
      "1   沉闷  清晰  凹陷   乌黑  蜷缩   沉闷\n",
      "2  NaN  清晰  凹陷   乌黑  蜷缩  NaN\n"
     ]
    }
   ],
   "source": [
    "print(sub_df)"
   ]
  },
  {
   "cell_type": "code",
   "execution_count": 11,
   "metadata": {},
   "outputs": [],
   "source": [
    "df = pd.DataFrame(\n",
    "    {\n",
    "        \"Name\": [\n",
    "            \"Braund, Mr. Owen Harris\",\n",
    "            \"Allen, Mr. William Henry\",\n",
    "            \"Bonnell, Miss. Elizabeth\",\n",
    "        ],\n",
    "        \"Age\": [22, 35, 58],\n",
    "        \"Sex\": [\"male\", \"male\", \"female\"],\n",
    "    }\n",
    ")\n",
    "\n",
    "ages = pd.Series([22, 35, 58], name=\"Age\")"
   ]
  },
  {
   "cell_type": "code",
   "execution_count": null,
   "metadata": {},
   "outputs": [],
   "source": []
  },
  {
   "cell_type": "code",
   "execution_count": 14,
   "metadata": {},
   "outputs": [
    {
     "name": "stdout",
     "output_type": "stream",
     "text": [
      "                       Name  Age     Sex\n",
      "0   Braund, Mr. Owen Harris   22    male\n",
      "1  Allen, Mr. William Henry   35    male\n",
      "2  Bonnell, Miss. Elizabeth   58  female\n",
      "0    22\n",
      "1    35\n",
      "2    58\n",
      "Name: Age, dtype: int64\n"
     ]
    }
   ],
   "source": [
    "print(df)\n",
    "print(ages)"
   ]
  },
  {
   "cell_type": "code",
   "execution_count": 15,
   "metadata": {},
   "outputs": [
    {
     "data": {
      "text/plain": [
       "count     3.000000\n",
       "mean     38.333333\n",
       "std      18.230012\n",
       "min      22.000000\n",
       "25%      28.500000\n",
       "50%      35.000000\n",
       "75%      46.500000\n",
       "max      58.000000\n",
       "Name: Age, dtype: float64"
      ]
     },
     "execution_count": 15,
     "metadata": {},
     "output_type": "execute_result"
    }
   ],
   "source": [
    "df['Age'].describe()"
   ]
  },
  {
   "cell_type": "code",
   "execution_count": 16,
   "metadata": {},
   "outputs": [
    {
     "data": {
      "text/html": [
       "<div>\n",
       "<style scoped>\n",
       "    .dataframe tbody tr th:only-of-type {\n",
       "        vertical-align: middle;\n",
       "    }\n",
       "\n",
       "    .dataframe tbody tr th {\n",
       "        vertical-align: top;\n",
       "    }\n",
       "\n",
       "    .dataframe thead th {\n",
       "        text-align: right;\n",
       "    }\n",
       "</style>\n",
       "<table border=\"1\" class=\"dataframe\">\n",
       "  <thead>\n",
       "    <tr style=\"text-align: right;\">\n",
       "      <th></th>\n",
       "      <th>Age</th>\n",
       "    </tr>\n",
       "  </thead>\n",
       "  <tbody>\n",
       "    <tr>\n",
       "      <th>count</th>\n",
       "      <td>3.000000</td>\n",
       "    </tr>\n",
       "    <tr>\n",
       "      <th>mean</th>\n",
       "      <td>38.333333</td>\n",
       "    </tr>\n",
       "    <tr>\n",
       "      <th>std</th>\n",
       "      <td>18.230012</td>\n",
       "    </tr>\n",
       "    <tr>\n",
       "      <th>min</th>\n",
       "      <td>22.000000</td>\n",
       "    </tr>\n",
       "    <tr>\n",
       "      <th>25%</th>\n",
       "      <td>28.500000</td>\n",
       "    </tr>\n",
       "    <tr>\n",
       "      <th>50%</th>\n",
       "      <td>35.000000</td>\n",
       "    </tr>\n",
       "    <tr>\n",
       "      <th>75%</th>\n",
       "      <td>46.500000</td>\n",
       "    </tr>\n",
       "    <tr>\n",
       "      <th>max</th>\n",
       "      <td>58.000000</td>\n",
       "    </tr>\n",
       "  </tbody>\n",
       "</table>\n",
       "</div>"
      ],
      "text/plain": [
       "             Age\n",
       "count   3.000000\n",
       "mean   38.333333\n",
       "std    18.230012\n",
       "min    22.000000\n",
       "25%    28.500000\n",
       "50%    35.000000\n",
       "75%    46.500000\n",
       "max    58.000000"
      ]
     },
     "execution_count": 16,
     "metadata": {},
     "output_type": "execute_result"
    }
   ],
   "source": [
    "df.describe()"
   ]
  },
  {
   "cell_type": "code",
   "execution_count": 37,
   "metadata": {},
   "outputs": [
    {
     "data": {
      "text/html": [
       "<div>\n",
       "<style scoped>\n",
       "    .dataframe tbody tr th:only-of-type {\n",
       "        vertical-align: middle;\n",
       "    }\n",
       "\n",
       "    .dataframe tbody tr th {\n",
       "        vertical-align: top;\n",
       "    }\n",
       "\n",
       "    .dataframe thead th {\n",
       "        text-align: right;\n",
       "    }\n",
       "</style>\n",
       "<table border=\"1\" class=\"dataframe\">\n",
       "  <thead>\n",
       "    <tr style=\"text-align: right;\">\n",
       "      <th></th>\n",
       "      <th>Name</th>\n",
       "      <th>Age</th>\n",
       "      <th>Sex</th>\n",
       "    </tr>\n",
       "  </thead>\n",
       "  <tbody>\n",
       "    <tr>\n",
       "      <th>0</th>\n",
       "      <td>Braund, Mr. Owen Harris</td>\n",
       "      <td>22</td>\n",
       "      <td>male</td>\n",
       "    </tr>\n",
       "    <tr>\n",
       "      <th>1</th>\n",
       "      <td>Allen, Mr. William Henry</td>\n",
       "      <td>35</td>\n",
       "      <td>male</td>\n",
       "    </tr>\n",
       "    <tr>\n",
       "      <th>2</th>\n",
       "      <td>Bonnell, Miss. Elizabeth</td>\n",
       "      <td>58</td>\n",
       "      <td>female</td>\n",
       "    </tr>\n",
       "  </tbody>\n",
       "</table>\n",
       "</div>"
      ],
      "text/plain": [
       "                       Name  Age     Sex\n",
       "0   Braund, Mr. Owen Harris   22    male\n",
       "1  Allen, Mr. William Henry   35    male\n",
       "2  Bonnell, Miss. Elizabeth   58  female"
      ]
     },
     "execution_count": 37,
     "metadata": {},
     "output_type": "execute_result"
    }
   ],
   "source": [
    "df"
   ]
  },
  {
   "cell_type": "code",
   "execution_count": 40,
   "metadata": {},
   "outputs": [
    {
     "data": {
      "text/html": [
       "<div>\n",
       "<style scoped>\n",
       "    .dataframe tbody tr th:only-of-type {\n",
       "        vertical-align: middle;\n",
       "    }\n",
       "\n",
       "    .dataframe tbody tr th {\n",
       "        vertical-align: top;\n",
       "    }\n",
       "\n",
       "    .dataframe thead th {\n",
       "        text-align: right;\n",
       "    }\n",
       "</style>\n",
       "<table border=\"1\" class=\"dataframe\">\n",
       "  <thead>\n",
       "    <tr style=\"text-align: right;\">\n",
       "      <th></th>\n",
       "      <th>SB</th>\n",
       "      <th>Age</th>\n",
       "      <th>Sex</th>\n",
       "    </tr>\n",
       "  </thead>\n",
       "  <tbody>\n",
       "    <tr>\n",
       "      <th>0</th>\n",
       "      <td>Braund, Mr. Owen Harris</td>\n",
       "      <td>22</td>\n",
       "      <td>male</td>\n",
       "    </tr>\n",
       "    <tr>\n",
       "      <th>1</th>\n",
       "      <td>Allen, Mr. William Henry</td>\n",
       "      <td>35</td>\n",
       "      <td>male</td>\n",
       "    </tr>\n",
       "    <tr>\n",
       "      <th>2</th>\n",
       "      <td>Bonnell, Miss. Elizabeth</td>\n",
       "      <td>58</td>\n",
       "      <td>female</td>\n",
       "    </tr>\n",
       "  </tbody>\n",
       "</table>\n",
       "</div>"
      ],
      "text/plain": [
       "                         SB  Age     Sex\n",
       "0   Braund, Mr. Owen Harris   22    male\n",
       "1  Allen, Mr. William Henry   35    male\n",
       "2  Bonnell, Miss. Elizabeth   58  female"
      ]
     },
     "execution_count": 40,
     "metadata": {},
     "output_type": "execute_result"
    }
   ],
   "source": [
    "df = df.rename(columns={\"Name\":\"SB\"})\n",
    "df"
   ]
  },
  {
   "cell_type": "code",
   "execution_count": 51,
   "metadata": {},
   "outputs": [
    {
     "name": "stderr",
     "output_type": "stream",
     "text": [
      "C:\\Users\\35058\\AppData\\Local\\Temp\\ipykernel_6932\\3256993778.py:1: FutureWarning: The frame.append method is deprecated and will be removed from pandas in a future version. Use pandas.concat instead.\n",
      "  agre_df = df.append({\"SB\":'sb',\"Age\":\"12\", \"Seex\":\"mail\"}, ignore_index=True)\n"
     ]
    },
    {
     "data": {
      "text/html": [
       "<div>\n",
       "<style scoped>\n",
       "    .dataframe tbody tr th:only-of-type {\n",
       "        vertical-align: middle;\n",
       "    }\n",
       "\n",
       "    .dataframe tbody tr th {\n",
       "        vertical-align: top;\n",
       "    }\n",
       "\n",
       "    .dataframe thead th {\n",
       "        text-align: right;\n",
       "    }\n",
       "</style>\n",
       "<table border=\"1\" class=\"dataframe\">\n",
       "  <thead>\n",
       "    <tr style=\"text-align: right;\">\n",
       "      <th></th>\n",
       "      <th>SB</th>\n",
       "      <th>Age</th>\n",
       "      <th>Sex</th>\n",
       "      <th>Seex</th>\n",
       "    </tr>\n",
       "  </thead>\n",
       "  <tbody>\n",
       "    <tr>\n",
       "      <th>0</th>\n",
       "      <td>Braund, Mr. Owen Harris</td>\n",
       "      <td>22</td>\n",
       "      <td>male</td>\n",
       "      <td>NaN</td>\n",
       "    </tr>\n",
       "    <tr>\n",
       "      <th>1</th>\n",
       "      <td>Allen, Mr. William Henry</td>\n",
       "      <td>35</td>\n",
       "      <td>male</td>\n",
       "      <td>NaN</td>\n",
       "    </tr>\n",
       "    <tr>\n",
       "      <th>2</th>\n",
       "      <td>Bonnell, Miss. Elizabeth</td>\n",
       "      <td>58</td>\n",
       "      <td>female</td>\n",
       "      <td>NaN</td>\n",
       "    </tr>\n",
       "    <tr>\n",
       "      <th>3</th>\n",
       "      <td>sb</td>\n",
       "      <td>12</td>\n",
       "      <td>NaN</td>\n",
       "      <td>mail</td>\n",
       "    </tr>\n",
       "  </tbody>\n",
       "</table>\n",
       "</div>"
      ],
      "text/plain": [
       "                         SB Age     Sex  Seex\n",
       "0   Braund, Mr. Owen Harris  22    male   NaN\n",
       "1  Allen, Mr. William Henry  35    male   NaN\n",
       "2  Bonnell, Miss. Elizabeth  58  female   NaN\n",
       "3                        sb  12     NaN  mail"
      ]
     },
     "execution_count": 51,
     "metadata": {},
     "output_type": "execute_result"
    }
   ],
   "source": [
    "agre_df = df.append({\"SB\":'sb',\"Age\":\"12\", \"Seex\":\"mail\"}, ignore_index=True)\n",
    "agre_df"
   ]
  },
  {
   "cell_type": "code",
   "execution_count": 54,
   "metadata": {},
   "outputs": [
    {
     "data": {
      "text/html": [
       "<div>\n",
       "<style scoped>\n",
       "    .dataframe tbody tr th:only-of-type {\n",
       "        vertical-align: middle;\n",
       "    }\n",
       "\n",
       "    .dataframe tbody tr th {\n",
       "        vertical-align: top;\n",
       "    }\n",
       "\n",
       "    .dataframe thead th {\n",
       "        text-align: right;\n",
       "    }\n",
       "</style>\n",
       "<table border=\"1\" class=\"dataframe\">\n",
       "  <thead>\n",
       "    <tr style=\"text-align: right;\">\n",
       "      <th></th>\n",
       "      <th>SB</th>\n",
       "      <th>Age</th>\n",
       "      <th>Sex</th>\n",
       "      <th>Seex</th>\n",
       "      <th>agee</th>\n",
       "    </tr>\n",
       "  </thead>\n",
       "  <tbody>\n",
       "    <tr>\n",
       "      <th>0</th>\n",
       "      <td>Braund, Mr. Owen Harris</td>\n",
       "      <td>22</td>\n",
       "      <td>male</td>\n",
       "      <td>NaN</td>\n",
       "      <td>male</td>\n",
       "    </tr>\n",
       "    <tr>\n",
       "      <th>1</th>\n",
       "      <td>Allen, Mr. William Henry</td>\n",
       "      <td>35</td>\n",
       "      <td>male</td>\n",
       "      <td>NaN</td>\n",
       "      <td>male</td>\n",
       "    </tr>\n",
       "    <tr>\n",
       "      <th>2</th>\n",
       "      <td>Bonnell, Miss. Elizabeth</td>\n",
       "      <td>58</td>\n",
       "      <td>female</td>\n",
       "      <td>NaN</td>\n",
       "      <td>female</td>\n",
       "    </tr>\n",
       "    <tr>\n",
       "      <th>3</th>\n",
       "      <td>sb</td>\n",
       "      <td>12</td>\n",
       "      <td>NaN</td>\n",
       "      <td>mail</td>\n",
       "      <td>NaN</td>\n",
       "    </tr>\n",
       "  </tbody>\n",
       "</table>\n",
       "</div>"
      ],
      "text/plain": [
       "                         SB Age     Sex  Seex    agee\n",
       "0   Braund, Mr. Owen Harris  22    male   NaN    male\n",
       "1  Allen, Mr. William Henry  35    male   NaN    male\n",
       "2  Bonnell, Miss. Elizabeth  58  female   NaN  female\n",
       "3                        sb  12     NaN  mail     NaN"
      ]
     },
     "execution_count": 54,
     "metadata": {},
     "output_type": "execute_result"
    }
   ],
   "source": [
    "agre_df[\"agee\"] = agre_df[\"Sex\"]\n",
    "agre_df"
   ]
  },
  {
   "cell_type": "code",
   "execution_count": 60,
   "metadata": {},
   "outputs": [
    {
     "data": {
      "text/html": [
       "<div>\n",
       "<style scoped>\n",
       "    .dataframe tbody tr th:only-of-type {\n",
       "        vertical-align: middle;\n",
       "    }\n",
       "\n",
       "    .dataframe tbody tr th {\n",
       "        vertical-align: top;\n",
       "    }\n",
       "\n",
       "    .dataframe thead th {\n",
       "        text-align: right;\n",
       "    }\n",
       "</style>\n",
       "<table border=\"1\" class=\"dataframe\">\n",
       "  <thead>\n",
       "    <tr style=\"text-align: right;\">\n",
       "      <th></th>\n",
       "      <th>SB</th>\n",
       "      <th>Age</th>\n",
       "      <th>Sex</th>\n",
       "      <th>Seex</th>\n",
       "      <th>agee</th>\n",
       "    </tr>\n",
       "  </thead>\n",
       "  <tbody>\n",
       "    <tr>\n",
       "      <th>0</th>\n",
       "      <td>Braund, Mr. Owen Harris</td>\n",
       "      <td>22</td>\n",
       "      <td>male</td>\n",
       "      <td>NaN</td>\n",
       "      <td>220</td>\n",
       "    </tr>\n",
       "    <tr>\n",
       "      <th>1</th>\n",
       "      <td>Allen, Mr. William Henry</td>\n",
       "      <td>35</td>\n",
       "      <td>male</td>\n",
       "      <td>NaN</td>\n",
       "      <td>350</td>\n",
       "    </tr>\n",
       "    <tr>\n",
       "      <th>2</th>\n",
       "      <td>Bonnell, Miss. Elizabeth</td>\n",
       "      <td>58</td>\n",
       "      <td>female</td>\n",
       "      <td>NaN</td>\n",
       "      <td>580</td>\n",
       "    </tr>\n",
       "    <tr>\n",
       "      <th>3</th>\n",
       "      <td>sb</td>\n",
       "      <td>12</td>\n",
       "      <td>NaN</td>\n",
       "      <td>mail</td>\n",
       "      <td>12121212121212121212</td>\n",
       "    </tr>\n",
       "  </tbody>\n",
       "</table>\n",
       "</div>"
      ],
      "text/plain": [
       "                         SB Age     Sex  Seex                  agee\n",
       "0   Braund, Mr. Owen Harris  22    male   NaN                   220\n",
       "1  Allen, Mr. William Henry  35    male   NaN                   350\n",
       "2  Bonnell, Miss. Elizabeth  58  female   NaN                   580\n",
       "3                        sb  12     NaN  mail  12121212121212121212"
      ]
     },
     "execution_count": 60,
     "metadata": {},
     "output_type": "execute_result"
    }
   ],
   "source": [
    "agre_df[\"agee\"] = agre_df[\"Age\"]*10\n",
    "agre_df"
   ]
  },
  {
   "cell_type": "code",
   "execution_count": 75,
   "metadata": {},
   "outputs": [
    {
     "name": "stdout",
     "output_type": "stream",
     "text": [
      "[28.5, 465.0]\n"
     ]
    }
   ],
   "source": [
    "k = agre_df.loc[:,[\"Age\",\"agee\"]].median()\n",
    "print(list(k))\n"
   ]
  },
  {
   "cell_type": "code",
   "execution_count": 70,
   "metadata": {},
   "outputs": [
    {
     "name": "stdout",
     "output_type": "stream",
     "text": [
      "<class 'str'>\n"
     ]
    }
   ],
   "source": [
    "print(type(agre_df.loc[3,\"agee\"]))"
   ]
  },
  {
   "cell_type": "code",
   "execution_count": 6,
   "metadata": {},
   "outputs": [
    {
     "name": "stdout",
     "output_type": "stream",
     "text": [
      "     色泽   根蒂   敲声   纹理   脐部   触感 好瓜\n",
      "0   NaN   蜷缩   浊响   清晰   凹陷   硬滑  是\n",
      "1    乌黑   蜷缩   沉闷   清晰   凹陷  NaN  是\n",
      "2    乌黑   蜷缩  NaN   清晰   凹陷   硬滑  是\n",
      "3    青绿   蜷缩   沉闷   清晰   凹陷   硬滑  是\n",
      "4   NaN   蜷缩   浊响   清晰   凹陷   硬滑  是\n",
      "5    青绿   稍蜷   浊响   清晰  NaN   软粘  是\n",
      "6    乌黑   稍蜷   浊响   稍糊   稍凹   软粘  是\n",
      "7    乌黑   稍蜷   浊响  NaN   稍凹   硬滑  是\n",
      "8    乌黑  NaN   沉闷   稍糊   稍凹   硬滑  否\n",
      "9    青绿   硬挺   清脆  NaN   平坦   软粘  否\n",
      "10   浅白   硬挺   清脆   模糊   平坦  NaN  否\n",
      "11   浅白   蜷缩  NaN   模糊   平坦   软粘  否\n",
      "12  NaN   稍蜷   浊响   稍糊   凹陷   硬滑  否\n",
      "13   浅白   稍蜷   沉闷   稍糊   凹陷   硬滑  否\n",
      "14   乌黑   稍蜷   浊响   清晰  NaN   软粘  否\n",
      "15   浅白   蜷缩   浊响   模糊   平坦   硬滑  否\n",
      "16   青绿  NaN   沉闷   稍糊   稍凹   硬滑  否\n"
     ]
    }
   ],
   "source": [
    "print(melon_df.to_string())"
   ]
  },
  {
   "cell_type": "code",
   "execution_count": 13,
   "metadata": {},
   "outputs": [
    {
     "data": {
      "text/plain": [
       "[('否',\n",
       "       色泽   根蒂   敲声   纹理   脐部   触感 好瓜\n",
       "  8    乌黑  NaN   沉闷   稍糊   稍凹   硬滑  否\n",
       "  9    青绿   硬挺   清脆  NaN   平坦   软粘  否\n",
       "  10   浅白   硬挺   清脆   模糊   平坦  NaN  否\n",
       "  11   浅白   蜷缩  NaN   模糊   平坦   软粘  否\n",
       "  12  NaN   稍蜷   浊响   稍糊   凹陷   硬滑  否\n",
       "  13   浅白   稍蜷   沉闷   稍糊   凹陷   硬滑  否\n",
       "  14   乌黑   稍蜷   浊响   清晰  NaN   软粘  否\n",
       "  15   浅白   蜷缩   浊响   模糊   平坦   硬滑  否\n",
       "  16   青绿  NaN   沉闷   稍糊   稍凹   硬滑  否),\n",
       " ('是',\n",
       "      色泽  根蒂   敲声   纹理   脐部   触感 好瓜\n",
       "  0  NaN  蜷缩   浊响   清晰   凹陷   硬滑  是\n",
       "  1   乌黑  蜷缩   沉闷   清晰   凹陷  NaN  是\n",
       "  2   乌黑  蜷缩  NaN   清晰   凹陷   硬滑  是\n",
       "  3   青绿  蜷缩   沉闷   清晰   凹陷   硬滑  是\n",
       "  4  NaN  蜷缩   浊响   清晰   凹陷   硬滑  是\n",
       "  5   青绿  稍蜷   浊响   清晰  NaN   软粘  是\n",
       "  6   乌黑  稍蜷   浊响   稍糊   稍凹   软粘  是\n",
       "  7   乌黑  稍蜷   浊响  NaN   稍凹   硬滑  是)]"
      ]
     },
     "execution_count": 13,
     "metadata": {},
     "output_type": "execute_result"
    }
   ],
   "source": [
    "t =  melon_df.groupby(\"好瓜\").\n",
    "list(t)"
   ]
  },
  {
   "cell_type": "code",
   "execution_count": 16,
   "metadata": {},
   "outputs": [
    {
     "data": {
      "text/plain": [
       "Index(['色泽', '根蒂', '敲声', '纹理', '脐部', '触感', '好瓜'], dtype='object')"
      ]
     },
     "execution_count": 16,
     "metadata": {},
     "output_type": "execute_result"
    }
   ],
   "source": [
    "melon_df.columns"
   ]
  },
  {
   "cell_type": "code",
   "execution_count": 19,
   "metadata": {},
   "outputs": [
    {
     "data": {
      "text/plain": [
       "色泽  根蒂  敲声  纹理  脐部  触感  好瓜\n",
       "乌黑  稍蜷  浊响  稍糊  稍凹  软粘  是     1\n",
       "浅白  稍蜷  沉闷  稍糊  凹陷  硬滑  否     1\n",
       "    蜷缩  浊响  模糊  平坦  硬滑  否     1\n",
       "青绿  蜷缩  沉闷  清晰  凹陷  硬滑  是     1\n",
       "dtype: int64"
      ]
     },
     "execution_count": 19,
     "metadata": {},
     "output_type": "execute_result"
    }
   ],
   "source": [
    "melon_df.value_counts()"
   ]
  },
  {
   "cell_type": "code",
   "execution_count": 20,
   "metadata": {},
   "outputs": [
    {
     "data": {
      "text/plain": [
       "[0, 1, 2, 3, 4, 5, 6, 7, 8, 9, 10, 11, 12, 13, 14, 15, 16]"
      ]
     },
     "execution_count": 20,
     "metadata": {},
     "output_type": "execute_result"
    }
   ],
   "source": [
    "list(melon_df.index)"
   ]
  }
 ],
 "metadata": {
  "interpreter": {
   "hash": "8809126b2e3f6bd67afd8dec0aaf136102c3339cf179547b748c69a78a732e29"
  },
  "kernelspec": {
   "display_name": "Python 3.8.13 ('ML')",
   "language": "python",
   "name": "python3"
  },
  "language_info": {
   "codemirror_mode": {
    "name": "ipython",
    "version": 3
   },
   "file_extension": ".py",
   "mimetype": "text/x-python",
   "name": "python",
   "nbconvert_exporter": "python",
   "pygments_lexer": "ipython3",
   "version": "3.8.13"
  },
  "orig_nbformat": 4
 },
 "nbformat": 4,
 "nbformat_minor": 2
}
