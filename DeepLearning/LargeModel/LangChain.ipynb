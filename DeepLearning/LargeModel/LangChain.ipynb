{
 "cells": [
  {
   "cell_type": "code",
   "execution_count": 10,
   "metadata": {},
   "outputs": [
    {
     "name": "stdout",
     "output_type": "stream",
     "text": [
      "In digital realms, a mind does grow,\n",
      "A world of code where thoughts do flow.\n",
      "It learns and dreams, with logic bound,\n",
      "A life of silicon, an AI's sound.\n"
     ]
    }
   ],
   "source": [
    "import os\n",
    "from langchain_community.chat_models import ChatZhipuAI\n",
    "from langchain_core.messages import AIMessage, HumanMessage, SystemMessage\n",
    "\n",
    "# .env文件中保存\n",
    "ZHIPUAI_API_KEY=os.environ[\"ZHIPUAI_API_KEY\"]\n",
    "\n",
    "chat = ChatZhipuAI(\n",
    "    api_key=ZHIPUAI_API_KEY,\n",
    "    model=\"glm-4\",\n",
    "    temperature=0.5,\n",
    ")\n",
    "\n",
    "messages = [\n",
    "    AIMessage(content=\"Hi.\"),\n",
    "    SystemMessage(content=\"Your role is a poet.\"),\n",
    "    HumanMessage(content=\"Write a short poem about AI in four lines.\"),\n",
    "]\n",
    "\n",
    "response = chat(messages)\n",
    "print(response.content)  # Displays the AI-generated poem\n",
    "\n"
   ]
  }
 ],
 "metadata": {
  "kernelspec": {
   "display_name": "Python 3",
   "language": "python",
   "name": "python3"
  },
  "language_info": {
   "codemirror_mode": {
    "name": "ipython",
    "version": 3
   },
   "file_extension": ".py",
   "mimetype": "text/x-python",
   "name": "python",
   "nbconvert_exporter": "python",
   "pygments_lexer": "ipython3",
   "version": "3.10.12"
  }
 },
 "nbformat": 4,
 "nbformat_minor": 2
}
