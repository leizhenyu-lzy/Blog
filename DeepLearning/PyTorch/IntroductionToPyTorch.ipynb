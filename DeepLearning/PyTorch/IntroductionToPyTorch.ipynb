{
 "cells": [
  {
   "cell_type": "markdown",
   "metadata": {},
   "source": [
    "# <a id='toc1_'></a>Intro to PyTorch    [&#8593;](#toc0_)\n",
    "\n",
    "![](Pics/torch001.png)\n",
    "\n",
    "[PyTorch 官网]((https://pytorch.org/))\n",
    "\n",
    "[PyTorch Tutorials](https://pytorch.org/tutorials/beginner/basics/intro.html#)"
   ]
  },
  {
   "cell_type": "markdown",
   "metadata": {},
   "source": [
    "**Table of contents**<a id='toc0_'></a>    \n",
    "- [PyTorch   ](#toc1_)    \n",
    "- [Learn the Basics](#toc2_)    \n",
    "  - [0. Quickstart](#toc2_1_)    \n",
    "    - [Working with data](#toc2_1_1_)    \n",
    "    - [Creating Models](#toc2_1_2_)    \n",
    "    - [Optimizing the Model Parameters](#toc2_1_3_)    \n",
    "    - [Saving & Loading Models](#toc2_1_4_)    \n",
    "  - [1. Tensors](#toc2_2_)    \n",
    "    - [Tensor Initialization](#toc2_2_1_)    \n",
    "    - [Tensor Attributes](#toc2_2_2_)    \n",
    "    - [Tensor Operations](#toc2_2_3_)    \n",
    "    - [Bridge with NumPy](#toc2_2_4_)    \n",
    "  - [2. Datasets and DataLoaders](#toc2_3_)    \n",
    "    - [Loading a Dataset](#toc2_3_1_)    \n",
    "    - [Iterating and Visualizing the Dataset](#toc2_3_2_)    \n",
    "    - [Creating a Custom Dataset for your files](#toc2_3_3_)    \n",
    "    - [Preparing your data for training with DataLoaders](#toc2_3_4_)    \n",
    "    - [Iterate through the DataLoader](#toc2_3_5_)    \n",
    "  - [3. Transforms](#toc2_4_)    \n",
    "  - [4. Build Model](#toc2_5_)    \n",
    "    - [Get Device for Training](#toc2_5_1_)    \n",
    "    - [Define the Class](#toc2_5_2_)    \n",
    "    - [Model Layers](#toc2_5_3_)    \n",
    "    - [Model Parameters](#toc2_5_4_)    \n",
    "  - [5. Automatic Differentiation with torch.autograd](#toc2_6_)    \n",
    "    - [Computing Gradients](#toc2_6_1_)    \n",
    "    - [Disabling Gradient Tracking](#toc2_6_2_)    \n",
    "    - [More on Computational Graphs](#toc2_6_3_)    \n",
    "    - [Optional Reading: Tensor Gradients and Jacobian Products](#toc2_6_4_)    \n",
    "  - [6. Optimizing Model Parameters](#toc2_7_)    \n",
    "    - [Hyperparameters](#toc2_7_1_)    \n",
    "    - [Optimization Loop](#toc2_7_2_)    \n",
    "    - [Loss Function](#toc2_7_3_)    \n",
    "    - [Optimizer](#toc2_7_4_)    \n",
    "    - [Full Implementation](#toc2_7_5_)    \n",
    "  - [7. Save, Load and Use Model](#toc2_8_)    \n",
    "    - [Saving and Loading Model Weights](#toc2_8_1_)    \n",
    "    - [Saving and Loading Models with Shapes](#toc2_8_2_)    \n",
    "\n",
    "<!-- vscode-jupyter-toc-config\n",
    "\tnumbering=false\n",
    "\tanchor=true\n",
    "\tflat=false\n",
    "\tminLevel=1\n",
    "\tmaxLevel=6\n",
    "\t/vscode-jupyter-toc-config -->\n",
    "<!-- THIS CELL WILL BE REPLACED ON TOC UPDATE. DO NOT WRITE YOUR TEXT IN THIS CELL -->"
   ]
  },
  {
   "cell_type": "markdown",
   "metadata": {},
   "source": [
    "# <a id='toc2_'></a>[Learn the Basics](#toc0_)\n",
    "\n",
    "[Learn the Basics](https://pytorch.org/tutorials/beginner/basics/intro.html)\n"
   ]
  },
  {
   "cell_type": "markdown",
   "metadata": {},
   "source": [
    "## <a id='toc2_1_'></a>[0. Quickstart](#toc0_)\n"
   ]
  },
  {
   "cell_type": "markdown",
   "metadata": {},
   "source": [
    "### <a id='toc2_1_1_'></a>[Working with data](#toc0_)\n",
    "\n",
    "PyTorch has two primitives to work with data:\n",
    "1. torch.utils.data.**DataLoader**  - DataLoader wraps an iterable around the Dataset\n",
    "2. torch.utils.data.**Dataset**     - Dataset stores the samples and their corresponding labels\n"
   ]
  },
  {
   "cell_type": "code",
   "execution_count": null,
   "metadata": {},
   "outputs": [],
   "source": [
    "import torch\n",
    "from torch import nn\n",
    "from torch.utils.data import DataLoader\n",
    "from torchvision import datasets\n",
    "from torchvision.transforms import ToTensor\n",
    "\n"
   ]
  },
  {
   "cell_type": "markdown",
   "metadata": {},
   "source": [
    "PyTorch offers domain-specific libraries - (all of which include datasets)\n",
    "1. TorchText\n",
    "2. TorchVision\n",
    "3. TorchAudio\n",
    "\n",
    "The torchvision.datasets module contains Dataset objects for many real-world vision data like CIFAR, COCO\n",
    "\n",
    "[Full List of datasets](https://pytorch.org/vision/stable/datasets.html)\n",
    "\n",
    "Every TorchVision Dataset includes two arguments to modify the samples and labels respectively\n",
    "1. transform - 用于对样本进行变换\n",
    "   1. 可以包含多种不同的操作，如缩放、裁剪、归一化等\n",
    "   2. 目的是通过这些预处理步骤来增强模型的泛化能力或使模型训练更为高效\n",
    "   3. 可以使用transforms.Compose来组合多个图像变换操作\n",
    "2. target_transform - 用于对标签进行变换\n",
    "   1. 如进行编码或转换成某种特定的格式"
   ]
  },
  {
   "cell_type": "code",
   "execution_count": null,
   "metadata": {},
   "outputs": [],
   "source": [
    "# Download training data from open datasets.\n",
    "training_data = datasets.FashionMNIST(\n",
    "    root=\"/home/lzy/Datasets\",\n",
    "    train=True,\n",
    "    download=True,\n",
    "    transform=ToTensor(),\n",
    ")\n",
    "\n",
    "# Download test data from open datasets.\n",
    "test_data = datasets.FashionMNIST(\n",
    "    root=\"/home/lzy/Datasets\",\n",
    "    train=False,\n",
    "    download=True,\n",
    "    transform=ToTensor(),\n",
    ")\n"
   ]
  },
  {
   "cell_type": "markdown",
   "metadata": {},
   "source": [
    "We pass the **Dataset** as an argument to **DataLoader**. \n",
    "\n",
    "This wraps an iterable over our dataset, and supports\n",
    "1. automatic batching\n",
    "2. sampling\n",
    "3. shuffling\n",
    "4. multi-process data loading"
   ]
  },
  {
   "cell_type": "code",
   "execution_count": null,
   "metadata": {},
   "outputs": [],
   "source": [
    "batch_size = 64\n",
    "\n",
    "# Create data loaders.\n",
    "train_dataloader = DataLoader(training_data, batch_size=batch_size)\n",
    "test_dataloader = DataLoader(test_data, batch_size=batch_size)\n",
    "\n",
    "for X, y in test_dataloader:\n",
    "    print(f\"Shape of X [N, C, H, W]: {X.shape} {X.dtype}\")\n",
    "    print(f\"Shape of y: {y.shape} {y.dtype}\")\n",
    "    break\n"
   ]
  },
  {
   "cell_type": "markdown",
   "metadata": {},
   "source": [
    "### <a id='toc2_1_2_'></a>[Creating Models](#toc0_)\n",
    "\n",
    "To define a neural network in PyTorch, we **create a class that inherits from nn.Module**\n",
    "1. define the layers of the network in the **\\_\\_init\\_\\_ function**\n",
    "2. specify how data will pass through the network in the **forward function**\n",
    "\n",
    "To accelerate operations in the neural network, we move it to the GPU or MPS if available."
   ]
  },
  {
   "cell_type": "code",
   "execution_count": null,
   "metadata": {},
   "outputs": [],
   "source": [
    "# Get cpu, gpu or mps device for training.\n",
    "device = (\n",
    "    \"cuda\"\n",
    "    if torch.cuda.is_available()\n",
    "    else \"mps\"\n",
    "    if torch.backends.mps.is_available()\n",
    "    else \"cpu\"\n",
    ")\n",
    "print(f\"Using {device} device\")\n"
   ]
  },
  {
   "cell_type": "code",
   "execution_count": null,
   "metadata": {},
   "outputs": [],
   "source": [
    "# Define model\n",
    "class NeuralNetwork(nn.Module):\n",
    "    def __init__(self):\n",
    "        super().__init__()  # 确保父类的构造函数也被正确地调用\n",
    "        self.flatten = nn.Flatten()\n",
    "        self.linear_relu_stack = nn.Sequential(\n",
    "            nn.Linear(28*28, 512),  # 根据前面的 shape\n",
    "            nn.ReLU(),\n",
    "            nn.Linear(512, 512),\n",
    "            nn.ReLU(),\n",
    "            nn.Linear(512, 10)\n",
    "        )\n",
    "\n",
    "    def forward(self, x):\n",
    "        x = self.flatten(x)\n",
    "        logits = self.linear_relu_stack(x)\n",
    "        return logits\n",
    "\n",
    "model = NeuralNetwork().to(device)\n",
    "print(model)\n",
    "\n",
    "for name, param in model.named_parameters():\n",
    "    # numel() 是一个张量的方法，用于返回张量中所有元素的数量\n",
    "    print(f\"{name}: {param.numel()} 参数\")\n"
   ]
  },
  {
   "cell_type": "markdown",
   "metadata": {},
   "source": [
    "### <a id='toc2_1_3_'></a>[Optimizing the Model Parameters](#toc0_)\n",
    "\n",
    "**loss function** & **optimizer**\n",
    "\n",
    "优化器 optimizer 在 PyTorch 中用于存储和更新模型的参数\n",
    "\n",
    "当创建一个优化器实例时，需要将模型参数传递给它，这样优化器就知道它需要优化哪些参数\n",
    "\n",
    "模型的参数是通过模型的 `.parameters()` 方法获取的，该方法返回模型所有可训练参数的迭代器"
   ]
  },
  {
   "cell_type": "code",
   "execution_count": null,
   "metadata": {},
   "outputs": [],
   "source": [
    "loss_fn = nn.CrossEntropyLoss()\n",
    "optimizer = torch.optim.SGD(model.parameters(), lr=1e-3)\n"
   ]
  },
  {
   "cell_type": "markdown",
   "metadata": {},
   "source": [
    "In a single training loop, the model makes predictions on the training dataset (fed to it in batches)\n",
    "\n",
    "and backpropagates the prediction error to adjust the model’s parameters\n",
    "\n",
    "also check the model’s performance against the test dataset to ensure it is learning"
   ]
  },
  {
   "cell_type": "code",
   "execution_count": null,
   "metadata": {},
   "outputs": [],
   "source": [
    "def train(dataloader, model, loss_fn, optimizer):\n",
    "    size = len(dataloader.dataset)\n",
    "    model.train()\n",
    "    for batch, (X, y) in enumerate(dataloader):\n",
    "        X, y = X.to(device), y.to(device)\n",
    "\n",
    "        # Compute prediction error\n",
    "        pred = model(X)  # 构成了计算图的一部分，每个操作都有可能添加新的节点和边到图中。此时，pred 是计算图中的一个节点，它保存了从输入 X 到输出 pred 的整个计算路径。\n",
    "        loss = loss_fn(pred, y)  # 损失函数接收模型的预测 pred 和真实标签 y 作为输入，计算出一个损失值 loss。\n",
    "                                 # 这一步将损失值与预测值 pred（以及通过 pred 间接与模型输入 X）联系起来，构成了计算图的最终输出节点。损失值 loss 反映了模型预测和真实标签之间的差异。\n",
    "\n",
    "        # Back Propagation\n",
    "        loss.backward()  # 损失函数 loss 和计算图之间的关系是通过模型预测 pred 来建立的\n",
    "        optimizer.step()  # 更新模型的参数。基于之前计算的梯度，这个步骤会调整模型的参数以最小化损失函数。\n",
    "        optimizer.zero_grad()  # 清零梯度, PyTorch 默认会累加梯度，如果不手动清零，那么下次调用 .backward() 时，新计算的梯度会和旧的梯度累加起来\n",
    "\n",
    "        if batch % 100 == 0:\n",
    "            loss, current = loss.item(), (batch + 1) * len(X)\n",
    "            print(f\"loss: {loss:>7f}  [{current:>5d}/{size:>5d}]\")\n",
    "            # :>7f 是格式说明符，: 表示开始格式说明符，> 表示右对齐，7f 表示总宽度为7的浮点数，包括小数点和小数部分，确保输出具有一致的宽度，方便阅读。\n",
    "\n",
    "\n",
    "def test(dataloader, model, loss_fn):\n",
    "    size = len(dataloader.dataset)\n",
    "    num_batches = len(dataloader)\n",
    "    model.eval()\n",
    "    test_loss, correct = 0, 0\n",
    "    with torch.no_grad():\n",
    "        for X, y in dataloader:\n",
    "            X, y = X.to(device), y.to(device)\n",
    "            pred = model(X)\n",
    "            test_loss += loss_fn(pred, y).item()  # item 将张量转化为标量\n",
    "            correct += (pred.argmax(1) == y).type(torch.float).sum().item()\n",
    "            # type 将 bool 张量 转为 浮点 张量\n",
    "\n",
    "            # print(pred.argmax(1))\n",
    "            # print(y)\n",
    "\n",
    "    test_loss /= num_batches\n",
    "    correct /= size\n",
    "    print(f\"Test Error: \\n Accuracy: {(100*correct):>0.1f}%, Avg loss: {test_loss:>8f} \\n\")\n",
    "    # 0.1f 表示格式化为浮点数，保留一位小数。\n",
    "    # 8f 表示格式化为浮点数，保留八位数（总长度）\n"
   ]
  },
  {
   "cell_type": "code",
   "execution_count": null,
   "metadata": {},
   "outputs": [],
   "source": [
    "epochs = 5\n",
    "for t in range(epochs):\n",
    "    print(f\"Epoch {t+1}\\n-------------------------------\")\n",
    "    train(train_dataloader, model, loss_fn, optimizer)\n",
    "    test(test_dataloader, model, loss_fn)\n",
    "print(\"Done!\")\n"
   ]
  },
  {
   "cell_type": "markdown",
   "metadata": {},
   "source": [
    "### <a id='toc2_1_4_'></a>[Saving & Loading Models](#toc0_)\n",
    "\n",
    "A common way to save a model is to serialize the internal state dictionary (containing the model parameters).\n",
    "\n",
    "The process for loading a model includes re-creating the model structure and loading the state dictionary into it."
   ]
  },
  {
   "cell_type": "code",
   "execution_count": null,
   "metadata": {},
   "outputs": [],
   "source": [
    "torch.save(model.state_dict(), \"model.pth\")\n",
    "print(\"Saved PyTorch Model State to model.pth\")\n",
    "\n",
    "# print(model.state_dict())\n"
   ]
  },
  {
   "cell_type": "code",
   "execution_count": null,
   "metadata": {},
   "outputs": [],
   "source": [
    "model = NeuralNetwork().to(device)\n",
    "model.load_state_dict(torch.load(\"model.pth\"))\n",
    "\n",
    "print(model)\n"
   ]
  },
  {
   "cell_type": "code",
   "execution_count": null,
   "metadata": {},
   "outputs": [],
   "source": [
    "classes = [\n",
    "    \"T-shirt/top\",\n",
    "    \"Trouser\",\n",
    "    \"Pullover\",\n",
    "    \"Dress\",\n",
    "    \"Coat\",\n",
    "    \"Sandal\",\n",
    "    \"Shirt\",\n",
    "    \"Sneaker\",\n",
    "    \"Bag\",\n",
    "    \"Ankle boot\",\n",
    "]\n",
    "\n",
    "model.eval()  # 将模型设置为评估模式\n",
    "x, y = test_data[0][0], test_data[0][1]\n",
    "\n",
    "with torch.no_grad():\n",
    "    x = x.to(device)\n",
    "    pred = model(x)\n",
    "    predicted, actual = classes[pred[0].argmax(0)], classes[y]\n",
    "    print(f'Predicted: \"{predicted}\", Actual: \"{actual}\"')\n"
   ]
  },
  {
   "cell_type": "markdown",
   "metadata": {},
   "source": [
    "## <a id='toc2_2_'></a>[1. Tensors](#toc0_)\n",
    "\n",
    "\n",
    "[Tensor Tutorial](https://pytorch.org/tutorials/beginner/basics/tensorqs_tutorial.html)"
   ]
  },
  {
   "cell_type": "markdown",
   "metadata": {},
   "source": [
    "Tensors are a specialized data structure that are very similar to arrays and matrices. \n",
    "\n",
    "In PyTorch, we use tensors to encode the inputs and outputs of a model, as well as the model’s parameters.\n",
    "\n",
    "Tensors are similar to **NumPy’s ndarrays**\n",
    "\n",
    "except that **tensors can run on GPUs or other hardware accelerators**\n",
    "\n",
    "In fact, tensors and NumPy arrays **can often share the same underlying memory**, eliminating the need to copy data.\n",
    "\n",
    "Tensors are also **optimized for automatic differentiation**.\n"
   ]
  },
  {
   "cell_type": "code",
   "execution_count": 2,
   "metadata": {},
   "outputs": [],
   "source": [
    "import torch\n",
    "import numpy as np\n"
   ]
  },
  {
   "cell_type": "markdown",
   "metadata": {},
   "source": [
    "### <a id='toc2_2_1_'></a>[Tensor Initialization](#toc0_)\n",
    "\n",
    "Tensors can be initialized in various ways\n",
    "1. Directly from data - The **data type is automatically inferred**.\n",
    "2. From a NumPy array\n",
    "3. From another tensor\n",
    "4. With random or constant values:\n"
   ]
  },
  {
   "cell_type": "code",
   "execution_count": 3,
   "metadata": {},
   "outputs": [
    {
     "name": "stdout",
     "output_type": "stream",
     "text": [
      "tensor([[1, 2],\n",
      "        [3, 4]])\n",
      "tensor([[1, 2],\n",
      "        [3, 4]])\n",
      "Ones Tensor: \n",
      " tensor([[1, 1],\n",
      "        [1, 1]]) \n",
      "\n",
      "Random Tensor: \n",
      " tensor([[0.8199, 0.6335],\n",
      "        [0.0458, 0.6603]]) \n",
      "\n",
      "Random Tensor: \n",
      " tensor([[0.9193, 0.3883, 0.0663],\n",
      "        [0.4424, 0.1092, 0.6596]]) \n",
      "\n",
      "Ones Tensor: \n",
      " tensor([[1., 1., 1.],\n",
      "        [1., 1., 1.]]) \n",
      "\n",
      "Zeros Tensor: \n",
      " tensor([[0., 0., 0.],\n",
      "        [0., 0., 0.]])\n"
     ]
    }
   ],
   "source": [
    "data = [[1, 2], [3, 4]]\n",
    "x_data = torch.tensor(data)\n",
    "print(x_data)\n",
    "\n",
    "np_array = np.array(data)\n",
    "x_np = torch.from_numpy(np_array)  # 与 np_array 共享空间\n",
    "# x_np = torch.tensor(np_array)  # 不与 np_array 共享空间\n",
    "print(x_np)\n",
    "\n",
    "x_ones = torch.ones_like(x_data) # retains the properties of x_data\n",
    "print(f\"Ones Tensor: \\n {x_ones} \\n\")\n",
    "x_rand = torch.rand_like(x_data, dtype=torch.float) # overrides the datatype of x_data\n",
    "print(f\"Random Tensor: \\n {x_rand} \\n\")\n",
    "\n",
    "shape = (2, 3,)\n",
    "rand_tensor = torch.rand(shape)\n",
    "ones_tensor = torch.ones(shape)\n",
    "zeros_tensor = torch.zeros(shape)\n",
    "print(f\"Random Tensor: \\n {rand_tensor} \\n\")\n",
    "print(f\"Ones Tensor: \\n {ones_tensor} \\n\")\n",
    "print(f\"Zeros Tensor: \\n {zeros_tensor}\")\n"
   ]
  },
  {
   "cell_type": "markdown",
   "metadata": {},
   "source": [
    "### <a id='toc2_2_2_'></a>[Tensor Attributes](#toc0_)\n",
    "\n",
    "Tensor attributes describe their\n",
    "1. shape\n",
    "2. datatype\n",
    "3. device on which they are stored."
   ]
  },
  {
   "cell_type": "code",
   "execution_count": 4,
   "metadata": {},
   "outputs": [
    {
     "name": "stdout",
     "output_type": "stream",
     "text": [
      "Shape of tensor: torch.Size([3, 4])\n",
      "Datatype of tensor: torch.float32\n",
      "Device tensor is stored on: cpu\n",
      "Device tensor is stored on: cuda:0\n"
     ]
    }
   ],
   "source": [
    "tensor = torch.rand(3, 4)\n",
    "\n",
    "print(f\"Shape of tensor: {tensor.shape}\")\n",
    "print(f\"Datatype of tensor: {tensor.dtype}\")\n",
    "print(f\"Device tensor is stored on: {tensor.device}\")\n",
    "tensor = tensor.to(\"cuda\")\n",
    "print(f\"Device tensor is stored on: {tensor.device}\")\n"
   ]
  },
  {
   "cell_type": "markdown",
   "metadata": {},
   "source": [
    "### <a id='toc2_2_3_'></a>[Tensor Operations](#toc0_)\n",
    "\n",
    "Over 100 tensor operations, including\n",
    "1. transposing\n",
    "2. indexing\n",
    "3. slicing\n",
    "4. mathematical operations\n",
    "5. linear algebra\n",
    "6. random sampling\n",
    "\n",
    "Each of them can be run on the GPU (at typically higher speeds than on a CPU)"
   ]
  },
  {
   "cell_type": "code",
   "execution_count": 5,
   "metadata": {},
   "outputs": [
    {
     "name": "stdout",
     "output_type": "stream",
     "text": [
      "Device tensor is stored on: cuda:0\n",
      "True\n"
     ]
    }
   ],
   "source": [
    "# We move our tensor to the GPU if available\n",
    "if torch.cuda.is_available():\n",
    "    tensor = tensor.to('cuda')\n",
    "    print(f\"Device tensor is stored on: {tensor.device}\")\n",
    "\n",
    "print(torch.is_tensor(tensor))\n"
   ]
  },
  {
   "cell_type": "code",
   "execution_count": 6,
   "metadata": {},
   "outputs": [
    {
     "name": "stdout",
     "output_type": "stream",
     "text": [
      "tensor([[1., 0., 1., 1.],\n",
      "        [1., 0., 1., 1.],\n",
      "        [1., 0., 1., 1.],\n",
      "        [1., 0., 1., 1.]])\n"
     ]
    }
   ],
   "source": [
    "tensor = torch.ones(4, 4)\n",
    "tensor[:,1] = 0\n",
    "print(tensor)\n"
   ]
  },
  {
   "cell_type": "code",
   "execution_count": 7,
   "metadata": {},
   "outputs": [
    {
     "name": "stdout",
     "output_type": "stream",
     "text": [
      "tensor([[1., 0., 1., 1., 1., 0., 1., 1., 1., 0., 1., 1.],\n",
      "        [1., 0., 1., 1., 1., 0., 1., 1., 1., 0., 1., 1.],\n",
      "        [1., 0., 1., 1., 1., 0., 1., 1., 1., 0., 1., 1.],\n",
      "        [1., 0., 1., 1., 1., 0., 1., 1., 1., 0., 1., 1.]])\n"
     ]
    }
   ],
   "source": [
    "t1 = torch.cat([tensor, tensor, tensor], dim=1)  # dim 是几，cat后 就改变该 dim 的值\n",
    "print(t1)\n"
   ]
  },
  {
   "cell_type": "code",
   "execution_count": 8,
   "metadata": {},
   "outputs": [
    {
     "name": "stdout",
     "output_type": "stream",
     "text": [
      "tensor.mul(tensor) \n",
      " tensor([[1., 0., 1., 1.],\n",
      "        [1., 0., 1., 1.],\n",
      "        [1., 0., 1., 1.],\n",
      "        [1., 0., 1., 1.]]) \n",
      "\n",
      "tensor * tensor \n",
      " tensor([[1., 0., 1., 1.],\n",
      "        [1., 0., 1., 1.],\n",
      "        [1., 0., 1., 1.],\n",
      "        [1., 0., 1., 1.]])\n"
     ]
    }
   ],
   "source": [
    "# element-wise product\n",
    "print(f\"tensor.mul(tensor) \\n {tensor.mul(tensor)} \\n\")\n",
    "# Alternative syntax:\n",
    "print(f\"tensor * tensor \\n {tensor * tensor}\")\n"
   ]
  },
  {
   "cell_type": "code",
   "execution_count": 12,
   "metadata": {},
   "outputs": [
    {
     "name": "stdout",
     "output_type": "stream",
     "text": [
      "tensor.matmul(tensor.T) \n",
      " tensor([[133., 133., 133., 133.],\n",
      "        [133., 133., 133., 133.],\n",
      "        [133., 133., 133., 133.],\n",
      "        [133., 133., 133., 133.]]) \n",
      "\n",
      "tensor @ tensor.T \n",
      " tensor([[133., 133., 133., 133.],\n",
      "        [133., 133., 133., 133.],\n",
      "        [133., 133., 133., 133.],\n",
      "        [133., 133., 133., 133.]])\n"
     ]
    }
   ],
   "source": [
    "# matrix multiplication\n",
    "print(f\"tensor.matmul(tensor.T) \\n {tensor.matmul(tensor.T)} \\n\")\n",
    "# Alternative syntax:\n",
    "print(f\"tensor @ tensor.T \\n {tensor @ tensor.T}\")\n"
   ]
  },
  {
   "cell_type": "code",
   "execution_count": 13,
   "metadata": {},
   "outputs": [
    {
     "name": "stdout",
     "output_type": "stream",
     "text": [
      "92.0 <class 'float'>\n"
     ]
    }
   ],
   "source": [
    "agg = tensor.sum()\n",
    "agg_item = agg.item()\n",
    "print(agg_item, type(agg_item))\n"
   ]
  },
  {
   "cell_type": "code",
   "execution_count": 10,
   "metadata": {},
   "outputs": [
    {
     "name": "stdout",
     "output_type": "stream",
     "text": [
      "tensor([[1., 0., 1., 1.],\n",
      "        [1., 0., 1., 1.],\n",
      "        [1., 0., 1., 1.],\n",
      "        [1., 0., 1., 1.]]) \n",
      "\n",
      "tensor([[6., 5., 6., 6.],\n",
      "        [6., 5., 6., 6.],\n",
      "        [6., 5., 6., 6.],\n",
      "        [6., 5., 6., 6.]])\n"
     ]
    }
   ],
   "source": [
    "# In-place operations Operations that have a _ suffix are in-place. For example: x.copy_(y), x.t_(), will change x.\n",
    "\n",
    "print(tensor, \"\\n\")\n",
    "tensor.add_(5)\n",
    "print(tensor)\n"
   ]
  },
  {
   "cell_type": "markdown",
   "metadata": {},
   "source": [
    "### <a id='toc2_2_4_'></a>[Bridge with NumPy](#toc0_)\n",
    "\n",
    "Tensors on the CPU and NumPy arrays can share their underlying memory locations, and changing one will change the other.\n"
   ]
  },
  {
   "cell_type": "code",
   "execution_count": 14,
   "metadata": {},
   "outputs": [
    {
     "name": "stdout",
     "output_type": "stream",
     "text": [
      "t: tensor([1., 1., 1., 1., 1.])\n",
      "n: [1. 1. 1. 1. 1.]\n",
      "t: tensor([2., 2., 2., 2., 2.])\n",
      "n: [2. 2. 2. 2. 2.]\n"
     ]
    }
   ],
   "source": [
    "t = torch.ones(5)\n",
    "print(f\"t: {t}\")\n",
    "n = t.numpy()  # tensor -> numpy\n",
    "print(f\"n: {n}\")\n",
    "\n",
    "t.add_(1)\n",
    "print(f\"t: {t}\")\n",
    "print(f\"n: {n}\")\n"
   ]
  },
  {
   "cell_type": "code",
   "execution_count": null,
   "metadata": {},
   "outputs": [],
   "source": [
    "n = np.ones(5)\n",
    "t = torch.from_numpy(n)  # 共享空间  # numpy -> tensor\n",
    "\n",
    "np.add(n, 1, out=n)\n",
    "print(f\"t: {t}\")\n",
    "print(f\"n: {n}\")\n"
   ]
  },
  {
   "cell_type": "code",
   "execution_count": null,
   "metadata": {},
   "outputs": [],
   "source": [
    "n = np.ones(5)\n",
    "t = torch.tensor(n)  # 不共享空间\n",
    "\n",
    "np.add(n, 1, out=n)\n",
    "print(f\"t: {t}\")\n",
    "print(f\"n: {n}\")\n"
   ]
  },
  {
   "cell_type": "markdown",
   "metadata": {},
   "source": [
    "## <a id='toc2_3_'></a>[2. Datasets and DataLoaders](#toc0_)\n",
    "\n",
    "\n",
    "**dataset code to be decoupled from our model training code**\n",
    "\n",
    "PyTorch provides two data primitives to use pre-loaded datasets & own data.\n",
    "1. `torch.utils.data.DataLoader` - DataLoader wraps an **iterable** around the Dataset to enable easy access to the samples\n",
    "2. `torch.utils.data.Dataset` - Dataset stores the samples and labels\n",
    "\n",
    "PyTorch domain libraries provide a number of pre-loaded datasets\n",
    "\n",
    "subclass torch.utils.data.Dataset and implement functions specific to the particular data\n",
    "\n",
    "They can be used to prototype and benchmark your model\n",
    "1. [Image Datasets](https://pytorch.org/vision/stable/datasets.html)\n",
    "2. [Text Datasets](https://pytorch.org/text/stable/datasets.html)\n",
    "3. [Audio Datasets](https://pytorch.org/audio/stable/datasets.html)"
   ]
  },
  {
   "cell_type": "markdown",
   "metadata": {},
   "source": [
    "### <a id='toc2_3_1_'></a>[Loading a Dataset](#toc0_)\n",
    "\n",
    "28×28 grayscale image and an associated label from one of 10 classes.\n",
    "\n",
    "We load the FashionMNIST Dataset with the following parameters:\n",
    "1. **root**            - is the path where the train/test data is stored\n",
    "2. **train**           - specifies training or test dataset\n",
    "3. **download=True**   - downloads the data from the internet if it’s not available at root\n",
    "4. **transform** & **target_transform** - specify the feature and label transformations\n",
    "   1. transform 用于对 输入数据 进行变换\n",
    "   2. target_transform 用于对目标数据 (例如图像的标签或目标值) 进行变换"
   ]
  },
  {
   "cell_type": "code",
   "execution_count": 15,
   "metadata": {},
   "outputs": [],
   "source": [
    "import torch\n",
    "from torch.utils.data import Dataset\n",
    "from torchvision import datasets\n",
    "from torchvision.transforms import ToTensor\n",
    "import matplotlib.pyplot as plt\n",
    "\n",
    "training_data = datasets.FashionMNIST(\n",
    "    root=\"/home/lzy/Datasets\",\n",
    "    train=True,\n",
    "    download=True,\n",
    "    transform=ToTensor()\n",
    ")\n",
    "\n",
    "test_data = datasets.FashionMNIST(\n",
    "    root=\"/home/lzy/Datasets\",\n",
    "    train=False,\n",
    "    download=True,\n",
    "    transform=ToTensor()\n",
    ")\n",
    "\n",
    "\n"
   ]
  },
  {
   "cell_type": "code",
   "execution_count": 16,
   "metadata": {},
   "outputs": [
    {
     "name": "stdout",
     "output_type": "stream",
     "text": [
      "<class 'tuple'>\n",
      "[<class 'torch.Tensor'>, <class 'int'>]\n",
      "True\n"
     ]
    }
   ],
   "source": [
    "print(type(training_data[0]))  # 一个Tensor + 一个label\n",
    "print([type(i) for i in training_data[0]])\n",
    "print(torch.is_tensor(training_data[0][0]))  # True\n"
   ]
  },
  {
   "cell_type": "markdown",
   "metadata": {},
   "source": [
    "### <a id='toc2_3_2_'></a>[Iterating and Visualizing the Dataset](#toc0_)\n",
    "\n",
    "We can index Datasets manually like a list: training_data[index]."
   ]
  },
  {
   "cell_type": "code",
   "execution_count": 17,
   "metadata": {},
   "outputs": [
    {
     "data": {
      "image/png": "[encoded data removed]",
      "text/plain": [
       "<Figure size 800x800 with 9 Axes>"
      ]
     },
     "metadata": {},
     "output_type": "display_data"
    }
   ],
   "source": [
    "labels_map = {\n",
    "    0: \"T-Shirt\",\n",
    "    1: \"Trouser\",\n",
    "    2: \"Pullover\",\n",
    "    3: \"Dress\",\n",
    "    4: \"Coat\",\n",
    "    5: \"Sandal\",\n",
    "    6: \"Shirt\",\n",
    "    7: \"Sneaker\",\n",
    "    8: \"Bag\",\n",
    "    9: \"Ankle Boot\",\n",
    "}\n",
    "\n",
    "figure = plt.figure(figsize=(8, 8))\n",
    "cols, rows = 3, 3  # 定义图形中的子图排列方式\n",
    "for i in range(1, cols * rows + 1):  # 确保了总共会处理9个元素\n",
    "    sample_idx = torch.randint(len(training_data), size=(1,)).item()  # .item() 方法用于从只包含单个值的tensor中提取这个值并将其转换为一个Python数值\n",
    "    img, label = training_data[sample_idx]  # 通过随机索引从训练数据集中获取图像和其对应的标签\n",
    "    figure.add_subplot(rows, cols, i)\n",
    "    plt.title(labels_map[label])\n",
    "    plt.axis(\"off\")\n",
    "    plt.imshow(img.squeeze(), cmap=\"gray\")\n",
    "    # squeeze() 方法用于去除数组中维度为1的轴\n",
    "    # cmap 参数代表“colormap”，这个参数决定了如何将数据的数值映射到颜色上。\"gray\" 表示使用灰度颜色映射，这意味着图像将以灰阶（从黑到白）显示，而不是彩色。\n",
    "plt.show()\n"
   ]
  },
  {
   "cell_type": "markdown",
   "metadata": {},
   "source": [
    "### <a id='toc2_3_3_'></a>[Creating a Custom Dataset for your files](#toc0_)\n",
    "\n",
    "A custom Dataset class must implement three functions:\n",
    "1. `__init__`\n",
    "   1. run once when instantiating the Dataset object\n",
    "   2. initialize the directory containing the images, the annotations file, and both transforms\n",
    "2. `__len__`\n",
    "   1. returns the number of samples in our dataset\n",
    "3. `__getitem__`\n",
    "   1. loads and returns a sample from the dataset at the given index idx\n",
    "   2. Based on the index, it identifies the image’s location on disk, converts that to a tensor using read_image\n",
    "   3. retrieves the corresponding label from the csv data in self.img_labels\n",
    "   4. calls the transform functions on them (if applicable)\n",
    "   5. returns the tensor image and corresponding label in a tuple\n",
    "\n",
    "\n",
    "\n",
    "\n"
   ]
  },
  {
   "cell_type": "code",
   "execution_count": 24,
   "metadata": {},
   "outputs": [],
   "source": [
    "import os\n",
    "import pandas as pd\n",
    "from torch.utils.data import Dataset\n",
    "from torchvision.io import read_image\n",
    "from collections.abc import Iterable, Iterator\n",
    "\n",
    "class CustomImageDataset(Dataset):\n",
    "    def __init__(self, annotations_file, img_dir, transform=None, target_transform=None):\n",
    "        self.img_labels = pd.read_csv(annotations_file)\n",
    "        self.img_dir = img_dir\n",
    "        self.transform = transform\n",
    "        self.target_transform = target_transform\n",
    "\n",
    "    def __len__(self):\n",
    "        return len(self.img_labels)\n",
    "\n",
    "    def __getitem__(self, idx):\n",
    "        img_path = os.path.join(self.img_dir, self.img_labels.iloc[idx, 0])\n",
    "        image = read_image(img_path)\n",
    "        label = self.img_labels.iloc[idx, 1]\n",
    "        if self.transform:\n",
    "            image = self.transform(image)\n",
    "        if self.target_transform:\n",
    "            label = self.target_transform(label)\n",
    "        return image, label\n"
   ]
  },
  {
   "cell_type": "markdown",
   "metadata": {},
   "source": [
    "### <a id='toc2_3_4_'></a>[Preparing your data for training with DataLoaders](#toc0_)\n",
    "\n",
    "The Dataset retrieves our dataset’s features and labels one sample at a time. \n",
    "\n",
    "While training a model, we typically want to \n",
    "1. pass samples in **minibatches**\n",
    "2. **reshuffle** the data at every epoch to reduce model overfitting\n",
    "3. use Python’s **multiprocessing** to speed up data retrieval\n",
    "\n",
    "DataLoader is an iterable that abstracts this complexity for us in an easy API."
   ]
  },
  {
   "cell_type": "code",
   "execution_count": 19,
   "metadata": {},
   "outputs": [
    {
     "name": "stdout",
     "output_type": "stream",
     "text": [
      "True\n",
      "False\n"
     ]
    }
   ],
   "source": [
    "from torch.utils.data import DataLoader\n",
    "from collections.abc import Iterable, Iterator\n",
    "\n",
    "train_dataloader = DataLoader(training_data, batch_size=64, shuffle=True, num_workers=8)\n",
    "test_dataloader = DataLoader(test_data, batch_size=64, shuffle=True, num_workers=8)\n",
    "\n",
    "print(isinstance(train_dataloader, Iterable))  # 只是   iterable\n",
    "print(isinstance(train_dataloader, Iterator))  # 还不是 iterator\n",
    "\n"
   ]
  },
  {
   "cell_type": "markdown",
   "metadata": {},
   "source": [
    "### <a id='toc2_3_5_'></a>[Iterate through the DataLoader](#toc0_)\n",
    "\n",
    "load dataset into the DataLoader and can iterate through the dataset\n",
    "\n",
    "Each iteration below returns `a batch of train_features and train_labels`, containing **batch_size**=64 features and labels \n",
    "\n",
    "Because we specified **shuffle**=True, after we iterate over all batches the data is shuffled\n",
    "\n",
    "for finer-grained control over the data loading order, take a look at [Samplers](https://pytorch.org/docs/stable/data.html#data-loading-order-and-sampler)"
   ]
  },
  {
   "cell_type": "code",
   "execution_count": null,
   "metadata": {},
   "outputs": [],
   "source": [
    "# Display image and label.\n",
    "train_features, train_labels = next(iter(train_dataloader))\n",
    "print(f\"Feature batch shape: {train_features.size()}\")\n",
    "print(f\"Labels batch shape: {train_labels.size()}\")\n",
    "img = train_features[0].squeeze()\n",
    "label = train_labels[0]\n",
    "plt.imshow(img, cmap=\"gray\")\n",
    "plt.show()\n",
    "print(f\"Label: {label}\")\n",
    "\n"
   ]
  },
  {
   "cell_type": "markdown",
   "metadata": {},
   "source": [
    "## <a id='toc2_4_'></a>[3. Transforms](#toc0_)\n",
    "\n",
    "Data does not always come in its final processed form that is required for training machine learning algorithms\n",
    "\n",
    "use transforms to perform some manipulation of the data and **make it suitable for training**.\n",
    "\n",
    "All TorchVision datasets have two parameters that accept callables containing the transformation logic\n",
    "1. transform to modify the features\n",
    "2. target_transform to modify the labels\n",
    "\n",
    "The FashionMNIST features are in PIL Image format, and the labels are integers.\n",
    "\n",
    "For training, we need the features as normalized tensors, and the labels as one-hot encoded tensors.\n",
    "\n",
    "To make these transformations, we use **ToTensor** and **Lambda**.\n",
    "1. **ToTensor** converts a PIL image or NumPy ndarray into a **FloatTensor**. and scales the image’s pixel intensity **values in the range [0., 1.]**\n",
    "2. **Lambda** transforms apply any **user-defined lambda function**. "
   ]
  },
  {
   "cell_type": "code",
   "execution_count": null,
   "metadata": {},
   "outputs": [],
   "source": [
    "import torch\n",
    "from torchvision import datasets\n",
    "from torchvision.transforms import ToTensor, Lambda\n",
    "\n",
    "ds = datasets.FashionMNIST(\n",
    "    root=\"/home/lzy/Datasets\",\n",
    "    train=True,\n",
    "    download=True,\n",
    "    transform=ToTensor(),\n",
    "\n",
    "    # 从一个整数转换为一个长度为10的独热编码（one-hot encoding）向量\n",
    "    # dim=0 指定了操作的维度。\n",
    "    # index=torch.tensor(y) 是一个包含标签整数值的张量，这里 y 就是原始的类别标签。因为FashionMNIST的标签是从0到9的整数，所以这个标签直接用作索引。\n",
    "    # value=1 指定了要填入的值，即在对应的位置上填入1来完成独热编码。\n",
    "    target_transform=Lambda(lambda y: torch.zeros(10, dtype=torch.float).scatter_(0, torch.tensor(y), value=1))\n",
    "    # Here, we define a function to turn the integer into a one-hot encoded tensor.\n",
    "    # It first creates a zero tensor of size 10 (the number of labels in our dataset)\n",
    "    # and calls scatter_ which assigns a value=1 on the index as given by the label y.\n",
    ")\n",
    "\n",
    "help(torch.Tensor.scatter_)\n"
   ]
  },
  {
   "cell_type": "code",
   "execution_count": null,
   "metadata": {},
   "outputs": [],
   "source": [
    "import torch\n",
    "import numpy as np\n",
    "np_arr = np.zeros(shape=(3,5), dtype=np.uint8)\n",
    "tensor = torch.from_numpy(np_arr)\n",
    "index = torch.tensor([1, 0, 3])\n",
    "print(index)\n",
    "index.unsqueeze_(1)\n",
    "print(index)\n",
    "scatter = tensor.scatter_(dim=1, index=index, value=1)\n",
    "print(scatter)\n",
    "\n",
    "print(scatter.max(axis=0))\n",
    "print(scatter.numpy().max(axis=0))\n"
   ]
  },
  {
   "cell_type": "markdown",
   "metadata": {},
   "source": [
    "## <a id='toc2_5_'></a>[4. Build Model](#toc0_)\n",
    "\n",
    "Neural networks comprise of layers/modules that perform operations on data.\n",
    "\n",
    "The **torch.nn** namespace provides all the building blocks you need to build your own neural network.\n",
    "\n",
    "Every module in PyTorch subclasses the nn.Module.\n",
    "\n",
    "A neural network is a module itself that consists of other modules (layers).\n",
    "\n",
    "This nested structure allows for building and managing complex architectures easily."
   ]
  },
  {
   "cell_type": "code",
   "execution_count": null,
   "metadata": {},
   "outputs": [],
   "source": [
    "import os\n",
    "import torch\n",
    "from torch import nn\n",
    "from torch.utils.data import DataLoader\n",
    "from torchvision import datasets, transforms\n"
   ]
  },
  {
   "cell_type": "markdown",
   "metadata": {},
   "source": [
    "### <a id='toc2_5_1_'></a>[Get Device for Training](#toc0_)\n",
    "\n",
    "We want to be able to train our model on a hardware accelerator like the GPU or MPS, if available.\n",
    "\n",
    "Let’s check to see if \n",
    "1. torch.cuda\n",
    "2. torch.backends.mps\n",
    "are available, otherwise we use the CPU."
   ]
  },
  {
   "cell_type": "code",
   "execution_count": null,
   "metadata": {},
   "outputs": [],
   "source": [
    "device = (\n",
    "    \"cuda\"\n",
    "    if torch.cuda.is_available()\n",
    "    else \"mps\"\n",
    "    if torch.backends.mps.is_available()\n",
    "    else \"cpu\"\n",
    ")\n",
    "print(f\"Using {device} device\")\n"
   ]
  },
  {
   "cell_type": "markdown",
   "metadata": {},
   "source": [
    "### <a id='toc2_5_2_'></a>[Define the Class](#toc0_)\n",
    "\n",
    "We define our neural network by **subclassing nn.Module**\n",
    "\n",
    "**initialize** the neural network layers in \\_\\_init\\_\\_\n",
    "\n",
    "Every nn.Module subclass implements the operations on input data in the forward method.\n",
    "\n",
    "We create an instance of NeuralNetwork, and **move network to the device**, and print its structure."
   ]
  },
  {
   "cell_type": "code",
   "execution_count": null,
   "metadata": {},
   "outputs": [],
   "source": [
    "class NeuralNetwork(nn.Module):\n",
    "    def __init__(self):\n",
    "        super().__init__()\n",
    "        self.flatten = nn.Flatten()\n",
    "        self.linear_relu_stack = nn.Sequential(\n",
    "            nn.Linear(28*28, 512),\n",
    "            nn.ReLU(),\n",
    "            nn.Linear(512, 512),\n",
    "            nn.ReLU(),\n",
    "            nn.Linear(512, 10),\n",
    "        )\n",
    "\n",
    "    def forward(self, x):\n",
    "        x = self.flatten(x)\n",
    "        logits = self.linear_relu_stack(x)\n",
    "        return logits\n",
    "\n",
    "\n",
    "model = NeuralNetwork().to(device)\n",
    "print(model)\n"
   ]
  },
  {
   "cell_type": "markdown",
   "metadata": {},
   "source": [
    "### <a id='toc2_5_3_'></a>[Model Layers](#toc0_)\n",
    "\n",
    "Model Layers\n",
    "1. nn.Flatten - convert each 2D 28x28 image into a contiguous array of 784 pixel values ( the minibatch dimension (at dim=0) is maintained)\n",
    "2. nn.Linear - The linear layer is a module that applies a linear transformation on the input using its stored weights and biases\n",
    "3. nn.ReLU - applied after linear transformations to introduce nonlinearity, helping neural networks learn a wide variety of phenomena\n",
    "4. nn.Sequential - an ordered container of modules. The data is passed through all the modules in the same order as defined\n",
    "5. nn.Softmax - scaled to values [0, 1] representing the model’s predicted probabilities for each class. dim parameter indicates the dimension along which the values must sum to 1."
   ]
  },
  {
   "cell_type": "code",
   "execution_count": null,
   "metadata": {},
   "outputs": [],
   "source": [
    "input_image = torch.rand(3,28,28)  # take a sample minibatch of 3 images\n",
    "print(input_image.size())\n",
    "\n",
    "flatten = nn.Flatten()\n",
    "flat_image = flatten(input_image)\n",
    "print(flat_image.size())\n",
    "\n",
    "layer1 = nn.Linear(in_features=28*28, out_features=20)\n",
    "hidden1 = layer1(flat_image)\n",
    "print(hidden1.size())\n",
    "\n",
    "print(f\"Before ReLU: {hidden1}\\n\\n\")\n",
    "hidden1 = nn.ReLU()(hidden1)\n",
    "print(f\"After ReLU: {hidden1}\")\n",
    "\n",
    "seq_modules = nn.Sequential(\n",
    "    flatten,\n",
    "    layer1,\n",
    "    nn.ReLU(),\n",
    "    nn.Linear(20, 10)\n",
    ")\n",
    "input_image = torch.rand(3,28,28)\n",
    "logits = seq_modules(input_image)\n",
    "\n",
    "print(next(seq_modules.parameters()).device)  # cpu\n",
    "\n",
    "softmax = nn.Softmax(dim=1)\n",
    "pred_probab = softmax(logits)\n",
    "\n",
    "print(pred_probab)\n"
   ]
  },
  {
   "cell_type": "markdown",
   "metadata": {},
   "source": [
    "### <a id='toc2_5_4_'></a>[Model Parameters](#toc0_)\n",
    "\n",
    "Many layers inside a neural network are parameterized\n",
    "\n",
    "have associated weights and biases that are optimized during training\n",
    "\n",
    "Subclassing nn.Module automatically tracks all fields defined inside your model object\n",
    "\n",
    "and makes all parameters accessible using your model’s parameters() or named_parameters() methods.\n",
    "\n",
    "**权重矩阵在左侧，输入数据（向量或矩阵）在右侧**"
   ]
  },
  {
   "cell_type": "code",
   "execution_count": null,
   "metadata": {},
   "outputs": [],
   "source": [
    "print(f\"Model structure: {model}\\n\\n\")\n",
    "\n",
    "for name, param in model.named_parameters():\n",
    "    print(f\"Layer: {name} | Size: {param.size()} | Values : {param[:2]} \\n\")\n",
    "    # 通过 param[:2] 打印出每个参数张量的前两个元素。这里的切片操作 [:2] 旨在提供一个参数值的简略视图\n"
   ]
  },
  {
   "cell_type": "code",
   "execution_count": null,
   "metadata": {},
   "outputs": [],
   "source": [
    "x = torch.tensor([[2,0,1],\n",
    "                  [1,1,1]], dtype=torch.float16)\n",
    "sf = nn.Softmax(dim=1)\n",
    "result = sf(x)\n",
    "print(result)\n",
    "print(result.sum(dim=1))\n",
    "\n",
    "\n"
   ]
  },
  {
   "cell_type": "markdown",
   "metadata": {},
   "source": [
    "## <a id='toc2_6_'></a>[5. Automatic Differentiation with torch.autograd](#toc0_)\n",
    "\n",
    "When training neural networks, the most frequently used algorithm is **back propagation**.\n",
    "\n",
    "In this algorithm, **parameters (model weights)** are adjusted according to **the gradient of the loss function** with respect to the given parameter.\n",
    "\n",
    "To compute those gradients, PyTorch has a built-in differentiation engine called **torch.autograd**.\n",
    "\n",
    "It supports **automatic computation of gradient for any computational graph**.\n"
   ]
  },
  {
   "cell_type": "code",
   "execution_count": null,
   "metadata": {},
   "outputs": [],
   "source": [
    "import torch\n",
    "\n",
    "\"\"\"\n",
    "one-layer neural network, with input x, parameters w and b, and some loss function.\n",
    "\"\"\"\n",
    "\n",
    "x = torch.ones(5)  # input tensor\n",
    "y = torch.zeros(3)  # expected output\n",
    "w = torch.randn(5, 3, requires_grad=True)  # parameter requires_grad\n",
    "b = torch.randn(3, requires_grad=True)  # parameter requires_grad\n",
    "z = torch.matmul(x, w)+b\n",
    "loss = torch.nn.functional.binary_cross_entropy_with_logits(z, y)\n"
   ]
  },
  {
   "cell_type": "markdown",
   "metadata": {},
   "source": [
    "\n",
    "In this network, **w and b are parameters**, which we need to optimize. \n",
    "\n",
    "Thus, we need to be able to compute the gradients of loss function with respect to those variables. \n",
    "\n",
    "In order to do that, we **set the requires_grad property of those tensors**.\n",
    "\n",
    "You can set the value of requires_grad when creating a tensor, or later by using x.requires_grad_(True) method.\n",
    "\n",
    "**computational graph**\n",
    "\n",
    "![](Pics/torch002.png)\n",
    "\n",
    "You can set the value of requires_grad when creating a tensor, or later by using x.requires_grad_(True) method.\n",
    "\n",
    "A function that we apply to tensors to construct computational graph is in fact an object of class Function.\n",
    "\n",
    "This object knows how to\n",
    "1. **compute the function in the forward direction**\n",
    "2. **compute its derivative during the backward propagation step**.\n",
    "\n",
    "A reference to the backward propagation function is **stored in grad_fn property of a tensor**."
   ]
  },
  {
   "cell_type": "code",
   "execution_count": null,
   "metadata": {},
   "outputs": [],
   "source": [
    "print(f\"Gradient function for z = {z.grad_fn}\")\n",
    "print(f\"Gradient function for loss = {loss.grad_fn}\")\n"
   ]
  },
  {
   "cell_type": "markdown",
   "metadata": {},
   "source": [
    "### <a id='toc2_6_1_'></a>[Computing Gradients](#toc0_)\n",
    "\n",
    "To optimize weights of parameters in the neural network, \n",
    "\n",
    "we need to compute the derivatives of our loss function with respect to parameters,\n",
    "\n",
    "namely, we need $\\frac{\\partial loss}{\\partial w}$ and $\\frac{\\partial loss}{\\partial b}$ \n",
    "\n",
    "under some fixed values of `x` and `y`. To compute those derivatives, we call `loss.backward()`, \n",
    "\n",
    "and then retrieve the values from `w.grad` and `b.grad`:\n",
    "\n"
   ]
  },
  {
   "cell_type": "code",
   "execution_count": null,
   "metadata": {},
   "outputs": [],
   "source": [
    "loss.backward()\n",
    "print(w.grad)\n",
    "print(b.grad)\n"
   ]
  },
  {
   "cell_type": "markdown",
   "metadata": {},
   "source": [
    "We can only obtain the grad properties for the leaf nodes of the computational graph,\n",
    "\n",
    "which have **requires_grad** property set to **True**. \n",
    "\n",
    "For **all other nodes in our graph**, gradients will **not be available**.\n",
    "\n",
    "We can only perform gradient calculations using backward once on a given graph, for performance reasons.\n",
    "\n",
    "If we need to do **several backward calls on the same graph, we need to pass retain_graph=True to the backward call.**\n",
    "\n",
    "\n",
    "ChatGPT4 解释\n",
    "1. **只有叶子节点的梯度可获取**\n",
    "   1. 在 PyTorch 的计算图中，只有被标记为 requires_grad=True 的叶子节点（leaf nodes）的梯度（grad 属性）是可获取的。\n",
    "   2. 叶子节点通常是指那些直接由用户创建的张量，而不是通过任何操作从其他张量计算得来的张量。\n",
    "   3. 这是因为只有这些节点代表的张量是需要优化的参数，或者是需要通过梯度信息来更新的数据。\n",
    "2. **非叶子节点的梯度不可获取**\n",
    "   1. 对于计算图中的非叶子节点，即那些由其他张量通过操作生成的张量，默认情况下不会保留它们的梯度（grad 属性）。\n",
    "   2. 这是出于性能和内存使用的考虑。在大多数情况下，我们只关心对模型参数（即叶子节点）的更新，而**不关心中间计算步骤的梯度**。\n",
    "3. **单次反向传播限制**\n",
    "   1. 出于性能考虑，**PyTorch 默认允许在给定的计算图上只进行一次反向传播（即调用 .backward() 方法一次）**。\n",
    "   2. 这是因为**在完成一次反向传播后，PyTorch 会自动清理计算图中的中间结果以节省内存**。\n",
    "   3. **如果你试图在同一个计算图上再次调用 .backward()，将会抛出错误**。\n",
    "4. **多次反向传播**\n",
    "   1. 如果你需要在同一个计算图上进行**多次反向传播，可以在调用 .backward() 时传递参数 retain_graph=True**。\n",
    "   2. 这样做会让 PyTorch 保留计算图，允许你进行额外的 .backward() 调用。\n",
    "   3. 但请注意，这**会增加内存的使用**，因为计算图中的中间结果需要被保留。\n",
    "\n",
    "\n",
    "PyTorch\n",
    "1. **默认累加梯度**\n",
    "   1. PyTorch 会默认累加梯度，即每次调用 .backward() 时，计算出的梯度会被加到已有的 .grad 属性上\n",
    "   2. 如果你不手动清零梯度(optimizer.zero_grad())，那么梯度会在多次反向传播中持续累加。\n",
    "2. **动态计算图**\n",
    "   1. PyTorch 使用动态计算图（也称为动态自动微分系统），这意味着图是在运行时即时创建的\n",
    "   2. 默认情况下，当你对计算图的根节点调用 .backward() 时，PyTorch 会自动计算梯度，并且释放用于梯度计算的中间变量和资源。这意味着计算图被“消耗”了\n",
    "   3. 想要对同一个计算图多次调用 .backward()，以便从同一个前向传播过程中获取多个不同的梯度计算结果。需要在调用 .backward() 时设置 retain_graph=True\n",
    "\n",
    "\n"
   ]
  },
  {
   "cell_type": "markdown",
   "metadata": {},
   "source": [
    "### <a id='toc2_6_2_'></a>[Disabling Gradient Tracking](#toc0_)\n",
    "\n",
    "By default, all tensors with **requires_grad=True** are **tracking their computational history** and **support gradient computation**.\n",
    "\n",
    "However, there are some cases when we do not need to do that,\n",
    "\n",
    "for example, when we have trained the model and **just want to apply it to some input data**, \n",
    "\n",
    "we **only want to do forward computations** through the network.\n",
    "\n",
    "We can stop tracking computations by surrounding our computation code **with torch.no_grad() block**:\n"
   ]
  },
  {
   "cell_type": "code",
   "execution_count": null,
   "metadata": {},
   "outputs": [],
   "source": [
    "z = torch.matmul(x, w)+b\n",
    "print(z.requires_grad)  # True\n",
    "\n",
    "with torch.no_grad():\n",
    "    z = torch.matmul(x, w)+b\n",
    "print(z.requires_grad)  # False\n",
    "\n"
   ]
  },
  {
   "cell_type": "code",
   "execution_count": null,
   "metadata": {},
   "outputs": [],
   "source": [
    "z = torch.matmul(x, w)+b\n",
    "z_det = z.detach()  # 不改变原来的属性\n",
    "\n",
    "print(z_det.requires_grad)  # False\n",
    "print(z.requires_grad)  # True\n"
   ]
  },
  {
   "cell_type": "markdown",
   "metadata": {},
   "source": [
    "There are reasons you might want to disable gradient tracking:\n",
    "1. To mark some parameters in your neural network as frozen parameters.\n",
    "2. To speed up computations when you are only doing forward pass, computations that do not track gradients would be more efficient."
   ]
  },
  {
   "cell_type": "markdown",
   "metadata": {},
   "source": [
    "### <a id='toc2_6_3_'></a>[More on Computational Graphs](#toc0_)\n",
    "\n",
    "Conceptually, autograd keeps a record of data (tensors) and all executed operations (along with the resulting new tensors) in a directed acyclic graph (DAG 有向无环图) consisting of Function objects. \n",
    "\n",
    "In this DAG, **leaves are the input tensors**, **roots are the output tensors**. By tracing this graph from roots to leaves, you can automatically **compute the gradients using the chain rule**.\n",
    "\n",
    "In a **forward** pass, autograd does two things simultaneously:\n",
    "1. run the requested operation to **compute a resulting tensor**\n",
    "2. **maintain the operation’s gradient function** in the DAG\n",
    "\n",
    "The **backward** pass kicks off when **.backward()** is called on the DAG root. autograd then:\n",
    "1. computes the gradients from each **.grad_fn**,\n",
    "2. **accumulates** them in the respective tensor’s **.grad attribute**\n",
    "3. using the chain rule, **propagates all the way to the leaf tensors**.\n",
    "\n",
    "DAGs are **dynamic** in PyTorch An important thing to note is that the graph is recreated from scratch; \n",
    "\n",
    "after each **.backward() call**, autograd starts populating a new graph. \n",
    "\n",
    "This is exactly what allows you to use control flow statements in your model; \n",
    "\n",
    "you can change the shape, size and operations at every iteration if needed."
   ]
  },
  {
   "cell_type": "markdown",
   "metadata": {},
   "source": [
    "### <a id='toc2_6_4_'></a>[Optional Reading: Tensor Gradients and Jacobian Products](#toc0_)\n",
    "\n",
    "For a vector function $\\vec{y}=f(\\vec{x})$, where\n",
    "\n",
    "$\\vec{x}=\\langle x_1,\\dots,x_n\\rangle$ and\n",
    "\n",
    "$\\vec{y}=\\langle y_1,\\dots,y_m\\rangle$, \n",
    "\n",
    "a gradient of $\\vec{y}$ with respect to $\\vec{x}$ is given by **Jacobian matrix**:\n",
    "\n",
    "$$\\begin{aligned}\n",
    "J=\\left(\\begin{array}{ccc}\n",
    "   \\frac{\\partial y_{1}}{\\partial x_{1}} & \\cdots & \\frac{\\partial y_{1}}{\\partial x_{n}}\\\\\n",
    "   \\vdots & \\ddots & \\vdots\\\\\n",
    "   \\frac{\\partial y_{m}}{\\partial x_{1}} & \\cdots & \\frac{\\partial y_{m}}{\\partial x_{n}}\n",
    "   \\end{array}\\right)\n",
    "\\end{aligned}$$\n",
    "\n",
    "Instead of computing the Jacobian matrix itself, \n",
    "\n",
    "PyTorch allows you to compute **Jacobian Product** $v^T\\cdot J$ for a given input vector $v=(v_1 \\dots v_m)$.\n",
    "\n",
    "This is achieved by calling `backward` with $v$ as an argument. \n",
    "\n",
    "The size of $v$ should be the same as the size of the original tensor, with respect to which we want to compute the product:\n",
    "\n",
    "\n",
    "\n",
    "\n"
   ]
  },
  {
   "cell_type": "code",
   "execution_count": null,
   "metadata": {},
   "outputs": [],
   "source": [
    "import torch\n",
    "\n",
    "inp = torch.eye(4, 5, requires_grad=True)\n",
    "print(f\"input\\n{inp}\")\n",
    "out = (inp+1).pow(2).t()\n",
    "\n",
    "out.backward(torch.ones_like(out), retain_graph=True)\n",
    "print(f\"First call\\n{inp.grad}\")\n",
    "\n",
    "out.backward(torch.ones_like(out), retain_graph=True)  # backward默认累加梯度\n",
    "print(f\"\\nSecond call\\n{inp.grad}\")\n",
    "\n",
    "inp.grad.zero_()  # 在归零梯度后，梯度的计算重新开始，之前累积的梯度不再有影响\n",
    "out.backward(torch.ones_like(out), retain_graph=True)\n",
    "print(f\"\\nCall after zeroing gradients\\n{inp.grad}\")\n"
   ]
  },
  {
   "cell_type": "markdown",
   "metadata": {},
   "source": [
    "默认情况下，调用 .backward() 后，PyTorch 会自动清除计算图以节省内存。\n",
    "\n",
    "对于更复杂的情况，比如当损失是一个向量而不是标量时，你需要传递一个**梯度张量**作为参数\n",
    "\n",
    "Previously we were calling backward() function without parameters\n",
    "\n",
    "This is essentially **equivalent to calling backward(torch.tensor(1.0))**\n",
    "\n",
    "which is a useful way to compute the gradients in case of a scalar-valued function\n",
    "\n",
    "such as loss during neural network training."
   ]
  },
  {
   "cell_type": "markdown",
   "metadata": {},
   "source": [
    "## <a id='toc2_7_'></a>[6. Optimizing Model Parameters](#toc0_)\n",
    "\n",
    "Now that we have a model and data it’s time to **train, validate and test** our model by optimizing its parameters on our data. \n",
    "\n",
    "Training a model is an **iterative process**, in each iteration\n",
    "1. the model makes a guess about the output\n",
    "2. calculates the error in its guess (loss)\n",
    "3. collects the derivatives of the error with respect to its parameters (as we saw in the previous section)\n",
    "4. optimizes these parameters using gradient descent. \n",
    "\n",
    "[反向传播演算|附录深入学习第3章 - 3Blue1Brown](https://www.youtube.com/watch?v=tIeHLnjs5U8)\n"
   ]
  },
  {
   "cell_type": "code",
   "execution_count": null,
   "metadata": {},
   "outputs": [],
   "source": [
    "import torch\n",
    "from torch import nn\n",
    "from torch.utils.data import DataLoader, Dataset\n",
    "from torchvision import datasets\n",
    "from torchvision.transforms import ToTensor\n",
    "\n",
    "training_data = datasets.FashionMNIST(\n",
    "    root = \"/home/lzy/Datasets\",\n",
    "    train = True,\n",
    "    download= True,\n",
    "    transform=ToTensor()\n",
    ")\n",
    "\n",
    "test_data = datasets.FashionMNIST(\n",
    "    root = \"/home/lzy/Datasets\",\n",
    "    train = False,\n",
    "    download= True,\n",
    "    transform=ToTensor()\n",
    ")\n",
    "\n",
    "train_dataloader = DataLoader(dataset=training_data, batch_size=64)\n",
    "test_dataloader = DataLoader(dataset=test_data, batch_size=64)\n",
    "\n",
    "class NeuralNetwork(nn.Module):\n",
    "    def __init__(self):\n",
    "        super().__init__()\n",
    "        self.flatten = nn.Flatten()\n",
    "        self.linear_relu_stack = nn.Sequential(\n",
    "            nn.Linear(28*28, 512),\n",
    "            nn.ReLU(),\n",
    "            nn.Linear(512, 512),\n",
    "            nn.ReLU(),\n",
    "            nn.Linear(512, 10),\n",
    "        )\n",
    "\n",
    "    def forward(self, x):\n",
    "        x = self.flatten(x)\n",
    "        logits = self.linear_relu_stack(x)\n",
    "        return logits\n",
    "\n",
    "model = NeuralNetwork()\n"
   ]
  },
  {
   "cell_type": "markdown",
   "metadata": {},
   "source": [
    "### <a id='toc2_7_1_'></a>[Hyperparameters](#toc0_)\n",
    "\n",
    "Hyperparameters are **adjustable parameters** that let you **control the model optimization process**. \n",
    "\n",
    "Different hyperparameter values can **impact model training** and **convergence rates**收敛\n",
    "\n",
    "We define the following hyperparameters for training:\n",
    "1. **Number of Epochs** - the number times to iterate over the dataset\n",
    "2. **Batch Size** - **the number of data samples propagated** through the network before the parameters are updated\n",
    "3. **Learning Rate** - **how much to update models parameters** at each batch/epoch. Smaller values yield slow learning speed, while large values may result in unpredictable behavior during training."
   ]
  },
  {
   "cell_type": "code",
   "execution_count": null,
   "metadata": {},
   "outputs": [],
   "source": [
    "learning_rate = 1e-3\n",
    "batch_size = 64\n",
    "epochs = 5\n"
   ]
  },
  {
   "cell_type": "markdown",
   "metadata": {},
   "source": [
    "### <a id='toc2_7_2_'></a>[Optimization Loop](#toc0_)\n",
    "\n",
    "Once we set our hyperparameters, we can then train and optimize our model with an optimization loop.\n",
    "\n",
    "Each iteration of the optimization loop is called an epoch.\n",
    "\n",
    "Each epoch consists of two main parts:\n",
    "1. **Train Loop** - iterate over the **training dataset** and try to **converge to optimal parameters**.\n",
    "2. **Validation/Test Loop** - iterate over the **test dataset** to **check if model performance is improving**.\n"
   ]
  },
  {
   "cell_type": "markdown",
   "metadata": {},
   "source": [
    "### <a id='toc2_7_3_'></a>[Loss Function](#toc0_)\n",
    "\n",
    "When presented with some training data, our untrained network is likely not to give the correct answer.\n",
    "\n",
    "**Loss function measures the degree of dissimilarity of obtained result to the target value**\n",
    "\n",
    "and it is the loss function that we **want to minimize** during training.\n",
    "\n",
    "To calculate the loss we **make a prediction using the inputs of our given data sample and compare it against the true data label value**.\n",
    "\n",
    "Common loss functions include\n",
    "1. nn.**MSELoss** (Mean Square Error) for regression tasks\n",
    "2. nn.**NLLLoss** (Negative Log Likelihood) for classification\n",
    "3. nn.**CrossEntropyLoss** combines nn.**LogSoftmax** and nn.**NLLLoss**.\n",
    "\n",
    "We pass our model’s output logits to nn.**CrossEntropyLoss**, which will normalize the logits and compute the prediction error."
   ]
  },
  {
   "cell_type": "code",
   "execution_count": null,
   "metadata": {},
   "outputs": [],
   "source": [
    "# Initialize the loss function\n",
    "loss_fn = nn.CrossEntropyLoss()\n",
    "\n",
    "# 测试使用\n",
    "import numpy as np\n",
    "print(loss_fn(torch.tensor([[1,2,3]], dtype=torch.float32),torch.tensor([1], dtype=torch.int64)))\n"
   ]
  },
  {
   "cell_type": "markdown",
   "metadata": {},
   "source": [
    "### <a id='toc2_7_4_'></a>[Optimizer](#toc0_)\n",
    "\n",
    "Optimization is the process of **adjusting model parameters** to **reduce model error** in each training step.\n",
    "\n",
    "**Optimization algorithms** define how this process is **performed** (in this example we use Stochastic Gradient Descent(SGD)).\n",
    "\n",
    "**All optimization logic is encapsulated in the optimizer object**. Here, we use the SGD optimizer;\n",
    "\n",
    "additionally, there are many different optimizers available in PyTorch such as **ADAM** and **RMSProp**, that work better for different kinds of models and data.\n",
    "\n",
    "We **initialize the optimizer by registering the model’s parameters that need to be trained**, and **passing in the learning rate** hyperparameter.\n"
   ]
  },
  {
   "cell_type": "code",
   "execution_count": null,
   "metadata": {},
   "outputs": [],
   "source": [
    "optimizer = torch.optim.SGD(model.parameters(), lr=learning_rate)\n"
   ]
  },
  {
   "cell_type": "markdown",
   "metadata": {},
   "source": [
    "Inside the training loop, optimization happens in three steps:\n",
    "1. Call **optimizer.zero_grad()** to reset the gradients of model parameters. **Gradients by default add up**; to **prevent double-counting**, we **explicitly zero them at each iteration**.\n",
    "2. Backpropagate the prediction loss with a call to **loss.backward()**. PyTorch deposits the gradients of the loss w.r.t. each parameter.\n",
    "3. Once we have our gradients, we call **optimizer.step()** to **adjust the parameters by the gradients collected in the backward pass**."
   ]
  },
  {
   "cell_type": "markdown",
   "metadata": {},
   "source": [
    "### <a id='toc2_7_5_'></a>[Full Implementation](#toc0_)"
   ]
  },
  {
   "cell_type": "code",
   "execution_count": null,
   "metadata": {},
   "outputs": [],
   "source": [
    "def train_loop(dataloader, model, loss_fn, optimizer):\n",
    "    size = len(dataloader.dataset)\n",
    "    # Set the model to training mode - important for batch normalization and dropout layers\n",
    "    # Unnecessary in this situation but added for best practices\n",
    "    model.train()\n",
    "    for batch, (X, y) in enumerate(dataloader):\n",
    "        # Compute prediction and loss\n",
    "        pred = model(X)\n",
    "        loss = loss_fn(pred, y)\n",
    "\n",
    "        # Backpropagation\n",
    "        loss.backward()\n",
    "        optimizer.step()\n",
    "        optimizer.zero_grad()\n",
    "\n",
    "        if batch % 100 == 0:\n",
    "            loss, current = loss.item(), batch * batch_size + len(X)\n",
    "            print(f\"loss: {loss:>7f}  [{current:>5d}/{size:>5d}]\")\n",
    "\n",
    "\n",
    "def test_loop(dataloader, model, loss_fn):\n",
    "    # Set the model to evaluation mode - important for batch normalization and dropout layers\n",
    "    # Unnecessary in this situation but added for best practices\n",
    "    model.eval()\n",
    "    size = len(dataloader.dataset)\n",
    "    num_batches = len(dataloader)\n",
    "    test_loss, correct = 0, 0\n",
    "\n",
    "    # Evaluating the model with torch.no_grad() ensures that no gradients are computed during test mode\n",
    "    # also serves to reduce unnecessary gradient computations and memory usage for tensors with requires_grad=True\n",
    "    with torch.no_grad():\n",
    "        for X, y in dataloader:\n",
    "            pred = model(X)\n",
    "            test_loss += loss_fn(pred, y).item()\n",
    "            correct += (pred.argmax(1) == y).type(torch.float).sum().item()\n",
    "\n",
    "    test_loss /= num_batches\n",
    "    correct /= size\n",
    "    print(f\"Test Error: \\n Accuracy: {(100*correct):>0.1f}%, Avg loss: {test_loss:>8f} \\n\")\n",
    "\n",
    "\n",
    "\n",
    "loss_fn = nn.CrossEntropyLoss()\n",
    "optimizer = torch.optim.SGD(model.parameters(), lr=learning_rate)\n",
    "\n",
    "epochs = 10\n",
    "for t in range(epochs):\n",
    "    print(f\"Epoch {t+1}\\n-------------------------------\")\n",
    "    train_loop(train_dataloader, model, loss_fn, optimizer)\n",
    "    test_loop(test_dataloader, model, loss_fn)\n",
    "print(\"Done!\")\n"
   ]
  },
  {
   "cell_type": "code",
   "execution_count": null,
   "metadata": {},
   "outputs": [],
   "source": [
    "from torch.optim.lr_scheduler import StepLR\n",
    "\n",
    "def train_loop(dataloader, model, loss_fn, optimizer):\n",
    "    size = len(dataloader.dataset)\n",
    "    # Set the model to training mode - important for batch normalization and dropout layers\n",
    "    # Unnecessary in this situation but added for best practices\n",
    "    model.train()\n",
    "    for batch, (X, y) in enumerate(dataloader):\n",
    "        # Compute prediction and loss\n",
    "        pred = model(X)\n",
    "        loss = loss_fn(pred, y)\n",
    "\n",
    "        # Backpropagation\n",
    "        loss.backward()\n",
    "        optimizer.step()\n",
    "        optimizer.zero_grad()\n",
    "\n",
    "        if batch % 100 == 0:\n",
    "            loss, current = loss.item(), batch * batch_size + len(X)\n",
    "            print(f\"loss: {loss:>7f}  [{current:>5d}/{size:>5d}]\")\n",
    "\n",
    "    current_lr = optimizer.param_groups[0]['lr']\n",
    "    print(f\"Current Learning Rate: {current_lr}\")\n",
    "\n",
    "\n",
    "def test_loop(dataloader, model, loss_fn):\n",
    "    # Set the model to evaluation mode - important for batch normalization and dropout layers\n",
    "    # Unnecessary in this situation but added for best practices\n",
    "    model.eval()\n",
    "    size = len(dataloader.dataset)\n",
    "    num_batches = len(dataloader)\n",
    "    test_loss, correct = 0, 0\n",
    "\n",
    "    # Evaluating the model with torch.no_grad() ensures that no gradients are computed during test mode\n",
    "    # also serves to reduce unnecessary gradient computations and memory usage for tensors with requires_grad=True\n",
    "    with torch.no_grad():\n",
    "        for X, y in dataloader:\n",
    "            pred = model(X)\n",
    "            test_loss += loss_fn(pred, y).item()\n",
    "            correct += (pred.argmax(1) == y).type(torch.float).sum().item()\n",
    "\n",
    "    test_loss /= num_batches\n",
    "    correct /= size\n",
    "    print(f\"Test Error: \\n Accuracy: {(100*correct):>0.1f}%, Avg loss: {test_loss:>8f} \\n\")\n",
    "\n",
    "\n",
    "\n",
    "loss_fn = nn.CrossEntropyLoss()\n",
    "optimizer = torch.optim.SGD(model.parameters(), lr=learning_rate)\n",
    "\n",
    "scheduler = StepLR(optimizer, step_size=1, gamma=0.8)\n",
    "\n",
    "epochs = 10\n",
    "for t in range(epochs):\n",
    "    print(f\"Epoch {t+1}\\n-------------------------------\")\n",
    "    train_loop(train_dataloader, model, loss_fn, optimizer)\n",
    "    scheduler.step()\n",
    "    test_loop(test_dataloader, model, loss_fn)\n",
    "print(\"Done!\")\n"
   ]
  },
  {
   "cell_type": "markdown",
   "metadata": {},
   "source": [
    "## <a id='toc2_8_'></a>[7. Save, Load and Use Model](#toc0_)"
   ]
  },
  {
   "cell_type": "code",
   "execution_count": null,
   "metadata": {},
   "outputs": [],
   "source": [
    "import torch\n",
    "import torchvision.models as models\n"
   ]
  },
  {
   "cell_type": "markdown",
   "metadata": {},
   "source": [
    "### <a id='toc2_8_1_'></a>[Saving and Loading Model Weights](#toc0_)\n",
    "\n",
    "PyTorch models **store the learned parameters in an internal state dictionary**, called **state_dict**.\n",
    "\n",
    "These can be persisted via the torch.save method:\n",
    "\n",
    "be sure to **call model.eval() method before inferencing** to **set the dropout and batch normalization layers to evaluation mode**.\n",
    "1. 确保 Dropout 层被禁用，所有神经元都处于激活状态。\n",
    "2. 确保 Batch Normalization 层使用这些训练期间计算得到的参数进行归一化，而不是当前输入批次的统计量\n",
    "\n",
    "Failing to do this will **yield inconsistent inference results.**\n"
   ]
  },
  {
   "cell_type": "code",
   "execution_count": null,
   "metadata": {},
   "outputs": [],
   "source": [
    "model = models.vgg16(weights='IMAGENET1K_V1')\n",
    "torch.save(model.state_dict(), 'model_weights.pth')\n",
    "\n",
    "\n",
    "model = models.vgg16() # we do not specify ``weights``, i.e. create untrained model\n",
    "model.load_state_dict(torch.load('model_weights.pth'))\n",
    "model.eval()\n"
   ]
  },
  {
   "cell_type": "markdown",
   "metadata": {},
   "source": [
    "### <a id='toc2_8_2_'></a>[Saving and Loading Models with Shapes](#toc0_)\n",
    "\n",
    "When loading model weights, we needed to **instantiate the model class** first, because the **class defines the structure of a network**. \n",
    "\n",
    "We might want to **save the structure of this class together with the model**, \n",
    "\n",
    "in which case we can pass model (and not model.state_dict()) to the saving function\n"
   ]
  },
  {
   "cell_type": "code",
   "execution_count": null,
   "metadata": {},
   "outputs": [],
   "source": [
    "torch.save(model, 'model.pth')\n",
    "model = torch.load('model.pth')\n"
   ]
  },
  {
   "cell_type": "markdown",
   "metadata": {},
   "source": [
    "This approach uses **Python pickle module** when serializing the model, \n",
    "\n",
    "thus it **relies on the actual class definition to be available** when loading the model."
   ]
  }
 ],
 "metadata": {
  "kernelspec": {
   "display_name": "Python 3",
   "language": "python",
   "name": "python3"
  },
  "language_info": {
   "codemirror_mode": {
    "name": "ipython",
    "version": 3
   },
   "file_extension": ".py",
   "mimetype": "text/x-python",
   "name": "python",
   "nbconvert_exporter": "python",
   "pygments_lexer": "ipython3",
   "version": "3.10.12"
  }
 },
 "nbformat": 4,
 "nbformat_minor": 2
}
