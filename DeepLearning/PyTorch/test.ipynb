{
 "cells": [
  {
   "cell_type": "code",
   "execution_count": 1,
   "metadata": {},
   "outputs": [],
   "source": [
    "import torch\n",
    "from torch import nn\n",
    "from torch.utils.data import DataLoader, Dataloader\n",
    "from torchvision import datasets\n",
    "from torchvision.transforms import ToTensor\n"
   ]
  },
  {
   "cell_type": "code",
   "execution_count": 3,
   "metadata": {},
   "outputs": [
    {
     "name": "stdout",
     "output_type": "stream",
     "text": [
      "tensor([[[[1, 1, 1, 1, 1],\n",
      "          [1, 1, 1, 1, 1],\n",
      "          [1, 1, 1, 1, 1],\n",
      "          [1, 1, 1, 1, 1]],\n",
      "\n",
      "         [[1, 1, 1, 1, 1],\n",
      "          [1, 1, 1, 1, 1],\n",
      "          [1, 1, 1, 1, 1],\n",
      "          [1, 1, 1, 1, 1]],\n",
      "\n",
      "         [[1, 1, 1, 1, 1],\n",
      "          [1, 1, 1, 1, 1],\n",
      "          [1, 1, 1, 1, 1],\n",
      "          [1, 1, 1, 1, 1]]],\n",
      "\n",
      "\n",
      "        [[[1, 1, 1, 1, 1],\n",
      "          [1, 1, 1, 1, 1],\n",
      "          [1, 1, 1, 1, 1],\n",
      "          [1, 1, 1, 1, 1]],\n",
      "\n",
      "         [[1, 1, 1, 1, 1],\n",
      "          [1, 1, 1, 1, 1],\n",
      "          [1, 1, 1, 1, 1],\n",
      "          [1, 1, 1, 1, 1]],\n",
      "\n",
      "         [[1, 1, 1, 1, 1],\n",
      "          [1, 1, 1, 1, 1],\n",
      "          [1, 1, 1, 1, 1],\n",
      "          [1, 1, 1, 1, 1]]]])\n",
      "tensor([[1, 1, 1, 1, 1, 1, 1, 1, 1, 1, 1, 1, 1, 1, 1, 1, 1, 1, 1, 1, 1, 1, 1, 1,\n",
      "         1, 1, 1, 1, 1, 1, 1, 1, 1, 1, 1, 1, 1, 1, 1, 1, 1, 1, 1, 1, 1, 1, 1, 1,\n",
      "         1, 1, 1, 1, 1, 1, 1, 1, 1, 1, 1, 1],\n",
      "        [1, 1, 1, 1, 1, 1, 1, 1, 1, 1, 1, 1, 1, 1, 1, 1, 1, 1, 1, 1, 1, 1, 1, 1,\n",
      "         1, 1, 1, 1, 1, 1, 1, 1, 1, 1, 1, 1, 1, 1, 1, 1, 1, 1, 1, 1, 1, 1, 1, 1,\n",
      "         1, 1, 1, 1, 1, 1, 1, 1, 1, 1, 1, 1]])\n"
     ]
    }
   ],
   "source": [
    "flatten = nn.Flatten()\n",
    "\n",
    "\n",
    "array = torch.ones(size=(2,3,4,5), dtype=torch.int64)\n",
    "\n",
    "print(array)\n",
    "\n",
    "print(flatten(array))\n"
   ]
  }
 ],
 "metadata": {
  "kernelspec": {
   "display_name": "Python 3",
   "language": "python",
   "name": "python3"
  },
  "language_info": {
   "codemirror_mode": {
    "name": "ipython",
    "version": 3
   },
   "file_extension": ".py",
   "mimetype": "text/x-python",
   "name": "python",
   "nbconvert_exporter": "python",
   "pygments_lexer": "ipython3",
   "version": "3.10.12"
  }
 },
 "nbformat": 4,
 "nbformat_minor": 2
}
