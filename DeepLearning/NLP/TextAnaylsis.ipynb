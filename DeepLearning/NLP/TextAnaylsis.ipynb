{
 "cells": [
  {
   "cell_type": "markdown",
   "metadata": {},
   "source": [
    "# <a id='toc1_'></a>[Text Analysis 文本分析](#toc0_)"
   ]
  },
  {
   "cell_type": "markdown",
   "metadata": {},
   "source": [
    "**Table of contents**<a id='toc0_'></a>    \n",
    "- [Text Analysis 文本分析](#toc1_)    \n",
    "  - [Table of Content](#toc1_1_)    \n",
    "\n",
    "<!-- vscode-jupyter-toc-config\n",
    "\tnumbering=false\n",
    "\tanchor=true\n",
    "\tflat=false\n",
    "\tminLevel=1\n",
    "\tmaxLevel=6\n",
    "\t/vscode-jupyter-toc-config -->\n",
    "<!-- THIS CELL WILL BE REPLACED ON TOC UPDATE. DO NOT WRITE YOUR TEXT IN THIS CELL -->"
   ]
  },
  {
   "cell_type": "markdown",
   "metadata": {},
   "source": [
    "# Python-Jieba 词频分析\n",
    "\n",
    "[【python-jieba】中文词频分析](https://www.bilibili.com/video/BV1eD4y1X73w/)\n",
    "\n",
    "中文分词\n",
    "1. 基于词典\n",
    "   1. 正向最大匹配法(最大 - 尽量匹配字多的)\n",
    "   2. 逆向最大匹配法\n",
    "   3. 双向最大匹配法\n",
    "   4. **缺点**\n",
    "      1. 专有名词 - 央视 新闻\n",
    "      2. 网络名词 - 耗子 尾汁\n",
    "      3. 歧义分割 - 羽毛球 拍卖 完了\n",
    "   5. 注意事项\n",
    "      1. AddWordList.txt - 根据需要 修改 用户词典\n",
    "      2. StopWordList.txt - 不进行统计的词的列表\n",
    "      3. 过滤词性 : 名词、动词、副词 等\n",
    "2. 基于统计模型\n",
    "   1. N元文法模型\n",
    "   2. 隐马尔科夫模型\n",
    "   3. 最大熵模型\n",
    "3. 基于深度学习\n",
    "   1. LSTM + CRF\n",
    "   2. BiLSTM + CRF\n",
    "\n",
    "\n",
    "\n",
    "\n",
    "\n",
    "[jieba 分词 - Github](https://github.com/fxsjy/jieba)\n",
    "\n",
    "**结巴** 中文分词 -做最好的 Python 中文分词组件\n"
   ]
  },
  {
   "cell_type": "code",
   "execution_count": 1,
   "metadata": {},
   "outputs": [
    {
     "name": "stdout",
     "output_type": "stream",
     "text": [
      "Defaulting to user installation because normal site-packages is not writeable\n",
      "Requirement already satisfied: jieba in /home/lzy/.local/lib/python3.10/site-packages (0.42.1)\n"
     ]
    }
   ],
   "source": [
    "!pip3 install jieba\n"
   ]
  },
  {
   "cell_type": "code",
   "execution_count": null,
   "metadata": {},
   "outputs": [],
   "source": []
  }
 ],
 "metadata": {
  "kernelspec": {
   "display_name": "Python 3",
   "language": "python",
   "name": "python3"
  },
  "language_info": {
   "codemirror_mode": {
    "name": "ipython",
    "version": 3
   },
   "file_extension": ".py",
   "mimetype": "text/x-python",
   "name": "python",
   "nbconvert_exporter": "python",
   "pygments_lexer": "ipython3",
   "version": "3.10.12"
  }
 },
 "nbformat": 4,
 "nbformat_minor": 2
}
