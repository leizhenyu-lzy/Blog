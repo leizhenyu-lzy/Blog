{
 "cells": [
  {
   "cell_type": "code",
   "execution_count": 3,
   "metadata": {},
   "outputs": [
    {
     "name": "stdout",
     "output_type": "stream",
     "text": [
      "tensor([ 0,  1,  2,  3,  4,  5,  6,  7,  8,  9, 10, 11])\n",
      "12\n"
     ]
    }
   ],
   "source": [
    "import torch\n",
    "\n",
    "x = torch.arange(12)\n",
    "\n",
    "print(x)\n",
    "\n",
    "print(x.numel())  # 返回一个张量中元素的总数\n"
   ]
  },
  {
   "cell_type": "code",
   "execution_count": 8,
   "metadata": {},
   "outputs": [
    {
     "name": "stdout",
     "output_type": "stream",
     "text": [
      "tensor([[ 0,  1,  2,  3],\n",
      "        [ 4,  5,  6,  7],\n",
      "        [ 8,  9, 10, 11]])\n",
      "torch.Size([4, 3])\n",
      "tensor([[ 0,  1,  2],\n",
      "        [ 3,  4,  5],\n",
      "        [ 6,  7,  8],\n",
      "        [ 9, 10, 11]])\n",
      "tensor([[ 0,  1,  2],\n",
      "        [ 3,  4,  5],\n",
      "        [ 6,  7,  8],\n",
      "        [ 9, 10, 11],\n",
      "        [ 0,  1,  2],\n",
      "        [ 3,  4,  5],\n",
      "        [ 6,  7,  8],\n",
      "        [ 9, 10, 11]])\n"
     ]
    }
   ],
   "source": [
    "X = x.reshape(3,4)\n",
    "print(X)\n",
    "shape = X.T.shape\n",
    "print(shape)\n",
    "\n",
    "x = x.reshape(shape)\n",
    "print(x)\n",
    "\n",
    "Y = torch.concatenate([x,x], dim=0)\n",
    "print(Y)\n"
   ]
  },
  {
   "cell_type": "code",
   "execution_count": 2,
   "metadata": {},
   "outputs": [
    {
     "name": "stdout",
     "output_type": "stream",
     "text": [
      "Help on method_descriptor:\n",
      "\n",
      "numel(...)\n",
      "    numel() -> int\n",
      "    \n",
      "    See :func:`torch.numel`\n",
      "\n"
     ]
    }
   ],
   "source": [
    "help(torch.Tensor.numel)\n"
   ]
  },
  {
   "cell_type": "code",
   "execution_count": 14,
   "metadata": {},
   "outputs": [
    {
     "name": "stdout",
     "output_type": "stream",
     "text": [
      "<class 'torch.Tensor'>\n",
      "<class 'numpy.ndarray'>\n",
      "<class 'numpy.ndarray'>\n",
      "<class 'torch.Tensor'>\n",
      "<class 'torch.Tensor'>\n",
      "132345610180176\n",
      "132347164345824\n",
      "132347164359984\n"
     ]
    }
   ],
   "source": [
    "import numpy as np\n",
    "import torch\n",
    "\n",
    "x = torch.arange(12).reshape(3,4)\n",
    "y = np.ndarray(shape=(3,4))\n",
    "\n",
    "print(type(x))      # <class 'torch.Tensor'>\n",
    "print(type(y))      # <class 'numpy.ndarray'>\n",
    "\n",
    "x_ = x.numpy()\n",
    "y_ = torch.tensor(y)  # 涉及到数据拷贝\n",
    "y__ = torch.from_numpy(y)  # 不涉及数据拷贝，更快、更节省内存\n",
    "\n",
    "print(type(x_))     # <class 'numpy.ndarray'>\n",
    "print(type(y_))     # <class 'torch.Tensor'>\n",
    "print(type(y__))    # <class 'torch.Tensor'>\n"
   ]
  },
  {
   "cell_type": "code",
   "execution_count": 22,
   "metadata": {},
   "outputs": [
    {
     "name": "stdout",
     "output_type": "stream",
     "text": [
      "tensor([100, 100, 100, 100, 100, 100, 100, 100, 100, 100, 100, 100])\n",
      "False\n",
      "True\n"
     ]
    }
   ],
   "source": [
    "a = torch.arange(12)\n",
    "b = a.reshape(3,4)\n",
    "b[:] = 100\n",
    "print(a)\n",
    "print(a._is_view())\n",
    "print(b._is_view())\n"
   ]
  },
  {
   "cell_type": "code",
   "execution_count": 21,
   "metadata": {},
   "outputs": [
    {
     "ename": "SyntaxError",
     "evalue": "invalid syntax (1767136994.py, line 1)",
     "output_type": "error",
     "traceback": [
      "\u001b[0;36m  Cell \u001b[0;32mIn[21], line 1\u001b[0;36m\u001b[0m\n\u001b[0;31m    torch.Tensor._is_view()?\u001b[0m\n\u001b[0m                           ^\u001b[0m\n\u001b[0;31mSyntaxError\u001b[0m\u001b[0;31m:\u001b[0m invalid syntax\n"
     ]
    }
   ],
   "source": [
    "import torch\n",
    "import torch.nn as nn\n",
    "\n",
    "\n",
    "class Net(nn.Module):\n",
    "    def __init__(self):\n",
    "        super(Net, self).__init__()\n",
    "        self.conv1 = nn.Conv2d(1, 6, 5)\n",
    "    \n",
    "    def forward(self, x):\n",
    "        x = self.conv1(x)\n",
    "        return x\n",
    "\n"
   ]
  }
 ],
 "metadata": {
  "kernelspec": {
   "display_name": "Python 3",
   "language": "python",
   "name": "python3"
  },
  "language_info": {
   "codemirror_mode": {
    "name": "ipython",
    "version": 3
   },
   "file_extension": ".py",
   "mimetype": "text/x-python",
   "name": "python",
   "nbconvert_exporter": "python",
   "pygments_lexer": "ipython3",
   "version": "3.10.12"
  }
 },
 "nbformat": 4,
 "nbformat_minor": 2
}
